{
 "cells": [
  {
   "cell_type": "code",
   "execution_count": 1,
   "metadata": {},
   "outputs": [],
   "source": [
    "import pandas as pd\n",
    "import numpy as np\n",
    "from tqdm.auto import tqdm\n",
    "import gensim\n",
    "import plotly.express as px\n",
    "from sklearn.feature_extraction.text import CountVectorizer\n",
    "import plotly.graph_objects as go\n",
    "\n",
    "tqdm.pandas()"
   ]
  },
  {
   "cell_type": "markdown",
   "metadata": {},
   "source": [
    "## Load data"
   ]
  },
  {
   "cell_type": "code",
   "execution_count": 3,
   "metadata": {},
   "outputs": [],
   "source": [
    "df = pd.read_parquet(\"../../data/processed/pyarrow/UfR_text.parquet\")\n"
   ]
  },
  {
   "cell_type": "code",
   "execution_count": 4,
   "metadata": {},
   "outputs": [],
   "source": [
    "df_associated_laws = pd.read_parquet(\"../../data/processed/pyarrow/UfR_associated_laws.parquet\")\n",
    "df_kendelse = pd.read_parquet(\"../../data/processed/pyarrow/UfR_kendelse.parquet\")\n",
    "df_m = pd.merge(df,df_associated_laws,how=\"outer\")\n",
    "df_m = pd.merge(df_m,df_kendelse)\n",
    "df_m[\"year\"] = df_m[\"year\"].astype(int)"
   ]
  },
  {
   "cell_type": "markdown",
   "metadata": {},
   "source": [
    "## Generate TF and TF-share for each year"
   ]
  },
  {
   "cell_type": "code",
   "execution_count": 5,
   "metadata": {},
   "outputs": [
    {
     "name": "stderr",
     "output_type": "stream",
     "text": [
      "100%|██████████| 155/155 [25:48<00:00,  9.99s/it]\n"
     ]
    }
   ],
   "source": [
    "tf_years_count = []\n",
    "tf_years_share = []\n",
    "tokenizer = lambda x: gensim.utils.tokenize(x,lower=True)\n",
    "for year in tqdm(df_m[\"year\"].unique()):\n",
    "    vectorizer = CountVectorizer(tokenizer=tokenizer)\n",
    "    X = vectorizer.fit_transform(df_m.loc[df_m[\"year\"]==year,'verdict_text'])\n",
    "    tf_year = pd.DataFrame(data=X.toarray(), columns=vectorizer.get_feature_names_out())\n",
    "    tf_year_count = tf_year.sum().rename(year)\n",
    "    tf_year_share = tf_year.replace(0,np.nan).count()/tf_year.count()\n",
    "    tf_years_count.append(tf_year_count)\n",
    "    tf_years_share.append(tf_year_share)"
   ]
  },
  {
   "cell_type": "code",
   "execution_count": null,
   "metadata": {},
   "outputs": [],
   "source": [
    "df_term_frequency = pd.concat(tf_years_count,axis=1)\n",
    "df_term_share = pd.concat(tf_years_share,axis=1)\n",
    "df_term_frequency = df_term_frequency.fillna(0)\n",
    "df_term_share = df_term_share.fillna(0)\n",
    "df_term_share.columns=list(range(1867,2022))"
   ]
  },
  {
   "cell_type": "code",
   "execution_count": null,
   "metadata": {},
   "outputs": [],
   "source": [
    "df_term_frequency.to_pickle(\"../../data/processed/pyarrow/term_frequency.pkl\")\n",
    "df_term_share.to_pickle(\"../../data/processed/pyarrow/term_document_share.pkl\")"
   ]
  },
  {
   "cell_type": "code",
   "execution_count": null,
   "metadata": {},
   "outputs": [],
   "source": [
    "df_term_frequency = pd.read_pickle(\"../../data/processed/pyarrow/term_frequency.pkl\")\n",
    "df_term_share = pd.read_pickle(\"../../data/processed/pyarrow/term_document_share.pkl\")"
   ]
  },
  {
   "cell_type": "markdown",
   "metadata": {},
   "source": [
    "## count of words over time"
   ]
  },
  {
   "cell_type": "code",
   "execution_count": null,
   "metadata": {},
   "outputs": [
    {
     "data": {
      "application/vnd.plotly.v1+json": {
       "config": {
        "plotlyServerURL": "https://plot.ly"
       },
       "data": [
        {
         "alignmentgroup": "True",
         "hovertemplate": "variable=antal_ord<br>year=%{x}<br>value=%{y}<extra></extra>",
         "legendgroup": "antal_ord",
         "marker": {
          "color": "#F8766D",
          "pattern": {
           "shape": ""
          }
         },
         "name": "antal_ord",
         "offsetgroup": "antal_ord",
         "orientation": "v",
         "showlegend": true,
         "textposition": "auto",
         "type": "bar",
         "x": [
          1867,
          1868,
          1869,
          1870,
          1871,
          1872,
          1873,
          1874,
          1875,
          1876,
          1877,
          1878,
          1879,
          1880,
          1881,
          1882,
          1883,
          1884,
          1885,
          1886,
          1887,
          1888,
          1889,
          1890,
          1891,
          1892,
          1893,
          1894,
          1895,
          1896,
          1897,
          1898,
          1899,
          1900,
          1901,
          1902,
          1903,
          1904,
          1905,
          1906,
          1907,
          1908,
          1909,
          1910,
          1911,
          1912,
          1913,
          1914,
          1915,
          1916,
          1917,
          1918,
          1919,
          1920,
          1921,
          1922,
          1923,
          1924,
          1925,
          1926,
          1927,
          1928,
          1929,
          1930,
          1931,
          1932,
          1933,
          1934,
          1935,
          1936,
          1937,
          1938,
          1939,
          1940,
          1941,
          1942,
          1943,
          1944,
          1945,
          1946,
          1947,
          1948,
          1949,
          1950,
          1951,
          1952,
          1953,
          1954,
          1955,
          1956,
          1957,
          1958,
          1959,
          1960,
          1961,
          1962,
          1963,
          1964,
          1965,
          1966,
          1967,
          1968,
          1969,
          1970,
          1971,
          1972,
          1973,
          1974,
          1975,
          1976,
          1977,
          1978,
          1979,
          1980,
          1981,
          1982,
          1983,
          1984,
          1985,
          1986,
          1987,
          1988,
          1989,
          1990,
          1991,
          1992,
          1993,
          1994,
          1995,
          1996,
          1997,
          1998,
          1999,
          2000,
          2001,
          2002,
          2003,
          2004,
          2005,
          2006,
          2007,
          2008,
          2009,
          2010,
          2011,
          2012,
          2013,
          2014,
          2015,
          2016,
          2017,
          2018,
          2019,
          2020,
          2021
         ],
         "xaxis": "x",
         "y": [
          103691,
          103589,
          93739,
          113663,
          105682,
          104069,
          137611,
          119223,
          131127,
          126985,
          147848,
          157808,
          143754,
          145685,
          216829,
          213658,
          255413,
          204605,
          178145,
          188416,
          209256,
          216624,
          192437,
          182471,
          186672,
          246099,
          221229,
          223867,
          235509,
          124792,
          213559,
          204905,
          233416,
          201618,
          236613,
          193748,
          182615,
          228902,
          208976,
          204925,
          214591,
          157298,
          196760,
          214464,
          220840,
          226485,
          219648,
          214561,
          234233,
          289083,
          189710,
          307034,
          293831,
          436292,
          401632,
          395592,
          413640,
          386824,
          414574,
          426276,
          445876,
          492519,
          498453,
          476028,
          484225,
          493597,
          484596,
          483472,
          501666,
          492408,
          498340,
          468268,
          494944,
          458828,
          459438,
          486083,
          509205,
          497565,
          486452,
          545662,
          453300,
          589471,
          514720,
          482706,
          534821,
          523950,
          546550,
          491838,
          523660,
          531243,
          528638,
          607137,
          781472,
          870134,
          880083,
          795790,
          917599,
          744802,
          781865,
          774678,
          758533,
          744274,
          792279,
          722333,
          709350,
          807965,
          748455,
          776880,
          822842,
          741482,
          792943,
          762757,
          768375,
          762997,
          750892,
          840391,
          794179,
          791717,
          765282,
          667417,
          676705,
          709479,
          753348,
          619576,
          656226,
          642546,
          674206,
          770587,
          756527,
          1271089,
          1329827,
          1381814,
          1664944,
          1953609,
          1976211,
          2125291,
          2030345,
          2364470,
          2686071,
          2624044,
          2416928,
          2189551,
          2367598,
          2545386,
          2711676,
          2885964,
          2682942,
          2953969,
          3144016,
          3161389,
          2906563,
          3077066,
          3399834,
          3364032,
          4339065
         ],
         "yaxis": "y"
        }
       ],
       "layout": {
        "barmode": "relative",
        "legend": {
         "title": {
          "text": "variable"
         },
         "tracegroupgap": 0
        },
        "margin": {
         "b": 0,
         "l": 0,
         "r": 0,
         "t": 0
        },
        "showlegend": false,
        "template": {
         "data": {
          "bar": [
           {
            "error_x": {
             "color": "rgb(51,51,51)"
            },
            "error_y": {
             "color": "rgb(51,51,51)"
            },
            "marker": {
             "line": {
              "color": "rgb(237,237,237)",
              "width": 0.5
             },
             "pattern": {
              "fillmode": "overlay",
              "size": 10,
              "solidity": 0.2
             }
            },
            "type": "bar"
           }
          ],
          "barpolar": [
           {
            "marker": {
             "line": {
              "color": "rgb(237,237,237)",
              "width": 0.5
             },
             "pattern": {
              "fillmode": "overlay",
              "size": 10,
              "solidity": 0.2
             }
            },
            "type": "barpolar"
           }
          ],
          "carpet": [
           {
            "aaxis": {
             "endlinecolor": "rgb(51,51,51)",
             "gridcolor": "white",
             "linecolor": "white",
             "minorgridcolor": "white",
             "startlinecolor": "rgb(51,51,51)"
            },
            "baxis": {
             "endlinecolor": "rgb(51,51,51)",
             "gridcolor": "white",
             "linecolor": "white",
             "minorgridcolor": "white",
             "startlinecolor": "rgb(51,51,51)"
            },
            "type": "carpet"
           }
          ],
          "choropleth": [
           {
            "colorbar": {
             "outlinewidth": 0,
             "tickcolor": "rgb(237,237,237)",
             "ticklen": 6,
             "ticks": "inside"
            },
            "type": "choropleth"
           }
          ],
          "contour": [
           {
            "colorbar": {
             "outlinewidth": 0,
             "tickcolor": "rgb(237,237,237)",
             "ticklen": 6,
             "ticks": "inside"
            },
            "colorscale": [
             [
              0,
              "rgb(20,44,66)"
             ],
             [
              1,
              "rgb(90,179,244)"
             ]
            ],
            "type": "contour"
           }
          ],
          "contourcarpet": [
           {
            "colorbar": {
             "outlinewidth": 0,
             "tickcolor": "rgb(237,237,237)",
             "ticklen": 6,
             "ticks": "inside"
            },
            "type": "contourcarpet"
           }
          ],
          "heatmap": [
           {
            "colorbar": {
             "outlinewidth": 0,
             "tickcolor": "rgb(237,237,237)",
             "ticklen": 6,
             "ticks": "inside"
            },
            "colorscale": [
             [
              0,
              "rgb(20,44,66)"
             ],
             [
              1,
              "rgb(90,179,244)"
             ]
            ],
            "type": "heatmap"
           }
          ],
          "heatmapgl": [
           {
            "colorbar": {
             "outlinewidth": 0,
             "tickcolor": "rgb(237,237,237)",
             "ticklen": 6,
             "ticks": "inside"
            },
            "colorscale": [
             [
              0,
              "rgb(20,44,66)"
             ],
             [
              1,
              "rgb(90,179,244)"
             ]
            ],
            "type": "heatmapgl"
           }
          ],
          "histogram": [
           {
            "marker": {
             "pattern": {
              "fillmode": "overlay",
              "size": 10,
              "solidity": 0.2
             }
            },
            "type": "histogram"
           }
          ],
          "histogram2d": [
           {
            "colorbar": {
             "outlinewidth": 0,
             "tickcolor": "rgb(237,237,237)",
             "ticklen": 6,
             "ticks": "inside"
            },
            "colorscale": [
             [
              0,
              "rgb(20,44,66)"
             ],
             [
              1,
              "rgb(90,179,244)"
             ]
            ],
            "type": "histogram2d"
           }
          ],
          "histogram2dcontour": [
           {
            "colorbar": {
             "outlinewidth": 0,
             "tickcolor": "rgb(237,237,237)",
             "ticklen": 6,
             "ticks": "inside"
            },
            "colorscale": [
             [
              0,
              "rgb(20,44,66)"
             ],
             [
              1,
              "rgb(90,179,244)"
             ]
            ],
            "type": "histogram2dcontour"
           }
          ],
          "mesh3d": [
           {
            "colorbar": {
             "outlinewidth": 0,
             "tickcolor": "rgb(237,237,237)",
             "ticklen": 6,
             "ticks": "inside"
            },
            "type": "mesh3d"
           }
          ],
          "parcoords": [
           {
            "line": {
             "colorbar": {
              "outlinewidth": 0,
              "tickcolor": "rgb(237,237,237)",
              "ticklen": 6,
              "ticks": "inside"
             }
            },
            "type": "parcoords"
           }
          ],
          "pie": [
           {
            "automargin": true,
            "type": "pie"
           }
          ],
          "scatter": [
           {
            "marker": {
             "colorbar": {
              "outlinewidth": 0,
              "tickcolor": "rgb(237,237,237)",
              "ticklen": 6,
              "ticks": "inside"
             }
            },
            "type": "scatter"
           }
          ],
          "scatter3d": [
           {
            "line": {
             "colorbar": {
              "outlinewidth": 0,
              "tickcolor": "rgb(237,237,237)",
              "ticklen": 6,
              "ticks": "inside"
             }
            },
            "marker": {
             "colorbar": {
              "outlinewidth": 0,
              "tickcolor": "rgb(237,237,237)",
              "ticklen": 6,
              "ticks": "inside"
             }
            },
            "type": "scatter3d"
           }
          ],
          "scattercarpet": [
           {
            "marker": {
             "colorbar": {
              "outlinewidth": 0,
              "tickcolor": "rgb(237,237,237)",
              "ticklen": 6,
              "ticks": "inside"
             }
            },
            "type": "scattercarpet"
           }
          ],
          "scattergeo": [
           {
            "marker": {
             "colorbar": {
              "outlinewidth": 0,
              "tickcolor": "rgb(237,237,237)",
              "ticklen": 6,
              "ticks": "inside"
             }
            },
            "type": "scattergeo"
           }
          ],
          "scattergl": [
           {
            "marker": {
             "colorbar": {
              "outlinewidth": 0,
              "tickcolor": "rgb(237,237,237)",
              "ticklen": 6,
              "ticks": "inside"
             }
            },
            "type": "scattergl"
           }
          ],
          "scattermapbox": [
           {
            "marker": {
             "colorbar": {
              "outlinewidth": 0,
              "tickcolor": "rgb(237,237,237)",
              "ticklen": 6,
              "ticks": "inside"
             }
            },
            "type": "scattermapbox"
           }
          ],
          "scatterpolar": [
           {
            "marker": {
             "colorbar": {
              "outlinewidth": 0,
              "tickcolor": "rgb(237,237,237)",
              "ticklen": 6,
              "ticks": "inside"
             }
            },
            "type": "scatterpolar"
           }
          ],
          "scatterpolargl": [
           {
            "marker": {
             "colorbar": {
              "outlinewidth": 0,
              "tickcolor": "rgb(237,237,237)",
              "ticklen": 6,
              "ticks": "inside"
             }
            },
            "type": "scatterpolargl"
           }
          ],
          "scatterternary": [
           {
            "marker": {
             "colorbar": {
              "outlinewidth": 0,
              "tickcolor": "rgb(237,237,237)",
              "ticklen": 6,
              "ticks": "inside"
             }
            },
            "type": "scatterternary"
           }
          ],
          "surface": [
           {
            "colorbar": {
             "outlinewidth": 0,
             "tickcolor": "rgb(237,237,237)",
             "ticklen": 6,
             "ticks": "inside"
            },
            "colorscale": [
             [
              0,
              "rgb(20,44,66)"
             ],
             [
              1,
              "rgb(90,179,244)"
             ]
            ],
            "type": "surface"
           }
          ],
          "table": [
           {
            "cells": {
             "fill": {
              "color": "rgb(237,237,237)"
             },
             "line": {
              "color": "white"
             }
            },
            "header": {
             "fill": {
              "color": "rgb(217,217,217)"
             },
             "line": {
              "color": "white"
             }
            },
            "type": "table"
           }
          ]
         },
         "layout": {
          "annotationdefaults": {
           "arrowhead": 0,
           "arrowwidth": 1
          },
          "autotypenumbers": "strict",
          "coloraxis": {
           "colorbar": {
            "outlinewidth": 0,
            "tickcolor": "rgb(237,237,237)",
            "ticklen": 6,
            "ticks": "inside"
           }
          },
          "colorscale": {
           "sequential": [
            [
             0,
             "rgb(20,44,66)"
            ],
            [
             1,
             "rgb(90,179,244)"
            ]
           ],
           "sequentialminus": [
            [
             0,
             "rgb(20,44,66)"
            ],
            [
             1,
             "rgb(90,179,244)"
            ]
           ]
          },
          "colorway": [
           "#F8766D",
           "#A3A500",
           "#00BF7D",
           "#00B0F6",
           "#E76BF3"
          ],
          "font": {
           "color": "rgb(51,51,51)"
          },
          "geo": {
           "bgcolor": "white",
           "lakecolor": "white",
           "landcolor": "rgb(237,237,237)",
           "showlakes": true,
           "showland": true,
           "subunitcolor": "white"
          },
          "hoverlabel": {
           "align": "left"
          },
          "hovermode": "closest",
          "paper_bgcolor": "white",
          "plot_bgcolor": "rgb(237,237,237)",
          "polar": {
           "angularaxis": {
            "gridcolor": "white",
            "linecolor": "white",
            "showgrid": true,
            "tickcolor": "rgb(51,51,51)",
            "ticks": "outside"
           },
           "bgcolor": "rgb(237,237,237)",
           "radialaxis": {
            "gridcolor": "white",
            "linecolor": "white",
            "showgrid": true,
            "tickcolor": "rgb(51,51,51)",
            "ticks": "outside"
           }
          },
          "scene": {
           "xaxis": {
            "backgroundcolor": "rgb(237,237,237)",
            "gridcolor": "white",
            "gridwidth": 2,
            "linecolor": "white",
            "showbackground": true,
            "showgrid": true,
            "tickcolor": "rgb(51,51,51)",
            "ticks": "outside",
            "zerolinecolor": "white"
           },
           "yaxis": {
            "backgroundcolor": "rgb(237,237,237)",
            "gridcolor": "white",
            "gridwidth": 2,
            "linecolor": "white",
            "showbackground": true,
            "showgrid": true,
            "tickcolor": "rgb(51,51,51)",
            "ticks": "outside",
            "zerolinecolor": "white"
           },
           "zaxis": {
            "backgroundcolor": "rgb(237,237,237)",
            "gridcolor": "white",
            "gridwidth": 2,
            "linecolor": "white",
            "showbackground": true,
            "showgrid": true,
            "tickcolor": "rgb(51,51,51)",
            "ticks": "outside",
            "zerolinecolor": "white"
           }
          },
          "shapedefaults": {
           "fillcolor": "black",
           "line": {
            "width": 0
           },
           "opacity": 0.3
          },
          "ternary": {
           "aaxis": {
            "gridcolor": "white",
            "linecolor": "white",
            "showgrid": true,
            "tickcolor": "rgb(51,51,51)",
            "ticks": "outside"
           },
           "baxis": {
            "gridcolor": "white",
            "linecolor": "white",
            "showgrid": true,
            "tickcolor": "rgb(51,51,51)",
            "ticks": "outside"
           },
           "bgcolor": "rgb(237,237,237)",
           "caxis": {
            "gridcolor": "white",
            "linecolor": "white",
            "showgrid": true,
            "tickcolor": "rgb(51,51,51)",
            "ticks": "outside"
           }
          },
          "xaxis": {
           "automargin": true,
           "gridcolor": "white",
           "linecolor": "white",
           "showgrid": true,
           "tickcolor": "rgb(51,51,51)",
           "ticks": "outside",
           "title": {
            "standoff": 15
           },
           "zerolinecolor": "white"
          },
          "yaxis": {
           "automargin": true,
           "gridcolor": "white",
           "linecolor": "white",
           "showgrid": true,
           "tickcolor": "rgb(51,51,51)",
           "ticks": "outside",
           "title": {
            "standoff": 15
           },
           "zerolinecolor": "white"
          }
         }
        },
        "xaxis": {
         "anchor": "y",
         "domain": [
          0,
          1
         ],
         "showgrid": false,
         "title": {
          "text": "year"
         }
        },
        "yaxis": {
         "anchor": "x",
         "domain": [
          0,
          1
         ],
         "title": {
          "text": "Count of words, millions"
         }
        }
       }
      }
     },
     "metadata": {},
     "output_type": "display_data"
    }
   ],
   "source": [
    "\n",
    "fig = px.bar(df_m.groupby(\"year\")[\"antal_ord\"].sum(),template=\"ggplot2\")\n",
    "fig.update_yaxes(title=\"Count of words, millions\")\n",
    "fig.update_layout(showlegend=False) \n",
    "fig = fig.update_xaxes(showgrid=False)\n",
    "fig = fig.update_layout(margin=dict(\n",
    "                        l=0,\n",
    "                        r=0,\n",
    "                        b=0,\n",
    "                        t=0\n",
    "                        )\n",
    "                        )\n",
    "fig.write_html(\"../../data/plots/count_of_words.html\")\n",
    "fig.write_image(\"../../data/plots/count_of_words.pdf\")\n",
    "fig"
   ]
  },
  {
   "cell_type": "markdown",
   "metadata": {},
   "source": [
    "## Word count over custom time interval"
   ]
  },
  {
   "cell_type": "code",
   "execution_count": null,
   "metadata": {},
   "outputs": [
    {
     "name": "stderr",
     "output_type": "stream",
     "text": [
      "100%|██████████| 63915/63915 [00:22<00:00, 2804.37it/s] \n"
     ]
    }
   ],
   "source": [
    "def assign_interval(year):\n",
    "    interval = [1867, 1920, 1950, 1980, 1995, 2010, 2022]\n",
    "    interval_range = [range(x[0],x[1]) for x in zip(interval[:-1],interval[1:])] \n",
    "    for x in interval_range:\n",
    "        if year in x:\n",
    "            return x.start\n",
    "\n",
    "df_m[\"custom_year_interval\"] = df_m[\"year\"].astype(int).apply(assign_interval)  \n",
    "df_m[\"antal_ord\"] = df_m[\"verdict_text\"].progress_apply(lambda x: len(x.split(\" \")) )\n",
    "\n"
   ]
  },
  {
   "cell_type": "code",
   "execution_count": null,
   "metadata": {},
   "outputs": [
    {
     "data": {
      "text/html": [
       "<div>\n",
       "<style scoped>\n",
       "    .dataframe tbody tr th:only-of-type {\n",
       "        vertical-align: middle;\n",
       "    }\n",
       "\n",
       "    .dataframe tbody tr th {\n",
       "        vertical-align: top;\n",
       "    }\n",
       "\n",
       "    .dataframe thead th {\n",
       "        text-align: right;\n",
       "    }\n",
       "</style>\n",
       "<table border=\"1\" class=\"dataframe\">\n",
       "  <thead>\n",
       "    <tr style=\"text-align: right;\">\n",
       "      <th></th>\n",
       "      <th>count of words</th>\n",
       "      <th>Count of documents</th>\n",
       "    </tr>\n",
       "    <tr>\n",
       "      <th>custom_year_interval</th>\n",
       "      <th></th>\n",
       "      <th></th>\n",
       "    </tr>\n",
       "  </thead>\n",
       "  <tbody>\n",
       "    <tr>\n",
       "      <th>1867</th>\n",
       "      <td>10118311</td>\n",
       "      <td>10617</td>\n",
       "    </tr>\n",
       "    <tr>\n",
       "      <th>1920</th>\n",
       "      <td>14189946</td>\n",
       "      <td>16106</td>\n",
       "    </tr>\n",
       "    <tr>\n",
       "      <th>1950</th>\n",
       "      <td>21265434</td>\n",
       "      <td>14097</td>\n",
       "    </tr>\n",
       "    <tr>\n",
       "      <th>1980</th>\n",
       "      <td>10875548</td>\n",
       "      <td>6374</td>\n",
       "    </tr>\n",
       "    <tr>\n",
       "      <th>1995</th>\n",
       "      <td>29138319</td>\n",
       "      <td>9846</td>\n",
       "    </tr>\n",
       "    <tr>\n",
       "      <th>2010</th>\n",
       "      <td>37171902</td>\n",
       "      <td>6875</td>\n",
       "    </tr>\n",
       "  </tbody>\n",
       "</table>\n",
       "</div>"
      ],
      "text/plain": [
       "                      count of words  Count of documents\n",
       "custom_year_interval                                    \n",
       "1867                        10118311               10617\n",
       "1920                        14189946               16106\n",
       "1950                        21265434               14097\n",
       "1980                        10875548                6374\n",
       "1995                        29138319                9846\n",
       "2010                        37171902                6875"
      ]
     },
     "execution_count": 9,
     "metadata": {},
     "output_type": "execute_result"
    }
   ],
   "source": [
    "df_m.groupby(\"custom_year_interval\")[\"antal_ord\"].agg([\"sum\",\"count\"]).rename(columns={\"sum\":\"count of words\",\"count\":\"Count of documents\"})\n",
    "\n"
   ]
  },
  {
   "cell_type": "markdown",
   "metadata": {},
   "source": [
    "## Create table kendelse/ikke-kendelse for law association "
   ]
  },
  {
   "cell_type": "code",
   "execution_count": null,
   "metadata": {},
   "outputs": [],
   "source": [
    "df_relevante_love_top_x = df_m.explode(\"relevante_love_cleaned\").groupby(\"relevante_love_cleaned\").count().sort_values(\"id_verdict\",ascending=False)[\"id_verdict\"][:20]\n",
    "love_top_x = list(df_relevante_love_top_x.reset_index()[\"relevante_love_cleaned\"])\n",
    "df_relevante_love = df_m.copy()\n",
    "df_relevante_love.dropna(inplace=True)\n",
    "df_relevante_love[\"relevante_love_cleaned\"] = df_relevante_love[\"relevante_love_cleaned\"].apply(lambda love: [lov if lov in love_top_x else \"anden_lov\" for lov in love] if love is not None else None)\n",
    "df_relevante_love = pd.merge(df_m.drop(columns=[\"relevante_love_cleaned\"]),df_relevante_love.loc[:,[\"id_verdict\",\"relevante_love_cleaned\"]],left_on=\"id_verdict\",right_on=\"id_verdict\", how=\"outer\")\n"
   ]
  },
  {
   "cell_type": "code",
   "execution_count": null,
   "metadata": {},
   "outputs": [
    {
     "data": {
      "text/html": [
       "<div>\n",
       "<style scoped>\n",
       "    .dataframe tbody tr th:only-of-type {\n",
       "        vertical-align: middle;\n",
       "    }\n",
       "\n",
       "    .dataframe tbody tr th {\n",
       "        vertical-align: top;\n",
       "    }\n",
       "\n",
       "    .dataframe thead th {\n",
       "        text-align: right;\n",
       "    }\n",
       "</style>\n",
       "<table border=\"1\" class=\"dataframe\">\n",
       "  <thead>\n",
       "    <tr style=\"text-align: right;\">\n",
       "      <th>not_kendelse</th>\n",
       "      <th>False</th>\n",
       "      <th>True</th>\n",
       "    </tr>\n",
       "  </thead>\n",
       "  <tbody>\n",
       "    <tr>\n",
       "      <th>count of judgements</th>\n",
       "      <td>8025.000000</td>\n",
       "      <td>20275.000000</td>\n",
       "    </tr>\n",
       "    <tr>\n",
       "      <th>avg_number_of_words</th>\n",
       "      <td>1376.596636</td>\n",
       "      <td>3224.030875</td>\n",
       "    </tr>\n",
       "  </tbody>\n",
       "</table>\n",
       "</div>"
      ],
      "text/plain": [
       "not_kendelse               False          True\n",
       "count of judgements  8025.000000  20275.000000\n",
       "avg_number_of_words  1376.596636   3224.030875"
      ]
     },
     "execution_count": 14,
     "metadata": {},
     "output_type": "execute_result"
    }
   ],
   "source": [
    "has_association = ~df_relevante_love[\"relevante_love_cleaned\"].isna()\n",
    "df_relevante_love_total_only_relevant_laws_included = df_relevante_love.loc[has_association] \\\n",
    "                                            .groupby(\"not_kendelse\") \\\n",
    "                                            .agg({\"id_verdict\":\"count\",\"antal_ord\":\"mean\"}) \\\n",
    "                                            .rename(columns={\"id_verdict\":\"count of judgements\",\"antal_ord\":\"avg_number_of_words\"}) \\\n",
    "                                            .transpose() \n",
    "df_relevante_love_total_only_relevant_laws_included"
   ]
  },
  {
   "cell_type": "code",
   "execution_count": null,
   "metadata": {},
   "outputs": [
    {
     "data": {
      "text/html": [
       "<div>\n",
       "<style scoped>\n",
       "    .dataframe tbody tr th:only-of-type {\n",
       "        vertical-align: middle;\n",
       "    }\n",
       "\n",
       "    .dataframe tbody tr th {\n",
       "        vertical-align: top;\n",
       "    }\n",
       "\n",
       "    .dataframe thead th {\n",
       "        text-align: right;\n",
       "    }\n",
       "</style>\n",
       "<table border=\"1\" class=\"dataframe\">\n",
       "  <thead>\n",
       "    <tr style=\"text-align: right;\">\n",
       "      <th>not_kendelse</th>\n",
       "      <th>False</th>\n",
       "      <th>True</th>\n",
       "    </tr>\n",
       "  </thead>\n",
       "  <tbody>\n",
       "    <tr>\n",
       "      <th>count of judgements</th>\n",
       "      <td>9375.000000</td>\n",
       "      <td>27817.00000</td>\n",
       "    </tr>\n",
       "    <tr>\n",
       "      <th>avg_number_of_words</th>\n",
       "      <td>1321.509333</td>\n",
       "      <td>3093.86537</td>\n",
       "    </tr>\n",
       "  </tbody>\n",
       "</table>\n",
       "</div>"
      ],
      "text/plain": [
       "not_kendelse               False         True\n",
       "count of judgements  9375.000000  27817.00000\n",
       "avg_number_of_words  1321.509333   3093.86537"
      ]
     },
     "execution_count": 23,
     "metadata": {},
     "output_type": "execute_result"
    }
   ],
   "source": [
    "df_relevante_love_total_1950_2021 = df_relevante_love.loc[df_relevante_love[\"year\"].astype(int)>1949] \\\n",
    "                                            .groupby(\"not_kendelse\") \\\n",
    "                                            .agg({\"id_verdict\":\"count\",\"antal_ord\":\"mean\"}) \\\n",
    "                                            .rename(columns={\"id_verdict\":\"count of judgements\",\"antal_ord\":\"avg_number_of_words\"}) \\\n",
    "                                            .transpose() \n",
    "df_relevante_love_total_1950_2021"
   ]
  },
  {
   "cell_type": "code",
   "execution_count": null,
   "metadata": {},
   "outputs": [
    {
     "data": {
      "text/html": [
       "<div>\n",
       "<style scoped>\n",
       "    .dataframe tbody tr th:only-of-type {\n",
       "        vertical-align: middle;\n",
       "    }\n",
       "\n",
       "    .dataframe tbody tr th {\n",
       "        vertical-align: top;\n",
       "    }\n",
       "\n",
       "    .dataframe thead th {\n",
       "        text-align: right;\n",
       "    }\n",
       "</style>\n",
       "<table border=\"1\" class=\"dataframe\">\n",
       "  <thead>\n",
       "    <tr style=\"text-align: right;\">\n",
       "      <th>not_kendelse</th>\n",
       "      <th>False</th>\n",
       "      <th>True</th>\n",
       "    </tr>\n",
       "  </thead>\n",
       "  <tbody>\n",
       "    <tr>\n",
       "      <th>count of judgements</th>\n",
       "      <td>10706.000000</td>\n",
       "      <td>53209.000000</td>\n",
       "    </tr>\n",
       "    <tr>\n",
       "      <th>avg_number_of_words</th>\n",
       "      <td>1230.071735</td>\n",
       "      <td>2059.619839</td>\n",
       "    </tr>\n",
       "  </tbody>\n",
       "</table>\n",
       "</div>"
      ],
      "text/plain": [
       "not_kendelse                False          True\n",
       "count of judgements  10706.000000  53209.000000\n",
       "avg_number_of_words   1230.071735   2059.619839"
      ]
     },
     "execution_count": 24,
     "metadata": {},
     "output_type": "execute_result"
    }
   ],
   "source": [
    "df_total = df_relevante_love \\\n",
    "                                            .groupby(\"not_kendelse\") \\\n",
    "                                            .agg({\"id_verdict\":\"count\",\"antal_ord\":\"mean\"}) \\\n",
    "                                            .rename(columns={\"id_verdict\":\"count of judgements\",\"antal_ord\":\"avg_number_of_words\"}) \\\n",
    "                                            .transpose() \n",
    "df_total"
   ]
  },
  {
   "cell_type": "code",
   "execution_count": null,
   "metadata": {},
   "outputs": [
    {
     "data": {
      "text/html": [
       "<div>\n",
       "<style scoped>\n",
       "    .dataframe tbody tr th:only-of-type {\n",
       "        vertical-align: middle;\n",
       "    }\n",
       "\n",
       "    .dataframe tbody tr th {\n",
       "        vertical-align: top;\n",
       "    }\n",
       "\n",
       "    .dataframe thead tr th {\n",
       "        text-align: left;\n",
       "    }\n",
       "\n",
       "    .dataframe thead tr:last-of-type th {\n",
       "        text-align: right;\n",
       "    }\n",
       "</style>\n",
       "<table border=\"1\" class=\"dataframe\">\n",
       "  <thead>\n",
       "    <tr>\n",
       "      <th></th>\n",
       "      <th colspan=\"2\" halign=\"left\">count of judgements</th>\n",
       "      <th colspan=\"2\" halign=\"left\">avg_number_of_words</th>\n",
       "    </tr>\n",
       "    <tr>\n",
       "      <th>not_kendelse</th>\n",
       "      <th>False</th>\n",
       "      <th>True</th>\n",
       "      <th>False</th>\n",
       "      <th>True</th>\n",
       "    </tr>\n",
       "    <tr>\n",
       "      <th>relevante_love_cleaned</th>\n",
       "      <th></th>\n",
       "      <th></th>\n",
       "      <th></th>\n",
       "      <th></th>\n",
       "    </tr>\n",
       "  </thead>\n",
       "  <tbody>\n",
       "    <tr>\n",
       "      <th>aftaleloven</th>\n",
       "      <td>23</td>\n",
       "      <td>445</td>\n",
       "      <td>2995.913043</td>\n",
       "      <td>5569.166292</td>\n",
       "    </tr>\n",
       "    <tr>\n",
       "      <th>anden_lov</th>\n",
       "      <td>1801</td>\n",
       "      <td>8771</td>\n",
       "      <td>2070.602998</td>\n",
       "      <td>4703.302360</td>\n",
       "    </tr>\n",
       "    <tr>\n",
       "      <th>erstatningsansvarsloven</th>\n",
       "      <td>10</td>\n",
       "      <td>603</td>\n",
       "      <td>2181.300000</td>\n",
       "      <td>5850.296849</td>\n",
       "    </tr>\n",
       "    <tr>\n",
       "      <th>forsikringsaftaleloven</th>\n",
       "      <td>11</td>\n",
       "      <td>388</td>\n",
       "      <td>2342.545455</td>\n",
       "      <td>3366.427835</td>\n",
       "    </tr>\n",
       "    <tr>\n",
       "      <th>funktionærloven</th>\n",
       "      <td>11</td>\n",
       "      <td>676</td>\n",
       "      <td>2465.090909</td>\n",
       "      <td>3424.204142</td>\n",
       "    </tr>\n",
       "    <tr>\n",
       "      <th>færdselsloven</th>\n",
       "      <td>172</td>\n",
       "      <td>2185</td>\n",
       "      <td>1418.872093</td>\n",
       "      <td>1404.584439</td>\n",
       "    </tr>\n",
       "    <tr>\n",
       "      <th>grundloven</th>\n",
       "      <td>23</td>\n",
       "      <td>276</td>\n",
       "      <td>3513.304348</td>\n",
       "      <td>7084.221014</td>\n",
       "    </tr>\n",
       "    <tr>\n",
       "      <th>indkomst og formueskat til staten</th>\n",
       "      <td>12</td>\n",
       "      <td>757</td>\n",
       "      <td>1176.166667</td>\n",
       "      <td>3253.003963</td>\n",
       "    </tr>\n",
       "    <tr>\n",
       "      <th>kildeskatteloven</th>\n",
       "      <td>10</td>\n",
       "      <td>204</td>\n",
       "      <td>914.200000</td>\n",
       "      <td>3735.980392</td>\n",
       "    </tr>\n",
       "    <tr>\n",
       "      <th>konkurrenceloven</th>\n",
       "      <td>5</td>\n",
       "      <td>264</td>\n",
       "      <td>2390.800000</td>\n",
       "      <td>4697.905303</td>\n",
       "    </tr>\n",
       "    <tr>\n",
       "      <th>konkursloven</th>\n",
       "      <td>615</td>\n",
       "      <td>651</td>\n",
       "      <td>1492.793496</td>\n",
       "      <td>4073.058372</td>\n",
       "    </tr>\n",
       "    <tr>\n",
       "      <th>købeloven</th>\n",
       "      <td>3</td>\n",
       "      <td>257</td>\n",
       "      <td>742.666667</td>\n",
       "      <td>3659.478599</td>\n",
       "    </tr>\n",
       "    <tr>\n",
       "      <th>lejeloven</th>\n",
       "      <td>199</td>\n",
       "      <td>856</td>\n",
       "      <td>1206.909548</td>\n",
       "      <td>1673.047897</td>\n",
       "    </tr>\n",
       "    <tr>\n",
       "      <th>ligningsloven</th>\n",
       "      <td>5</td>\n",
       "      <td>295</td>\n",
       "      <td>1489.400000</td>\n",
       "      <td>4995.688136</td>\n",
       "    </tr>\n",
       "    <tr>\n",
       "      <th>markedsføringsloven</th>\n",
       "      <td>21</td>\n",
       "      <td>233</td>\n",
       "      <td>3331.904762</td>\n",
       "      <td>5443.639485</td>\n",
       "    </tr>\n",
       "    <tr>\n",
       "      <th>menneskerettighedskonventionen</th>\n",
       "      <td>125</td>\n",
       "      <td>294</td>\n",
       "      <td>3097.664000</td>\n",
       "      <td>8784.585034</td>\n",
       "    </tr>\n",
       "    <tr>\n",
       "      <th>myndighedslov</th>\n",
       "      <td>21</td>\n",
       "      <td>202</td>\n",
       "      <td>601.476190</td>\n",
       "      <td>1609.960396</td>\n",
       "    </tr>\n",
       "    <tr>\n",
       "      <th>retsplejeloven</th>\n",
       "      <td>5056</td>\n",
       "      <td>2312</td>\n",
       "      <td>1232.976661</td>\n",
       "      <td>2464.701125</td>\n",
       "    </tr>\n",
       "    <tr>\n",
       "      <th>straffeloven</th>\n",
       "      <td>328</td>\n",
       "      <td>4694</td>\n",
       "      <td>1847.685976</td>\n",
       "      <td>2001.428632</td>\n",
       "    </tr>\n",
       "    <tr>\n",
       "      <th>tinglysningsloven</th>\n",
       "      <td>515</td>\n",
       "      <td>274</td>\n",
       "      <td>868.768932</td>\n",
       "      <td>2803.540146</td>\n",
       "    </tr>\n",
       "    <tr>\n",
       "      <th>udlændingeloven</th>\n",
       "      <td>187</td>\n",
       "      <td>468</td>\n",
       "      <td>2230.149733</td>\n",
       "      <td>4254.538462</td>\n",
       "    </tr>\n",
       "  </tbody>\n",
       "</table>\n",
       "</div>"
      ],
      "text/plain": [
       "                                  count of judgements        \\\n",
       "not_kendelse                                    False  True   \n",
       "relevante_love_cleaned                                        \n",
       "aftaleloven                                        23   445   \n",
       "anden_lov                                        1801  8771   \n",
       "erstatningsansvarsloven                            10   603   \n",
       "forsikringsaftaleloven                             11   388   \n",
       "funktionærloven                                    11   676   \n",
       "færdselsloven                                     172  2185   \n",
       "grundloven                                         23   276   \n",
       "indkomst og formueskat til staten                  12   757   \n",
       "kildeskatteloven                                   10   204   \n",
       "konkurrenceloven                                    5   264   \n",
       "konkursloven                                      615   651   \n",
       "købeloven                                           3   257   \n",
       "lejeloven                                         199   856   \n",
       "ligningsloven                                       5   295   \n",
       "markedsføringsloven                                21   233   \n",
       "menneskerettighedskonventionen                    125   294   \n",
       "myndighedslov                                      21   202   \n",
       "retsplejeloven                                   5056  2312   \n",
       "straffeloven                                      328  4694   \n",
       "tinglysningsloven                                 515   274   \n",
       "udlændingeloven                                   187   468   \n",
       "\n",
       "                                  avg_number_of_words               \n",
       "not_kendelse                                    False         True  \n",
       "relevante_love_cleaned                                              \n",
       "aftaleloven                               2995.913043  5569.166292  \n",
       "anden_lov                                 2070.602998  4703.302360  \n",
       "erstatningsansvarsloven                   2181.300000  5850.296849  \n",
       "forsikringsaftaleloven                    2342.545455  3366.427835  \n",
       "funktionærloven                           2465.090909  3424.204142  \n",
       "færdselsloven                             1418.872093  1404.584439  \n",
       "grundloven                                3513.304348  7084.221014  \n",
       "indkomst og formueskat til staten         1176.166667  3253.003963  \n",
       "kildeskatteloven                           914.200000  3735.980392  \n",
       "konkurrenceloven                          2390.800000  4697.905303  \n",
       "konkursloven                              1492.793496  4073.058372  \n",
       "købeloven                                  742.666667  3659.478599  \n",
       "lejeloven                                 1206.909548  1673.047897  \n",
       "ligningsloven                             1489.400000  4995.688136  \n",
       "markedsføringsloven                       3331.904762  5443.639485  \n",
       "menneskerettighedskonventionen            3097.664000  8784.585034  \n",
       "myndighedslov                              601.476190  1609.960396  \n",
       "retsplejeloven                            1232.976661  2464.701125  \n",
       "straffeloven                              1847.685976  2001.428632  \n",
       "tinglysningsloven                          868.768932  2803.540146  \n",
       "udlændingeloven                           2230.149733  4254.538462  "
      ]
     },
     "execution_count": 17,
     "metadata": {},
     "output_type": "execute_result"
    }
   ],
   "source": [
    "relevante_love_exploded_pivot = df_relevante_love.explode(\"relevante_love_cleaned\") \\\n",
    "                                            .loc[:,[\"relevante_love_cleaned\",\"antal_ord\",\"not_kendelse\",\"id_verdict\"]] \\\n",
    "                                            .groupby([\"relevante_love_cleaned\",\"not_kendelse\"]).agg({\"id_verdict\":\"count\",\"antal_ord\":\"mean\"}).reset_index() \\\n",
    "                                            .rename(columns={\"id_verdict\":\"count of judgements\",\"antal_ord\":\"avg_number_of_words\"}) \\\n",
    "                                            .pivot(index=\"relevante_love_cleaned\",columns=\"not_kendelse\") \n",
    "\n",
    "# relevante_love_exploded_pivot.append(relevante_love_exploded_total)\n",
    "relevante_love_exploded_pivot"
   ]
  },
  {
   "cell_type": "code",
   "execution_count": null,
   "metadata": {},
   "outputs": [],
   "source": [
    "# print(\"Alle domme (antal):\"a)\n",
    "# print(f\"{sum(df['nægtet_sig_skyldig'])=}\")\n",
    "# print(f\"{sum(df['thi_kendes_for_ret'])=}\")\n",
    "# print(\"\")\n",
    "# print(\"Efter 1950 domme (antal):\")\n",
    "# print(f\"{sum(df.loc[df['year'].astype(int)>=1950,'nægtet_sig_skyldig'])=}\")\n",
    "# print(f\"{sum(df.loc[df['year'].astype(int)>=1950,'thi_kendes_for_ret'])=}\")\n",
    "# print(\"\")\n",
    "# print(\"Thi kendes for ret opdelt på domsstol:\")\n",
    "# print(df.groupby([\"thi_kendes_for_ret\",\"document_category\"])[\"id_verdict\"].count().reset_index().set_index(\"document_category\").pivot(columns={\"thi_kendes_for_ret\"}))\n",
    "# print(\"\")\n",
    "# print(\"Thi kendes for ret, antal:\")\n",
    "# print(df.groupby(\"thi_kendes_for_ret_antal\").count()[\"id_verdict\"])"
   ]
  },
  {
   "cell_type": "code",
   "execution_count": null,
   "metadata": {},
   "outputs": [],
   "source": [
    "dct = gensim.corpora.Dictionary(df[\"tokenized_text\"])\n",
    "bow_corpus = [dct.doc2bow(doc, allow_update=True) for doc in tqdm(df[\"tokenized_text\"])]\n",
    "token_id = dict(dct.token2id)\n",
    "model = gensim.models.tfidfmodel.TfidfModel(bow_corpus)\n",
    "id_token = {v: k for k, v in token_id.items()}\n",
    "bow_with_names = [{id_token[x]:y for x,y in doc} for doc in tqdm(bow_corpus) ]\n",
    "term_frequency_dict = dict(zip(token_id.keys(),[0 for _ in token_id.keys()]))\n",
    "for doc in bow_with_names:\n",
    "    for key in doc.keys():\n",
    "        term_frequency_dict[key]+=doc[key]\n",
    "df_bow = pd.DataFrame.from_dict(term_frequency_dict, orient='index')\n",
    "df_bow = df_bow.sort_values(by=0,ascending=False)"
   ]
  }
 ],
 "metadata": {
  "interpreter": {
   "hash": "376d8d79cd2091c00a22d38e2af9d5e367bc9894b34f007ae434211cc855c7e4"
  },
  "kernelspec": {
   "display_name": "Python 3.8.8 ('base')",
   "language": "python",
   "name": "python3"
  },
  "language_info": {
   "codemirror_mode": {
    "name": "ipython",
    "version": 3
   },
   "file_extension": ".py",
   "mimetype": "text/x-python",
   "name": "python",
   "nbconvert_exporter": "python",
   "pygments_lexer": "ipython3",
   "version": "3.8.8"
  },
  "orig_nbformat": 4
 },
 "nbformat": 4,
 "nbformat_minor": 2
}
