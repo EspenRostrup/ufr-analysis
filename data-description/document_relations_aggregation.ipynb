{
 "cells": [
  {
   "cell_type": "code",
   "execution_count": 2,
   "metadata": {},
   "outputs": [],
   "source": [
    "import pandas as pd\n",
    "import glob\n",
    "from tqdm.auto import tqdm\n",
    "import string\n",
    "from bs4 import BeautifulSoup\n",
    "import re\n",
    "import plotly.express as px\n",
    "import string\n",
    "import pyarrow as pa\n",
    "import pyarrow.parquet as pq\n",
    "\n",
    "tqdm.pandas()"
   ]
  },
  {
   "cell_type": "code",
   "execution_count": 3,
   "metadata": {},
   "outputs": [],
   "source": [
    "filelist = []\n",
    "dfs = [pd.read_parquet(f) for f in glob.glob(\"../../data/processed/pyarrow/UfR_document_relations/*.parquet\")]   \n",
    "df = pd.concat(dfs) \n"
   ]
  },
  {
   "cell_type": "code",
   "execution_count": 4,
   "metadata": {},
   "outputs": [
    {
     "name": "stderr",
     "output_type": "stream",
     "text": [
      "100%|██████████| 41452/41452 [02:55<00:00, 236.72it/s]\n",
      "100%|██████████| 41452/41452 [00:00<00:00, 781593.24it/s]\n",
      "100%|██████████| 41452/41452 [00:00<00:00, 753652.21it/s]\n",
      "100%|██████████| 41452/41452 [00:00<00:00, 176366.70it/s]\n"
     ]
    }
   ],
   "source": [
    "def structureResponse(html:str) -> dict:\n",
    "    soup = BeautifulSoup(html, features=\"lxml\")\n",
    "    divs = soup.find_all(\"div\")\n",
    "    dictionary = parseHtmlDataStructure(divs)\n",
    "    \n",
    "    return dictionary\n",
    "\n",
    "def parseHtmlDataStructure(divs):\n",
    "    result = {}\n",
    "    if divs == []: return result\n",
    "    for div in divs:\n",
    "        if div.find(\"h2\") is not None:\n",
    "            header = next(div.find(\"h2\").stripped_strings)\n",
    "        else:\n",
    "            header = None\n",
    "        result[header]=parseHtmlTreeStructures(div.find(\"ul\",{\"class\":\"tree\"},recursive=False))\n",
    "        if not result[header]:\n",
    "            result[header]=parseHtmlDocumentElementStructures(div.find(\"ul\",recursive=False))\n",
    "\n",
    "    return result\n",
    "\n",
    "def parseHtmlTreeStructures(ul):\n",
    "    result = {}\n",
    "    if not ul: return None\n",
    "    for li in ul.find_all(\"li\", recursive=False):\n",
    "        key = next(li.stripped_strings)\n",
    "        ul = li.find(\"ul\")\n",
    "        if ul:\n",
    "            if key not in result:\n",
    "                result[key] = parseHtmlTreeStructures(ul)\n",
    "            else:\n",
    "                result[key].update(parseHtmlTreeStructures(ul))\n",
    "        else:\n",
    "            result[key] = None\n",
    "    return result\n",
    "\n",
    "def parseHtmlDocumentElementStructures(ul):\n",
    "    result = {}\n",
    "    if not ul: return None\n",
    "    for li in ul.find_all(\"li\", recursive=False):\n",
    "        if li[\"rel\"] == \"document\":\n",
    "            document_key = next(li.stripped_strings)\n",
    "            continue\n",
    "        elif li[\"rel\"] == \"element\":\n",
    "            element_key = next(li.stripped_strings)\n",
    "            if document_key not in result:\n",
    "                result[document_key] = {element_key : None}\n",
    "            else:\n",
    "                result[document_key].update({element_key:None})\n",
    "    \n",
    "    return result\n",
    "\n",
    "def cleanLovregister(lovregister):\n",
    "    if isinstance(lovregister,dict):\n",
    "        for key in lovregister.keys():\n",
    "            if type(lovregister[key]) is dict:\n",
    "                lovregister[key] = lovregister[key].keys()\n",
    "    return lovregister\n",
    "\n",
    "def storeDataframe(df, path):\n",
    "    \"\"\"Store DF using the Apache Arrow package\n",
    "\n",
    "    Args:\n",
    "        df (pd.DataFrame): Pandas DataFrame\n",
    "        path (str): Where to store .parquet file (including name of file) \n",
    "    \"\"\"\n",
    "    table = pa.Table.from_pandas(df)\n",
    "    pq.write_table(table,path)\n",
    "\n",
    "df[\"relation_dict\"] = df[\"relation_html\"].progress_apply(lambda x: structureResponse(x) if not None else None)\n",
    "df[\"lovregister_dict\"] = df[\"relation_dict\"].progress_apply(lambda x: x[\"Lovregister\"] if \"Lovregister\" in x else None)\n",
    "df[\"lovregister_dict_cleaned\"] = df[\"lovregister_dict\"].apply(cleanLovregister)\n",
    "df[\"relevante_love\"] = df[\"lovregister_dict_cleaned\"].progress_apply(lambda x: list(x.values()) if isinstance(x,dict) else None)\n",
    "df[\"relevante_love\"] = df[\"relevante_love\"].progress_apply(lambda x: [item for sublist in x for item in sublist] if x is not None else None)\n",
    "df_org = df.copy()"
   ]
  },
  {
   "cell_type": "code",
   "execution_count": 5,
   "metadata": {},
   "outputs": [],
   "source": [
    "def ikkeKendelse(li):\n",
    "    for header in li:\n",
    "        if re.search(\"\\.?K\\.\",header):\n",
    "            return False\n",
    "    if len(li)!=0:\n",
    "        return True\n",
    "    else:\n",
    "        return None\n",
    "def clean_string(s:list):\n",
    "    s = s.translate(str.maketrans('', '', string.punctuation))\n",
    "    s = s.lower()\n",
    "    if s == \"leje\": s = \"lejeloven\"\n",
    "    return s\n",
    "df_headers = pd.read_parquet(\"../../data/processed/pyarrow/UfR_thi_kendes_for_ret_partition.parquet\") \n",
    "df_headers = df_headers.loc[:,[\"id_verdict\",\"headers\"]].copy()\n",
    "df_headers = pd.merge(df_headers[\"id_verdict\"], df_headers[\"headers\"].apply(ikkeKendelse), left_index=True, right_index=True)\n",
    "df_headers.rename(columns={\"headers\":\"not_kendelse\"}, inplace=True)\n",
    "df_m = pd.merge(df,df_headers,left_on=\"id_verdict\", right_on=\"id_verdict\")\n",
    "df = pd.merge(df,df_headers,left_on=\"id_verdict\", right_on=\"id_verdict\")\n",
    "df[\"relevante_love_cleaned\"] = df[\"relevante_love\"].apply(lambda l: [clean_string(s) for s in l] if l else None)\n",
    "df_org = df.copy()"
   ]
  },
  {
   "cell_type": "code",
   "execution_count": 35,
   "metadata": {},
   "outputs": [],
   "source": [
    "df_org.loc[:,[\"id_verdict\",\"relevante_love_cleaned\"]].to_parquet(\"../../data/processed/pyarrow/UfR_associated_laws.parquet\")"
   ]
  },
  {
   "cell_type": "code",
   "execution_count": 19,
   "metadata": {},
   "outputs": [
    {
     "data": {
      "application/vnd.plotly.v1+json": {
       "config": {
        "plotlyServerURL": "https://plot.ly"
       },
       "data": [
        {
         "alignmentgroup": "True",
         "customdata": [
          [
           277,
           "Other law"
          ],
          [
           246,
           "Other law"
          ],
          [
           229,
           "Other law"
          ],
          [
           227,
           "Other law"
          ],
          [
           250,
           "Other law"
          ],
          [
           233,
           "Other law"
          ],
          [
           262,
           "Other law"
          ],
          [
           271,
           "Other law"
          ],
          [
           270,
           "Other law"
          ],
          [
           299,
           "Other law"
          ],
          [
           268,
           "Other law"
          ],
          [
           191,
           "Other law"
          ],
          [
           246,
           "Other law"
          ],
          [
           255,
           "Other law"
          ],
          [
           272,
           "Other law"
          ],
          [
           297,
           "Other law"
          ],
          [
           294,
           "Other law"
          ],
          [
           294,
           "Other law"
          ],
          [
           301,
           "Other law"
          ],
          [
           247,
           "Other law"
          ],
          [
           239,
           "Other law"
          ],
          [
           235,
           "Other law"
          ],
          [
           214,
           "Other law"
          ],
          [
           189,
           "Other law"
          ],
          [
           178,
           "Other law"
          ],
          [
           201,
           "Other law"
          ],
          [
           109,
           "Other law"
          ],
          [
           112,
           "Other law"
          ],
          [
           91,
           "Other law"
          ],
          [
           93,
           "Other law"
          ],
          [
           97,
           "Other law"
          ],
          [
           87,
           "Other law"
          ],
          [
           105,
           "Other law"
          ],
          [
           107,
           "Other law"
          ],
          [
           96,
           "Other law"
          ],
          [
           98,
           "Other law"
          ],
          [
           106,
           "Other law"
          ],
          [
           141,
           "Other law"
          ],
          [
           139,
           "Other law"
          ],
          [
           115,
           "Other law"
          ],
          [
           112,
           "Other law"
          ],
          [
           131,
           "Other law"
          ],
          [
           158,
           "Other law"
          ],
          [
           116,
           "Other law"
          ],
          [
           139,
           "Other law"
          ],
          [
           116,
           "Other law"
          ],
          [
           123,
           "Other law"
          ],
          [
           124,
           "Other law"
          ],
          [
           93,
           "Other law"
          ],
          [
           136,
           "Other law"
          ],
          [
           97,
           "Other law"
          ],
          [
           94,
           "Other law"
          ],
          [
           115,
           "Other law"
          ],
          [
           96,
           "Other law"
          ],
          [
           90,
           "Other law"
          ],
          [
           98,
           "Other law"
          ],
          [
           94,
           "Other law"
          ],
          [
           102,
           "Other law"
          ],
          [
           120,
           "Other law"
          ],
          [
           130,
           "Other law"
          ],
          [
           131,
           "Other law"
          ],
          [
           156,
           "Other law"
          ],
          [
           152,
           "Other law"
          ],
          [
           134,
           "Other law"
          ],
          [
           138,
           "Other law"
          ],
          [
           118,
           "Other law"
          ],
          [
           134,
           "Other law"
          ],
          [
           109,
           "Other law"
          ],
          [
           115,
           "Other law"
          ],
          [
           122,
           "Other law"
          ],
          [
           111,
           "Other law"
          ],
          [
           107,
           "Other law"
          ]
         ],
         "hovertemplate": "<b>%{hovertext}</b><br><br>year=%{x}<br>share=%{y:.1%}<br>count=%{customdata[0]:.0f}<extra></extra>",
         "hovertext": [
          "Other law",
          "Other law",
          "Other law",
          "Other law",
          "Other law",
          "Other law",
          "Other law",
          "Other law",
          "Other law",
          "Other law",
          "Other law",
          "Other law",
          "Other law",
          "Other law",
          "Other law",
          "Other law",
          "Other law",
          "Other law",
          "Other law",
          "Other law",
          "Other law",
          "Other law",
          "Other law",
          "Other law",
          "Other law",
          "Other law",
          "Other law",
          "Other law",
          "Other law",
          "Other law",
          "Other law",
          "Other law",
          "Other law",
          "Other law",
          "Other law",
          "Other law",
          "Other law",
          "Other law",
          "Other law",
          "Other law",
          "Other law",
          "Other law",
          "Other law",
          "Other law",
          "Other law",
          "Other law",
          "Other law",
          "Other law",
          "Other law",
          "Other law",
          "Other law",
          "Other law",
          "Other law",
          "Other law",
          "Other law",
          "Other law",
          "Other law",
          "Other law",
          "Other law",
          "Other law",
          "Other law",
          "Other law",
          "Other law",
          "Other law",
          "Other law",
          "Other law",
          "Other law",
          "Other law",
          "Other law",
          "Other law",
          "Other law",
          "Other law"
         ],
         "legendgroup": "Other law",
         "marker": {
          "color": "rgb(102, 197, 204)",
          "pattern": {
           "shape": ""
          }
         },
         "name": "Other law",
         "offsetgroup": "Other law",
         "orientation": "v",
         "showlegend": true,
         "textposition": "auto",
         "type": "bar",
         "x": [
          2021,
          2020,
          2019,
          2018,
          2017,
          2016,
          2015,
          2014,
          2013,
          2012,
          2011,
          2010,
          2009,
          2008,
          2007,
          2006,
          2005,
          2004,
          2003,
          2002,
          2001,
          2000,
          1999,
          1998,
          1997,
          1996,
          1995,
          1994,
          1993,
          1992,
          1991,
          1990,
          1989,
          1988,
          1987,
          1986,
          1985,
          1984,
          1983,
          1982,
          1981,
          1980,
          1979,
          1978,
          1977,
          1976,
          1975,
          1974,
          1973,
          1972,
          1971,
          1970,
          1969,
          1968,
          1967,
          1966,
          1965,
          1964,
          1963,
          1962,
          1961,
          1960,
          1959,
          1958,
          1957,
          1956,
          1955,
          1954,
          1953,
          1952,
          1951,
          1950
         ],
         "xaxis": "x",
         "y": [
          0.38579387186629527,
          0.3494318181818182,
          0.36995153473344106,
          0.3758278145695364,
          0.40064102564102566,
          0.32724719101123595,
          0.42326332794830374,
          0.39911634756995584,
          0.38028169014084506,
          0.4339622641509434,
          0.37119113573407203,
          0.382,
          0.36771300448430494,
          0.33774834437086093,
          0.35883905013192613,
          0.38028169014084506,
          0.3375430539609644,
          0.3735705209656925,
          0.3635265700483092,
          0.37198795180722893,
          0.33473389355742295,
          0.324585635359116,
          0.33126934984520123,
          0.3181818181818182,
          0.33458646616541354,
          0.3608617594254937,
          0.30446927374301674,
          0.30601092896174864,
          0.28888888888888886,
          0.31313131313131315,
          0.2966360856269113,
          0.3140794223826715,
          0.3763440860215054,
          0.36271186440677966,
          0.3221476510067114,
          0.3277591973244147,
          0.30113636363636365,
          0.375,
          0.351010101010101,
          0.2963917525773196,
          0.3035230352303523,
          0.35405405405405405,
          0.3665893271461717,
          0.2885572139303483,
          0.33902439024390246,
          0.2672811059907834,
          0.3037037037037037,
          0.28703703703703703,
          0.2540983606557377,
          0.31554524361948955,
          0.2811594202898551,
          0.26038781163434904,
          0.29411764705882354,
          0.28152492668621704,
          0.23195876288659795,
          0.23902439024390243,
          0.2647887323943662,
          0.2712765957446808,
          0.30612244897959184,
          0.3385416666666667,
          0.31116389548693585,
          0.35697940503432496,
          0.3438914027149321,
          0.3621621621621622,
          0.37398373983739835,
          0.3460410557184751,
          0.4227129337539432,
          0.4052044609665427,
          0.4020979020979021,
          0.42214532871972316,
          0.4065934065934066,
          0.4314516129032258
         ],
         "yaxis": "y"
        },
        {
         "alignmentgroup": "True",
         "customdata": [
          [
           194,
           "retsplejeloven"
          ],
          [
           223,
           "retsplejeloven"
          ],
          [
           170,
           "retsplejeloven"
          ],
          [
           162,
           "retsplejeloven"
          ],
          [
           181,
           "retsplejeloven"
          ],
          [
           221,
           "retsplejeloven"
          ],
          [
           180,
           "retsplejeloven"
          ],
          [
           187,
           "retsplejeloven"
          ],
          [
           223,
           "retsplejeloven"
          ],
          [
           178,
           "retsplejeloven"
          ],
          [
           219,
           "retsplejeloven"
          ],
          [
           130,
           "retsplejeloven"
          ],
          [
           204,
           "retsplejeloven"
          ],
          [
           209,
           "retsplejeloven"
          ],
          [
           178,
           "retsplejeloven"
          ],
          [
           166,
           "retsplejeloven"
          ],
          [
           204,
           "retsplejeloven"
          ],
          [
           149,
           "retsplejeloven"
          ],
          [
           183,
           "retsplejeloven"
          ],
          [
           153,
           "retsplejeloven"
          ],
          [
           171,
           "retsplejeloven"
          ],
          [
           176,
           "retsplejeloven"
          ],
          [
           151,
           "retsplejeloven"
          ],
          [
           127,
           "retsplejeloven"
          ],
          [
           123,
           "retsplejeloven"
          ],
          [
           116,
           "retsplejeloven"
          ],
          [
           80,
           "retsplejeloven"
          ],
          [
           61,
           "retsplejeloven"
          ],
          [
           56,
           "retsplejeloven"
          ],
          [
           60,
           "retsplejeloven"
          ],
          [
           55,
           "retsplejeloven"
          ],
          [
           59,
           "retsplejeloven"
          ],
          [
           45,
           "retsplejeloven"
          ],
          [
           57,
           "retsplejeloven"
          ],
          [
           54,
           "retsplejeloven"
          ],
          [
           49,
           "retsplejeloven"
          ],
          [
           56,
           "retsplejeloven"
          ],
          [
           68,
           "retsplejeloven"
          ],
          [
           79,
           "retsplejeloven"
          ],
          [
           59,
           "retsplejeloven"
          ],
          [
           73,
           "retsplejeloven"
          ],
          [
           63,
           "retsplejeloven"
          ],
          [
           76,
           "retsplejeloven"
          ],
          [
           79,
           "retsplejeloven"
          ],
          [
           56,
           "retsplejeloven"
          ],
          [
           79,
           "retsplejeloven"
          ],
          [
           62,
           "retsplejeloven"
          ],
          [
           83,
           "retsplejeloven"
          ],
          [
           69,
           "retsplejeloven"
          ],
          [
           72,
           "retsplejeloven"
          ],
          [
           83,
           "retsplejeloven"
          ],
          [
           61,
           "retsplejeloven"
          ],
          [
           65,
           "retsplejeloven"
          ],
          [
           59,
           "retsplejeloven"
          ],
          [
           57,
           "retsplejeloven"
          ],
          [
           94,
           "retsplejeloven"
          ],
          [
           60,
           "retsplejeloven"
          ],
          [
           63,
           "retsplejeloven"
          ],
          [
           72,
           "retsplejeloven"
          ],
          [
           51,
           "retsplejeloven"
          ],
          [
           55,
           "retsplejeloven"
          ],
          [
           53,
           "retsplejeloven"
          ],
          [
           61,
           "retsplejeloven"
          ],
          [
           57,
           "retsplejeloven"
          ],
          [
           65,
           "retsplejeloven"
          ],
          [
           59,
           "retsplejeloven"
          ],
          [
           50,
           "retsplejeloven"
          ],
          [
           31,
           "retsplejeloven"
          ],
          [
           31,
           "retsplejeloven"
          ],
          [
           39,
           "retsplejeloven"
          ],
          [
           39,
           "retsplejeloven"
          ],
          [
           35,
           "retsplejeloven"
          ]
         ],
         "hovertemplate": "<b>%{hovertext}</b><br><br>year=%{x}<br>share=%{y:.1%}<br>count=%{customdata[0]:.0f}<extra></extra>",
         "hovertext": [
          "retsplejeloven",
          "retsplejeloven",
          "retsplejeloven",
          "retsplejeloven",
          "retsplejeloven",
          "retsplejeloven",
          "retsplejeloven",
          "retsplejeloven",
          "retsplejeloven",
          "retsplejeloven",
          "retsplejeloven",
          "retsplejeloven",
          "retsplejeloven",
          "retsplejeloven",
          "retsplejeloven",
          "retsplejeloven",
          "retsplejeloven",
          "retsplejeloven",
          "retsplejeloven",
          "retsplejeloven",
          "retsplejeloven",
          "retsplejeloven",
          "retsplejeloven",
          "retsplejeloven",
          "retsplejeloven",
          "retsplejeloven",
          "retsplejeloven",
          "retsplejeloven",
          "retsplejeloven",
          "retsplejeloven",
          "retsplejeloven",
          "retsplejeloven",
          "retsplejeloven",
          "retsplejeloven",
          "retsplejeloven",
          "retsplejeloven",
          "retsplejeloven",
          "retsplejeloven",
          "retsplejeloven",
          "retsplejeloven",
          "retsplejeloven",
          "retsplejeloven",
          "retsplejeloven",
          "retsplejeloven",
          "retsplejeloven",
          "retsplejeloven",
          "retsplejeloven",
          "retsplejeloven",
          "retsplejeloven",
          "retsplejeloven",
          "retsplejeloven",
          "retsplejeloven",
          "retsplejeloven",
          "retsplejeloven",
          "retsplejeloven",
          "retsplejeloven",
          "retsplejeloven",
          "retsplejeloven",
          "retsplejeloven",
          "retsplejeloven",
          "retsplejeloven",
          "retsplejeloven",
          "retsplejeloven",
          "retsplejeloven",
          "retsplejeloven",
          "retsplejeloven",
          "retsplejeloven",
          "retsplejeloven",
          "retsplejeloven",
          "retsplejeloven",
          "retsplejeloven",
          "retsplejeloven"
         ],
         "legendgroup": "retsplejeloven",
         "marker": {
          "color": "rgb(246, 207, 113)",
          "pattern": {
           "shape": ""
          }
         },
         "name": "retsplejeloven",
         "offsetgroup": "retsplejeloven",
         "orientation": "v",
         "showlegend": true,
         "textposition": "auto",
         "type": "bar",
         "x": [
          2021,
          2020,
          2019,
          2018,
          2017,
          2016,
          2015,
          2014,
          2013,
          2012,
          2011,
          2010,
          2009,
          2008,
          2007,
          2006,
          2005,
          2004,
          2003,
          2002,
          2001,
          2000,
          1999,
          1998,
          1997,
          1996,
          1995,
          1994,
          1993,
          1992,
          1991,
          1990,
          1989,
          1988,
          1987,
          1986,
          1985,
          1984,
          1983,
          1982,
          1981,
          1980,
          1979,
          1978,
          1977,
          1976,
          1975,
          1974,
          1973,
          1972,
          1971,
          1970,
          1969,
          1968,
          1967,
          1966,
          1965,
          1964,
          1963,
          1962,
          1961,
          1960,
          1959,
          1958,
          1957,
          1956,
          1955,
          1954,
          1953,
          1952,
          1951,
          1950
         ],
         "xaxis": "x",
         "y": [
          0.27019498607242337,
          0.31676136363636365,
          0.27463651050080773,
          0.2682119205298013,
          0.2900641025641026,
          0.3103932584269663,
          0.29079159935379645,
          0.27540500736377027,
          0.31408450704225355,
          0.25834542815674894,
          0.3033240997229917,
          0.26,
          0.30493273542600896,
          0.2768211920529801,
          0.23482849604221637,
          0.21254801536491677,
          0.23421354764638347,
          0.18932655654383734,
          0.2210144927536232,
          0.23042168674698796,
          0.23949579831932774,
          0.2430939226519337,
          0.23374613003095976,
          0.2138047138047138,
          0.231203007518797,
          0.20825852782764812,
          0.22346368715083798,
          0.16666666666666666,
          0.17777777777777778,
          0.20202020202020202,
          0.16819571865443425,
          0.21299638989169675,
          0.16129032258064516,
          0.19322033898305085,
          0.18120805369127516,
          0.16387959866220736,
          0.1590909090909091,
          0.18085106382978725,
          0.1994949494949495,
          0.15206185567010308,
          0.1978319783197832,
          0.17027027027027028,
          0.17633410672853828,
          0.19651741293532338,
          0.13658536585365855,
          0.18202764976958524,
          0.15308641975308643,
          0.19212962962962962,
          0.1885245901639344,
          0.16705336426914152,
          0.24057971014492754,
          0.16897506925207756,
          0.16624040920716113,
          0.17302052785923755,
          0.14690721649484537,
          0.22926829268292684,
          0.16901408450704225,
          0.1675531914893617,
          0.1836734693877551,
          0.1328125,
          0.13064133016627077,
          0.12128146453089245,
          0.13800904977375567,
          0.15405405405405406,
          0.17615176151761516,
          0.17302052785923755,
          0.15772870662460567,
          0.11524163568773234,
          0.10839160839160839,
          0.13494809688581316,
          0.14285714285714285,
          0.14112903225806453
         ],
         "yaxis": "y"
        },
        {
         "alignmentgroup": "True",
         "customdata": [
          [
           71,
           "straffeloven"
          ],
          [
           70,
           "straffeloven"
          ],
          [
           67,
           "straffeloven"
          ],
          [
           71,
           "straffeloven"
          ],
          [
           65,
           "straffeloven"
          ],
          [
           86,
           "straffeloven"
          ],
          [
           47,
           "straffeloven"
          ],
          [
           52,
           "straffeloven"
          ],
          [
           37,
           "straffeloven"
          ],
          [
           47,
           "straffeloven"
          ],
          [
           60,
           "straffeloven"
          ],
          [
           36,
           "straffeloven"
          ],
          [
           60,
           "straffeloven"
          ],
          [
           82,
           "straffeloven"
          ],
          [
           99,
           "straffeloven"
          ],
          [
           119,
           "straffeloven"
          ],
          [
           143,
           "straffeloven"
          ],
          [
           120,
           "straffeloven"
          ],
          [
           125,
           "straffeloven"
          ],
          [
           108,
           "straffeloven"
          ],
          [
           106,
           "straffeloven"
          ],
          [
           87,
           "straffeloven"
          ],
          [
           90,
           "straffeloven"
          ],
          [
           116,
           "straffeloven"
          ],
          [
           80,
           "straffeloven"
          ],
          [
           96,
           "straffeloven"
          ],
          [
           53,
           "straffeloven"
          ],
          [
           72,
           "straffeloven"
          ],
          [
           69,
           "straffeloven"
          ],
          [
           58,
           "straffeloven"
          ],
          [
           68,
           "straffeloven"
          ],
          [
           51,
           "straffeloven"
          ],
          [
           45,
           "straffeloven"
          ],
          [
           43,
           "straffeloven"
          ],
          [
           47,
           "straffeloven"
          ],
          [
           43,
           "straffeloven"
          ],
          [
           61,
           "straffeloven"
          ],
          [
           36,
           "straffeloven"
          ],
          [
           60,
           "straffeloven"
          ],
          [
           82,
           "straffeloven"
          ],
          [
           82,
           "straffeloven"
          ],
          [
           81,
           "straffeloven"
          ],
          [
           79,
           "straffeloven"
          ],
          [
           83,
           "straffeloven"
          ],
          [
           94,
           "straffeloven"
          ],
          [
           93,
           "straffeloven"
          ],
          [
           98,
           "straffeloven"
          ],
          [
           89,
           "straffeloven"
          ],
          [
           57,
           "straffeloven"
          ],
          [
           72,
           "straffeloven"
          ],
          [
           64,
           "straffeloven"
          ],
          [
           77,
           "straffeloven"
          ],
          [
           84,
           "straffeloven"
          ],
          [
           77,
           "straffeloven"
          ],
          [
           88,
           "straffeloven"
          ],
          [
           91,
           "straffeloven"
          ],
          [
           76,
           "straffeloven"
          ],
          [
           53,
           "straffeloven"
          ],
          [
           61,
           "straffeloven"
          ],
          [
           57,
           "straffeloven"
          ],
          [
           62,
           "straffeloven"
          ],
          [
           58,
           "straffeloven"
          ],
          [
           66,
           "straffeloven"
          ],
          [
           42,
           "straffeloven"
          ],
          [
           47,
           "straffeloven"
          ],
          [
           37,
           "straffeloven"
          ],
          [
           34,
           "straffeloven"
          ],
          [
           34,
           "straffeloven"
          ],
          [
           33,
           "straffeloven"
          ],
          [
           39,
           "straffeloven"
          ],
          [
           38,
           "straffeloven"
          ],
          [
           48,
           "straffeloven"
          ]
         ],
         "hovertemplate": "<b>%{hovertext}</b><br><br>year=%{x}<br>share=%{y:.1%}<br>count=%{customdata[0]:.0f}<extra></extra>",
         "hovertext": [
          "straffeloven",
          "straffeloven",
          "straffeloven",
          "straffeloven",
          "straffeloven",
          "straffeloven",
          "straffeloven",
          "straffeloven",
          "straffeloven",
          "straffeloven",
          "straffeloven",
          "straffeloven",
          "straffeloven",
          "straffeloven",
          "straffeloven",
          "straffeloven",
          "straffeloven",
          "straffeloven",
          "straffeloven",
          "straffeloven",
          "straffeloven",
          "straffeloven",
          "straffeloven",
          "straffeloven",
          "straffeloven",
          "straffeloven",
          "straffeloven",
          "straffeloven",
          "straffeloven",
          "straffeloven",
          "straffeloven",
          "straffeloven",
          "straffeloven",
          "straffeloven",
          "straffeloven",
          "straffeloven",
          "straffeloven",
          "straffeloven",
          "straffeloven",
          "straffeloven",
          "straffeloven",
          "straffeloven",
          "straffeloven",
          "straffeloven",
          "straffeloven",
          "straffeloven",
          "straffeloven",
          "straffeloven",
          "straffeloven",
          "straffeloven",
          "straffeloven",
          "straffeloven",
          "straffeloven",
          "straffeloven",
          "straffeloven",
          "straffeloven",
          "straffeloven",
          "straffeloven",
          "straffeloven",
          "straffeloven",
          "straffeloven",
          "straffeloven",
          "straffeloven",
          "straffeloven",
          "straffeloven",
          "straffeloven",
          "straffeloven",
          "straffeloven",
          "straffeloven",
          "straffeloven",
          "straffeloven",
          "straffeloven"
         ],
         "legendgroup": "straffeloven",
         "marker": {
          "color": "rgb(248, 156, 116)",
          "pattern": {
           "shape": ""
          }
         },
         "name": "straffeloven",
         "offsetgroup": "straffeloven",
         "orientation": "v",
         "showlegend": true,
         "textposition": "auto",
         "type": "bar",
         "x": [
          2021,
          2020,
          2019,
          2018,
          2017,
          2016,
          2015,
          2014,
          2013,
          2012,
          2011,
          2010,
          2009,
          2008,
          2007,
          2006,
          2005,
          2004,
          2003,
          2002,
          2001,
          2000,
          1999,
          1998,
          1997,
          1996,
          1995,
          1994,
          1993,
          1992,
          1991,
          1990,
          1989,
          1988,
          1987,
          1986,
          1985,
          1984,
          1983,
          1982,
          1981,
          1980,
          1979,
          1978,
          1977,
          1976,
          1975,
          1974,
          1973,
          1972,
          1971,
          1970,
          1969,
          1968,
          1967,
          1966,
          1965,
          1964,
          1963,
          1962,
          1961,
          1960,
          1959,
          1958,
          1957,
          1956,
          1955,
          1954,
          1953,
          1952,
          1951,
          1950
         ],
         "xaxis": "x",
         "y": [
          0.0988857938718663,
          0.09943181818181818,
          0.10823909531502424,
          0.11754966887417219,
          0.10416666666666667,
          0.12078651685393259,
          0.07592891760904685,
          0.07658321060382917,
          0.05211267605633803,
          0.06821480406386067,
          0.08310249307479224,
          0.072,
          0.08968609865470852,
          0.10860927152317881,
          0.13060686015831136,
          0.1523687580025608,
          0.16417910447761194,
          0.15247776365946633,
          0.15096618357487923,
          0.16265060240963855,
          0.1484593837535014,
          0.12016574585635359,
          0.1393188854489164,
          0.19528619528619529,
          0.15037593984962405,
          0.17235188509874327,
          0.14804469273743018,
          0.19672131147540983,
          0.21904761904761905,
          0.19528619528619529,
          0.20795107033639143,
          0.18411552346570398,
          0.16129032258064516,
          0.14576271186440679,
          0.15771812080536912,
          0.14381270903010032,
          0.17329545454545456,
          0.09574468085106383,
          0.15151515151515152,
          0.211340206185567,
          0.2222222222222222,
          0.21891891891891893,
          0.18329466357308585,
          0.2064676616915423,
          0.22926829268292684,
          0.21428571428571427,
          0.2419753086419753,
          0.20601851851851852,
          0.1557377049180328,
          0.16705336426914152,
          0.1855072463768116,
          0.21329639889196675,
          0.21483375959079284,
          0.22580645161290322,
          0.2268041237113402,
          0.22195121951219512,
          0.2140845070422535,
          0.14095744680851063,
          0.1556122448979592,
          0.1484375,
          0.14726840855106887,
          0.13272311212814644,
          0.1493212669683258,
          0.11351351351351352,
          0.12737127371273713,
          0.10850439882697947,
          0.10725552050473186,
          0.12639405204460966,
          0.11538461538461539,
          0.13494809688581316,
          0.1391941391941392,
          0.1935483870967742
         ],
         "yaxis": "y"
        },
        {
         "alignmentgroup": "True",
         "customdata": [
          [
           46,
           "konkursloven"
          ],
          [
           34,
           "konkursloven"
          ],
          [
           34,
           "konkursloven"
          ],
          [
           37,
           "konkursloven"
          ],
          [
           30,
           "konkursloven"
          ],
          [
           40,
           "konkursloven"
          ],
          [
           37,
           "konkursloven"
          ],
          [
           40,
           "konkursloven"
          ],
          [
           31,
           "konkursloven"
          ],
          [
           14,
           "konkursloven"
          ],
          [
           20,
           "konkursloven"
          ],
          [
           17,
           "konkursloven"
          ],
          [
           18,
           "konkursloven"
          ],
          [
           21,
           "konkursloven"
          ],
          [
           29,
           "konkursloven"
          ],
          [
           18,
           "konkursloven"
          ],
          [
           26,
           "konkursloven"
          ],
          [
           17,
           "konkursloven"
          ],
          [
           21,
           "konkursloven"
          ],
          [
           17,
           "konkursloven"
          ],
          [
           22,
           "konkursloven"
          ],
          [
           27,
           "konkursloven"
          ],
          [
           24,
           "konkursloven"
          ],
          [
           37,
           "konkursloven"
          ],
          [
           21,
           "konkursloven"
          ],
          [
           24,
           "konkursloven"
          ],
          [
           25,
           "konkursloven"
          ],
          [
           21,
           "konkursloven"
          ],
          [
           17,
           "konkursloven"
          ],
          [
           8,
           "konkursloven"
          ],
          [
           13,
           "konkursloven"
          ],
          [
           16,
           "konkursloven"
          ],
          [
           6,
           "konkursloven"
          ],
          [
           15,
           "konkursloven"
          ],
          [
           22,
           "konkursloven"
          ],
          [
           27,
           "konkursloven"
          ],
          [
           39,
           "konkursloven"
          ],
          [
           30,
           "konkursloven"
          ],
          [
           29,
           "konkursloven"
          ],
          [
           35,
           "konkursloven"
          ],
          [
           27,
           "konkursloven"
          ],
          [
           17,
           "konkursloven"
          ],
          [
           15,
           "konkursloven"
          ],
          [
           9,
           "konkursloven"
          ],
          [
           12,
           "konkursloven"
          ],
          [
           8,
           "konkursloven"
          ],
          [
           6,
           "konkursloven"
          ],
          [
           13,
           "konkursloven"
          ],
          [
           13,
           "konkursloven"
          ],
          [
           11,
           "konkursloven"
          ],
          [
           4,
           "konkursloven"
          ],
          [
           3,
           "konkursloven"
          ],
          [
           7,
           "konkursloven"
          ],
          [
           9,
           "konkursloven"
          ],
          [
           4,
           "konkursloven"
          ],
          [
           3,
           "konkursloven"
          ],
          [
           1,
           "konkursloven"
          ],
          [
           5,
           "konkursloven"
          ],
          [
           4,
           "konkursloven"
          ],
          [
           2,
           "konkursloven"
          ],
          [
           5,
           "konkursloven"
          ],
          [
           5,
           "konkursloven"
          ],
          [
           7,
           "konkursloven"
          ],
          [
           8,
           "konkursloven"
          ],
          [
           6,
           "konkursloven"
          ],
          [
           9,
           "konkursloven"
          ],
          [
           15,
           "konkursloven"
          ],
          [
           7,
           "konkursloven"
          ],
          [
           8,
           "konkursloven"
          ],
          [
           7,
           "konkursloven"
          ],
          [
           8,
           "konkursloven"
          ],
          [
           3,
           "konkursloven"
          ]
         ],
         "hovertemplate": "<b>%{hovertext}</b><br><br>year=%{x}<br>share=%{y:.1%}<br>count=%{customdata[0]:.0f}<extra></extra>",
         "hovertext": [
          "konkursloven",
          "konkursloven",
          "konkursloven",
          "konkursloven",
          "konkursloven",
          "konkursloven",
          "konkursloven",
          "konkursloven",
          "konkursloven",
          "konkursloven",
          "konkursloven",
          "konkursloven",
          "konkursloven",
          "konkursloven",
          "konkursloven",
          "konkursloven",
          "konkursloven",
          "konkursloven",
          "konkursloven",
          "konkursloven",
          "konkursloven",
          "konkursloven",
          "konkursloven",
          "konkursloven",
          "konkursloven",
          "konkursloven",
          "konkursloven",
          "konkursloven",
          "konkursloven",
          "konkursloven",
          "konkursloven",
          "konkursloven",
          "konkursloven",
          "konkursloven",
          "konkursloven",
          "konkursloven",
          "konkursloven",
          "konkursloven",
          "konkursloven",
          "konkursloven",
          "konkursloven",
          "konkursloven",
          "konkursloven",
          "konkursloven",
          "konkursloven",
          "konkursloven",
          "konkursloven",
          "konkursloven",
          "konkursloven",
          "konkursloven",
          "konkursloven",
          "konkursloven",
          "konkursloven",
          "konkursloven",
          "konkursloven",
          "konkursloven",
          "konkursloven",
          "konkursloven",
          "konkursloven",
          "konkursloven",
          "konkursloven",
          "konkursloven",
          "konkursloven",
          "konkursloven",
          "konkursloven",
          "konkursloven",
          "konkursloven",
          "konkursloven",
          "konkursloven",
          "konkursloven",
          "konkursloven",
          "konkursloven"
         ],
         "legendgroup": "konkursloven",
         "marker": {
          "color": "rgb(220, 176, 242)",
          "pattern": {
           "shape": ""
          }
         },
         "name": "konkursloven",
         "offsetgroup": "konkursloven",
         "orientation": "v",
         "showlegend": true,
         "textposition": "auto",
         "type": "bar",
         "x": [
          2021,
          2020,
          2019,
          2018,
          2017,
          2016,
          2015,
          2014,
          2013,
          2012,
          2011,
          2010,
          2009,
          2008,
          2007,
          2006,
          2005,
          2004,
          2003,
          2002,
          2001,
          2000,
          1999,
          1998,
          1997,
          1996,
          1995,
          1994,
          1993,
          1992,
          1991,
          1990,
          1989,
          1988,
          1987,
          1986,
          1985,
          1984,
          1983,
          1982,
          1981,
          1980,
          1979,
          1978,
          1977,
          1976,
          1975,
          1974,
          1973,
          1972,
          1971,
          1970,
          1969,
          1968,
          1967,
          1966,
          1965,
          1964,
          1963,
          1962,
          1961,
          1960,
          1959,
          1958,
          1957,
          1956,
          1955,
          1954,
          1953,
          1952,
          1951,
          1950
         ],
         "xaxis": "x",
         "y": [
          0.06406685236768803,
          0.048295454545454544,
          0.05492730210016155,
          0.061258278145695365,
          0.04807692307692308,
          0.056179775280898875,
          0.05977382875605816,
          0.05891016200294551,
          0.04366197183098591,
          0.020319303338171262,
          0.027700831024930747,
          0.034,
          0.026905829596412557,
          0.02781456953642384,
          0.03825857519788918,
          0.023047375160051217,
          0.029850746268656716,
          0.021601016518424398,
          0.025362318840579712,
          0.025602409638554216,
          0.03081232492997199,
          0.03729281767955801,
          0.03715170278637771,
          0.06228956228956229,
          0.039473684210526314,
          0.04308797127468582,
          0.06983240223463687,
          0.05737704918032787,
          0.05396825396825397,
          0.026936026936026935,
          0.039755351681957186,
          0.05776173285198556,
          0.021505376344086023,
          0.05084745762711865,
          0.0738255033557047,
          0.0903010033444816,
          0.11079545454545454,
          0.0797872340425532,
          0.07323232323232323,
          0.09020618556701031,
          0.07317073170731707,
          0.04594594594594595,
          0.03480278422273782,
          0.022388059701492536,
          0.02926829268292683,
          0.018433179723502304,
          0.014814814814814815,
          0.03009259259259259,
          0.03551912568306011,
          0.025522041763341066,
          0.011594202898550725,
          0.008310249307479225,
          0.017902813299232736,
          0.026392961876832845,
          0.010309278350515464,
          0.007317073170731708,
          0.0028169014084507044,
          0.013297872340425532,
          0.01020408163265306,
          0.005208333333333333,
          0.011876484560570071,
          0.011441647597254004,
          0.01583710407239819,
          0.021621621621621623,
          0.016260162601626018,
          0.026392961876832845,
          0.0473186119873817,
          0.026022304832713755,
          0.027972027972027972,
          0.02422145328719723,
          0.029304029304029304,
          0.012096774193548387
         ],
         "yaxis": "y"
        },
        {
         "alignmentgroup": "True",
         "customdata": [
          [
           26,
           "menneskerettighedskonventionen"
          ],
          [
           11,
           "menneskerettighedskonventionen"
          ],
          [
           18,
           "menneskerettighedskonventionen"
          ],
          [
           17,
           "menneskerettighedskonventionen"
          ],
          [
           16,
           "menneskerettighedskonventionen"
          ],
          [
           15,
           "menneskerettighedskonventionen"
          ],
          [
           12,
           "menneskerettighedskonventionen"
          ],
          [
           24,
           "menneskerettighedskonventionen"
          ],
          [
           12,
           "menneskerettighedskonventionen"
          ],
          [
           28,
           "menneskerettighedskonventionen"
          ],
          [
           16,
           "menneskerettighedskonventionen"
          ],
          [
           13,
           "menneskerettighedskonventionen"
          ],
          [
           8,
           "menneskerettighedskonventionen"
          ],
          [
           9,
           "menneskerettighedskonventionen"
          ],
          [
           13,
           "menneskerettighedskonventionen"
          ],
          [
           11,
           "menneskerettighedskonventionen"
          ],
          [
           21,
           "menneskerettighedskonventionen"
          ],
          [
           19,
           "menneskerettighedskonventionen"
          ],
          [
           13,
           "menneskerettighedskonventionen"
          ],
          [
           8,
           "menneskerettighedskonventionen"
          ],
          [
           14,
           "menneskerettighedskonventionen"
          ],
          [
           23,
           "menneskerettighedskonventionen"
          ],
          [
           38,
           "menneskerettighedskonventionen"
          ],
          [
           8,
           "menneskerettighedskonventionen"
          ],
          [
           10,
           "menneskerettighedskonventionen"
          ],
          [
           7,
           "menneskerettighedskonventionen"
          ],
          [
           9,
           "menneskerettighedskonventionen"
          ]
         ],
         "hovertemplate": "<b>%{hovertext}</b><br><br>year=%{x}<br>share=%{y:.1%}<br>count=%{customdata[0]:.0f}<extra></extra>",
         "hovertext": [
          "menneskerettighedskonventionen",
          "menneskerettighedskonventionen",
          "menneskerettighedskonventionen",
          "menneskerettighedskonventionen",
          "menneskerettighedskonventionen",
          "menneskerettighedskonventionen",
          "menneskerettighedskonventionen",
          "menneskerettighedskonventionen",
          "menneskerettighedskonventionen",
          "menneskerettighedskonventionen",
          "menneskerettighedskonventionen",
          "menneskerettighedskonventionen",
          "menneskerettighedskonventionen",
          "menneskerettighedskonventionen",
          "menneskerettighedskonventionen",
          "menneskerettighedskonventionen",
          "menneskerettighedskonventionen",
          "menneskerettighedskonventionen",
          "menneskerettighedskonventionen",
          "menneskerettighedskonventionen",
          "menneskerettighedskonventionen",
          "menneskerettighedskonventionen",
          "menneskerettighedskonventionen",
          "menneskerettighedskonventionen",
          "menneskerettighedskonventionen",
          "menneskerettighedskonventionen",
          "menneskerettighedskonventionen"
         ],
         "legendgroup": "menneskerettighedskonventionen",
         "marker": {
          "color": "rgb(135, 197, 95)",
          "pattern": {
           "shape": ""
          }
         },
         "name": "menneskerettighedskonventionen",
         "offsetgroup": "menneskerettighedskonventionen",
         "orientation": "v",
         "showlegend": true,
         "textposition": "auto",
         "type": "bar",
         "x": [
          2021,
          2020,
          2019,
          2018,
          2017,
          2016,
          2015,
          2014,
          2013,
          2012,
          2011,
          2010,
          2009,
          2008,
          2007,
          2006,
          2005,
          2004,
          2003,
          2002,
          2001,
          2000,
          1999,
          1998,
          1997,
          1996,
          1995
         ],
         "xaxis": "x",
         "y": [
          0.036211699164345405,
          0.015625,
          0.029079159935379646,
          0.028145695364238412,
          0.02564102564102564,
          0.021067415730337078,
          0.01938610662358643,
          0.035346097201767304,
          0.016901408450704224,
          0.040638606676342524,
          0.0221606648199446,
          0.026,
          0.01195814648729447,
          0.011920529801324504,
          0.017150395778364115,
          0.014084507042253521,
          0.024110218140068886,
          0.0241423125794155,
          0.01570048309178744,
          0.012048192771084338,
          0.0196078431372549,
          0.031767955801104975,
          0.058823529411764705,
          0.013468013468013467,
          0.018796992481203006,
          0.012567324955116697,
          0.025139664804469275
         ],
         "yaxis": "y"
        },
        {
         "alignmentgroup": "True",
         "customdata": [
          [
           22,
           "udlændingeloven"
          ],
          [
           32,
           "udlændingeloven"
          ],
          [
           26,
           "udlændingeloven"
          ],
          [
           25,
           "udlændingeloven"
          ],
          [
           13,
           "udlændingeloven"
          ],
          [
           20,
           "udlændingeloven"
          ],
          [
           14,
           "udlændingeloven"
          ],
          [
           7,
           "udlændingeloven"
          ],
          [
           10,
           "udlændingeloven"
          ],
          [
           16,
           "udlændingeloven"
          ],
          [
           24,
           "udlændingeloven"
          ],
          [
           14,
           "udlændingeloven"
          ],
          [
           18,
           "udlændingeloven"
          ],
          [
           45,
           "udlændingeloven"
          ],
          [
           23,
           "udlændingeloven"
          ],
          [
           26,
           "udlændingeloven"
          ],
          [
           41,
           "udlændingeloven"
          ],
          [
           26,
           "udlændingeloven"
          ],
          [
           28,
           "udlændingeloven"
          ],
          [
           18,
           "udlændingeloven"
          ],
          [
           23,
           "udlændingeloven"
          ],
          [
           25,
           "udlændingeloven"
          ],
          [
           30,
           "udlændingeloven"
          ],
          [
           13,
           "udlændingeloven"
          ],
          [
           19,
           "udlændingeloven"
          ],
          [
           11,
           "udlændingeloven"
          ],
          [
           8,
           "udlændingeloven"
          ],
          [
           7,
           "udlændingeloven"
          ],
          [
           8,
           "udlændingeloven"
          ],
          [
           8,
           "udlændingeloven"
          ],
          [
           7,
           "udlændingeloven"
          ],
          [
           10,
           "udlændingeloven"
          ],
          [
           3,
           "udlændingeloven"
          ],
          [
           3,
           "udlændingeloven"
          ],
          [
           2,
           "udlændingeloven"
          ],
          [
           7,
           "udlændingeloven"
          ],
          [
           8,
           "udlændingeloven"
          ],
          [
           12,
           "udlændingeloven"
          ],
          [
           3,
           "udlændingeloven"
          ]
         ],
         "hovertemplate": "<b>%{hovertext}</b><br><br>year=%{x}<br>share=%{y:.1%}<br>count=%{customdata[0]:.0f}<extra></extra>",
         "hovertext": [
          "udlændingeloven",
          "udlændingeloven",
          "udlændingeloven",
          "udlændingeloven",
          "udlændingeloven",
          "udlændingeloven",
          "udlændingeloven",
          "udlændingeloven",
          "udlændingeloven",
          "udlændingeloven",
          "udlændingeloven",
          "udlændingeloven",
          "udlændingeloven",
          "udlændingeloven",
          "udlændingeloven",
          "udlændingeloven",
          "udlændingeloven",
          "udlændingeloven",
          "udlændingeloven",
          "udlændingeloven",
          "udlændingeloven",
          "udlændingeloven",
          "udlændingeloven",
          "udlændingeloven",
          "udlændingeloven",
          "udlændingeloven",
          "udlændingeloven",
          "udlændingeloven",
          "udlændingeloven",
          "udlændingeloven",
          "udlændingeloven",
          "udlændingeloven",
          "udlændingeloven",
          "udlændingeloven",
          "udlændingeloven",
          "udlændingeloven",
          "udlændingeloven",
          "udlændingeloven",
          "udlændingeloven"
         ],
         "legendgroup": "udlændingeloven",
         "marker": {
          "color": "rgb(158, 185, 243)",
          "pattern": {
           "shape": ""
          }
         },
         "name": "udlændingeloven",
         "offsetgroup": "udlændingeloven",
         "orientation": "v",
         "showlegend": true,
         "textposition": "auto",
         "type": "bar",
         "x": [
          2021,
          2020,
          2019,
          2018,
          2017,
          2016,
          2015,
          2014,
          2013,
          2012,
          2011,
          2010,
          2009,
          2008,
          2007,
          2006,
          2005,
          2004,
          2003,
          2002,
          2001,
          2000,
          1999,
          1998,
          1997,
          1996,
          1995,
          1994,
          1993,
          1992,
          1991,
          1990,
          1989,
          1988,
          1987,
          1986,
          1985,
          1984,
          1983
         ],
         "xaxis": "x",
         "y": [
          0.03064066852367688,
          0.045454545454545456,
          0.0420032310177706,
          0.041390728476821195,
          0.020833333333333332,
          0.028089887640449437,
          0.022617124394184167,
          0.010309278350515464,
          0.014084507042253521,
          0.023222060957910014,
          0.0332409972299169,
          0.028,
          0.026905829596412557,
          0.059602649006622516,
          0.030343007915567283,
          0.03329065300896287,
          0.04707233065442021,
          0.03303684879288437,
          0.033816425120772944,
          0.02710843373493976,
          0.03221288515406162,
          0.034530386740331494,
          0.04643962848297214,
          0.021885521885521887,
          0.03571428571428571,
          0.019748653500897665,
          0.0223463687150838,
          0.01912568306010929,
          0.025396825396825397,
          0.026936026936026935,
          0.021406727828746176,
          0.036101083032490974,
          0.010752688172043012,
          0.010169491525423728,
          0.006711409395973154,
          0.023411371237458192,
          0.022727272727272728,
          0.031914893617021274,
          0.007575757575757576
         ],
         "yaxis": "y"
        },
        {
         "alignmentgroup": "True",
         "customdata": [
          [
           22,
           "erstatningsansvarsloven"
          ],
          [
           21,
           "erstatningsansvarsloven"
          ],
          [
           21,
           "erstatningsansvarsloven"
          ],
          [
           20,
           "erstatningsansvarsloven"
          ],
          [
           16,
           "erstatningsansvarsloven"
          ],
          [
           16,
           "erstatningsansvarsloven"
          ],
          [
           16,
           "erstatningsansvarsloven"
          ],
          [
           14,
           "erstatningsansvarsloven"
          ],
          [
           17,
           "erstatningsansvarsloven"
          ],
          [
           29,
           "erstatningsansvarsloven"
          ],
          [
           22,
           "erstatningsansvarsloven"
          ],
          [
           18,
           "erstatningsansvarsloven"
          ],
          [
           19,
           "erstatningsansvarsloven"
          ],
          [
           23,
           "erstatningsansvarsloven"
          ],
          [
           23,
           "erstatningsansvarsloven"
          ],
          [
           23,
           "erstatningsansvarsloven"
          ],
          [
           33,
           "erstatningsansvarsloven"
          ],
          [
           42,
           "erstatningsansvarsloven"
          ],
          [
           24,
           "erstatningsansvarsloven"
          ],
          [
           15,
           "erstatningsansvarsloven"
          ],
          [
           18,
           "erstatningsansvarsloven"
          ],
          [
           18,
           "erstatningsansvarsloven"
          ],
          [
           15,
           "erstatningsansvarsloven"
          ],
          [
           16,
           "erstatningsansvarsloven"
          ],
          [
           16,
           "erstatningsansvarsloven"
          ],
          [
           10,
           "erstatningsansvarsloven"
          ],
          [
           11,
           "erstatningsansvarsloven"
          ],
          [
           7,
           "erstatningsansvarsloven"
          ],
          [
           11,
           "erstatningsansvarsloven"
          ],
          [
           6,
           "erstatningsansvarsloven"
          ],
          [
           14,
           "erstatningsansvarsloven"
          ],
          [
           9,
           "erstatningsansvarsloven"
          ],
          [
           11,
           "erstatningsansvarsloven"
          ],
          [
           9,
           "erstatningsansvarsloven"
          ],
          [
           4,
           "erstatningsansvarsloven"
          ],
          [
           2,
           "erstatningsansvarsloven"
          ],
          [
           1,
           "erstatningsansvarsloven"
          ],
          [
           1,
           "erstatningsansvarsloven"
          ]
         ],
         "hovertemplate": "<b>%{hovertext}</b><br><br>year=%{x}<br>share=%{y:.1%}<br>count=%{customdata[0]:.0f}<extra></extra>",
         "hovertext": [
          "erstatningsansvarsloven",
          "erstatningsansvarsloven",
          "erstatningsansvarsloven",
          "erstatningsansvarsloven",
          "erstatningsansvarsloven",
          "erstatningsansvarsloven",
          "erstatningsansvarsloven",
          "erstatningsansvarsloven",
          "erstatningsansvarsloven",
          "erstatningsansvarsloven",
          "erstatningsansvarsloven",
          "erstatningsansvarsloven",
          "erstatningsansvarsloven",
          "erstatningsansvarsloven",
          "erstatningsansvarsloven",
          "erstatningsansvarsloven",
          "erstatningsansvarsloven",
          "erstatningsansvarsloven",
          "erstatningsansvarsloven",
          "erstatningsansvarsloven",
          "erstatningsansvarsloven",
          "erstatningsansvarsloven",
          "erstatningsansvarsloven",
          "erstatningsansvarsloven",
          "erstatningsansvarsloven",
          "erstatningsansvarsloven",
          "erstatningsansvarsloven",
          "erstatningsansvarsloven",
          "erstatningsansvarsloven",
          "erstatningsansvarsloven",
          "erstatningsansvarsloven",
          "erstatningsansvarsloven",
          "erstatningsansvarsloven",
          "erstatningsansvarsloven",
          "erstatningsansvarsloven",
          "erstatningsansvarsloven",
          "erstatningsansvarsloven",
          "erstatningsansvarsloven"
         ],
         "legendgroup": "erstatningsansvarsloven",
         "marker": {
          "color": "rgb(254, 136, 177)",
          "pattern": {
           "shape": ""
          }
         },
         "name": "erstatningsansvarsloven",
         "offsetgroup": "erstatningsansvarsloven",
         "orientation": "v",
         "showlegend": true,
         "textposition": "auto",
         "type": "bar",
         "x": [
          2021,
          2020,
          2019,
          2018,
          2017,
          2016,
          2015,
          2014,
          2013,
          2012,
          2011,
          2010,
          2009,
          2008,
          2007,
          2006,
          2005,
          2004,
          2003,
          2002,
          2001,
          2000,
          1999,
          1998,
          1997,
          1996,
          1995,
          1994,
          1993,
          1992,
          1991,
          1990,
          1989,
          1988,
          1987,
          1986,
          1979,
          1975
         ],
         "xaxis": "x",
         "y": [
          0.03064066852367688,
          0.029829545454545456,
          0.033925686591276254,
          0.033112582781456956,
          0.02564102564102564,
          0.02247191011235955,
          0.025848142164781908,
          0.020618556701030927,
          0.023943661971830985,
          0.0420899854862119,
          0.030470914127423823,
          0.036,
          0.028400597907324365,
          0.030463576158940398,
          0.030343007915567283,
          0.029449423815621,
          0.03788748564867968,
          0.053367217280813214,
          0.028985507246376812,
          0.022590361445783132,
          0.025210084033613446,
          0.024861878453038673,
          0.02321981424148607,
          0.026936026936026935,
          0.03007518796992481,
          0.017953321364452424,
          0.030726256983240222,
          0.01912568306010929,
          0.03492063492063492,
          0.020202020202020204,
          0.04281345565749235,
          0.032490974729241874,
          0.03942652329749104,
          0.030508474576271188,
          0.013422818791946308,
          0.006688963210702341,
          0.002320185614849188,
          0.0024691358024691358
         ],
         "yaxis": "y"
        },
        {
         "alignmentgroup": "True",
         "customdata": [
          [
           15,
           "færdselsloven"
          ],
          [
           14,
           "færdselsloven"
          ],
          [
           17,
           "færdselsloven"
          ],
          [
           16,
           "færdselsloven"
          ],
          [
           20,
           "færdselsloven"
          ],
          [
           31,
           "færdselsloven"
          ],
          [
           16,
           "færdselsloven"
          ],
          [
           21,
           "færdselsloven"
          ],
          [
           29,
           "færdselsloven"
          ],
          [
           21,
           "færdselsloven"
          ],
          [
           23,
           "færdselsloven"
          ],
          [
           20,
           "færdselsloven"
          ],
          [
           22,
           "færdselsloven"
          ],
          [
           28,
           "færdselsloven"
          ],
          [
           36,
           "færdselsloven"
          ],
          [
           42,
           "færdselsloven"
          ],
          [
           31,
           "færdselsloven"
          ],
          [
           37,
           "færdselsloven"
          ],
          [
           39,
           "færdselsloven"
          ],
          [
           35,
           "færdselsloven"
          ],
          [
           43,
           "færdselsloven"
          ],
          [
           39,
           "færdselsloven"
          ],
          [
           30,
           "færdselsloven"
          ],
          [
           31,
           "færdselsloven"
          ],
          [
           16,
           "færdselsloven"
          ],
          [
           26,
           "færdselsloven"
          ],
          [
           21,
           "færdselsloven"
          ],
          [
           26,
           "færdselsloven"
          ],
          [
           15,
           "færdselsloven"
          ],
          [
           25,
           "færdselsloven"
          ],
          [
           17,
           "færdselsloven"
          ],
          [
           7,
           "færdselsloven"
          ],
          [
           16,
           "færdselsloven"
          ],
          [
           15,
           "færdselsloven"
          ],
          [
           14,
           "færdselsloven"
          ],
          [
           14,
           "færdselsloven"
          ],
          [
           13,
           "færdselsloven"
          ],
          [
           17,
           "færdselsloven"
          ],
          [
           15,
           "færdselsloven"
          ],
          [
           27,
           "færdselsloven"
          ],
          [
           5,
           "færdselsloven"
          ],
          [
           14,
           "færdselsloven"
          ],
          [
           39,
           "færdselsloven"
          ],
          [
           44,
           "færdselsloven"
          ],
          [
           57,
           "færdselsloven"
          ],
          [
           85,
           "færdselsloven"
          ],
          [
           52,
           "færdselsloven"
          ],
          [
           62,
           "færdselsloven"
          ],
          [
           50,
           "færdselsloven"
          ],
          [
           68,
           "færdselsloven"
          ],
          [
           37,
           "færdselsloven"
          ],
          [
           66,
           "færdselsloven"
          ],
          [
           58,
           "færdselsloven"
          ],
          [
           53,
           "færdselsloven"
          ],
          [
           81,
           "færdselsloven"
          ],
          [
           77,
           "færdselsloven"
          ],
          [
           57,
           "færdselsloven"
          ],
          [
           70,
           "færdselsloven"
          ],
          [
           56,
           "færdselsloven"
          ],
          [
           71,
           "færdselsloven"
          ],
          [
           74,
           "færdselsloven"
          ],
          [
           62,
           "færdselsloven"
          ],
          [
           74,
           "færdselsloven"
          ],
          [
           47,
           "færdselsloven"
          ],
          [
           30,
           "færdselsloven"
          ],
          [
           25,
           "færdselsloven"
          ],
          [
           3,
           "færdselsloven"
          ]
         ],
         "hovertemplate": "<b>%{hovertext}</b><br><br>year=%{x}<br>share=%{y:.1%}<br>count=%{customdata[0]:.0f}<extra></extra>",
         "hovertext": [
          "færdselsloven",
          "færdselsloven",
          "færdselsloven",
          "færdselsloven",
          "færdselsloven",
          "færdselsloven",
          "færdselsloven",
          "færdselsloven",
          "færdselsloven",
          "færdselsloven",
          "færdselsloven",
          "færdselsloven",
          "færdselsloven",
          "færdselsloven",
          "færdselsloven",
          "færdselsloven",
          "færdselsloven",
          "færdselsloven",
          "færdselsloven",
          "færdselsloven",
          "færdselsloven",
          "færdselsloven",
          "færdselsloven",
          "færdselsloven",
          "færdselsloven",
          "færdselsloven",
          "færdselsloven",
          "færdselsloven",
          "færdselsloven",
          "færdselsloven",
          "færdselsloven",
          "færdselsloven",
          "færdselsloven",
          "færdselsloven",
          "færdselsloven",
          "færdselsloven",
          "færdselsloven",
          "færdselsloven",
          "færdselsloven",
          "færdselsloven",
          "færdselsloven",
          "færdselsloven",
          "færdselsloven",
          "færdselsloven",
          "færdselsloven",
          "færdselsloven",
          "færdselsloven",
          "færdselsloven",
          "færdselsloven",
          "færdselsloven",
          "færdselsloven",
          "færdselsloven",
          "færdselsloven",
          "færdselsloven",
          "færdselsloven",
          "færdselsloven",
          "færdselsloven",
          "færdselsloven",
          "færdselsloven",
          "færdselsloven",
          "færdselsloven",
          "færdselsloven",
          "færdselsloven",
          "færdselsloven",
          "færdselsloven",
          "færdselsloven",
          "færdselsloven"
         ],
         "legendgroup": "færdselsloven",
         "marker": {
          "color": "rgb(201, 219, 116)",
          "pattern": {
           "shape": ""
          }
         },
         "name": "færdselsloven",
         "offsetgroup": "færdselsloven",
         "orientation": "v",
         "showlegend": true,
         "textposition": "auto",
         "type": "bar",
         "x": [
          2021,
          2020,
          2019,
          2018,
          2017,
          2016,
          2015,
          2014,
          2013,
          2012,
          2011,
          2010,
          2009,
          2008,
          2007,
          2006,
          2005,
          2004,
          2003,
          2002,
          2001,
          2000,
          1999,
          1998,
          1997,
          1996,
          1995,
          1994,
          1993,
          1992,
          1991,
          1990,
          1989,
          1988,
          1987,
          1986,
          1985,
          1984,
          1983,
          1982,
          1981,
          1980,
          1979,
          1978,
          1977,
          1976,
          1975,
          1974,
          1973,
          1972,
          1971,
          1970,
          1969,
          1968,
          1967,
          1966,
          1965,
          1964,
          1963,
          1962,
          1961,
          1960,
          1959,
          1958,
          1957,
          1956,
          1955
         ],
         "xaxis": "x",
         "y": [
          0.020891364902506964,
          0.019886363636363636,
          0.027463651050080775,
          0.026490066225165563,
          0.03205128205128205,
          0.04353932584269663,
          0.025848142164781908,
          0.030927835051546393,
          0.04084507042253521,
          0.030478955007256895,
          0.03185595567867036,
          0.04,
          0.03288490284005979,
          0.03708609271523179,
          0.047493403693931395,
          0.05377720870678617,
          0.03559127439724455,
          0.04701397712833545,
          0.04710144927536232,
          0.05271084337349398,
          0.06022408963585434,
          0.05386740331491713,
          0.04643962848297214,
          0.05218855218855219,
          0.03007518796992481,
          0.0466786355475763,
          0.05865921787709497,
          0.07103825136612021,
          0.047619047619047616,
          0.08417508417508418,
          0.05198776758409786,
          0.02527075812274368,
          0.05734767025089606,
          0.05084745762711865,
          0.04697986577181208,
          0.046822742474916385,
          0.036931818181818184,
          0.04521276595744681,
          0.03787878787878788,
          0.06958762886597938,
          0.013550135501355014,
          0.03783783783783784,
          0.09048723897911833,
          0.10945273631840796,
          0.13902439024390245,
          0.195852534562212,
          0.12839506172839507,
          0.14351851851851852,
          0.1366120218579235,
          0.15777262180974477,
          0.1072463768115942,
          0.18282548476454294,
          0.1483375959079284,
          0.15542521994134897,
          0.20876288659793815,
          0.1878048780487805,
          0.16056338028169015,
          0.18617021276595744,
          0.14285714285714285,
          0.18489583333333334,
          0.17577197149643706,
          0.14187643020594964,
          0.167420814479638,
          0.12702702702702703,
          0.08130081300813008,
          0.07331378299120235,
          0.00946372239747634
         ],
         "yaxis": "y"
        },
        {
         "alignmentgroup": "True",
         "customdata": [
          [
           11,
           "aftaleloven"
          ],
          [
           9,
           "aftaleloven"
          ],
          [
           5,
           "aftaleloven"
          ],
          [
           2,
           "aftaleloven"
          ],
          [
           3,
           "aftaleloven"
          ],
          [
           9,
           "aftaleloven"
          ],
          [
           8,
           "aftaleloven"
          ],
          [
           15,
           "aftaleloven"
          ],
          [
           18,
           "aftaleloven"
          ],
          [
           12,
           "aftaleloven"
          ],
          [
           20,
           "aftaleloven"
          ],
          [
           21,
           "aftaleloven"
          ],
          [
           22,
           "aftaleloven"
          ],
          [
           16,
           "aftaleloven"
          ],
          [
           18,
           "aftaleloven"
          ],
          [
           13,
           "aftaleloven"
          ],
          [
           8,
           "aftaleloven"
          ],
          [
           12,
           "aftaleloven"
          ],
          [
           12,
           "aftaleloven"
          ],
          [
           8,
           "aftaleloven"
          ],
          [
           6,
           "aftaleloven"
          ],
          [
           9,
           "aftaleloven"
          ],
          [
           6,
           "aftaleloven"
          ],
          [
           4,
           "aftaleloven"
          ],
          [
           2,
           "aftaleloven"
          ],
          [
           3,
           "aftaleloven"
          ],
          [
           2,
           "aftaleloven"
          ],
          [
           8,
           "aftaleloven"
          ],
          [
           3,
           "aftaleloven"
          ],
          [
           2,
           "aftaleloven"
          ],
          [
           8,
           "aftaleloven"
          ],
          [
           3,
           "aftaleloven"
          ],
          [
           6,
           "aftaleloven"
          ],
          [
           3,
           "aftaleloven"
          ],
          [
           9,
           "aftaleloven"
          ],
          [
           3,
           "aftaleloven"
          ],
          [
           5,
           "aftaleloven"
          ],
          [
           4,
           "aftaleloven"
          ],
          [
           7,
           "aftaleloven"
          ],
          [
           6,
           "aftaleloven"
          ],
          [
           8,
           "aftaleloven"
          ],
          [
           4,
           "aftaleloven"
          ],
          [
           5,
           "aftaleloven"
          ],
          [
           5,
           "aftaleloven"
          ],
          [
           6,
           "aftaleloven"
          ],
          [
           2,
           "aftaleloven"
          ],
          [
           3,
           "aftaleloven"
          ],
          [
           5,
           "aftaleloven"
          ],
          [
           1,
           "aftaleloven"
          ],
          [
           8,
           "aftaleloven"
          ],
          [
           4,
           "aftaleloven"
          ],
          [
           2,
           "aftaleloven"
          ],
          [
           3,
           "aftaleloven"
          ],
          [
           2,
           "aftaleloven"
          ],
          [
           4,
           "aftaleloven"
          ],
          [
           4,
           "aftaleloven"
          ],
          [
           2,
           "aftaleloven"
          ],
          [
           2,
           "aftaleloven"
          ],
          [
           6,
           "aftaleloven"
          ],
          [
           4,
           "aftaleloven"
          ],
          [
           2,
           "aftaleloven"
          ],
          [
           5,
           "aftaleloven"
          ],
          [
           5,
           "aftaleloven"
          ],
          [
           2,
           "aftaleloven"
          ],
          [
           5,
           "aftaleloven"
          ],
          [
           4,
           "aftaleloven"
          ],
          [
           2,
           "aftaleloven"
          ],
          [
           6,
           "aftaleloven"
          ],
          [
           5,
           "aftaleloven"
          ],
          [
           9,
           "aftaleloven"
          ],
          [
           2,
           "aftaleloven"
          ]
         ],
         "hovertemplate": "<b>%{hovertext}</b><br><br>year=%{x}<br>share=%{y:.1%}<br>count=%{customdata[0]:.0f}<extra></extra>",
         "hovertext": [
          "aftaleloven",
          "aftaleloven",
          "aftaleloven",
          "aftaleloven",
          "aftaleloven",
          "aftaleloven",
          "aftaleloven",
          "aftaleloven",
          "aftaleloven",
          "aftaleloven",
          "aftaleloven",
          "aftaleloven",
          "aftaleloven",
          "aftaleloven",
          "aftaleloven",
          "aftaleloven",
          "aftaleloven",
          "aftaleloven",
          "aftaleloven",
          "aftaleloven",
          "aftaleloven",
          "aftaleloven",
          "aftaleloven",
          "aftaleloven",
          "aftaleloven",
          "aftaleloven",
          "aftaleloven",
          "aftaleloven",
          "aftaleloven",
          "aftaleloven",
          "aftaleloven",
          "aftaleloven",
          "aftaleloven",
          "aftaleloven",
          "aftaleloven",
          "aftaleloven",
          "aftaleloven",
          "aftaleloven",
          "aftaleloven",
          "aftaleloven",
          "aftaleloven",
          "aftaleloven",
          "aftaleloven",
          "aftaleloven",
          "aftaleloven",
          "aftaleloven",
          "aftaleloven",
          "aftaleloven",
          "aftaleloven",
          "aftaleloven",
          "aftaleloven",
          "aftaleloven",
          "aftaleloven",
          "aftaleloven",
          "aftaleloven",
          "aftaleloven",
          "aftaleloven",
          "aftaleloven",
          "aftaleloven",
          "aftaleloven",
          "aftaleloven",
          "aftaleloven",
          "aftaleloven",
          "aftaleloven",
          "aftaleloven",
          "aftaleloven",
          "aftaleloven",
          "aftaleloven",
          "aftaleloven",
          "aftaleloven",
          "aftaleloven"
         ],
         "legendgroup": "aftaleloven",
         "marker": {
          "color": "rgb(139, 224, 164)",
          "pattern": {
           "shape": ""
          }
         },
         "name": "aftaleloven",
         "offsetgroup": "aftaleloven",
         "orientation": "v",
         "showlegend": true,
         "textposition": "auto",
         "type": "bar",
         "x": [
          2021,
          2020,
          2019,
          2018,
          2017,
          2016,
          2015,
          2014,
          2013,
          2012,
          2011,
          2010,
          2009,
          2008,
          2007,
          2006,
          2005,
          2004,
          2003,
          2002,
          2001,
          2000,
          1999,
          1998,
          1997,
          1996,
          1995,
          1994,
          1993,
          1992,
          1991,
          1990,
          1989,
          1988,
          1987,
          1986,
          1985,
          1984,
          1983,
          1982,
          1981,
          1980,
          1979,
          1978,
          1977,
          1976,
          1975,
          1974,
          1973,
          1972,
          1971,
          1970,
          1969,
          1968,
          1967,
          1966,
          1965,
          1964,
          1963,
          1962,
          1961,
          1960,
          1959,
          1958,
          1957,
          1955,
          1954,
          1953,
          1952,
          1951,
          1950
         ],
         "xaxis": "x",
         "y": [
          0.01532033426183844,
          0.01278409090909091,
          0.008077544426494346,
          0.0033112582781456954,
          0.004807692307692308,
          0.012640449438202247,
          0.012924071082390954,
          0.022091310751104567,
          0.02535211267605634,
          0.01741654571843251,
          0.027700831024930747,
          0.042,
          0.03288490284005979,
          0.02119205298013245,
          0.023746701846965697,
          0.016645326504481434,
          0.009184845005740528,
          0.015247776365946633,
          0.014492753623188406,
          0.012048192771084338,
          0.008403361344537815,
          0.012430939226519336,
          0.009287925696594427,
          0.006734006734006734,
          0.0037593984962406013,
          0.005385996409335727,
          0.00558659217877095,
          0.02185792349726776,
          0.009523809523809525,
          0.006734006734006734,
          0.024464831804281346,
          0.010830324909747292,
          0.021505376344086023,
          0.010169491525423728,
          0.030201342281879196,
          0.010033444816053512,
          0.014204545454545454,
          0.010638297872340425,
          0.017676767676767676,
          0.015463917525773196,
          0.02168021680216802,
          0.010810810810810811,
          0.01160092807424594,
          0.012437810945273632,
          0.014634146341463415,
          0.004608294930875576,
          0.007407407407407408,
          0.011574074074074073,
          0.00273224043715847,
          0.018561484918793503,
          0.011594202898550725,
          0.00554016620498615,
          0.0076726342710997444,
          0.005865102639296188,
          0.010309278350515464,
          0.00975609756097561,
          0.005633802816901409,
          0.005319148936170213,
          0.015306122448979591,
          0.010416666666666666,
          0.004750593824228029,
          0.011441647597254004,
          0.011312217194570135,
          0.005405405405405406,
          0.013550135501355014,
          0.012618296529968454,
          0.007434944237918215,
          0.02097902097902098,
          0.01730103806228374,
          0.03296703296703297,
          0.008064516129032258
         ],
         "yaxis": "y"
        },
        {
         "alignmentgroup": "True",
         "customdata": [
          [
           7,
           "lejeloven"
          ],
          [
           14,
           "lejeloven"
          ],
          [
           5,
           "lejeloven"
          ],
          [
           6,
           "lejeloven"
          ],
          [
           6,
           "lejeloven"
          ],
          [
           10,
           "lejeloven"
          ],
          [
           4,
           "lejeloven"
          ],
          [
           16,
           "lejeloven"
          ],
          [
           22,
           "lejeloven"
          ],
          [
           6,
           "lejeloven"
          ],
          [
           9,
           "lejeloven"
          ],
          [
           6,
           "lejeloven"
          ],
          [
           7,
           "lejeloven"
          ],
          [
           4,
           "lejeloven"
          ],
          [
           10,
           "lejeloven"
          ],
          [
           9,
           "lejeloven"
          ],
          [
           18,
           "lejeloven"
          ],
          [
           15,
           "lejeloven"
          ],
          [
           24,
           "lejeloven"
          ],
          [
           16,
           "lejeloven"
          ],
          [
           13,
           "lejeloven"
          ],
          [
           13,
           "lejeloven"
          ],
          [
           8,
           "lejeloven"
          ],
          [
           8,
           "lejeloven"
          ],
          [
           16,
           "lejeloven"
          ],
          [
           11,
           "lejeloven"
          ],
          [
           6,
           "lejeloven"
          ],
          [
           15,
           "lejeloven"
          ],
          [
           14,
           "lejeloven"
          ],
          [
           10,
           "lejeloven"
          ],
          [
           7,
           "lejeloven"
          ],
          [
           13,
           "lejeloven"
          ],
          [
           6,
           "lejeloven"
          ],
          [
           8,
           "lejeloven"
          ],
          [
           9,
           "lejeloven"
          ],
          [
           6,
           "lejeloven"
          ],
          [
           9,
           "lejeloven"
          ],
          [
           5,
           "lejeloven"
          ],
          [
           11,
           "lejeloven"
          ],
          [
           5,
           "lejeloven"
          ],
          [
           1,
           "lejeloven"
          ],
          [
           5,
           "lejeloven"
          ],
          [
           4,
           "lejeloven"
          ],
          [
           13,
           "lejeloven"
          ],
          [
           7,
           "lejeloven"
          ],
          [
           1,
           "lejeloven"
          ],
          [
           6,
           "lejeloven"
          ],
          [
           4,
           "lejeloven"
          ],
          [
           6,
           "lejeloven"
          ],
          [
           8,
           "lejeloven"
          ],
          [
           9,
           "lejeloven"
          ],
          [
           9,
           "lejeloven"
          ],
          [
           8,
           "lejeloven"
          ],
          [
           12,
           "lejeloven"
          ],
          [
           15,
           "lejeloven"
          ],
          [
           12,
           "lejeloven"
          ],
          [
           24,
           "lejeloven"
          ],
          [
           35,
           "lejeloven"
          ],
          [
           27,
           "lejeloven"
          ],
          [
           21,
           "lejeloven"
          ],
          [
           34,
           "lejeloven"
          ],
          [
           32,
           "lejeloven"
          ],
          [
           29,
           "lejeloven"
          ],
          [
           31,
           "lejeloven"
          ],
          [
           33,
           "lejeloven"
          ],
          [
           45,
           "lejeloven"
          ],
          [
           34,
           "lejeloven"
          ],
          [
           44,
           "lejeloven"
          ],
          [
           51,
           "lejeloven"
          ],
          [
           38,
           "lejeloven"
          ],
          [
           22,
           "lejeloven"
          ],
          [
           28,
           "lejeloven"
          ]
         ],
         "hovertemplate": "<b>%{hovertext}</b><br><br>year=%{x}<br>share=%{y:.1%}<br>count=%{customdata[0]:.0f}<extra></extra>",
         "hovertext": [
          "lejeloven",
          "lejeloven",
          "lejeloven",
          "lejeloven",
          "lejeloven",
          "lejeloven",
          "lejeloven",
          "lejeloven",
          "lejeloven",
          "lejeloven",
          "lejeloven",
          "lejeloven",
          "lejeloven",
          "lejeloven",
          "lejeloven",
          "lejeloven",
          "lejeloven",
          "lejeloven",
          "lejeloven",
          "lejeloven",
          "lejeloven",
          "lejeloven",
          "lejeloven",
          "lejeloven",
          "lejeloven",
          "lejeloven",
          "lejeloven",
          "lejeloven",
          "lejeloven",
          "lejeloven",
          "lejeloven",
          "lejeloven",
          "lejeloven",
          "lejeloven",
          "lejeloven",
          "lejeloven",
          "lejeloven",
          "lejeloven",
          "lejeloven",
          "lejeloven",
          "lejeloven",
          "lejeloven",
          "lejeloven",
          "lejeloven",
          "lejeloven",
          "lejeloven",
          "lejeloven",
          "lejeloven",
          "lejeloven",
          "lejeloven",
          "lejeloven",
          "lejeloven",
          "lejeloven",
          "lejeloven",
          "lejeloven",
          "lejeloven",
          "lejeloven",
          "lejeloven",
          "lejeloven",
          "lejeloven",
          "lejeloven",
          "lejeloven",
          "lejeloven",
          "lejeloven",
          "lejeloven",
          "lejeloven",
          "lejeloven",
          "lejeloven",
          "lejeloven",
          "lejeloven",
          "lejeloven",
          "lejeloven"
         ],
         "legendgroup": "lejeloven",
         "marker": {
          "color": "rgb(180, 151, 231)",
          "pattern": {
           "shape": ""
          }
         },
         "name": "lejeloven",
         "offsetgroup": "lejeloven",
         "orientation": "v",
         "showlegend": true,
         "textposition": "auto",
         "type": "bar",
         "x": [
          2021,
          2020,
          2019,
          2018,
          2017,
          2016,
          2015,
          2014,
          2013,
          2012,
          2011,
          2010,
          2009,
          2008,
          2007,
          2006,
          2005,
          2004,
          2003,
          2002,
          2001,
          2000,
          1999,
          1998,
          1997,
          1996,
          1995,
          1994,
          1993,
          1992,
          1991,
          1990,
          1989,
          1988,
          1987,
          1986,
          1985,
          1984,
          1983,
          1982,
          1981,
          1980,
          1979,
          1978,
          1977,
          1976,
          1975,
          1974,
          1973,
          1972,
          1971,
          1970,
          1969,
          1968,
          1967,
          1966,
          1965,
          1964,
          1963,
          1962,
          1961,
          1960,
          1959,
          1958,
          1957,
          1956,
          1955,
          1954,
          1953,
          1952,
          1951,
          1950
         ],
         "xaxis": "x",
         "y": [
          0.009749303621169917,
          0.019886363636363636,
          0.008077544426494346,
          0.009933774834437087,
          0.009615384615384616,
          0.014044943820224719,
          0.006462035541195477,
          0.023564064801178203,
          0.030985915492957747,
          0.008708272859216255,
          0.012465373961218837,
          0.012,
          0.01046337817638266,
          0.005298013245033113,
          0.013192612137203167,
          0.011523687580025609,
          0.02066590126291619,
          0.01905972045743329,
          0.028985507246376812,
          0.024096385542168676,
          0.018207282913165267,
          0.017955801104972375,
          0.01238390092879257,
          0.013468013468013467,
          0.03007518796992481,
          0.019748653500897665,
          0.01675977653631285,
          0.040983606557377046,
          0.044444444444444446,
          0.03367003367003367,
          0.021406727828746176,
          0.04693140794223827,
          0.021505376344086023,
          0.02711864406779661,
          0.030201342281879196,
          0.020066889632107024,
          0.02556818181818182,
          0.013297872340425532,
          0.027777777777777776,
          0.01288659793814433,
          0.0027100271002710027,
          0.013513513513513514,
          0.009280742459396751,
          0.03233830845771144,
          0.01707317073170732,
          0.002304147465437788,
          0.014814814814814815,
          0.009259259259259259,
          0.01639344262295082,
          0.018561484918793503,
          0.02608695652173913,
          0.024930747922437674,
          0.020460358056265986,
          0.03519061583577713,
          0.03865979381443299,
          0.02926829268292683,
          0.0676056338028169,
          0.09308510638297872,
          0.06887755102040816,
          0.0546875,
          0.08076009501187649,
          0.07322654462242563,
          0.06561085972850679,
          0.08378378378378379,
          0.08943089430894309,
          0.13196480938416422,
          0.10725552050473186,
          0.16356877323420074,
          0.17832167832167833,
          0.1314878892733564,
          0.08058608058608059,
          0.11290322580645161
         ],
         "yaxis": "y"
        },
        {
         "alignmentgroup": "True",
         "customdata": [
          [
           7,
           "funktionærloven"
          ],
          [
           7,
           "funktionærloven"
          ],
          [
           10,
           "funktionærloven"
          ],
          [
           9,
           "funktionærloven"
          ],
          [
           6,
           "funktionærloven"
          ],
          [
           10,
           "funktionærloven"
          ],
          [
           10,
           "funktionærloven"
          ],
          [
           11,
           "funktionærloven"
          ],
          [
           11,
           "funktionærloven"
          ],
          [
           10,
           "funktionærloven"
          ],
          [
           10,
           "funktionærloven"
          ],
          [
           7,
           "funktionærloven"
          ],
          [
           8,
           "funktionærloven"
          ],
          [
           12,
           "funktionærloven"
          ],
          [
           11,
           "funktionærloven"
          ],
          [
           8,
           "funktionærloven"
          ],
          [
           8,
           "funktionærloven"
          ],
          [
           8,
           "funktionærloven"
          ],
          [
           10,
           "funktionærloven"
          ],
          [
           6,
           "funktionærloven"
          ],
          [
           11,
           "funktionærloven"
          ],
          [
           14,
           "funktionærloven"
          ],
          [
           7,
           "funktionærloven"
          ],
          [
           6,
           "funktionærloven"
          ],
          [
           16,
           "funktionærloven"
          ],
          [
           7,
           "funktionærloven"
          ],
          [
           6,
           "funktionærloven"
          ],
          [
           16,
           "funktionærloven"
          ],
          [
           8,
           "funktionærloven"
          ],
          [
           5,
           "funktionærloven"
          ],
          [
           11,
           "funktionærloven"
          ],
          [
           2,
           "funktionærloven"
          ],
          [
           11,
           "funktionærloven"
          ],
          [
           13,
           "funktionærloven"
          ],
          [
           8,
           "funktionærloven"
          ],
          [
           11,
           "funktionærloven"
          ],
          [
           8,
           "funktionærloven"
          ],
          [
           10,
           "funktionærloven"
          ],
          [
           16,
           "funktionærloven"
          ],
          [
           11,
           "funktionærloven"
          ],
          [
           12,
           "funktionærloven"
          ],
          [
           7,
           "funktionærloven"
          ],
          [
           9,
           "funktionærloven"
          ],
          [
           9,
           "funktionærloven"
          ],
          [
           11,
           "funktionærloven"
          ],
          [
           11,
           "funktionærloven"
          ],
          [
           14,
           "funktionærloven"
          ],
          [
           12,
           "funktionærloven"
          ],
          [
           29,
           "funktionærloven"
          ],
          [
           17,
           "funktionærloven"
          ],
          [
           10,
           "funktionærloven"
          ],
          [
           13,
           "funktionærloven"
          ],
          [
           13,
           "funktionærloven"
          ],
          [
           10,
           "funktionærloven"
          ],
          [
           10,
           "funktionærloven"
          ],
          [
           5,
           "funktionærloven"
          ],
          [
           2,
           "funktionærloven"
          ],
          [
           9,
           "funktionærloven"
          ],
          [
           4,
           "funktionærloven"
          ],
          [
           3,
           "funktionærloven"
          ],
          [
           8,
           "funktionærloven"
          ],
          [
           7,
           "funktionærloven"
          ],
          [
           7,
           "funktionærloven"
          ],
          [
           5,
           "funktionærloven"
          ],
          [
           7,
           "funktionærloven"
          ],
          [
           7,
           "funktionærloven"
          ],
          [
           11,
           "funktionærloven"
          ],
          [
           10,
           "funktionærloven"
          ],
          [
           10,
           "funktionærloven"
          ],
          [
           9,
           "funktionærloven"
          ],
          [
           15,
           "funktionærloven"
          ],
          [
           5,
           "funktionærloven"
          ]
         ],
         "hovertemplate": "<b>%{hovertext}</b><br><br>year=%{x}<br>share=%{y:.1%}<br>count=%{customdata[0]:.0f}<extra></extra>",
         "hovertext": [
          "funktionærloven",
          "funktionærloven",
          "funktionærloven",
          "funktionærloven",
          "funktionærloven",
          "funktionærloven",
          "funktionærloven",
          "funktionærloven",
          "funktionærloven",
          "funktionærloven",
          "funktionærloven",
          "funktionærloven",
          "funktionærloven",
          "funktionærloven",
          "funktionærloven",
          "funktionærloven",
          "funktionærloven",
          "funktionærloven",
          "funktionærloven",
          "funktionærloven",
          "funktionærloven",
          "funktionærloven",
          "funktionærloven",
          "funktionærloven",
          "funktionærloven",
          "funktionærloven",
          "funktionærloven",
          "funktionærloven",
          "funktionærloven",
          "funktionærloven",
          "funktionærloven",
          "funktionærloven",
          "funktionærloven",
          "funktionærloven",
          "funktionærloven",
          "funktionærloven",
          "funktionærloven",
          "funktionærloven",
          "funktionærloven",
          "funktionærloven",
          "funktionærloven",
          "funktionærloven",
          "funktionærloven",
          "funktionærloven",
          "funktionærloven",
          "funktionærloven",
          "funktionærloven",
          "funktionærloven",
          "funktionærloven",
          "funktionærloven",
          "funktionærloven",
          "funktionærloven",
          "funktionærloven",
          "funktionærloven",
          "funktionærloven",
          "funktionærloven",
          "funktionærloven",
          "funktionærloven",
          "funktionærloven",
          "funktionærloven",
          "funktionærloven",
          "funktionærloven",
          "funktionærloven",
          "funktionærloven",
          "funktionærloven",
          "funktionærloven",
          "funktionærloven",
          "funktionærloven",
          "funktionærloven",
          "funktionærloven",
          "funktionærloven",
          "funktionærloven"
         ],
         "legendgroup": "funktionærloven",
         "marker": {
          "color": "rgb(179, 179, 179)",
          "pattern": {
           "shape": ""
          }
         },
         "name": "funktionærloven",
         "offsetgroup": "funktionærloven",
         "orientation": "v",
         "showlegend": true,
         "textposition": "auto",
         "type": "bar",
         "x": [
          2021,
          2020,
          2019,
          2018,
          2017,
          2016,
          2015,
          2014,
          2013,
          2012,
          2011,
          2010,
          2009,
          2008,
          2007,
          2006,
          2005,
          2004,
          2003,
          2002,
          2001,
          2000,
          1999,
          1998,
          1997,
          1996,
          1995,
          1994,
          1993,
          1992,
          1991,
          1990,
          1989,
          1988,
          1987,
          1986,
          1985,
          1984,
          1983,
          1982,
          1981,
          1980,
          1979,
          1978,
          1977,
          1976,
          1975,
          1974,
          1973,
          1972,
          1971,
          1970,
          1969,
          1968,
          1967,
          1966,
          1965,
          1964,
          1963,
          1962,
          1961,
          1960,
          1959,
          1958,
          1957,
          1956,
          1955,
          1954,
          1953,
          1952,
          1951,
          1950
         ],
         "xaxis": "x",
         "y": [
          0.009749303621169917,
          0.009943181818181818,
          0.01615508885298869,
          0.014900662251655629,
          0.009615384615384616,
          0.014044943820224719,
          0.01615508885298869,
          0.016200294550810016,
          0.015492957746478873,
          0.01451378809869376,
          0.013850415512465374,
          0.014,
          0.01195814648729447,
          0.015894039735099338,
          0.014511873350923483,
          0.010243277848911651,
          0.009184845005740528,
          0.010165184243964422,
          0.012077294685990338,
          0.009036144578313253,
          0.015406162464985995,
          0.019337016574585635,
          0.010835913312693499,
          0.010101010101010102,
          0.03007518796992481,
          0.012567324955116697,
          0.01675977653631285,
          0.04371584699453552,
          0.025396825396825397,
          0.016835016835016835,
          0.03363914373088685,
          0.007220216606498195,
          0.03942652329749104,
          0.04406779661016949,
          0.026845637583892617,
          0.03678929765886288,
          0.022727272727272728,
          0.026595744680851064,
          0.04040404040404041,
          0.028350515463917526,
          0.032520325203252036,
          0.01891891891891892,
          0.02088167053364269,
          0.022388059701492536,
          0.026829268292682926,
          0.02534562211981567,
          0.0345679012345679,
          0.027777777777777776,
          0.07923497267759563,
          0.03944315545243619,
          0.028985507246376812,
          0.036011080332409975,
          0.03324808184143223,
          0.02932551319648094,
          0.02577319587628866,
          0.012195121951219513,
          0.005633802816901409,
          0.023936170212765957,
          0.01020408163265306,
          0.0078125,
          0.019002375296912115,
          0.016018306636155607,
          0.01583710407239819,
          0.013513513513513514,
          0.018970189701897018,
          0.020527859237536656,
          0.03470031545741325,
          0.03717472118959108,
          0.03496503496503497,
          0.031141868512110725,
          0.054945054945054944,
          0.020161290322580645
         ],
         "yaxis": "y"
        },
        {
         "alignmentgroup": "True",
         "customdata": [
          [
           6,
           "grundloven"
          ],
          [
           4,
           "grundloven"
          ],
          [
           1,
           "grundloven"
          ],
          [
           4,
           "grundloven"
          ],
          [
           4,
           "grundloven"
          ],
          [
           2,
           "grundloven"
          ],
          [
           4,
           "grundloven"
          ],
          [
           3,
           "grundloven"
          ],
          [
           3,
           "grundloven"
          ],
          [
           7,
           "grundloven"
          ],
          [
           5,
           "grundloven"
          ],
          [
           4,
           "grundloven"
          ],
          [
           9,
           "grundloven"
          ],
          [
           6,
           "grundloven"
          ],
          [
           5,
           "grundloven"
          ],
          [
           6,
           "grundloven"
          ],
          [
           5,
           "grundloven"
          ],
          [
           3,
           "grundloven"
          ],
          [
           5,
           "grundloven"
          ],
          [
           8,
           "grundloven"
          ],
          [
           6,
           "grundloven"
          ],
          [
           7,
           "grundloven"
          ],
          [
           5,
           "grundloven"
          ],
          [
           5,
           "grundloven"
          ],
          [
           5,
           "grundloven"
          ],
          [
           3,
           "grundloven"
          ],
          [
           4,
           "grundloven"
          ],
          [
           7,
           "grundloven"
          ],
          [
           1,
           "grundloven"
          ],
          [
           1,
           "grundloven"
          ],
          [
           1,
           "grundloven"
          ],
          [
           3,
           "grundloven"
          ],
          [
           1,
           "grundloven"
          ],
          [
           1,
           "grundloven"
          ],
          [
           1,
           "grundloven"
          ],
          [
           1,
           "grundloven"
          ],
          [
           2,
           "grundloven"
          ],
          [
           7,
           "grundloven"
          ],
          [
           4,
           "grundloven"
          ],
          [
           6,
           "grundloven"
          ],
          [
           5,
           "grundloven"
          ],
          [
           5,
           "grundloven"
          ],
          [
           6,
           "grundloven"
          ],
          [
           6,
           "grundloven"
          ],
          [
           5,
           "grundloven"
          ],
          [
           5,
           "grundloven"
          ],
          [
           2,
           "grundloven"
          ],
          [
           9,
           "grundloven"
          ],
          [
           5,
           "grundloven"
          ],
          [
           5,
           "grundloven"
          ],
          [
           3,
           "grundloven"
          ],
          [
           7,
           "grundloven"
          ],
          [
           4,
           "grundloven"
          ],
          [
           10,
           "grundloven"
          ],
          [
           11,
           "grundloven"
          ],
          [
           9,
           "grundloven"
          ],
          [
           10,
           "grundloven"
          ],
          [
           5,
           "grundloven"
          ],
          [
           4,
           "grundloven"
          ],
          [
           6,
           "grundloven"
          ],
          [
           8,
           "grundloven"
          ],
          [
           2,
           "grundloven"
          ],
          [
           2,
           "grundloven"
          ]
         ],
         "hovertemplate": "<b>%{hovertext}</b><br><br>year=%{x}<br>share=%{y:.1%}<br>count=%{customdata[0]:.0f}<extra></extra>",
         "hovertext": [
          "grundloven",
          "grundloven",
          "grundloven",
          "grundloven",
          "grundloven",
          "grundloven",
          "grundloven",
          "grundloven",
          "grundloven",
          "grundloven",
          "grundloven",
          "grundloven",
          "grundloven",
          "grundloven",
          "grundloven",
          "grundloven",
          "grundloven",
          "grundloven",
          "grundloven",
          "grundloven",
          "grundloven",
          "grundloven",
          "grundloven",
          "grundloven",
          "grundloven",
          "grundloven",
          "grundloven",
          "grundloven",
          "grundloven",
          "grundloven",
          "grundloven",
          "grundloven",
          "grundloven",
          "grundloven",
          "grundloven",
          "grundloven",
          "grundloven",
          "grundloven",
          "grundloven",
          "grundloven",
          "grundloven",
          "grundloven",
          "grundloven",
          "grundloven",
          "grundloven",
          "grundloven",
          "grundloven",
          "grundloven",
          "grundloven",
          "grundloven",
          "grundloven",
          "grundloven",
          "grundloven",
          "grundloven",
          "grundloven",
          "grundloven",
          "grundloven",
          "grundloven",
          "grundloven",
          "grundloven",
          "grundloven",
          "grundloven",
          "grundloven"
         ],
         "legendgroup": "grundloven",
         "marker": {
          "color": "rgb(102, 197, 204)",
          "pattern": {
           "shape": ""
          }
         },
         "name": "grundloven",
         "offsetgroup": "grundloven",
         "orientation": "v",
         "showlegend": true,
         "textposition": "auto",
         "type": "bar",
         "x": [
          2021,
          2020,
          2019,
          2018,
          2017,
          2016,
          2014,
          2013,
          2012,
          2011,
          2010,
          2009,
          2008,
          2007,
          2006,
          2005,
          2004,
          2003,
          2002,
          2001,
          2000,
          1999,
          1998,
          1997,
          1996,
          1995,
          1994,
          1993,
          1992,
          1991,
          1989,
          1988,
          1987,
          1986,
          1982,
          1981,
          1980,
          1979,
          1978,
          1977,
          1976,
          1975,
          1974,
          1973,
          1972,
          1971,
          1970,
          1969,
          1968,
          1967,
          1966,
          1965,
          1964,
          1963,
          1962,
          1961,
          1960,
          1959,
          1958,
          1957,
          1956,
          1955,
          1954
         ],
         "xaxis": "x",
         "y": [
          0.008356545961002786,
          0.005681818181818182,
          0.0016155088852988692,
          0.006622516556291391,
          0.00641025641025641,
          0.0028089887640449437,
          0.005891016200294551,
          0.004225352112676056,
          0.0043541364296081275,
          0.009695290858725761,
          0.01,
          0.005979073243647235,
          0.011920529801324504,
          0.0079155672823219,
          0.006402048655569782,
          0.006888633754305396,
          0.0063532401524777635,
          0.0036231884057971015,
          0.007530120481927711,
          0.011204481792717087,
          0.008287292817679558,
          0.010835913312693499,
          0.008417508417508417,
          0.009398496240601503,
          0.008976660682226212,
          0.008379888268156424,
          0.01092896174863388,
          0.022222222222222223,
          0.003367003367003367,
          0.0030581039755351682,
          0.0035842293906810036,
          0.010169491525423728,
          0.003355704697986577,
          0.0033444816053511705,
          0.002577319587628866,
          0.0027100271002710027,
          0.005405405405405406,
          0.016241299303944315,
          0.009950248756218905,
          0.014634146341463415,
          0.01152073732718894,
          0.012345679012345678,
          0.013888888888888888,
          0.01639344262295082,
          0.01160092807424594,
          0.014492753623188406,
          0.00554016620498615,
          0.023017902813299233,
          0.01466275659824047,
          0.01288659793814433,
          0.007317073170731708,
          0.01971830985915493,
          0.010638297872340425,
          0.025510204081632654,
          0.028645833333333332,
          0.021377672209026127,
          0.02288329519450801,
          0.011312217194570135,
          0.010810810810810811,
          0.016260162601626018,
          0.02346041055718475,
          0.006309148264984227,
          0.007434944237918215
         ],
         "yaxis": "y"
        },
        {
         "alignmentgroup": "True",
         "customdata": [
          [
           6,
           "tinglysningsloven"
          ],
          [
           6,
           "tinglysningsloven"
          ],
          [
           6,
           "tinglysningsloven"
          ],
          [
           1,
           "tinglysningsloven"
          ],
          [
           7,
           "tinglysningsloven"
          ],
          [
           8,
           "tinglysningsloven"
          ],
          [
           3,
           "tinglysningsloven"
          ],
          [
           7,
           "tinglysningsloven"
          ],
          [
           10,
           "tinglysningsloven"
          ],
          [
           10,
           "tinglysningsloven"
          ],
          [
           3,
           "tinglysningsloven"
          ],
          [
           8,
           "tinglysningsloven"
          ],
          [
           7,
           "tinglysningsloven"
          ],
          [
           9,
           "tinglysningsloven"
          ],
          [
           12,
           "tinglysningsloven"
          ],
          [
           14,
           "tinglysningsloven"
          ],
          [
           10,
           "tinglysningsloven"
          ],
          [
           15,
           "tinglysningsloven"
          ],
          [
           17,
           "tinglysningsloven"
          ],
          [
           7,
           "tinglysningsloven"
          ],
          [
           17,
           "tinglysningsloven"
          ],
          [
           18,
           "tinglysningsloven"
          ],
          [
           8,
           "tinglysningsloven"
          ],
          [
           10,
           "tinglysningsloven"
          ],
          [
           9,
           "tinglysningsloven"
          ],
          [
           10,
           "tinglysningsloven"
          ],
          [
           11,
           "tinglysningsloven"
          ],
          [
           6,
           "tinglysningsloven"
          ],
          [
           5,
           "tinglysningsloven"
          ],
          [
           9,
           "tinglysningsloven"
          ],
          [
           14,
           "tinglysningsloven"
          ],
          [
           4,
           "tinglysningsloven"
          ],
          [
           6,
           "tinglysningsloven"
          ],
          [
           6,
           "tinglysningsloven"
          ],
          [
           13,
           "tinglysningsloven"
          ],
          [
           13,
           "tinglysningsloven"
          ],
          [
           16,
           "tinglysningsloven"
          ],
          [
           17,
           "tinglysningsloven"
          ],
          [
           20,
           "tinglysningsloven"
          ],
          [
           13,
           "tinglysningsloven"
          ],
          [
           20,
           "tinglysningsloven"
          ],
          [
           14,
           "tinglysningsloven"
          ],
          [
           15,
           "tinglysningsloven"
          ],
          [
           27,
           "tinglysningsloven"
          ],
          [
           11,
           "tinglysningsloven"
          ],
          [
           12,
           "tinglysningsloven"
          ],
          [
           16,
           "tinglysningsloven"
          ],
          [
           14,
           "tinglysningsloven"
          ],
          [
           23,
           "tinglysningsloven"
          ],
          [
           13,
           "tinglysningsloven"
          ],
          [
           9,
           "tinglysningsloven"
          ],
          [
           13,
           "tinglysningsloven"
          ],
          [
           4,
           "tinglysningsloven"
          ],
          [
           5,
           "tinglysningsloven"
          ],
          [
           12,
           "tinglysningsloven"
          ],
          [
           15,
           "tinglysningsloven"
          ],
          [
           13,
           "tinglysningsloven"
          ],
          [
           12,
           "tinglysningsloven"
          ],
          [
           10,
           "tinglysningsloven"
          ],
          [
           12,
           "tinglysningsloven"
          ],
          [
           11,
           "tinglysningsloven"
          ],
          [
           12,
           "tinglysningsloven"
          ],
          [
           8,
           "tinglysningsloven"
          ],
          [
           8,
           "tinglysningsloven"
          ],
          [
           10,
           "tinglysningsloven"
          ],
          [
           14,
           "tinglysningsloven"
          ],
          [
           14,
           "tinglysningsloven"
          ],
          [
           11,
           "tinglysningsloven"
          ],
          [
           10,
           "tinglysningsloven"
          ],
          [
           11,
           "tinglysningsloven"
          ],
          [
           13,
           "tinglysningsloven"
          ],
          [
           6,
           "tinglysningsloven"
          ]
         ],
         "hovertemplate": "<b>%{hovertext}</b><br><br>year=%{x}<br>share=%{y:.1%}<br>count=%{customdata[0]:.0f}<extra></extra>",
         "hovertext": [
          "tinglysningsloven",
          "tinglysningsloven",
          "tinglysningsloven",
          "tinglysningsloven",
          "tinglysningsloven",
          "tinglysningsloven",
          "tinglysningsloven",
          "tinglysningsloven",
          "tinglysningsloven",
          "tinglysningsloven",
          "tinglysningsloven",
          "tinglysningsloven",
          "tinglysningsloven",
          "tinglysningsloven",
          "tinglysningsloven",
          "tinglysningsloven",
          "tinglysningsloven",
          "tinglysningsloven",
          "tinglysningsloven",
          "tinglysningsloven",
          "tinglysningsloven",
          "tinglysningsloven",
          "tinglysningsloven",
          "tinglysningsloven",
          "tinglysningsloven",
          "tinglysningsloven",
          "tinglysningsloven",
          "tinglysningsloven",
          "tinglysningsloven",
          "tinglysningsloven",
          "tinglysningsloven",
          "tinglysningsloven",
          "tinglysningsloven",
          "tinglysningsloven",
          "tinglysningsloven",
          "tinglysningsloven",
          "tinglysningsloven",
          "tinglysningsloven",
          "tinglysningsloven",
          "tinglysningsloven",
          "tinglysningsloven",
          "tinglysningsloven",
          "tinglysningsloven",
          "tinglysningsloven",
          "tinglysningsloven",
          "tinglysningsloven",
          "tinglysningsloven",
          "tinglysningsloven",
          "tinglysningsloven",
          "tinglysningsloven",
          "tinglysningsloven",
          "tinglysningsloven",
          "tinglysningsloven",
          "tinglysningsloven",
          "tinglysningsloven",
          "tinglysningsloven",
          "tinglysningsloven",
          "tinglysningsloven",
          "tinglysningsloven",
          "tinglysningsloven",
          "tinglysningsloven",
          "tinglysningsloven",
          "tinglysningsloven",
          "tinglysningsloven",
          "tinglysningsloven",
          "tinglysningsloven",
          "tinglysningsloven",
          "tinglysningsloven",
          "tinglysningsloven",
          "tinglysningsloven",
          "tinglysningsloven",
          "tinglysningsloven"
         ],
         "legendgroup": "tinglysningsloven",
         "marker": {
          "color": "rgb(246, 207, 113)",
          "pattern": {
           "shape": ""
          }
         },
         "name": "tinglysningsloven",
         "offsetgroup": "tinglysningsloven",
         "orientation": "v",
         "showlegend": true,
         "textposition": "auto",
         "type": "bar",
         "x": [
          2021,
          2020,
          2019,
          2018,
          2017,
          2016,
          2015,
          2014,
          2013,
          2012,
          2011,
          2010,
          2009,
          2008,
          2007,
          2006,
          2005,
          2004,
          2003,
          2002,
          2001,
          2000,
          1999,
          1998,
          1997,
          1996,
          1995,
          1994,
          1993,
          1992,
          1991,
          1990,
          1989,
          1988,
          1987,
          1986,
          1985,
          1984,
          1983,
          1982,
          1981,
          1980,
          1979,
          1978,
          1977,
          1976,
          1975,
          1974,
          1973,
          1972,
          1971,
          1970,
          1969,
          1968,
          1967,
          1966,
          1965,
          1964,
          1963,
          1962,
          1961,
          1960,
          1959,
          1958,
          1957,
          1956,
          1955,
          1954,
          1953,
          1952,
          1951,
          1950
         ],
         "xaxis": "x",
         "y": [
          0.008356545961002786,
          0.008522727272727272,
          0.009693053311793215,
          0.0016556291390728477,
          0.011217948717948718,
          0.011235955056179775,
          0.004846526655896607,
          0.010309278350515464,
          0.014084507042253521,
          0.01451378809869376,
          0.004155124653739612,
          0.016,
          0.01046337817638266,
          0.011920529801324504,
          0.0158311345646438,
          0.01792573623559539,
          0.011481056257175661,
          0.01905972045743329,
          0.020531400966183576,
          0.010542168674698794,
          0.023809523809523808,
          0.024861878453038673,
          0.01238390092879257,
          0.016835016835016835,
          0.016917293233082706,
          0.017953321364452424,
          0.030726256983240222,
          0.01639344262295082,
          0.015873015873015872,
          0.030303030303030304,
          0.04281345565749235,
          0.01444043321299639,
          0.021505376344086023,
          0.020338983050847456,
          0.0436241610738255,
          0.043478260869565216,
          0.045454545454545456,
          0.04521276595744681,
          0.050505050505050504,
          0.03350515463917526,
          0.05420054200542006,
          0.03783783783783784,
          0.03480278422273782,
          0.06716417910447761,
          0.026829268292682926,
          0.027649769585253458,
          0.03950617283950617,
          0.032407407407407406,
          0.06284153005464481,
          0.030162412993039442,
          0.02608695652173913,
          0.036011080332409975,
          0.010230179028132993,
          0.01466275659824047,
          0.030927835051546393,
          0.036585365853658534,
          0.036619718309859155,
          0.031914893617021274,
          0.025510204081632654,
          0.03125,
          0.026128266033254157,
          0.02745995423340961,
          0.01809954751131222,
          0.021621621621621623,
          0.02710027100271003,
          0.04105571847507331,
          0.04416403785488959,
          0.040892193308550186,
          0.03496503496503497,
          0.03806228373702422,
          0.047619047619047616,
          0.024193548387096774
         ],
         "yaxis": "y"
        },
        {
         "alignmentgroup": "True",
         "customdata": [
          [
           5,
           "ligningsloven"
          ],
          [
           4,
           "ligningsloven"
          ],
          [
           5,
           "ligningsloven"
          ],
          [
           1,
           "ligningsloven"
          ],
          [
           1,
           "ligningsloven"
          ],
          [
           4,
           "ligningsloven"
          ],
          [
           2,
           "ligningsloven"
          ],
          [
           5,
           "ligningsloven"
          ],
          [
           5,
           "ligningsloven"
          ],
          [
           3,
           "ligningsloven"
          ],
          [
           10,
           "ligningsloven"
          ],
          [
           1,
           "ligningsloven"
          ],
          [
           11,
           "ligningsloven"
          ],
          [
           15,
           "ligningsloven"
          ],
          [
           12,
           "ligningsloven"
          ],
          [
           9,
           "ligningsloven"
          ],
          [
           11,
           "ligningsloven"
          ],
          [
           9,
           "ligningsloven"
          ],
          [
           9,
           "ligningsloven"
          ],
          [
           7,
           "ligningsloven"
          ],
          [
           4,
           "ligningsloven"
          ],
          [
           12,
           "ligningsloven"
          ],
          [
           6,
           "ligningsloven"
          ],
          [
           6,
           "ligningsloven"
          ],
          [
           7,
           "ligningsloven"
          ],
          [
           6,
           "ligningsloven"
          ],
          [
           5,
           "ligningsloven"
          ],
          [
           3,
           "ligningsloven"
          ],
          [
           1,
           "ligningsloven"
          ],
          [
           4,
           "ligningsloven"
          ],
          [
           4,
           "ligningsloven"
          ],
          [
           4,
           "ligningsloven"
          ],
          [
           3,
           "ligningsloven"
          ],
          [
           3,
           "ligningsloven"
          ],
          [
           6,
           "ligningsloven"
          ],
          [
           6,
           "ligningsloven"
          ],
          [
           4,
           "ligningsloven"
          ],
          [
           6,
           "ligningsloven"
          ],
          [
           1,
           "ligningsloven"
          ],
          [
           10,
           "ligningsloven"
          ],
          [
           7,
           "ligningsloven"
          ],
          [
           9,
           "ligningsloven"
          ],
          [
           3,
           "ligningsloven"
          ],
          [
           2,
           "ligningsloven"
          ],
          [
           3,
           "ligningsloven"
          ],
          [
           2,
           "ligningsloven"
          ],
          [
           3,
           "ligningsloven"
          ],
          [
           6,
           "ligningsloven"
          ],
          [
           4,
           "ligningsloven"
          ],
          [
           3,
           "ligningsloven"
          ],
          [
           1,
           "ligningsloven"
          ],
          [
           3,
           "ligningsloven"
          ],
          [
           3,
           "ligningsloven"
          ],
          [
           4,
           "ligningsloven"
          ],
          [
           1,
           "ligningsloven"
          ],
          [
           2,
           "ligningsloven"
          ],
          [
           4,
           "ligningsloven"
          ],
          [
           2,
           "ligningsloven"
          ],
          [
           1,
           "ligningsloven"
          ],
          [
           1,
           "ligningsloven"
          ],
          [
           1,
           "ligningsloven"
          ],
          [
           2,
           "ligningsloven"
          ],
          [
           2,
           "ligningsloven"
          ],
          [
           1,
           "ligningsloven"
          ]
         ],
         "hovertemplate": "<b>%{hovertext}</b><br><br>year=%{x}<br>share=%{y:.1%}<br>count=%{customdata[0]:.0f}<extra></extra>",
         "hovertext": [
          "ligningsloven",
          "ligningsloven",
          "ligningsloven",
          "ligningsloven",
          "ligningsloven",
          "ligningsloven",
          "ligningsloven",
          "ligningsloven",
          "ligningsloven",
          "ligningsloven",
          "ligningsloven",
          "ligningsloven",
          "ligningsloven",
          "ligningsloven",
          "ligningsloven",
          "ligningsloven",
          "ligningsloven",
          "ligningsloven",
          "ligningsloven",
          "ligningsloven",
          "ligningsloven",
          "ligningsloven",
          "ligningsloven",
          "ligningsloven",
          "ligningsloven",
          "ligningsloven",
          "ligningsloven",
          "ligningsloven",
          "ligningsloven",
          "ligningsloven",
          "ligningsloven",
          "ligningsloven",
          "ligningsloven",
          "ligningsloven",
          "ligningsloven",
          "ligningsloven",
          "ligningsloven",
          "ligningsloven",
          "ligningsloven",
          "ligningsloven",
          "ligningsloven",
          "ligningsloven",
          "ligningsloven",
          "ligningsloven",
          "ligningsloven",
          "ligningsloven",
          "ligningsloven",
          "ligningsloven",
          "ligningsloven",
          "ligningsloven",
          "ligningsloven",
          "ligningsloven",
          "ligningsloven",
          "ligningsloven",
          "ligningsloven",
          "ligningsloven",
          "ligningsloven",
          "ligningsloven",
          "ligningsloven",
          "ligningsloven",
          "ligningsloven",
          "ligningsloven",
          "ligningsloven",
          "ligningsloven"
         ],
         "legendgroup": "ligningsloven",
         "marker": {
          "color": "rgb(248, 156, 116)",
          "pattern": {
           "shape": ""
          }
         },
         "name": "ligningsloven",
         "offsetgroup": "ligningsloven",
         "orientation": "v",
         "showlegend": true,
         "textposition": "auto",
         "type": "bar",
         "x": [
          2021,
          2020,
          2019,
          2018,
          2017,
          2016,
          2015,
          2014,
          2013,
          2012,
          2011,
          2010,
          2009,
          2008,
          2007,
          2006,
          2005,
          2004,
          2003,
          2002,
          2001,
          2000,
          1999,
          1998,
          1997,
          1996,
          1995,
          1994,
          1993,
          1992,
          1991,
          1990,
          1989,
          1988,
          1987,
          1986,
          1985,
          1984,
          1983,
          1982,
          1981,
          1980,
          1979,
          1978,
          1976,
          1975,
          1973,
          1972,
          1971,
          1970,
          1969,
          1967,
          1966,
          1965,
          1963,
          1962,
          1961,
          1960,
          1959,
          1958,
          1957,
          1956,
          1955,
          1953
         ],
         "xaxis": "x",
         "y": [
          0.006963788300835654,
          0.005681818181818182,
          0.008077544426494346,
          0.0016556291390728477,
          0.0016025641025641025,
          0.0056179775280898875,
          0.0032310177705977385,
          0.007363770250368188,
          0.007042253521126761,
          0.0043541364296081275,
          0.013850415512465374,
          0.002,
          0.016442451420029897,
          0.019867549668874173,
          0.0158311345646438,
          0.011523687580025609,
          0.012629161882893225,
          0.011435832274459974,
          0.010869565217391304,
          0.010542168674698794,
          0.0056022408963585435,
          0.016574585635359115,
          0.009287925696594427,
          0.010101010101010102,
          0.013157894736842105,
          0.010771992818671455,
          0.013966480446927373,
          0.00819672131147541,
          0.0031746031746031746,
          0.013468013468013467,
          0.012232415902140673,
          0.01444043321299639,
          0.010752688172043012,
          0.010169491525423728,
          0.020134228187919462,
          0.020066889632107024,
          0.011363636363636364,
          0.015957446808510637,
          0.0025252525252525255,
          0.02577319587628866,
          0.018970189701897018,
          0.024324324324324326,
          0.0069605568445475635,
          0.004975124378109453,
          0.0069124423963133645,
          0.0049382716049382715,
          0.00819672131147541,
          0.013921113689095127,
          0.011594202898550725,
          0.008310249307479225,
          0.0025575447570332483,
          0.007731958762886598,
          0.007317073170731708,
          0.011267605633802818,
          0.002551020408163265,
          0.005208333333333333,
          0.009501187648456057,
          0.004576659038901602,
          0.0022624434389140274,
          0.002702702702702703,
          0.0027100271002710027,
          0.005865102639296188,
          0.006309148264984227,
          0.0034965034965034965
         ],
         "yaxis": "y"
        },
        {
         "alignmentgroup": "True",
         "customdata": [
          [
           2,
           "forsikringsaftaleloven"
          ],
          [
           6,
           "forsikringsaftaleloven"
          ],
          [
           5,
           "forsikringsaftaleloven"
          ],
          [
           5,
           "forsikringsaftaleloven"
          ],
          [
           3,
           "forsikringsaftaleloven"
          ],
          [
           6,
           "forsikringsaftaleloven"
          ],
          [
           6,
           "forsikringsaftaleloven"
          ],
          [
           4,
           "forsikringsaftaleloven"
          ],
          [
           8,
           "forsikringsaftaleloven"
          ],
          [
           5,
           "forsikringsaftaleloven"
          ],
          [
           6,
           "forsikringsaftaleloven"
          ],
          [
           4,
           "forsikringsaftaleloven"
          ],
          [
           1,
           "forsikringsaftaleloven"
          ],
          [
           3,
           "forsikringsaftaleloven"
          ],
          [
           5,
           "forsikringsaftaleloven"
          ],
          [
           12,
           "forsikringsaftaleloven"
          ],
          [
           6,
           "forsikringsaftaleloven"
          ],
          [
           6,
           "forsikringsaftaleloven"
          ],
          [
           8,
           "forsikringsaftaleloven"
          ],
          [
           4,
           "forsikringsaftaleloven"
          ],
          [
           9,
           "forsikringsaftaleloven"
          ],
          [
           8,
           "forsikringsaftaleloven"
          ],
          [
           3,
           "forsikringsaftaleloven"
          ],
          [
           9,
           "forsikringsaftaleloven"
          ],
          [
           4,
           "forsikringsaftaleloven"
          ],
          [
           7,
           "forsikringsaftaleloven"
          ],
          [
           3,
           "forsikringsaftaleloven"
          ],
          [
           1,
           "forsikringsaftaleloven"
          ],
          [
           8,
           "forsikringsaftaleloven"
          ],
          [
           4,
           "forsikringsaftaleloven"
          ],
          [
           8,
           "forsikringsaftaleloven"
          ],
          [
           6,
           "forsikringsaftaleloven"
          ],
          [
           3,
           "forsikringsaftaleloven"
          ],
          [
           1,
           "forsikringsaftaleloven"
          ],
          [
           4,
           "forsikringsaftaleloven"
          ],
          [
           6,
           "forsikringsaftaleloven"
          ],
          [
           5,
           "forsikringsaftaleloven"
          ],
          [
           3,
           "forsikringsaftaleloven"
          ],
          [
           6,
           "forsikringsaftaleloven"
          ],
          [
           4,
           "forsikringsaftaleloven"
          ],
          [
           1,
           "forsikringsaftaleloven"
          ],
          [
           4,
           "forsikringsaftaleloven"
          ],
          [
           3,
           "forsikringsaftaleloven"
          ],
          [
           2,
           "forsikringsaftaleloven"
          ],
          [
           3,
           "forsikringsaftaleloven"
          ],
          [
           2,
           "forsikringsaftaleloven"
          ],
          [
           1,
           "forsikringsaftaleloven"
          ],
          [
           1,
           "forsikringsaftaleloven"
          ],
          [
           5,
           "forsikringsaftaleloven"
          ],
          [
           1,
           "forsikringsaftaleloven"
          ],
          [
           4,
           "forsikringsaftaleloven"
          ],
          [
           1,
           "forsikringsaftaleloven"
          ],
          [
           7,
           "forsikringsaftaleloven"
          ],
          [
           6,
           "forsikringsaftaleloven"
          ],
          [
           7,
           "forsikringsaftaleloven"
          ],
          [
           3,
           "forsikringsaftaleloven"
          ],
          [
           16,
           "forsikringsaftaleloven"
          ],
          [
           5,
           "forsikringsaftaleloven"
          ],
          [
           7,
           "forsikringsaftaleloven"
          ],
          [
           10,
           "forsikringsaftaleloven"
          ],
          [
           13,
           "forsikringsaftaleloven"
          ],
          [
           12,
           "forsikringsaftaleloven"
          ],
          [
           14,
           "forsikringsaftaleloven"
          ],
          [
           10,
           "forsikringsaftaleloven"
          ],
          [
           5,
           "forsikringsaftaleloven"
          ],
          [
           6,
           "forsikringsaftaleloven"
          ],
          [
           9,
           "forsikringsaftaleloven"
          ],
          [
           12,
           "forsikringsaftaleloven"
          ],
          [
           9,
           "forsikringsaftaleloven"
          ],
          [
           7,
           "forsikringsaftaleloven"
          ],
          [
           6,
           "forsikringsaftaleloven"
          ]
         ],
         "hovertemplate": "<b>%{hovertext}</b><br><br>year=%{x}<br>share=%{y:.1%}<br>count=%{customdata[0]:.0f}<extra></extra>",
         "hovertext": [
          "forsikringsaftaleloven",
          "forsikringsaftaleloven",
          "forsikringsaftaleloven",
          "forsikringsaftaleloven",
          "forsikringsaftaleloven",
          "forsikringsaftaleloven",
          "forsikringsaftaleloven",
          "forsikringsaftaleloven",
          "forsikringsaftaleloven",
          "forsikringsaftaleloven",
          "forsikringsaftaleloven",
          "forsikringsaftaleloven",
          "forsikringsaftaleloven",
          "forsikringsaftaleloven",
          "forsikringsaftaleloven",
          "forsikringsaftaleloven",
          "forsikringsaftaleloven",
          "forsikringsaftaleloven",
          "forsikringsaftaleloven",
          "forsikringsaftaleloven",
          "forsikringsaftaleloven",
          "forsikringsaftaleloven",
          "forsikringsaftaleloven",
          "forsikringsaftaleloven",
          "forsikringsaftaleloven",
          "forsikringsaftaleloven",
          "forsikringsaftaleloven",
          "forsikringsaftaleloven",
          "forsikringsaftaleloven",
          "forsikringsaftaleloven",
          "forsikringsaftaleloven",
          "forsikringsaftaleloven",
          "forsikringsaftaleloven",
          "forsikringsaftaleloven",
          "forsikringsaftaleloven",
          "forsikringsaftaleloven",
          "forsikringsaftaleloven",
          "forsikringsaftaleloven",
          "forsikringsaftaleloven",
          "forsikringsaftaleloven",
          "forsikringsaftaleloven",
          "forsikringsaftaleloven",
          "forsikringsaftaleloven",
          "forsikringsaftaleloven",
          "forsikringsaftaleloven",
          "forsikringsaftaleloven",
          "forsikringsaftaleloven",
          "forsikringsaftaleloven",
          "forsikringsaftaleloven",
          "forsikringsaftaleloven",
          "forsikringsaftaleloven",
          "forsikringsaftaleloven",
          "forsikringsaftaleloven",
          "forsikringsaftaleloven",
          "forsikringsaftaleloven",
          "forsikringsaftaleloven",
          "forsikringsaftaleloven",
          "forsikringsaftaleloven",
          "forsikringsaftaleloven",
          "forsikringsaftaleloven",
          "forsikringsaftaleloven",
          "forsikringsaftaleloven",
          "forsikringsaftaleloven",
          "forsikringsaftaleloven",
          "forsikringsaftaleloven",
          "forsikringsaftaleloven",
          "forsikringsaftaleloven",
          "forsikringsaftaleloven",
          "forsikringsaftaleloven",
          "forsikringsaftaleloven",
          "forsikringsaftaleloven"
         ],
         "legendgroup": "forsikringsaftaleloven",
         "marker": {
          "color": "rgb(220, 176, 242)",
          "pattern": {
           "shape": ""
          }
         },
         "name": "forsikringsaftaleloven",
         "offsetgroup": "forsikringsaftaleloven",
         "orientation": "v",
         "showlegend": true,
         "textposition": "auto",
         "type": "bar",
         "x": [
          2021,
          2020,
          2019,
          2018,
          2017,
          2016,
          2015,
          2014,
          2013,
          2012,
          2011,
          2010,
          2009,
          2008,
          2007,
          2006,
          2005,
          2004,
          2003,
          2002,
          2001,
          2000,
          1999,
          1998,
          1997,
          1996,
          1995,
          1994,
          1993,
          1992,
          1991,
          1990,
          1989,
          1988,
          1987,
          1986,
          1985,
          1984,
          1983,
          1982,
          1981,
          1980,
          1979,
          1978,
          1977,
          1976,
          1975,
          1974,
          1973,
          1972,
          1971,
          1970,
          1969,
          1968,
          1967,
          1965,
          1964,
          1963,
          1962,
          1961,
          1960,
          1959,
          1958,
          1957,
          1956,
          1955,
          1954,
          1953,
          1952,
          1951,
          1950
         ],
         "xaxis": "x",
         "y": [
          0.002785515320334262,
          0.008522727272727272,
          0.008077544426494346,
          0.008278145695364239,
          0.004807692307692308,
          0.008426966292134831,
          0.009693053311793215,
          0.005891016200294551,
          0.011267605633802818,
          0.00725689404934688,
          0.008310249307479225,
          0.008,
          0.0014947683109118087,
          0.003973509933774834,
          0.006596306068601583,
          0.015364916773367477,
          0.006888633754305396,
          0.007623888182973317,
          0.00966183574879227,
          0.006024096385542169,
          0.012605042016806723,
          0.011049723756906077,
          0.0046439628482972135,
          0.015151515151515152,
          0.007518796992481203,
          0.012567324955116697,
          0.008379888268156424,
          0.00273224043715847,
          0.025396825396825397,
          0.013468013468013467,
          0.024464831804281346,
          0.021660649819494584,
          0.010752688172043012,
          0.003389830508474576,
          0.013422818791946308,
          0.020066889632107024,
          0.014204545454545454,
          0.007978723404255319,
          0.015151515151515152,
          0.010309278350515464,
          0.0027100271002710027,
          0.010810810810810811,
          0.0069605568445475635,
          0.004975124378109453,
          0.007317073170731708,
          0.004608294930875576,
          0.0024691358024691358,
          0.0023148148148148147,
          0.01366120218579235,
          0.002320185614849188,
          0.011594202898550725,
          0.002770083102493075,
          0.017902813299232736,
          0.017595307917888565,
          0.01804123711340206,
          0.008450704225352112,
          0.0425531914893617,
          0.012755102040816327,
          0.018229166666666668,
          0.023752969121140142,
          0.029748283752860413,
          0.027149321266968326,
          0.03783783783783784,
          0.02710027100271003,
          0.01466275659824047,
          0.01892744479495268,
          0.03345724907063197,
          0.04195804195804196,
          0.031141868512110725,
          0.02564102564102564,
          0.024193548387096774
         ],
         "yaxis": "y"
        },
        {
         "alignmentgroup": "True",
         "customdata": [
          [
           1,
           "indkomst og formueskat til staten"
          ],
          [
           3,
           "indkomst og formueskat til staten"
          ],
          [
           1,
           "indkomst og formueskat til staten"
          ],
          [
           3,
           "indkomst og formueskat til staten"
          ],
          [
           1,
           "indkomst og formueskat til staten"
          ],
          [
           2,
           "indkomst og formueskat til staten"
          ],
          [
           1,
           "indkomst og formueskat til staten"
          ],
          [
           4,
           "indkomst og formueskat til staten"
          ],
          [
           8,
           "indkomst og formueskat til staten"
          ],
          [
           5,
           "indkomst og formueskat til staten"
          ],
          [
           9,
           "indkomst og formueskat til staten"
          ],
          [
           14,
           "indkomst og formueskat til staten"
          ],
          [
           15,
           "indkomst og formueskat til staten"
          ],
          [
           11,
           "indkomst og formueskat til staten"
          ],
          [
           9,
           "indkomst og formueskat til staten"
          ],
          [
           11,
           "indkomst og formueskat til staten"
          ],
          [
           13,
           "indkomst og formueskat til staten"
          ],
          [
           11,
           "indkomst og formueskat til staten"
          ],
          [
           10,
           "indkomst og formueskat til staten"
          ],
          [
           10,
           "indkomst og formueskat til staten"
          ],
          [
           14,
           "indkomst og formueskat til staten"
          ],
          [
           9,
           "indkomst og formueskat til staten"
          ],
          [
           9,
           "indkomst og formueskat til staten"
          ],
          [
           10,
           "indkomst og formueskat til staten"
          ],
          [
           17,
           "indkomst og formueskat til staten"
          ],
          [
           6,
           "indkomst og formueskat til staten"
          ],
          [
           7,
           "indkomst og formueskat til staten"
          ],
          [
           2,
           "indkomst og formueskat til staten"
          ],
          [
           4,
           "indkomst og formueskat til staten"
          ],
          [
           3,
           "indkomst og formueskat til staten"
          ],
          [
           6,
           "indkomst og formueskat til staten"
          ],
          [
           12,
           "indkomst og formueskat til staten"
          ],
          [
           9,
           "indkomst og formueskat til staten"
          ],
          [
           9,
           "indkomst og formueskat til staten"
          ],
          [
           13,
           "indkomst og formueskat til staten"
          ],
          [
           22,
           "indkomst og formueskat til staten"
          ],
          [
           27,
           "indkomst og formueskat til staten"
          ],
          [
           10,
           "indkomst og formueskat til staten"
          ],
          [
           20,
           "indkomst og formueskat til staten"
          ],
          [
           20,
           "indkomst og formueskat til staten"
          ],
          [
           19,
           "indkomst og formueskat til staten"
          ],
          [
           17,
           "indkomst og formueskat til staten"
          ],
          [
           9,
           "indkomst og formueskat til staten"
          ],
          [
           8,
           "indkomst og formueskat til staten"
          ],
          [
           17,
           "indkomst og formueskat til staten"
          ],
          [
           16,
           "indkomst og formueskat til staten"
          ],
          [
           19,
           "indkomst og formueskat til staten"
          ],
          [
           11,
           "indkomst og formueskat til staten"
          ],
          [
           14,
           "indkomst og formueskat til staten"
          ],
          [
           15,
           "indkomst og formueskat til staten"
          ],
          [
           17,
           "indkomst og formueskat til staten"
          ],
          [
           17,
           "indkomst og formueskat til staten"
          ],
          [
           7,
           "indkomst og formueskat til staten"
          ],
          [
           12,
           "indkomst og formueskat til staten"
          ],
          [
           5,
           "indkomst og formueskat til staten"
          ],
          [
           12,
           "indkomst og formueskat til staten"
          ],
          [
           5,
           "indkomst og formueskat til staten"
          ],
          [
           16,
           "indkomst og formueskat til staten"
          ],
          [
           13,
           "indkomst og formueskat til staten"
          ],
          [
           16,
           "indkomst og formueskat til staten"
          ],
          [
           22,
           "indkomst og formueskat til staten"
          ],
          [
           15,
           "indkomst og formueskat til staten"
          ],
          [
           17,
           "indkomst og formueskat til staten"
          ],
          [
           11,
           "indkomst og formueskat til staten"
          ],
          [
           12,
           "indkomst og formueskat til staten"
          ],
          [
           8,
           "indkomst og formueskat til staten"
          ],
          [
           10,
           "indkomst og formueskat til staten"
          ],
          [
           9,
           "indkomst og formueskat til staten"
          ],
          [
           10,
           "indkomst og formueskat til staten"
          ],
          [
           11,
           "indkomst og formueskat til staten"
          ],
          [
           8,
           "indkomst og formueskat til staten"
          ]
         ],
         "hovertemplate": "<b>%{hovertext}</b><br><br>year=%{x}<br>share=%{y:.1%}<br>count=%{customdata[0]:.0f}<extra></extra>",
         "hovertext": [
          "indkomst og formueskat til staten",
          "indkomst og formueskat til staten",
          "indkomst og formueskat til staten",
          "indkomst og formueskat til staten",
          "indkomst og formueskat til staten",
          "indkomst og formueskat til staten",
          "indkomst og formueskat til staten",
          "indkomst og formueskat til staten",
          "indkomst og formueskat til staten",
          "indkomst og formueskat til staten",
          "indkomst og formueskat til staten",
          "indkomst og formueskat til staten",
          "indkomst og formueskat til staten",
          "indkomst og formueskat til staten",
          "indkomst og formueskat til staten",
          "indkomst og formueskat til staten",
          "indkomst og formueskat til staten",
          "indkomst og formueskat til staten",
          "indkomst og formueskat til staten",
          "indkomst og formueskat til staten",
          "indkomst og formueskat til staten",
          "indkomst og formueskat til staten",
          "indkomst og formueskat til staten",
          "indkomst og formueskat til staten",
          "indkomst og formueskat til staten",
          "indkomst og formueskat til staten",
          "indkomst og formueskat til staten",
          "indkomst og formueskat til staten",
          "indkomst og formueskat til staten",
          "indkomst og formueskat til staten",
          "indkomst og formueskat til staten",
          "indkomst og formueskat til staten",
          "indkomst og formueskat til staten",
          "indkomst og formueskat til staten",
          "indkomst og formueskat til staten",
          "indkomst og formueskat til staten",
          "indkomst og formueskat til staten",
          "indkomst og formueskat til staten",
          "indkomst og formueskat til staten",
          "indkomst og formueskat til staten",
          "indkomst og formueskat til staten",
          "indkomst og formueskat til staten",
          "indkomst og formueskat til staten",
          "indkomst og formueskat til staten",
          "indkomst og formueskat til staten",
          "indkomst og formueskat til staten",
          "indkomst og formueskat til staten",
          "indkomst og formueskat til staten",
          "indkomst og formueskat til staten",
          "indkomst og formueskat til staten",
          "indkomst og formueskat til staten",
          "indkomst og formueskat til staten",
          "indkomst og formueskat til staten",
          "indkomst og formueskat til staten",
          "indkomst og formueskat til staten",
          "indkomst og formueskat til staten",
          "indkomst og formueskat til staten",
          "indkomst og formueskat til staten",
          "indkomst og formueskat til staten",
          "indkomst og formueskat til staten",
          "indkomst og formueskat til staten",
          "indkomst og formueskat til staten",
          "indkomst og formueskat til staten",
          "indkomst og formueskat til staten",
          "indkomst og formueskat til staten",
          "indkomst og formueskat til staten",
          "indkomst og formueskat til staten",
          "indkomst og formueskat til staten",
          "indkomst og formueskat til staten",
          "indkomst og formueskat til staten",
          "indkomst og formueskat til staten"
         ],
         "legendgroup": "indkomst og formueskat til staten",
         "marker": {
          "color": "rgb(135, 197, 95)",
          "pattern": {
           "shape": ""
          }
         },
         "name": "indkomst og formueskat til staten",
         "offsetgroup": "indkomst og formueskat til staten",
         "orientation": "v",
         "showlegend": true,
         "textposition": "auto",
         "type": "bar",
         "x": [
          2021,
          2020,
          2018,
          2017,
          2016,
          2015,
          2014,
          2013,
          2012,
          2011,
          2010,
          2009,
          2008,
          2007,
          2006,
          2005,
          2004,
          2003,
          2002,
          2001,
          2000,
          1999,
          1998,
          1997,
          1996,
          1995,
          1994,
          1993,
          1992,
          1991,
          1990,
          1989,
          1988,
          1987,
          1986,
          1985,
          1984,
          1983,
          1982,
          1981,
          1980,
          1979,
          1978,
          1977,
          1976,
          1975,
          1974,
          1973,
          1972,
          1971,
          1970,
          1969,
          1968,
          1967,
          1966,
          1965,
          1964,
          1963,
          1962,
          1961,
          1960,
          1959,
          1958,
          1957,
          1956,
          1955,
          1954,
          1953,
          1952,
          1951,
          1950
         ],
         "xaxis": "x",
         "y": [
          0.001392757660167131,
          0.004261363636363636,
          0.0016556291390728477,
          0.004807692307692308,
          0.0014044943820224719,
          0.0032310177705977385,
          0.0014727540500736377,
          0.005633802816901409,
          0.011611030478955007,
          0.006925207756232687,
          0.018,
          0.02092675635276532,
          0.019867549668874173,
          0.014511873350923483,
          0.011523687580025609,
          0.012629161882893225,
          0.016518424396442185,
          0.013285024154589372,
          0.015060240963855422,
          0.014005602240896359,
          0.019337016574585635,
          0.01393188854489164,
          0.015151515151515152,
          0.018796992481203006,
          0.03052064631956912,
          0.01675977653631285,
          0.01912568306010929,
          0.006349206349206349,
          0.013468013468013467,
          0.009174311926605505,
          0.021660649819494584,
          0.043010752688172046,
          0.030508474576271188,
          0.030201342281879196,
          0.043478260869565216,
          0.0625,
          0.07180851063829788,
          0.025252525252525252,
          0.05154639175257732,
          0.05420054200542006,
          0.051351351351351354,
          0.03944315545243619,
          0.022388059701492536,
          0.01951219512195122,
          0.03917050691244239,
          0.03950617283950617,
          0.04398148148148148,
          0.030054644808743168,
          0.03248259860788863,
          0.043478260869565216,
          0.04709141274238227,
          0.043478260869565216,
          0.020527859237536656,
          0.030927835051546393,
          0.012195121951219513,
          0.03380281690140845,
          0.013297872340425532,
          0.04081632653061224,
          0.033854166666666664,
          0.03800475059382423,
          0.05034324942791762,
          0.033936651583710405,
          0.04594594594594595,
          0.02981029810298103,
          0.03519061583577713,
          0.025236593059936908,
          0.03717472118959108,
          0.03146853146853147,
          0.03460207612456748,
          0.040293040293040296,
          0.03225806451612903
         ],
         "yaxis": "y"
        }
       ],
       "layout": {
        "barmode": "relative",
        "legend": {
         "title": {
          "text": "Associated law"
         },
         "tracegroupgap": 0
        },
        "margin": {
         "b": 0,
         "l": 0,
         "r": 0,
         "t": 0
        },
        "template": {
         "data": {
          "bar": [
           {
            "error_x": {
             "color": "rgb(51,51,51)"
            },
            "error_y": {
             "color": "rgb(51,51,51)"
            },
            "marker": {
             "line": {
              "color": "rgb(237,237,237)",
              "width": 0.5
             },
             "pattern": {
              "fillmode": "overlay",
              "size": 10,
              "solidity": 0.2
             }
            },
            "type": "bar"
           }
          ],
          "barpolar": [
           {
            "marker": {
             "line": {
              "color": "rgb(237,237,237)",
              "width": 0.5
             },
             "pattern": {
              "fillmode": "overlay",
              "size": 10,
              "solidity": 0.2
             }
            },
            "type": "barpolar"
           }
          ],
          "carpet": [
           {
            "aaxis": {
             "endlinecolor": "rgb(51,51,51)",
             "gridcolor": "white",
             "linecolor": "white",
             "minorgridcolor": "white",
             "startlinecolor": "rgb(51,51,51)"
            },
            "baxis": {
             "endlinecolor": "rgb(51,51,51)",
             "gridcolor": "white",
             "linecolor": "white",
             "minorgridcolor": "white",
             "startlinecolor": "rgb(51,51,51)"
            },
            "type": "carpet"
           }
          ],
          "choropleth": [
           {
            "colorbar": {
             "outlinewidth": 0,
             "tickcolor": "rgb(237,237,237)",
             "ticklen": 6,
             "ticks": "inside"
            },
            "type": "choropleth"
           }
          ],
          "contour": [
           {
            "colorbar": {
             "outlinewidth": 0,
             "tickcolor": "rgb(237,237,237)",
             "ticklen": 6,
             "ticks": "inside"
            },
            "colorscale": [
             [
              0,
              "rgb(20,44,66)"
             ],
             [
              1,
              "rgb(90,179,244)"
             ]
            ],
            "type": "contour"
           }
          ],
          "contourcarpet": [
           {
            "colorbar": {
             "outlinewidth": 0,
             "tickcolor": "rgb(237,237,237)",
             "ticklen": 6,
             "ticks": "inside"
            },
            "type": "contourcarpet"
           }
          ],
          "heatmap": [
           {
            "colorbar": {
             "outlinewidth": 0,
             "tickcolor": "rgb(237,237,237)",
             "ticklen": 6,
             "ticks": "inside"
            },
            "colorscale": [
             [
              0,
              "rgb(20,44,66)"
             ],
             [
              1,
              "rgb(90,179,244)"
             ]
            ],
            "type": "heatmap"
           }
          ],
          "heatmapgl": [
           {
            "colorbar": {
             "outlinewidth": 0,
             "tickcolor": "rgb(237,237,237)",
             "ticklen": 6,
             "ticks": "inside"
            },
            "colorscale": [
             [
              0,
              "rgb(20,44,66)"
             ],
             [
              1,
              "rgb(90,179,244)"
             ]
            ],
            "type": "heatmapgl"
           }
          ],
          "histogram": [
           {
            "marker": {
             "pattern": {
              "fillmode": "overlay",
              "size": 10,
              "solidity": 0.2
             }
            },
            "type": "histogram"
           }
          ],
          "histogram2d": [
           {
            "colorbar": {
             "outlinewidth": 0,
             "tickcolor": "rgb(237,237,237)",
             "ticklen": 6,
             "ticks": "inside"
            },
            "colorscale": [
             [
              0,
              "rgb(20,44,66)"
             ],
             [
              1,
              "rgb(90,179,244)"
             ]
            ],
            "type": "histogram2d"
           }
          ],
          "histogram2dcontour": [
           {
            "colorbar": {
             "outlinewidth": 0,
             "tickcolor": "rgb(237,237,237)",
             "ticklen": 6,
             "ticks": "inside"
            },
            "colorscale": [
             [
              0,
              "rgb(20,44,66)"
             ],
             [
              1,
              "rgb(90,179,244)"
             ]
            ],
            "type": "histogram2dcontour"
           }
          ],
          "mesh3d": [
           {
            "colorbar": {
             "outlinewidth": 0,
             "tickcolor": "rgb(237,237,237)",
             "ticklen": 6,
             "ticks": "inside"
            },
            "type": "mesh3d"
           }
          ],
          "parcoords": [
           {
            "line": {
             "colorbar": {
              "outlinewidth": 0,
              "tickcolor": "rgb(237,237,237)",
              "ticklen": 6,
              "ticks": "inside"
             }
            },
            "type": "parcoords"
           }
          ],
          "pie": [
           {
            "automargin": true,
            "type": "pie"
           }
          ],
          "scatter": [
           {
            "marker": {
             "colorbar": {
              "outlinewidth": 0,
              "tickcolor": "rgb(237,237,237)",
              "ticklen": 6,
              "ticks": "inside"
             }
            },
            "type": "scatter"
           }
          ],
          "scatter3d": [
           {
            "line": {
             "colorbar": {
              "outlinewidth": 0,
              "tickcolor": "rgb(237,237,237)",
              "ticklen": 6,
              "ticks": "inside"
             }
            },
            "marker": {
             "colorbar": {
              "outlinewidth": 0,
              "tickcolor": "rgb(237,237,237)",
              "ticklen": 6,
              "ticks": "inside"
             }
            },
            "type": "scatter3d"
           }
          ],
          "scattercarpet": [
           {
            "marker": {
             "colorbar": {
              "outlinewidth": 0,
              "tickcolor": "rgb(237,237,237)",
              "ticklen": 6,
              "ticks": "inside"
             }
            },
            "type": "scattercarpet"
           }
          ],
          "scattergeo": [
           {
            "marker": {
             "colorbar": {
              "outlinewidth": 0,
              "tickcolor": "rgb(237,237,237)",
              "ticklen": 6,
              "ticks": "inside"
             }
            },
            "type": "scattergeo"
           }
          ],
          "scattergl": [
           {
            "marker": {
             "colorbar": {
              "outlinewidth": 0,
              "tickcolor": "rgb(237,237,237)",
              "ticklen": 6,
              "ticks": "inside"
             }
            },
            "type": "scattergl"
           }
          ],
          "scattermapbox": [
           {
            "marker": {
             "colorbar": {
              "outlinewidth": 0,
              "tickcolor": "rgb(237,237,237)",
              "ticklen": 6,
              "ticks": "inside"
             }
            },
            "type": "scattermapbox"
           }
          ],
          "scatterpolar": [
           {
            "marker": {
             "colorbar": {
              "outlinewidth": 0,
              "tickcolor": "rgb(237,237,237)",
              "ticklen": 6,
              "ticks": "inside"
             }
            },
            "type": "scatterpolar"
           }
          ],
          "scatterpolargl": [
           {
            "marker": {
             "colorbar": {
              "outlinewidth": 0,
              "tickcolor": "rgb(237,237,237)",
              "ticklen": 6,
              "ticks": "inside"
             }
            },
            "type": "scatterpolargl"
           }
          ],
          "scatterternary": [
           {
            "marker": {
             "colorbar": {
              "outlinewidth": 0,
              "tickcolor": "rgb(237,237,237)",
              "ticklen": 6,
              "ticks": "inside"
             }
            },
            "type": "scatterternary"
           }
          ],
          "surface": [
           {
            "colorbar": {
             "outlinewidth": 0,
             "tickcolor": "rgb(237,237,237)",
             "ticklen": 6,
             "ticks": "inside"
            },
            "colorscale": [
             [
              0,
              "rgb(20,44,66)"
             ],
             [
              1,
              "rgb(90,179,244)"
             ]
            ],
            "type": "surface"
           }
          ],
          "table": [
           {
            "cells": {
             "fill": {
              "color": "rgb(237,237,237)"
             },
             "line": {
              "color": "white"
             }
            },
            "header": {
             "fill": {
              "color": "rgb(217,217,217)"
             },
             "line": {
              "color": "white"
             }
            },
            "type": "table"
           }
          ]
         },
         "layout": {
          "annotationdefaults": {
           "arrowhead": 0,
           "arrowwidth": 1
          },
          "autotypenumbers": "strict",
          "coloraxis": {
           "colorbar": {
            "outlinewidth": 0,
            "tickcolor": "rgb(237,237,237)",
            "ticklen": 6,
            "ticks": "inside"
           }
          },
          "colorscale": {
           "sequential": [
            [
             0,
             "rgb(20,44,66)"
            ],
            [
             1,
             "rgb(90,179,244)"
            ]
           ],
           "sequentialminus": [
            [
             0,
             "rgb(20,44,66)"
            ],
            [
             1,
             "rgb(90,179,244)"
            ]
           ]
          },
          "colorway": [
           "#F8766D",
           "#A3A500",
           "#00BF7D",
           "#00B0F6",
           "#E76BF3"
          ],
          "font": {
           "color": "rgb(51,51,51)"
          },
          "geo": {
           "bgcolor": "white",
           "lakecolor": "white",
           "landcolor": "rgb(237,237,237)",
           "showlakes": true,
           "showland": true,
           "subunitcolor": "white"
          },
          "hoverlabel": {
           "align": "left"
          },
          "hovermode": "closest",
          "paper_bgcolor": "white",
          "plot_bgcolor": "rgb(237,237,237)",
          "polar": {
           "angularaxis": {
            "gridcolor": "white",
            "linecolor": "white",
            "showgrid": true,
            "tickcolor": "rgb(51,51,51)",
            "ticks": "outside"
           },
           "bgcolor": "rgb(237,237,237)",
           "radialaxis": {
            "gridcolor": "white",
            "linecolor": "white",
            "showgrid": true,
            "tickcolor": "rgb(51,51,51)",
            "ticks": "outside"
           }
          },
          "scene": {
           "xaxis": {
            "backgroundcolor": "rgb(237,237,237)",
            "gridcolor": "white",
            "gridwidth": 2,
            "linecolor": "white",
            "showbackground": true,
            "showgrid": true,
            "tickcolor": "rgb(51,51,51)",
            "ticks": "outside",
            "zerolinecolor": "white"
           },
           "yaxis": {
            "backgroundcolor": "rgb(237,237,237)",
            "gridcolor": "white",
            "gridwidth": 2,
            "linecolor": "white",
            "showbackground": true,
            "showgrid": true,
            "tickcolor": "rgb(51,51,51)",
            "ticks": "outside",
            "zerolinecolor": "white"
           },
           "zaxis": {
            "backgroundcolor": "rgb(237,237,237)",
            "gridcolor": "white",
            "gridwidth": 2,
            "linecolor": "white",
            "showbackground": true,
            "showgrid": true,
            "tickcolor": "rgb(51,51,51)",
            "ticks": "outside",
            "zerolinecolor": "white"
           }
          },
          "shapedefaults": {
           "fillcolor": "black",
           "line": {
            "width": 0
           },
           "opacity": 0.3
          },
          "ternary": {
           "aaxis": {
            "gridcolor": "white",
            "linecolor": "white",
            "showgrid": true,
            "tickcolor": "rgb(51,51,51)",
            "ticks": "outside"
           },
           "baxis": {
            "gridcolor": "white",
            "linecolor": "white",
            "showgrid": true,
            "tickcolor": "rgb(51,51,51)",
            "ticks": "outside"
           },
           "bgcolor": "rgb(237,237,237)",
           "caxis": {
            "gridcolor": "white",
            "linecolor": "white",
            "showgrid": true,
            "tickcolor": "rgb(51,51,51)",
            "ticks": "outside"
           }
          },
          "xaxis": {
           "automargin": true,
           "gridcolor": "white",
           "linecolor": "white",
           "showgrid": true,
           "tickcolor": "rgb(51,51,51)",
           "ticks": "outside",
           "title": {
            "standoff": 15
           },
           "zerolinecolor": "white"
          },
          "yaxis": {
           "automargin": true,
           "gridcolor": "white",
           "linecolor": "white",
           "showgrid": true,
           "tickcolor": "rgb(51,51,51)",
           "ticks": "outside",
           "title": {
            "standoff": 15
           },
           "zerolinecolor": "white"
          }
         }
        },
        "xaxis": {
         "anchor": "y",
         "domain": [
          0,
          1
         ],
         "title": {
          "text": "Year"
         }
        },
        "yaxis": {
         "anchor": "x",
         "domain": [
          0,
          1
         ],
         "range": [
          0,
          1
         ],
         "tickformat": ".0%",
         "title": {
          "text": "Share (pct.)"
         }
        }
       }
      }
     },
     "metadata": {},
     "output_type": "display_data"
    }
   ],
   "source": [
    "df = df_org.copy()\n",
    "#FIND THE X MOST ASSOCIATED LAWS\n",
    "df_relevante_love_top_x = df.loc[:,[\"id_verdict\",\"year\",\"relevante_love_cleaned\"]].explode(\"relevante_love_cleaned\").groupby(\"relevante_love_cleaned\").count().sort_values(\"id_verdict\",ascending=False)[\"id_verdict\"][:15]\n",
    "love_top_x = list(df_relevante_love_top_x.reset_index()[\"relevante_love_cleaned\"])\n",
    "\n",
    "df_top_x_lov = df.loc[:,[\"id_verdict\",\"year\",\"relevante_love_cleaned\"]].copy()\n",
    "df_top_x_lov[\"relevante_love_cleaned\"] = df_top_x_lov[\"relevante_love_cleaned\"].apply(lambda love: [lov if lov in love_top_x else \"Other law\" for lov in love] if love is not None else None)\n",
    "\n",
    "df_relevante_love = df_top_x_lov.explode(\"relevante_love_cleaned\").groupby([\"relevante_love_cleaned\",\"year\"]).count().sort_values(\"id_verdict\",ascending=False)[\"id_verdict\"]\n",
    "df_relevante_love = df_relevante_love.reset_index()\n",
    "df_relevante_love.rename(columns={\"id_verdict\":\"count\",\"relevante_love_cleaned\":\"Associated law\"}, inplace=True)\n",
    "\n",
    "df_relevante_love[\"year\"] = df_relevante_love[\"year\"].astype(int)\n",
    "df_relevante_love.sort_values([\"year\",\"count\"],inplace=True,ascending=False)\n",
    "df_relevante_love['share'] = df_relevante_love['count'] / df_relevante_love.groupby('year')['count'].transform('sum') \n",
    "fig = px.bar(df_relevante_love, \n",
    "            x=\"year\",\n",
    "            y=\"share\",\n",
    "            color=\"Associated law\",\n",
    "            template=\"ggplot2\",\n",
    "            color_discrete_sequence=px.colors.qualitative.Pastel,\n",
    "            hover_name=\"Associated law\", \n",
    "            hover_data= {\"count\":\":.0f\",\n",
    "                         \"share\":\":.1%\", \n",
    "                         \"Associated law\":False})\n",
    "fig.update_yaxes(tickformat=\".0%\", \n",
    "                range=[0,1])\n",
    "fig.update_layout(yaxis_title=\"Share (pct.)\",\n",
    "                  xaxis_title=\"Year\")\n",
    "fig = fig.update_layout(margin=dict(\n",
    "                        l=0,\n",
    "                        r=0,\n",
    "                        b=0,\n",
    "                        t=0\n",
    "                        )\n",
    "                        )\n",
    "fig.write_html(\"../../data/plots/distribution_of_court_documents_by_associated_law.html\")\n",
    "fig.write_image(\"../../data/plots/distribution_of_court_documents_by_associated_law.pdf\")\n",
    "fig"
   ]
  },
  {
   "cell_type": "code",
   "execution_count": 20,
   "metadata": {},
   "outputs": [
    {
     "data": {
      "application/vnd.plotly.v1+json": {
       "config": {
        "plotlyServerURL": "https://plot.ly"
       },
       "data": [
        {
         "alignmentgroup": "True",
         "customdata": [
          [
           218,
           "Other law"
          ],
          [
           172,
           "Other law"
          ],
          [
           175,
           "Other law"
          ],
          [
           172,
           "Other law"
          ],
          [
           187,
           "Other law"
          ],
          [
           156,
           "Other law"
          ],
          [
           205,
           "Other law"
          ],
          [
           216,
           "Other law"
          ],
          [
           215,
           "Other law"
          ],
          [
           240,
           "Other law"
          ],
          [
           225,
           "Other law"
          ],
          [
           168,
           "Other law"
          ],
          [
           205,
           "Other law"
          ],
          [
           217,
           "Other law"
          ],
          [
           232,
           "Other law"
          ],
          [
           242,
           "Other law"
          ],
          [
           257,
           "Other law"
          ],
          [
           235,
           "Other law"
          ],
          [
           237,
           "Other law"
          ],
          [
           187,
           "Other law"
          ],
          [
           188,
           "Other law"
          ],
          [
           187,
           "Other law"
          ],
          [
           167,
           "Other law"
          ],
          [
           132,
           "Other law"
          ],
          [
           147,
           "Other law"
          ],
          [
           169,
           "Other law"
          ],
          [
           93,
           "Other law"
          ],
          [
           88,
           "Other law"
          ],
          [
           79,
           "Other law"
          ],
          [
           78,
           "Other law"
          ],
          [
           75,
           "Other law"
          ],
          [
           67,
           "Other law"
          ],
          [
           96,
           "Other law"
          ],
          [
           84,
           "Other law"
          ],
          [
           89,
           "Other law"
          ],
          [
           86,
           "Other law"
          ],
          [
           90,
           "Other law"
          ],
          [
           125,
           "Other law"
          ],
          [
           126,
           "Other law"
          ],
          [
           112,
           "Other law"
          ],
          [
           99,
           "Other law"
          ],
          [
           119,
           "Other law"
          ],
          [
           141,
           "Other law"
          ],
          [
           93,
           "Other law"
          ],
          [
           123,
           "Other law"
          ],
          [
           107,
           "Other law"
          ],
          [
           111,
           "Other law"
          ],
          [
           116,
           "Other law"
          ],
          [
           78,
           "Other law"
          ],
          [
           118,
           "Other law"
          ],
          [
           87,
           "Other law"
          ],
          [
           83,
           "Other law"
          ],
          [
           107,
           "Other law"
          ],
          [
           87,
           "Other law"
          ],
          [
           83,
           "Other law"
          ],
          [
           90,
           "Other law"
          ],
          [
           86,
           "Other law"
          ],
          [
           87,
           "Other law"
          ],
          [
           111,
           "Other law"
          ],
          [
           124,
           "Other law"
          ],
          [
           123,
           "Other law"
          ],
          [
           151,
           "Other law"
          ],
          [
           146,
           "Other law"
          ],
          [
           129,
           "Other law"
          ],
          [
           127,
           "Other law"
          ],
          [
           111,
           "Other law"
          ],
          [
           124,
           "Other law"
          ],
          [
           103,
           "Other law"
          ],
          [
           110,
           "Other law"
          ],
          [
           118,
           "Other law"
          ],
          [
           101,
           "Other law"
          ],
          [
           99,
           "Other law"
          ]
         ],
         "hovertemplate": "<b>%{hovertext}</b><br><br>year=%{x}<br>share=%{y:.1%}<br>count=%{customdata[0]:.0f}<extra></extra>",
         "hovertext": [
          "Other law",
          "Other law",
          "Other law",
          "Other law",
          "Other law",
          "Other law",
          "Other law",
          "Other law",
          "Other law",
          "Other law",
          "Other law",
          "Other law",
          "Other law",
          "Other law",
          "Other law",
          "Other law",
          "Other law",
          "Other law",
          "Other law",
          "Other law",
          "Other law",
          "Other law",
          "Other law",
          "Other law",
          "Other law",
          "Other law",
          "Other law",
          "Other law",
          "Other law",
          "Other law",
          "Other law",
          "Other law",
          "Other law",
          "Other law",
          "Other law",
          "Other law",
          "Other law",
          "Other law",
          "Other law",
          "Other law",
          "Other law",
          "Other law",
          "Other law",
          "Other law",
          "Other law",
          "Other law",
          "Other law",
          "Other law",
          "Other law",
          "Other law",
          "Other law",
          "Other law",
          "Other law",
          "Other law",
          "Other law",
          "Other law",
          "Other law",
          "Other law",
          "Other law",
          "Other law",
          "Other law",
          "Other law",
          "Other law",
          "Other law",
          "Other law",
          "Other law",
          "Other law",
          "Other law",
          "Other law",
          "Other law",
          "Other law",
          "Other law"
         ],
         "legendgroup": "Other law",
         "marker": {
          "color": "rgb(102, 197, 204)",
          "pattern": {
           "shape": ""
          }
         },
         "name": "Other law",
         "offsetgroup": "Other law",
         "orientation": "v",
         "showlegend": true,
         "textposition": "auto",
         "type": "bar",
         "x": [
          2021,
          2020,
          2019,
          2018,
          2017,
          2016,
          2015,
          2014,
          2013,
          2012,
          2011,
          2010,
          2009,
          2008,
          2007,
          2006,
          2005,
          2004,
          2003,
          2002,
          2001,
          2000,
          1999,
          1998,
          1997,
          1996,
          1995,
          1994,
          1993,
          1992,
          1991,
          1990,
          1989,
          1988,
          1987,
          1986,
          1985,
          1984,
          1983,
          1982,
          1981,
          1980,
          1979,
          1978,
          1977,
          1976,
          1975,
          1974,
          1973,
          1972,
          1971,
          1970,
          1969,
          1968,
          1967,
          1966,
          1965,
          1964,
          1963,
          1962,
          1961,
          1960,
          1959,
          1958,
          1957,
          1956,
          1955,
          1954,
          1953,
          1952,
          1951,
          1950
         ],
         "xaxis": "x",
         "y": [
          0.517814726840855,
          0.46112600536193027,
          0.4888268156424581,
          0.4725274725274725,
          0.5081521739130435,
          0.3969465648854962,
          0.5525606469002695,
          0.5386533665835411,
          0.509478672985782,
          0.5139186295503212,
          0.497787610619469,
          0.4883720930232558,
          0.48578199052132703,
          0.4149139579349904,
          0.43283582089552236,
          0.4352517985611511,
          0.3966049382716049,
          0.40657439446366783,
          0.415061295971979,
          0.39787234042553193,
          0.39330543933054396,
          0.3824130879345603,
          0.3630434782608696,
          0.36065573770491804,
          0.40273972602739727,
          0.4256926952141058,
          0.372,
          0.30985915492957744,
          0.3110236220472441,
          0.3436123348017621,
          0.30120481927710846,
          0.33668341708542715,
          0.4304932735426009,
          0.36681222707423583,
          0.3545816733067729,
          0.36752136752136755,
          0.3249097472924188,
          0.4355400696864111,
          0.4144736842105263,
          0.33136094674556216,
          0.3498233215547703,
          0.3953488372093023,
          0.4051724137931034,
          0.3110367892976589,
          0.35344827586206895,
          0.28763440860215056,
          0.3236151603498542,
          0.32954545454545453,
          0.2689655172413793,
          0.33146067415730335,
          0.3107142857142857,
          0.2785234899328859,
          0.3252279635258359,
          0.3107142857142857,
          0.24198250728862974,
          0.2727272727272727,
          0.2905405405405405,
          0.28431372549019607,
          0.33636363636363636,
          0.3701492537313433,
          0.3271276595744681,
          0.3842239185750636,
          0.37922077922077924,
          0.4056603773584906,
          0.4205298013245033,
          0.3881118881118881,
          0.46616541353383456,
          0.4557522123893805,
          0.4435483870967742,
          0.48559670781893005,
          0.44493392070484583,
          0.45622119815668205
         ],
         "yaxis": "y"
        },
        {
         "alignmentgroup": "True",
         "customdata": [
          [
           58,
           "straffeloven"
          ],
          [
           61,
           "straffeloven"
          ],
          [
           58,
           "straffeloven"
          ],
          [
           67,
           "straffeloven"
          ],
          [
           57,
           "straffeloven"
          ],
          [
           77,
           "straffeloven"
          ],
          [
           42,
           "straffeloven"
          ],
          [
           45,
           "straffeloven"
          ],
          [
           35,
           "straffeloven"
          ],
          [
           44,
           "straffeloven"
          ],
          [
           49,
           "straffeloven"
          ],
          [
           31,
           "straffeloven"
          ],
          [
           50,
           "straffeloven"
          ],
          [
           76,
           "straffeloven"
          ],
          [
           98,
           "straffeloven"
          ],
          [
           109,
           "straffeloven"
          ],
          [
           138,
           "straffeloven"
          ],
          [
           118,
           "straffeloven"
          ],
          [
           120,
           "straffeloven"
          ],
          [
           98,
           "straffeloven"
          ],
          [
           96,
           "straffeloven"
          ],
          [
           79,
           "straffeloven"
          ],
          [
           85,
           "straffeloven"
          ],
          [
           92,
           "straffeloven"
          ],
          [
           74,
           "straffeloven"
          ],
          [
           92,
           "straffeloven"
          ],
          [
           50,
           "straffeloven"
          ],
          [
           70,
           "straffeloven"
          ],
          [
           67,
           "straffeloven"
          ],
          [
           54,
           "straffeloven"
          ],
          [
           66,
           "straffeloven"
          ],
          [
           48,
           "straffeloven"
          ],
          [
           40,
           "straffeloven"
          ],
          [
           41,
           "straffeloven"
          ],
          [
           46,
           "straffeloven"
          ],
          [
           42,
           "straffeloven"
          ],
          [
           57,
           "straffeloven"
          ],
          [
           36,
           "straffeloven"
          ],
          [
           59,
           "straffeloven"
          ],
          [
           81,
           "straffeloven"
          ],
          [
           80,
           "straffeloven"
          ],
          [
           76,
           "straffeloven"
          ],
          [
           78,
           "straffeloven"
          ],
          [
           79,
           "straffeloven"
          ],
          [
           91,
           "straffeloven"
          ],
          [
           92,
           "straffeloven"
          ],
          [
           97,
           "straffeloven"
          ],
          [
           86,
           "straffeloven"
          ],
          [
           57,
           "straffeloven"
          ],
          [
           68,
           "straffeloven"
          ],
          [
           64,
           "straffeloven"
          ],
          [
           74,
           "straffeloven"
          ],
          [
           81,
           "straffeloven"
          ],
          [
           74,
           "straffeloven"
          ],
          [
           85,
           "straffeloven"
          ],
          [
           89,
           "straffeloven"
          ],
          [
           71,
           "straffeloven"
          ],
          [
           48,
           "straffeloven"
          ],
          [
           58,
           "straffeloven"
          ],
          [
           55,
           "straffeloven"
          ],
          [
           59,
           "straffeloven"
          ],
          [
           53,
           "straffeloven"
          ],
          [
           56,
           "straffeloven"
          ],
          [
           40,
           "straffeloven"
          ],
          [
           43,
           "straffeloven"
          ],
          [
           35,
           "straffeloven"
          ],
          [
           33,
           "straffeloven"
          ],
          [
           31,
           "straffeloven"
          ],
          [
           25,
           "straffeloven"
          ],
          [
           33,
           "straffeloven"
          ],
          [
           32,
           "straffeloven"
          ],
          [
           45,
           "straffeloven"
          ]
         ],
         "hovertemplate": "<b>%{hovertext}</b><br><br>year=%{x}<br>share=%{y:.1%}<br>count=%{customdata[0]:.0f}<extra></extra>",
         "hovertext": [
          "straffeloven",
          "straffeloven",
          "straffeloven",
          "straffeloven",
          "straffeloven",
          "straffeloven",
          "straffeloven",
          "straffeloven",
          "straffeloven",
          "straffeloven",
          "straffeloven",
          "straffeloven",
          "straffeloven",
          "straffeloven",
          "straffeloven",
          "straffeloven",
          "straffeloven",
          "straffeloven",
          "straffeloven",
          "straffeloven",
          "straffeloven",
          "straffeloven",
          "straffeloven",
          "straffeloven",
          "straffeloven",
          "straffeloven",
          "straffeloven",
          "straffeloven",
          "straffeloven",
          "straffeloven",
          "straffeloven",
          "straffeloven",
          "straffeloven",
          "straffeloven",
          "straffeloven",
          "straffeloven",
          "straffeloven",
          "straffeloven",
          "straffeloven",
          "straffeloven",
          "straffeloven",
          "straffeloven",
          "straffeloven",
          "straffeloven",
          "straffeloven",
          "straffeloven",
          "straffeloven",
          "straffeloven",
          "straffeloven",
          "straffeloven",
          "straffeloven",
          "straffeloven",
          "straffeloven",
          "straffeloven",
          "straffeloven",
          "straffeloven",
          "straffeloven",
          "straffeloven",
          "straffeloven",
          "straffeloven",
          "straffeloven",
          "straffeloven",
          "straffeloven",
          "straffeloven",
          "straffeloven",
          "straffeloven",
          "straffeloven",
          "straffeloven",
          "straffeloven",
          "straffeloven",
          "straffeloven",
          "straffeloven"
         ],
         "legendgroup": "straffeloven",
         "marker": {
          "color": "rgb(246, 207, 113)",
          "pattern": {
           "shape": ""
          }
         },
         "name": "straffeloven",
         "offsetgroup": "straffeloven",
         "orientation": "v",
         "showlegend": true,
         "textposition": "auto",
         "type": "bar",
         "x": [
          2021,
          2020,
          2019,
          2018,
          2017,
          2016,
          2015,
          2014,
          2013,
          2012,
          2011,
          2010,
          2009,
          2008,
          2007,
          2006,
          2005,
          2004,
          2003,
          2002,
          2001,
          2000,
          1999,
          1998,
          1997,
          1996,
          1995,
          1994,
          1993,
          1992,
          1991,
          1990,
          1989,
          1988,
          1987,
          1986,
          1985,
          1984,
          1983,
          1982,
          1981,
          1980,
          1979,
          1978,
          1977,
          1976,
          1975,
          1974,
          1973,
          1972,
          1971,
          1970,
          1969,
          1968,
          1967,
          1966,
          1965,
          1964,
          1963,
          1962,
          1961,
          1960,
          1959,
          1958,
          1957,
          1956,
          1955,
          1954,
          1953,
          1952,
          1951,
          1950
         ],
         "xaxis": "x",
         "y": [
          0.1377672209026128,
          0.16353887399463807,
          0.16201117318435754,
          0.18406593406593408,
          0.15489130434782608,
          0.19592875318066158,
          0.11320754716981132,
          0.11221945137157108,
          0.08293838862559241,
          0.09421841541755889,
          0.1084070796460177,
          0.09011627906976744,
          0.11848341232227488,
          0.14531548757170173,
          0.1828358208955224,
          0.1960431654676259,
          0.21296296296296297,
          0.2041522491349481,
          0.21015761821366025,
          0.20851063829787234,
          0.200836820083682,
          0.16155419222903886,
          0.18478260869565216,
          0.25136612021857924,
          0.20273972602739726,
          0.23173803526448364,
          0.2,
          0.24647887323943662,
          0.2637795275590551,
          0.23788546255506607,
          0.26506024096385544,
          0.24120603015075376,
          0.17937219730941703,
          0.17903930131004367,
          0.18326693227091634,
          0.1794871794871795,
          0.20577617328519857,
          0.1254355400696864,
          0.19407894736842105,
          0.23964497041420119,
          0.2826855123674912,
          0.25249169435215946,
          0.22413793103448276,
          0.26421404682274247,
          0.2614942528735632,
          0.24731182795698925,
          0.282798833819242,
          0.24431818181818182,
          0.19655172413793104,
          0.19101123595505617,
          0.22857142857142856,
          0.2483221476510067,
          0.24620060790273557,
          0.2642857142857143,
          0.2478134110787172,
          0.2696969696969697,
          0.23986486486486486,
          0.1568627450980392,
          0.17575757575757575,
          0.16417910447761194,
          0.15691489361702127,
          0.13486005089058525,
          0.14545454545454545,
          0.12578616352201258,
          0.1423841059602649,
          0.12237762237762238,
          0.12406015037593984,
          0.13716814159292035,
          0.10080645161290322,
          0.13580246913580246,
          0.14096916299559473,
          0.2073732718894009
         ],
         "yaxis": "y"
        },
        {
         "alignmentgroup": "True",
         "customdata": [
          [
           31,
           "retsplejeloven"
          ],
          [
           33,
           "retsplejeloven"
          ],
          [
           25,
           "retsplejeloven"
          ],
          [
           32,
           "retsplejeloven"
          ],
          [
           33,
           "retsplejeloven"
          ],
          [
           50,
           "retsplejeloven"
          ],
          [
           34,
           "retsplejeloven"
          ],
          [
           32,
           "retsplejeloven"
          ],
          [
           44,
           "retsplejeloven"
          ],
          [
           47,
           "retsplejeloven"
          ],
          [
           44,
           "retsplejeloven"
          ],
          [
           28,
           "retsplejeloven"
          ],
          [
           42,
           "retsplejeloven"
          ],
          [
           55,
           "retsplejeloven"
          ],
          [
           48,
           "retsplejeloven"
          ],
          [
           43,
           "retsplejeloven"
          ],
          [
           70,
           "retsplejeloven"
          ],
          [
           50,
           "retsplejeloven"
          ],
          [
           52,
           "retsplejeloven"
          ],
          [
           54,
           "retsplejeloven"
          ],
          [
           46,
           "retsplejeloven"
          ],
          [
           55,
           "retsplejeloven"
          ],
          [
           50,
           "retsplejeloven"
          ],
          [
           30,
           "retsplejeloven"
          ],
          [
           33,
           "retsplejeloven"
          ],
          [
           28,
           "retsplejeloven"
          ],
          [
           28,
           "retsplejeloven"
          ],
          [
           23,
           "retsplejeloven"
          ],
          [
           24,
           "retsplejeloven"
          ],
          [
           23,
           "retsplejeloven"
          ],
          [
           21,
           "retsplejeloven"
          ],
          [
           23,
           "retsplejeloven"
          ],
          [
           15,
           "retsplejeloven"
          ],
          [
           21,
           "retsplejeloven"
          ],
          [
           27,
           "retsplejeloven"
          ],
          [
           19,
           "retsplejeloven"
          ],
          [
           30,
           "retsplejeloven"
          ],
          [
           24,
           "retsplejeloven"
          ],
          [
           23,
           "retsplejeloven"
          ],
          [
           26,
           "retsplejeloven"
          ],
          [
           22,
           "retsplejeloven"
          ],
          [
           25,
           "retsplejeloven"
          ],
          [
           29,
           "retsplejeloven"
          ],
          [
           24,
           "retsplejeloven"
          ],
          [
           27,
           "retsplejeloven"
          ],
          [
           38,
           "retsplejeloven"
          ],
          [
           29,
           "retsplejeloven"
          ],
          [
           38,
           "retsplejeloven"
          ],
          [
           31,
           "retsplejeloven"
          ],
          [
           33,
           "retsplejeloven"
          ],
          [
           41,
           "retsplejeloven"
          ],
          [
           24,
           "retsplejeloven"
          ],
          [
           21,
           "retsplejeloven"
          ],
          [
           21,
           "retsplejeloven"
          ],
          [
           34,
           "retsplejeloven"
          ],
          [
           41,
           "retsplejeloven"
          ],
          [
           27,
           "retsplejeloven"
          ],
          [
           34,
           "retsplejeloven"
          ],
          [
           38,
           "retsplejeloven"
          ],
          [
           25,
           "retsplejeloven"
          ],
          [
           33,
           "retsplejeloven"
          ],
          [
           28,
           "retsplejeloven"
          ],
          [
           33,
           "retsplejeloven"
          ],
          [
           23,
           "retsplejeloven"
          ],
          [
           29,
           "retsplejeloven"
          ],
          [
           33,
           "retsplejeloven"
          ],
          [
           29,
           "retsplejeloven"
          ],
          [
           13,
           "retsplejeloven"
          ],
          [
           17,
           "retsplejeloven"
          ],
          [
           21,
           "retsplejeloven"
          ],
          [
           17,
           "retsplejeloven"
          ],
          [
           18,
           "retsplejeloven"
          ]
         ],
         "hovertemplate": "<b>%{hovertext}</b><br><br>year=%{x}<br>share=%{y:.1%}<br>count=%{customdata[0]:.0f}<extra></extra>",
         "hovertext": [
          "retsplejeloven",
          "retsplejeloven",
          "retsplejeloven",
          "retsplejeloven",
          "retsplejeloven",
          "retsplejeloven",
          "retsplejeloven",
          "retsplejeloven",
          "retsplejeloven",
          "retsplejeloven",
          "retsplejeloven",
          "retsplejeloven",
          "retsplejeloven",
          "retsplejeloven",
          "retsplejeloven",
          "retsplejeloven",
          "retsplejeloven",
          "retsplejeloven",
          "retsplejeloven",
          "retsplejeloven",
          "retsplejeloven",
          "retsplejeloven",
          "retsplejeloven",
          "retsplejeloven",
          "retsplejeloven",
          "retsplejeloven",
          "retsplejeloven",
          "retsplejeloven",
          "retsplejeloven",
          "retsplejeloven",
          "retsplejeloven",
          "retsplejeloven",
          "retsplejeloven",
          "retsplejeloven",
          "retsplejeloven",
          "retsplejeloven",
          "retsplejeloven",
          "retsplejeloven",
          "retsplejeloven",
          "retsplejeloven",
          "retsplejeloven",
          "retsplejeloven",
          "retsplejeloven",
          "retsplejeloven",
          "retsplejeloven",
          "retsplejeloven",
          "retsplejeloven",
          "retsplejeloven",
          "retsplejeloven",
          "retsplejeloven",
          "retsplejeloven",
          "retsplejeloven",
          "retsplejeloven",
          "retsplejeloven",
          "retsplejeloven",
          "retsplejeloven",
          "retsplejeloven",
          "retsplejeloven",
          "retsplejeloven",
          "retsplejeloven",
          "retsplejeloven",
          "retsplejeloven",
          "retsplejeloven",
          "retsplejeloven",
          "retsplejeloven",
          "retsplejeloven",
          "retsplejeloven",
          "retsplejeloven",
          "retsplejeloven",
          "retsplejeloven",
          "retsplejeloven",
          "retsplejeloven"
         ],
         "legendgroup": "retsplejeloven",
         "marker": {
          "color": "rgb(248, 156, 116)",
          "pattern": {
           "shape": ""
          }
         },
         "name": "retsplejeloven",
         "offsetgroup": "retsplejeloven",
         "orientation": "v",
         "showlegend": true,
         "textposition": "auto",
         "type": "bar",
         "x": [
          2021,
          2020,
          2019,
          2018,
          2017,
          2016,
          2015,
          2014,
          2013,
          2012,
          2011,
          2010,
          2009,
          2008,
          2007,
          2006,
          2005,
          2004,
          2003,
          2002,
          2001,
          2000,
          1999,
          1998,
          1997,
          1996,
          1995,
          1994,
          1993,
          1992,
          1991,
          1990,
          1989,
          1988,
          1987,
          1986,
          1985,
          1984,
          1983,
          1982,
          1981,
          1980,
          1979,
          1978,
          1977,
          1976,
          1975,
          1974,
          1973,
          1972,
          1971,
          1970,
          1969,
          1968,
          1967,
          1966,
          1965,
          1964,
          1963,
          1962,
          1961,
          1960,
          1959,
          1958,
          1957,
          1956,
          1955,
          1954,
          1953,
          1952,
          1951,
          1950
         ],
         "xaxis": "x",
         "y": [
          0.07363420427553444,
          0.08847184986595175,
          0.06983240223463687,
          0.08791208791208792,
          0.08967391304347826,
          0.1272264631043257,
          0.09164420485175202,
          0.0798004987531172,
          0.10426540284360189,
          0.1006423982869379,
          0.09734513274336283,
          0.08139534883720931,
          0.0995260663507109,
          0.10516252390057361,
          0.08955223880597014,
          0.07733812949640288,
          0.10802469135802469,
          0.08650519031141868,
          0.09106830122591944,
          0.1148936170212766,
          0.09623430962343096,
          0.11247443762781185,
          0.10869565217391304,
          0.08196721311475409,
          0.09041095890410959,
          0.07052896725440806,
          0.112,
          0.08098591549295775,
          0.09448818897637795,
          0.1013215859030837,
          0.08433734939759036,
          0.11557788944723618,
          0.06726457399103139,
          0.09170305676855896,
          0.10756972111553785,
          0.0811965811965812,
          0.10830324909747292,
          0.08362369337979095,
          0.0756578947368421,
          0.07692307692307693,
          0.07773851590106007,
          0.08305647840531562,
          0.08333333333333333,
          0.0802675585284281,
          0.07758620689655173,
          0.10215053763440861,
          0.08454810495626822,
          0.10795454545454546,
          0.10689655172413794,
          0.09269662921348315,
          0.14642857142857144,
          0.08053691275167785,
          0.06382978723404255,
          0.075,
          0.09912536443148688,
          0.12424242424242424,
          0.09121621621621621,
          0.1111111111111111,
          0.11515151515151516,
          0.07462686567164178,
          0.08776595744680851,
          0.07124681933842239,
          0.08571428571428572,
          0.07232704402515723,
          0.09602649006622517,
          0.11538461538461539,
          0.10902255639097744,
          0.05752212389380531,
          0.06854838709677419,
          0.08641975308641975,
          0.07488986784140969,
          0.08294930875576037
         ],
         "yaxis": "y"
        },
        {
         "alignmentgroup": "True",
         "customdata": [
          [
           22,
           "erstatningsansvarsloven"
          ],
          [
           21,
           "erstatningsansvarsloven"
          ],
          [
           21,
           "erstatningsansvarsloven"
          ],
          [
           19,
           "erstatningsansvarsloven"
          ],
          [
           16,
           "erstatningsansvarsloven"
          ],
          [
           16,
           "erstatningsansvarsloven"
          ],
          [
           16,
           "erstatningsansvarsloven"
          ],
          [
           13,
           "erstatningsansvarsloven"
          ],
          [
           17,
           "erstatningsansvarsloven"
          ],
          [
           29,
           "erstatningsansvarsloven"
          ],
          [
           22,
           "erstatningsansvarsloven"
          ],
          [
           18,
           "erstatningsansvarsloven"
          ],
          [
           19,
           "erstatningsansvarsloven"
          ],
          [
           23,
           "erstatningsansvarsloven"
          ],
          [
           20,
           "erstatningsansvarsloven"
          ],
          [
           22,
           "erstatningsansvarsloven"
          ],
          [
           31,
           "erstatningsansvarsloven"
          ],
          [
           41,
           "erstatningsansvarsloven"
          ],
          [
           24,
           "erstatningsansvarsloven"
          ],
          [
           15,
           "erstatningsansvarsloven"
          ],
          [
           18,
           "erstatningsansvarsloven"
          ],
          [
           18,
           "erstatningsansvarsloven"
          ],
          [
           15,
           "erstatningsansvarsloven"
          ],
          [
           16,
           "erstatningsansvarsloven"
          ],
          [
           16,
           "erstatningsansvarsloven"
          ],
          [
           9,
           "erstatningsansvarsloven"
          ],
          [
           11,
           "erstatningsansvarsloven"
          ],
          [
           7,
           "erstatningsansvarsloven"
          ],
          [
           11,
           "erstatningsansvarsloven"
          ],
          [
           6,
           "erstatningsansvarsloven"
          ],
          [
           14,
           "erstatningsansvarsloven"
          ],
          [
           9,
           "erstatningsansvarsloven"
          ],
          [
           11,
           "erstatningsansvarsloven"
          ],
          [
           9,
           "erstatningsansvarsloven"
          ],
          [
           4,
           "erstatningsansvarsloven"
          ],
          [
           2,
           "erstatningsansvarsloven"
          ],
          [
           1,
           "erstatningsansvarsloven"
          ],
          [
           1,
           "erstatningsansvarsloven"
          ]
         ],
         "hovertemplate": "<b>%{hovertext}</b><br><br>year=%{x}<br>share=%{y:.1%}<br>count=%{customdata[0]:.0f}<extra></extra>",
         "hovertext": [
          "erstatningsansvarsloven",
          "erstatningsansvarsloven",
          "erstatningsansvarsloven",
          "erstatningsansvarsloven",
          "erstatningsansvarsloven",
          "erstatningsansvarsloven",
          "erstatningsansvarsloven",
          "erstatningsansvarsloven",
          "erstatningsansvarsloven",
          "erstatningsansvarsloven",
          "erstatningsansvarsloven",
          "erstatningsansvarsloven",
          "erstatningsansvarsloven",
          "erstatningsansvarsloven",
          "erstatningsansvarsloven",
          "erstatningsansvarsloven",
          "erstatningsansvarsloven",
          "erstatningsansvarsloven",
          "erstatningsansvarsloven",
          "erstatningsansvarsloven",
          "erstatningsansvarsloven",
          "erstatningsansvarsloven",
          "erstatningsansvarsloven",
          "erstatningsansvarsloven",
          "erstatningsansvarsloven",
          "erstatningsansvarsloven",
          "erstatningsansvarsloven",
          "erstatningsansvarsloven",
          "erstatningsansvarsloven",
          "erstatningsansvarsloven",
          "erstatningsansvarsloven",
          "erstatningsansvarsloven",
          "erstatningsansvarsloven",
          "erstatningsansvarsloven",
          "erstatningsansvarsloven",
          "erstatningsansvarsloven",
          "erstatningsansvarsloven",
          "erstatningsansvarsloven"
         ],
         "legendgroup": "erstatningsansvarsloven",
         "marker": {
          "color": "rgb(220, 176, 242)",
          "pattern": {
           "shape": ""
          }
         },
         "name": "erstatningsansvarsloven",
         "offsetgroup": "erstatningsansvarsloven",
         "orientation": "v",
         "showlegend": true,
         "textposition": "auto",
         "type": "bar",
         "x": [
          2021,
          2020,
          2019,
          2018,
          2017,
          2016,
          2015,
          2014,
          2013,
          2012,
          2011,
          2010,
          2009,
          2008,
          2007,
          2006,
          2005,
          2004,
          2003,
          2002,
          2001,
          2000,
          1999,
          1998,
          1997,
          1996,
          1995,
          1994,
          1993,
          1992,
          1991,
          1990,
          1989,
          1988,
          1987,
          1986,
          1979,
          1975
         ],
         "xaxis": "x",
         "y": [
          0.052256532066508314,
          0.05630026809651475,
          0.05865921787709497,
          0.0521978021978022,
          0.043478260869565216,
          0.04071246819338423,
          0.0431266846361186,
          0.032418952618453865,
          0.04028436018957346,
          0.06209850107066381,
          0.048672566371681415,
          0.05232558139534884,
          0.045023696682464455,
          0.04397705544933078,
          0.03731343283582089,
          0.039568345323741004,
          0.047839506172839504,
          0.07093425605536333,
          0.04203152364273205,
          0.031914893617021274,
          0.03765690376569038,
          0.03680981595092025,
          0.03260869565217391,
          0.04371584699453552,
          0.043835616438356165,
          0.022670025188916875,
          0.044,
          0.02464788732394366,
          0.04330708661417323,
          0.02643171806167401,
          0.05622489959839357,
          0.04522613065326633,
          0.04932735426008968,
          0.039301310043668124,
          0.01593625498007968,
          0.008547008547008548,
          0.0028735632183908046,
          0.0029154518950437317
         ],
         "yaxis": "y"
        },
        {
         "alignmentgroup": "True",
         "customdata": [
          [
           17,
           "udlændingeloven"
          ],
          [
           14,
           "udlændingeloven"
          ],
          [
           17,
           "udlændingeloven"
          ],
          [
           18,
           "udlændingeloven"
          ],
          [
           12,
           "udlændingeloven"
          ],
          [
           12,
           "udlændingeloven"
          ],
          [
           7,
           "udlændingeloven"
          ],
          [
           4,
           "udlændingeloven"
          ],
          [
           6,
           "udlændingeloven"
          ],
          [
           9,
           "udlændingeloven"
          ],
          [
           14,
           "udlændingeloven"
          ],
          [
           10,
           "udlændingeloven"
          ],
          [
           12,
           "udlændingeloven"
          ],
          [
           36,
           "udlændingeloven"
          ],
          [
           16,
           "udlændingeloven"
          ],
          [
           24,
           "udlændingeloven"
          ],
          [
           33,
           "udlændingeloven"
          ],
          [
           22,
           "udlændingeloven"
          ],
          [
           20,
           "udlændingeloven"
          ],
          [
           15,
           "udlændingeloven"
          ],
          [
           14,
           "udlændingeloven"
          ],
          [
           20,
           "udlændingeloven"
          ],
          [
           28,
           "udlændingeloven"
          ],
          [
           9,
           "udlændingeloven"
          ],
          [
           11,
           "udlændingeloven"
          ],
          [
           9,
           "udlændingeloven"
          ],
          [
           4,
           "udlændingeloven"
          ],
          [
           6,
           "udlændingeloven"
          ],
          [
           8,
           "udlændingeloven"
          ],
          [
           7,
           "udlændingeloven"
          ],
          [
           7,
           "udlændingeloven"
          ],
          [
           8,
           "udlændingeloven"
          ],
          [
           2,
           "udlændingeloven"
          ],
          [
           2,
           "udlændingeloven"
          ],
          [
           2,
           "udlændingeloven"
          ],
          [
           5,
           "udlændingeloven"
          ],
          [
           2,
           "udlændingeloven"
          ],
          [
           5,
           "udlændingeloven"
          ],
          [
           1,
           "udlændingeloven"
          ]
         ],
         "hovertemplate": "<b>%{hovertext}</b><br><br>year=%{x}<br>share=%{y:.1%}<br>count=%{customdata[0]:.0f}<extra></extra>",
         "hovertext": [
          "udlændingeloven",
          "udlændingeloven",
          "udlændingeloven",
          "udlændingeloven",
          "udlændingeloven",
          "udlændingeloven",
          "udlændingeloven",
          "udlændingeloven",
          "udlændingeloven",
          "udlændingeloven",
          "udlændingeloven",
          "udlændingeloven",
          "udlændingeloven",
          "udlændingeloven",
          "udlændingeloven",
          "udlændingeloven",
          "udlændingeloven",
          "udlændingeloven",
          "udlændingeloven",
          "udlændingeloven",
          "udlændingeloven",
          "udlændingeloven",
          "udlændingeloven",
          "udlændingeloven",
          "udlændingeloven",
          "udlændingeloven",
          "udlændingeloven",
          "udlændingeloven",
          "udlændingeloven",
          "udlændingeloven",
          "udlændingeloven",
          "udlændingeloven",
          "udlændingeloven",
          "udlændingeloven",
          "udlændingeloven",
          "udlændingeloven",
          "udlændingeloven",
          "udlændingeloven",
          "udlændingeloven"
         ],
         "legendgroup": "udlændingeloven",
         "marker": {
          "color": "rgb(135, 197, 95)",
          "pattern": {
           "shape": ""
          }
         },
         "name": "udlændingeloven",
         "offsetgroup": "udlændingeloven",
         "orientation": "v",
         "showlegend": true,
         "textposition": "auto",
         "type": "bar",
         "x": [
          2021,
          2020,
          2019,
          2018,
          2017,
          2016,
          2015,
          2014,
          2013,
          2012,
          2011,
          2010,
          2009,
          2008,
          2007,
          2006,
          2005,
          2004,
          2003,
          2002,
          2001,
          2000,
          1999,
          1998,
          1997,
          1996,
          1995,
          1994,
          1993,
          1992,
          1991,
          1990,
          1989,
          1988,
          1987,
          1986,
          1985,
          1984,
          1983
         ],
         "xaxis": "x",
         "y": [
          0.040380047505938245,
          0.03753351206434316,
          0.04748603351955307,
          0.04945054945054945,
          0.03260869565217391,
          0.030534351145038167,
          0.018867924528301886,
          0.00997506234413965,
          0.014218009478672985,
          0.019271948608137045,
          0.030973451327433628,
          0.029069767441860465,
          0.02843601895734597,
          0.06883365200764818,
          0.029850746268656716,
          0.04316546762589928,
          0.05092592592592592,
          0.03806228373702422,
          0.03502626970227671,
          0.031914893617021274,
          0.029288702928870293,
          0.0408997955010225,
          0.06086956521739131,
          0.02459016393442623,
          0.030136986301369864,
          0.022670025188916875,
          0.016,
          0.02112676056338028,
          0.031496062992125984,
          0.030837004405286344,
          0.028112449799196786,
          0.04020100502512563,
          0.008968609865470852,
          0.008733624454148471,
          0.00796812749003984,
          0.021367521367521368,
          0.007220216606498195,
          0.017421602787456445,
          0.003289473684210526
         ],
         "yaxis": "y"
        },
        {
         "alignmentgroup": "True",
         "customdata": [
          [
           16,
           "menneskerettighedskonventionen"
          ],
          [
           9,
           "menneskerettighedskonventionen"
          ],
          [
           15,
           "menneskerettighedskonventionen"
          ],
          [
           14,
           "menneskerettighedskonventionen"
          ],
          [
           11,
           "menneskerettighedskonventionen"
          ],
          [
           9,
           "menneskerettighedskonventionen"
          ],
          [
           9,
           "menneskerettighedskonventionen"
          ],
          [
           13,
           "menneskerettighedskonventionen"
          ],
          [
           9,
           "menneskerettighedskonventionen"
          ],
          [
           25,
           "menneskerettighedskonventionen"
          ],
          [
           11,
           "menneskerettighedskonventionen"
          ],
          [
           8,
           "menneskerettighedskonventionen"
          ],
          [
           4,
           "menneskerettighedskonventionen"
          ],
          [
           7,
           "menneskerettighedskonventionen"
          ],
          [
           9,
           "menneskerettighedskonventionen"
          ],
          [
           7,
           "menneskerettighedskonventionen"
          ],
          [
           14,
           "menneskerettighedskonventionen"
          ],
          [
           10,
           "menneskerettighedskonventionen"
          ],
          [
           9,
           "menneskerettighedskonventionen"
          ],
          [
           6,
           "menneskerettighedskonventionen"
          ],
          [
           11,
           "menneskerettighedskonventionen"
          ],
          [
           20,
           "menneskerettighedskonventionen"
          ],
          [
           29,
           "menneskerettighedskonventionen"
          ],
          [
           5,
           "menneskerettighedskonventionen"
          ],
          [
           8,
           "menneskerettighedskonventionen"
          ],
          [
           3,
           "menneskerettighedskonventionen"
          ],
          [
           3,
           "menneskerettighedskonventionen"
          ]
         ],
         "hovertemplate": "<b>%{hovertext}</b><br><br>year=%{x}<br>share=%{y:.1%}<br>count=%{customdata[0]:.0f}<extra></extra>",
         "hovertext": [
          "menneskerettighedskonventionen",
          "menneskerettighedskonventionen",
          "menneskerettighedskonventionen",
          "menneskerettighedskonventionen",
          "menneskerettighedskonventionen",
          "menneskerettighedskonventionen",
          "menneskerettighedskonventionen",
          "menneskerettighedskonventionen",
          "menneskerettighedskonventionen",
          "menneskerettighedskonventionen",
          "menneskerettighedskonventionen",
          "menneskerettighedskonventionen",
          "menneskerettighedskonventionen",
          "menneskerettighedskonventionen",
          "menneskerettighedskonventionen",
          "menneskerettighedskonventionen",
          "menneskerettighedskonventionen",
          "menneskerettighedskonventionen",
          "menneskerettighedskonventionen",
          "menneskerettighedskonventionen",
          "menneskerettighedskonventionen",
          "menneskerettighedskonventionen",
          "menneskerettighedskonventionen",
          "menneskerettighedskonventionen",
          "menneskerettighedskonventionen",
          "menneskerettighedskonventionen",
          "menneskerettighedskonventionen"
         ],
         "legendgroup": "menneskerettighedskonventionen",
         "marker": {
          "color": "rgb(158, 185, 243)",
          "pattern": {
           "shape": ""
          }
         },
         "name": "menneskerettighedskonventionen",
         "offsetgroup": "menneskerettighedskonventionen",
         "orientation": "v",
         "showlegend": true,
         "textposition": "auto",
         "type": "bar",
         "x": [
          2021,
          2020,
          2019,
          2018,
          2017,
          2016,
          2015,
          2014,
          2013,
          2012,
          2011,
          2010,
          2009,
          2008,
          2007,
          2006,
          2005,
          2004,
          2003,
          2002,
          2001,
          2000,
          1999,
          1998,
          1997,
          1996,
          1995
         ],
         "xaxis": "x",
         "y": [
          0.03800475059382423,
          0.024128686327077747,
          0.04189944134078212,
          0.038461538461538464,
          0.029891304347826088,
          0.022900763358778626,
          0.02425876010781671,
          0.032418952618453865,
          0.02132701421800948,
          0.05353319057815846,
          0.024336283185840708,
          0.023255813953488372,
          0.009478672985781991,
          0.01338432122370937,
          0.016791044776119403,
          0.012589928057553957,
          0.021604938271604937,
          0.01730103806228374,
          0.01576182136602452,
          0.01276595744680851,
          0.02301255230125523,
          0.0408997955010225,
          0.06304347826086956,
          0.01366120218579235,
          0.021917808219178082,
          0.007556675062972292,
          0.012
         ],
         "yaxis": "y"
        },
        {
         "alignmentgroup": "True",
         "customdata": [
          [
           14,
           "konkursloven"
          ],
          [
           6,
           "konkursloven"
          ],
          [
           9,
           "konkursloven"
          ],
          [
           6,
           "konkursloven"
          ],
          [
           9,
           "konkursloven"
          ],
          [
           8,
           "konkursloven"
          ],
          [
           11,
           "konkursloven"
          ],
          [
           11,
           "konkursloven"
          ],
          [
           10,
           "konkursloven"
          ],
          [
           4,
           "konkursloven"
          ],
          [
           8,
           "konkursloven"
          ],
          [
           10,
           "konkursloven"
          ],
          [
           7,
           "konkursloven"
          ],
          [
           9,
           "konkursloven"
          ],
          [
           12,
           "konkursloven"
          ],
          [
           11,
           "konkursloven"
          ],
          [
           16,
           "konkursloven"
          ],
          [
           8,
           "konkursloven"
          ],
          [
           11,
           "konkursloven"
          ],
          [
           9,
           "konkursloven"
          ],
          [
           12,
           "konkursloven"
          ],
          [
           11,
           "konkursloven"
          ],
          [
           14,
           "konkursloven"
          ],
          [
           12,
           "konkursloven"
          ],
          [
           11,
           "konkursloven"
          ],
          [
           12,
           "konkursloven"
          ],
          [
           9,
           "konkursloven"
          ],
          [
           14,
           "konkursloven"
          ],
          [
           14,
           "konkursloven"
          ],
          [
           6,
           "konkursloven"
          ],
          [
           10,
           "konkursloven"
          ],
          [
           7,
           "konkursloven"
          ],
          [
           3,
           "konkursloven"
          ],
          [
           12,
           "konkursloven"
          ],
          [
           15,
           "konkursloven"
          ],
          [
           15,
           "konkursloven"
          ],
          [
           24,
           "konkursloven"
          ],
          [
           21,
           "konkursloven"
          ],
          [
           17,
           "konkursloven"
          ],
          [
           29,
           "konkursloven"
          ],
          [
           18,
           "konkursloven"
          ],
          [
           13,
           "konkursloven"
          ],
          [
           10,
           "konkursloven"
          ],
          [
           8,
           "konkursloven"
          ],
          [
           9,
           "konkursloven"
          ],
          [
           6,
           "konkursloven"
          ],
          [
           4,
           "konkursloven"
          ],
          [
           7,
           "konkursloven"
          ],
          [
           8,
           "konkursloven"
          ],
          [
           9,
           "konkursloven"
          ],
          [
           3,
           "konkursloven"
          ],
          [
           2,
           "konkursloven"
          ],
          [
           4,
           "konkursloven"
          ],
          [
           7,
           "konkursloven"
          ],
          [
           3,
           "konkursloven"
          ],
          [
           1,
           "konkursloven"
          ],
          [
           1,
           "konkursloven"
          ],
          [
           1,
           "konkursloven"
          ],
          [
           5,
           "konkursloven"
          ],
          [
           4,
           "konkursloven"
          ],
          [
           7,
           "konkursloven"
          ],
          [
           7,
           "konkursloven"
          ],
          [
           6,
           "konkursloven"
          ],
          [
           8,
           "konkursloven"
          ],
          [
           13,
           "konkursloven"
          ],
          [
           5,
           "konkursloven"
          ],
          [
           8,
           "konkursloven"
          ],
          [
           6,
           "konkursloven"
          ],
          [
           8,
           "konkursloven"
          ],
          [
           3,
           "konkursloven"
          ]
         ],
         "hovertemplate": "<b>%{hovertext}</b><br><br>year=%{x}<br>share=%{y:.1%}<br>count=%{customdata[0]:.0f}<extra></extra>",
         "hovertext": [
          "konkursloven",
          "konkursloven",
          "konkursloven",
          "konkursloven",
          "konkursloven",
          "konkursloven",
          "konkursloven",
          "konkursloven",
          "konkursloven",
          "konkursloven",
          "konkursloven",
          "konkursloven",
          "konkursloven",
          "konkursloven",
          "konkursloven",
          "konkursloven",
          "konkursloven",
          "konkursloven",
          "konkursloven",
          "konkursloven",
          "konkursloven",
          "konkursloven",
          "konkursloven",
          "konkursloven",
          "konkursloven",
          "konkursloven",
          "konkursloven",
          "konkursloven",
          "konkursloven",
          "konkursloven",
          "konkursloven",
          "konkursloven",
          "konkursloven",
          "konkursloven",
          "konkursloven",
          "konkursloven",
          "konkursloven",
          "konkursloven",
          "konkursloven",
          "konkursloven",
          "konkursloven",
          "konkursloven",
          "konkursloven",
          "konkursloven",
          "konkursloven",
          "konkursloven",
          "konkursloven",
          "konkursloven",
          "konkursloven",
          "konkursloven",
          "konkursloven",
          "konkursloven",
          "konkursloven",
          "konkursloven",
          "konkursloven",
          "konkursloven",
          "konkursloven",
          "konkursloven",
          "konkursloven",
          "konkursloven",
          "konkursloven",
          "konkursloven",
          "konkursloven",
          "konkursloven",
          "konkursloven",
          "konkursloven",
          "konkursloven",
          "konkursloven",
          "konkursloven",
          "konkursloven"
         ],
         "legendgroup": "konkursloven",
         "marker": {
          "color": "rgb(254, 136, 177)",
          "pattern": {
           "shape": ""
          }
         },
         "name": "konkursloven",
         "offsetgroup": "konkursloven",
         "orientation": "v",
         "showlegend": true,
         "textposition": "auto",
         "type": "bar",
         "x": [
          2021,
          2020,
          2019,
          2018,
          2017,
          2016,
          2015,
          2014,
          2013,
          2012,
          2011,
          2010,
          2009,
          2008,
          2007,
          2006,
          2005,
          2004,
          2003,
          2002,
          2001,
          2000,
          1999,
          1998,
          1997,
          1996,
          1995,
          1994,
          1993,
          1992,
          1991,
          1990,
          1989,
          1988,
          1987,
          1986,
          1985,
          1984,
          1983,
          1982,
          1981,
          1980,
          1979,
          1978,
          1977,
          1976,
          1975,
          1974,
          1973,
          1972,
          1971,
          1970,
          1969,
          1968,
          1967,
          1966,
          1963,
          1962,
          1961,
          1960,
          1959,
          1958,
          1957,
          1956,
          1955,
          1954,
          1953,
          1952,
          1951,
          1950
         ],
         "xaxis": "x",
         "y": [
          0.0332541567695962,
          0.0160857908847185,
          0.025139664804469275,
          0.016483516483516484,
          0.024456521739130436,
          0.020356234096692113,
          0.029649595687331536,
          0.02743142144638404,
          0.023696682464454975,
          0.008565310492505354,
          0.017699115044247787,
          0.029069767441860465,
          0.016587677725118485,
          0.017208413001912046,
          0.022388059701492536,
          0.019784172661870502,
          0.024691358024691357,
          0.01384083044982699,
          0.01926444833625219,
          0.019148936170212766,
          0.02510460251046025,
          0.022494887525562373,
          0.030434782608695653,
          0.03278688524590164,
          0.030136986301369864,
          0.030226700251889168,
          0.036,
          0.04929577464788732,
          0.05511811023622047,
          0.02643171806167401,
          0.040160642570281124,
          0.035175879396984924,
          0.013452914798206279,
          0.05240174672489083,
          0.05976095617529881,
          0.0641025641025641,
          0.08664259927797834,
          0.07317073170731707,
          0.05592105263157895,
          0.08579881656804733,
          0.0636042402826855,
          0.04318936877076412,
          0.028735632183908046,
          0.026755852842809364,
          0.02586206896551724,
          0.016129032258064516,
          0.011661807580174927,
          0.019886363636363636,
          0.027586206896551724,
          0.025280898876404494,
          0.010714285714285714,
          0.006711409395973154,
          0.0121580547112462,
          0.025,
          0.008746355685131196,
          0.0030303030303030303,
          0.0030303030303030303,
          0.0029850746268656717,
          0.013297872340425532,
          0.010178117048346057,
          0.01818181818181818,
          0.0220125786163522,
          0.019867549668874173,
          0.027972027972027972,
          0.04887218045112782,
          0.022123893805309734,
          0.03225806451612903,
          0.024691358024691357,
          0.03524229074889868,
          0.013824884792626729
         ],
         "yaxis": "y"
        },
        {
         "alignmentgroup": "True",
         "customdata": [
          [
           10,
           "aftaleloven"
          ],
          [
           8,
           "aftaleloven"
          ],
          [
           4,
           "aftaleloven"
          ],
          [
           2,
           "aftaleloven"
          ],
          [
           3,
           "aftaleloven"
          ],
          [
           7,
           "aftaleloven"
          ],
          [
           8,
           "aftaleloven"
          ],
          [
           13,
           "aftaleloven"
          ],
          [
           18,
           "aftaleloven"
          ],
          [
           12,
           "aftaleloven"
          ],
          [
           19,
           "aftaleloven"
          ],
          [
           20,
           "aftaleloven"
          ],
          [
           22,
           "aftaleloven"
          ],
          [
           16,
           "aftaleloven"
          ],
          [
           16,
           "aftaleloven"
          ],
          [
           12,
           "aftaleloven"
          ],
          [
           7,
           "aftaleloven"
          ],
          [
           12,
           "aftaleloven"
          ],
          [
           12,
           "aftaleloven"
          ],
          [
           8,
           "aftaleloven"
          ],
          [
           5,
           "aftaleloven"
          ],
          [
           6,
           "aftaleloven"
          ],
          [
           5,
           "aftaleloven"
          ],
          [
           3,
           "aftaleloven"
          ],
          [
           2,
           "aftaleloven"
          ],
          [
           2,
           "aftaleloven"
          ],
          [
           2,
           "aftaleloven"
          ],
          [
           7,
           "aftaleloven"
          ],
          [
           3,
           "aftaleloven"
          ],
          [
           2,
           "aftaleloven"
          ],
          [
           7,
           "aftaleloven"
          ],
          [
           2,
           "aftaleloven"
          ],
          [
           6,
           "aftaleloven"
          ],
          [
           3,
           "aftaleloven"
          ],
          [
           9,
           "aftaleloven"
          ],
          [
           3,
           "aftaleloven"
          ],
          [
           5,
           "aftaleloven"
          ],
          [
           4,
           "aftaleloven"
          ],
          [
           7,
           "aftaleloven"
          ],
          [
           6,
           "aftaleloven"
          ],
          [
           8,
           "aftaleloven"
          ],
          [
           4,
           "aftaleloven"
          ],
          [
           5,
           "aftaleloven"
          ],
          [
           5,
           "aftaleloven"
          ],
          [
           6,
           "aftaleloven"
          ],
          [
           2,
           "aftaleloven"
          ],
          [
           3,
           "aftaleloven"
          ],
          [
           5,
           "aftaleloven"
          ],
          [
           1,
           "aftaleloven"
          ],
          [
           8,
           "aftaleloven"
          ],
          [
           4,
           "aftaleloven"
          ],
          [
           2,
           "aftaleloven"
          ],
          [
           3,
           "aftaleloven"
          ],
          [
           2,
           "aftaleloven"
          ],
          [
           4,
           "aftaleloven"
          ],
          [
           4,
           "aftaleloven"
          ],
          [
           2,
           "aftaleloven"
          ],
          [
           2,
           "aftaleloven"
          ],
          [
           6,
           "aftaleloven"
          ],
          [
           4,
           "aftaleloven"
          ],
          [
           2,
           "aftaleloven"
          ],
          [
           5,
           "aftaleloven"
          ],
          [
           5,
           "aftaleloven"
          ],
          [
           2,
           "aftaleloven"
          ],
          [
           5,
           "aftaleloven"
          ],
          [
           4,
           "aftaleloven"
          ],
          [
           2,
           "aftaleloven"
          ],
          [
           6,
           "aftaleloven"
          ],
          [
           5,
           "aftaleloven"
          ],
          [
           9,
           "aftaleloven"
          ],
          [
           2,
           "aftaleloven"
          ]
         ],
         "hovertemplate": "<b>%{hovertext}</b><br><br>year=%{x}<br>share=%{y:.1%}<br>count=%{customdata[0]:.0f}<extra></extra>",
         "hovertext": [
          "aftaleloven",
          "aftaleloven",
          "aftaleloven",
          "aftaleloven",
          "aftaleloven",
          "aftaleloven",
          "aftaleloven",
          "aftaleloven",
          "aftaleloven",
          "aftaleloven",
          "aftaleloven",
          "aftaleloven",
          "aftaleloven",
          "aftaleloven",
          "aftaleloven",
          "aftaleloven",
          "aftaleloven",
          "aftaleloven",
          "aftaleloven",
          "aftaleloven",
          "aftaleloven",
          "aftaleloven",
          "aftaleloven",
          "aftaleloven",
          "aftaleloven",
          "aftaleloven",
          "aftaleloven",
          "aftaleloven",
          "aftaleloven",
          "aftaleloven",
          "aftaleloven",
          "aftaleloven",
          "aftaleloven",
          "aftaleloven",
          "aftaleloven",
          "aftaleloven",
          "aftaleloven",
          "aftaleloven",
          "aftaleloven",
          "aftaleloven",
          "aftaleloven",
          "aftaleloven",
          "aftaleloven",
          "aftaleloven",
          "aftaleloven",
          "aftaleloven",
          "aftaleloven",
          "aftaleloven",
          "aftaleloven",
          "aftaleloven",
          "aftaleloven",
          "aftaleloven",
          "aftaleloven",
          "aftaleloven",
          "aftaleloven",
          "aftaleloven",
          "aftaleloven",
          "aftaleloven",
          "aftaleloven",
          "aftaleloven",
          "aftaleloven",
          "aftaleloven",
          "aftaleloven",
          "aftaleloven",
          "aftaleloven",
          "aftaleloven",
          "aftaleloven",
          "aftaleloven",
          "aftaleloven",
          "aftaleloven",
          "aftaleloven"
         ],
         "legendgroup": "aftaleloven",
         "marker": {
          "color": "rgb(201, 219, 116)",
          "pattern": {
           "shape": ""
          }
         },
         "name": "aftaleloven",
         "offsetgroup": "aftaleloven",
         "orientation": "v",
         "showlegend": true,
         "textposition": "auto",
         "type": "bar",
         "x": [
          2021,
          2020,
          2019,
          2018,
          2017,
          2016,
          2015,
          2014,
          2013,
          2012,
          2011,
          2010,
          2009,
          2008,
          2007,
          2006,
          2005,
          2004,
          2003,
          2002,
          2001,
          2000,
          1999,
          1998,
          1997,
          1996,
          1995,
          1994,
          1993,
          1992,
          1991,
          1990,
          1989,
          1988,
          1987,
          1986,
          1985,
          1984,
          1983,
          1982,
          1981,
          1980,
          1979,
          1978,
          1977,
          1976,
          1975,
          1974,
          1973,
          1972,
          1971,
          1970,
          1969,
          1968,
          1967,
          1966,
          1965,
          1964,
          1963,
          1962,
          1961,
          1960,
          1959,
          1958,
          1957,
          1955,
          1954,
          1953,
          1952,
          1951,
          1950
         ],
         "xaxis": "x",
         "y": [
          0.023752969121140142,
          0.021447721179624665,
          0.0111731843575419,
          0.005494505494505495,
          0.008152173913043478,
          0.017811704834605598,
          0.0215633423180593,
          0.032418952618453865,
          0.04265402843601896,
          0.02569593147751606,
          0.0420353982300885,
          0.05813953488372093,
          0.052132701421800945,
          0.030592734225621414,
          0.029850746268656716,
          0.02158273381294964,
          0.010802469135802469,
          0.020761245674740483,
          0.021015761821366025,
          0.01702127659574468,
          0.010460251046025104,
          0.012269938650306749,
          0.010869565217391304,
          0.00819672131147541,
          0.005479452054794521,
          0.005037783375314861,
          0.008,
          0.02464788732394366,
          0.011811023622047244,
          0.00881057268722467,
          0.028112449799196786,
          0.010050251256281407,
          0.026905829596412557,
          0.013100436681222707,
          0.035856573705179286,
          0.01282051282051282,
          0.018050541516245487,
          0.013937282229965157,
          0.023026315789473683,
          0.01775147928994083,
          0.028268551236749116,
          0.013289036544850499,
          0.014367816091954023,
          0.016722408026755852,
          0.017241379310344827,
          0.005376344086021506,
          0.008746355685131196,
          0.014204545454545454,
          0.0034482758620689655,
          0.02247191011235955,
          0.014285714285714285,
          0.006711409395973154,
          0.00911854103343465,
          0.007142857142857143,
          0.011661807580174927,
          0.012121212121212121,
          0.006756756756756757,
          0.006535947712418301,
          0.01818181818181818,
          0.011940298507462687,
          0.005319148936170213,
          0.01272264631043257,
          0.012987012987012988,
          0.006289308176100629,
          0.016556291390728478,
          0.015037593984962405,
          0.008849557522123894,
          0.024193548387096774,
          0.0205761316872428,
          0.039647577092511016,
          0.009216589861751152
         ],
         "yaxis": "y"
        },
        {
         "alignmentgroup": "True",
         "customdata": [
          [
           8,
           "færdselsloven"
          ],
          [
           12,
           "færdselsloven"
          ],
          [
           10,
           "færdselsloven"
          ],
          [
           10,
           "færdselsloven"
          ],
          [
           17,
           "færdselsloven"
          ],
          [
           28,
           "færdselsloven"
          ],
          [
           14,
           "færdselsloven"
          ],
          [
           19,
           "færdselsloven"
          ],
          [
           24,
           "færdselsloven"
          ],
          [
           21,
           "færdselsloven"
          ],
          [
           18,
           "færdselsloven"
          ],
          [
           20,
           "færdselsloven"
          ],
          [
           19,
           "færdselsloven"
          ],
          [
           26,
           "færdselsloven"
          ],
          [
           32,
           "færdselsloven"
          ],
          [
           34,
           "færdselsloven"
          ],
          [
           29,
           "færdselsloven"
          ],
          [
           33,
           "færdselsloven"
          ],
          [
           33,
           "færdselsloven"
          ],
          [
           30,
           "færdselsloven"
          ],
          [
           38,
           "færdselsloven"
          ],
          [
           32,
           "færdselsloven"
          ],
          [
           29,
           "færdselsloven"
          ],
          [
           26,
           "færdselsloven"
          ],
          [
           15,
           "færdselsloven"
          ],
          [
           24,
           "færdselsloven"
          ],
          [
           19,
           "færdselsloven"
          ],
          [
           25,
           "færdselsloven"
          ],
          [
           14,
           "færdselsloven"
          ],
          [
           24,
           "færdselsloven"
          ],
          [
           16,
           "færdselsloven"
          ],
          [
           5,
           "færdselsloven"
          ],
          [
           14,
           "færdselsloven"
          ],
          [
           15,
           "færdselsloven"
          ],
          [
           14,
           "færdselsloven"
          ],
          [
           14,
           "færdselsloven"
          ],
          [
           13,
           "færdselsloven"
          ],
          [
           17,
           "færdselsloven"
          ],
          [
           14,
           "færdselsloven"
          ],
          [
           27,
           "færdselsloven"
          ],
          [
           5,
           "færdselsloven"
          ],
          [
           13,
           "færdselsloven"
          ],
          [
           38,
           "færdselsloven"
          ],
          [
           42,
           "færdselsloven"
          ],
          [
           55,
           "færdselsloven"
          ],
          [
           84,
           "færdselsloven"
          ],
          [
           49,
           "færdselsloven"
          ],
          [
           58,
           "færdselsloven"
          ],
          [
           49,
           "færdselsloven"
          ],
          [
           64,
           "færdselsloven"
          ],
          [
           35,
           "færdselsloven"
          ],
          [
           63,
           "færdselsloven"
          ],
          [
           58,
           "færdselsloven"
          ],
          [
           50,
           "færdselsloven"
          ],
          [
           80,
           "færdselsloven"
          ],
          [
           76,
           "færdselsloven"
          ],
          [
           56,
           "færdselsloven"
          ],
          [
           64,
           "færdselsloven"
          ],
          [
           54,
           "færdselsloven"
          ],
          [
           69,
           "færdselsloven"
          ],
          [
           69,
           "færdselsloven"
          ],
          [
           60,
           "færdselsloven"
          ],
          [
           69,
           "færdselsloven"
          ],
          [
           42,
           "færdselsloven"
          ],
          [
           27,
           "færdselsloven"
          ],
          [
           22,
           "færdselsloven"
          ],
          [
           2,
           "færdselsloven"
          ]
         ],
         "hovertemplate": "<b>%{hovertext}</b><br><br>year=%{x}<br>share=%{y:.1%}<br>count=%{customdata[0]:.0f}<extra></extra>",
         "hovertext": [
          "færdselsloven",
          "færdselsloven",
          "færdselsloven",
          "færdselsloven",
          "færdselsloven",
          "færdselsloven",
          "færdselsloven",
          "færdselsloven",
          "færdselsloven",
          "færdselsloven",
          "færdselsloven",
          "færdselsloven",
          "færdselsloven",
          "færdselsloven",
          "færdselsloven",
          "færdselsloven",
          "færdselsloven",
          "færdselsloven",
          "færdselsloven",
          "færdselsloven",
          "færdselsloven",
          "færdselsloven",
          "færdselsloven",
          "færdselsloven",
          "færdselsloven",
          "færdselsloven",
          "færdselsloven",
          "færdselsloven",
          "færdselsloven",
          "færdselsloven",
          "færdselsloven",
          "færdselsloven",
          "færdselsloven",
          "færdselsloven",
          "færdselsloven",
          "færdselsloven",
          "færdselsloven",
          "færdselsloven",
          "færdselsloven",
          "færdselsloven",
          "færdselsloven",
          "færdselsloven",
          "færdselsloven",
          "færdselsloven",
          "færdselsloven",
          "færdselsloven",
          "færdselsloven",
          "færdselsloven",
          "færdselsloven",
          "færdselsloven",
          "færdselsloven",
          "færdselsloven",
          "færdselsloven",
          "færdselsloven",
          "færdselsloven",
          "færdselsloven",
          "færdselsloven",
          "færdselsloven",
          "færdselsloven",
          "færdselsloven",
          "færdselsloven",
          "færdselsloven",
          "færdselsloven",
          "færdselsloven",
          "færdselsloven",
          "færdselsloven",
          "færdselsloven"
         ],
         "legendgroup": "færdselsloven",
         "marker": {
          "color": "rgb(139, 224, 164)",
          "pattern": {
           "shape": ""
          }
         },
         "name": "færdselsloven",
         "offsetgroup": "færdselsloven",
         "orientation": "v",
         "showlegend": true,
         "textposition": "auto",
         "type": "bar",
         "x": [
          2021,
          2020,
          2019,
          2018,
          2017,
          2016,
          2015,
          2014,
          2013,
          2012,
          2011,
          2010,
          2009,
          2008,
          2007,
          2006,
          2005,
          2004,
          2003,
          2002,
          2001,
          2000,
          1999,
          1998,
          1997,
          1996,
          1995,
          1994,
          1993,
          1992,
          1991,
          1990,
          1989,
          1988,
          1987,
          1986,
          1985,
          1984,
          1983,
          1982,
          1981,
          1980,
          1979,
          1978,
          1977,
          1976,
          1975,
          1974,
          1973,
          1972,
          1971,
          1970,
          1969,
          1968,
          1967,
          1966,
          1965,
          1964,
          1963,
          1962,
          1961,
          1960,
          1959,
          1958,
          1957,
          1956,
          1955
         ],
         "xaxis": "x",
         "y": [
          0.019002375296912115,
          0.032171581769437,
          0.027932960893854747,
          0.027472527472527472,
          0.04619565217391304,
          0.07124681933842239,
          0.03773584905660377,
          0.04738154613466334,
          0.05687203791469194,
          0.044967880085653104,
          0.03982300884955752,
          0.05813953488372093,
          0.045023696682464455,
          0.0497131931166348,
          0.05970149253731343,
          0.06115107913669065,
          0.044753086419753084,
          0.05709342560553633,
          0.05779334500875657,
          0.06382978723404255,
          0.0794979079497908,
          0.065439672801636,
          0.06304347826086956,
          0.07103825136612021,
          0.0410958904109589,
          0.060453400503778336,
          0.076,
          0.0880281690140845,
          0.05511811023622047,
          0.10572687224669604,
          0.0642570281124498,
          0.02512562814070352,
          0.06278026905829596,
          0.06550218340611354,
          0.055776892430278883,
          0.05982905982905983,
          0.04693140794223827,
          0.059233449477351915,
          0.046052631578947366,
          0.07988165680473373,
          0.0176678445229682,
          0.04318936877076412,
          0.10919540229885058,
          0.14046822742474915,
          0.15804597701149425,
          0.22580645161290322,
          0.14285714285714285,
          0.16477272727272727,
          0.16896551724137931,
          0.1797752808988764,
          0.125,
          0.21140939597315436,
          0.1762917933130699,
          0.17857142857142858,
          0.23323615160349853,
          0.23030303030303031,
          0.1891891891891892,
          0.20915032679738563,
          0.16363636363636364,
          0.20597014925373133,
          0.18351063829787234,
          0.15267175572519084,
          0.17922077922077922,
          0.1320754716981132,
          0.08940397350993377,
          0.07692307692307693,
          0.007518796992481203
         ],
         "yaxis": "y"
        },
        {
         "alignmentgroup": "True",
         "customdata": [
          [
           7,
           "funktionærloven"
          ],
          [
           7,
           "funktionærloven"
          ],
          [
           9,
           "funktionærloven"
          ],
          [
           9,
           "funktionærloven"
          ],
          [
           6,
           "funktionærloven"
          ],
          [
           9,
           "funktionærloven"
          ],
          [
           10,
           "funktionærloven"
          ],
          [
           10,
           "funktionærloven"
          ],
          [
           11,
           "funktionærloven"
          ],
          [
           10,
           "funktionærloven"
          ],
          [
           10,
           "funktionærloven"
          ],
          [
           7,
           "funktionærloven"
          ],
          [
           8,
           "funktionærloven"
          ],
          [
           11,
           "funktionærloven"
          ],
          [
           11,
           "funktionærloven"
          ],
          [
           8,
           "funktionærloven"
          ],
          [
           8,
           "funktionærloven"
          ],
          [
           8,
           "funktionærloven"
          ],
          [
           10,
           "funktionærloven"
          ],
          [
           6,
           "funktionærloven"
          ],
          [
           11,
           "funktionærloven"
          ],
          [
           14,
           "funktionærloven"
          ],
          [
           5,
           "funktionærloven"
          ],
          [
           5,
           "funktionærloven"
          ],
          [
           16,
           "funktionærloven"
          ],
          [
           6,
           "funktionærloven"
          ],
          [
           6,
           "funktionærloven"
          ],
          [
           16,
           "funktionærloven"
          ],
          [
           8,
           "funktionærloven"
          ],
          [
           5,
           "funktionærloven"
          ],
          [
           11,
           "funktionærloven"
          ],
          [
           2,
           "funktionærloven"
          ],
          [
           11,
           "funktionærloven"
          ],
          [
           13,
           "funktionærloven"
          ],
          [
           8,
           "funktionærloven"
          ],
          [
           11,
           "funktionærloven"
          ],
          [
           8,
           "funktionærloven"
          ],
          [
           10,
           "funktionærloven"
          ],
          [
           16,
           "funktionærloven"
          ],
          [
           11,
           "funktionærloven"
          ],
          [
           12,
           "funktionærloven"
          ],
          [
           7,
           "funktionærloven"
          ],
          [
           9,
           "funktionærloven"
          ],
          [
           9,
           "funktionærloven"
          ],
          [
           11,
           "funktionærloven"
          ],
          [
           11,
           "funktionærloven"
          ],
          [
           14,
           "funktionærloven"
          ],
          [
           12,
           "funktionærloven"
          ],
          [
           28,
           "funktionærloven"
          ],
          [
           17,
           "funktionærloven"
          ],
          [
           9,
           "funktionærloven"
          ],
          [
           13,
           "funktionærloven"
          ],
          [
           13,
           "funktionærloven"
          ],
          [
           10,
           "funktionærloven"
          ],
          [
           10,
           "funktionærloven"
          ],
          [
           5,
           "funktionærloven"
          ],
          [
           2,
           "funktionærloven"
          ],
          [
           9,
           "funktionærloven"
          ],
          [
           4,
           "funktionærloven"
          ],
          [
           3,
           "funktionærloven"
          ],
          [
           8,
           "funktionærloven"
          ],
          [
           7,
           "funktionærloven"
          ],
          [
           7,
           "funktionærloven"
          ],
          [
           5,
           "funktionærloven"
          ],
          [
           7,
           "funktionærloven"
          ],
          [
           7,
           "funktionærloven"
          ],
          [
           11,
           "funktionærloven"
          ],
          [
           10,
           "funktionærloven"
          ],
          [
           10,
           "funktionærloven"
          ],
          [
           9,
           "funktionærloven"
          ],
          [
           14,
           "funktionærloven"
          ],
          [
           5,
           "funktionærloven"
          ]
         ],
         "hovertemplate": "<b>%{hovertext}</b><br><br>year=%{x}<br>share=%{y:.1%}<br>count=%{customdata[0]:.0f}<extra></extra>",
         "hovertext": [
          "funktionærloven",
          "funktionærloven",
          "funktionærloven",
          "funktionærloven",
          "funktionærloven",
          "funktionærloven",
          "funktionærloven",
          "funktionærloven",
          "funktionærloven",
          "funktionærloven",
          "funktionærloven",
          "funktionærloven",
          "funktionærloven",
          "funktionærloven",
          "funktionærloven",
          "funktionærloven",
          "funktionærloven",
          "funktionærloven",
          "funktionærloven",
          "funktionærloven",
          "funktionærloven",
          "funktionærloven",
          "funktionærloven",
          "funktionærloven",
          "funktionærloven",
          "funktionærloven",
          "funktionærloven",
          "funktionærloven",
          "funktionærloven",
          "funktionærloven",
          "funktionærloven",
          "funktionærloven",
          "funktionærloven",
          "funktionærloven",
          "funktionærloven",
          "funktionærloven",
          "funktionærloven",
          "funktionærloven",
          "funktionærloven",
          "funktionærloven",
          "funktionærloven",
          "funktionærloven",
          "funktionærloven",
          "funktionærloven",
          "funktionærloven",
          "funktionærloven",
          "funktionærloven",
          "funktionærloven",
          "funktionærloven",
          "funktionærloven",
          "funktionærloven",
          "funktionærloven",
          "funktionærloven",
          "funktionærloven",
          "funktionærloven",
          "funktionærloven",
          "funktionærloven",
          "funktionærloven",
          "funktionærloven",
          "funktionærloven",
          "funktionærloven",
          "funktionærloven",
          "funktionærloven",
          "funktionærloven",
          "funktionærloven",
          "funktionærloven",
          "funktionærloven",
          "funktionærloven",
          "funktionærloven",
          "funktionærloven",
          "funktionærloven",
          "funktionærloven"
         ],
         "legendgroup": "funktionærloven",
         "marker": {
          "color": "rgb(180, 151, 231)",
          "pattern": {
           "shape": ""
          }
         },
         "name": "funktionærloven",
         "offsetgroup": "funktionærloven",
         "orientation": "v",
         "showlegend": true,
         "textposition": "auto",
         "type": "bar",
         "x": [
          2021,
          2020,
          2019,
          2018,
          2017,
          2016,
          2015,
          2014,
          2013,
          2012,
          2011,
          2010,
          2009,
          2008,
          2007,
          2006,
          2005,
          2004,
          2003,
          2002,
          2001,
          2000,
          1999,
          1998,
          1997,
          1996,
          1995,
          1994,
          1993,
          1992,
          1991,
          1990,
          1989,
          1988,
          1987,
          1986,
          1985,
          1984,
          1983,
          1982,
          1981,
          1980,
          1979,
          1978,
          1977,
          1976,
          1975,
          1974,
          1973,
          1972,
          1971,
          1970,
          1969,
          1968,
          1967,
          1966,
          1965,
          1964,
          1963,
          1962,
          1961,
          1960,
          1959,
          1958,
          1957,
          1956,
          1955,
          1954,
          1953,
          1952,
          1951,
          1950
         ],
         "xaxis": "x",
         "y": [
          0.0166270783847981,
          0.01876675603217158,
          0.025139664804469275,
          0.024725274725274724,
          0.016304347826086956,
          0.022900763358778626,
          0.026954177897574125,
          0.02493765586034913,
          0.026066350710900472,
          0.021413276231263382,
          0.022123893805309734,
          0.020348837209302327,
          0.018957345971563982,
          0.021032504780114723,
          0.020522388059701493,
          0.014388489208633094,
          0.012345679012345678,
          0.01384083044982699,
          0.017513134851138354,
          0.01276595744680851,
          0.02301255230125523,
          0.028629856850715747,
          0.010869565217391304,
          0.01366120218579235,
          0.043835616438356165,
          0.015113350125944584,
          0.024,
          0.056338028169014086,
          0.031496062992125984,
          0.022026431718061675,
          0.04417670682730924,
          0.010050251256281407,
          0.04932735426008968,
          0.056768558951965066,
          0.03187250996015936,
          0.04700854700854701,
          0.02888086642599278,
          0.03484320557491289,
          0.05263157894736842,
          0.03254437869822485,
          0.04240282685512368,
          0.023255813953488372,
          0.02586206896551724,
          0.030100334448160536,
          0.031609195402298854,
          0.02956989247311828,
          0.04081632653061224,
          0.03409090909090909,
          0.09655172413793103,
          0.047752808988764044,
          0.03214285714285714,
          0.0436241610738255,
          0.03951367781155015,
          0.03571428571428571,
          0.029154518950437316,
          0.015151515151515152,
          0.006756756756756757,
          0.029411764705882353,
          0.012121212121212121,
          0.008955223880597015,
          0.02127659574468085,
          0.017811704834605598,
          0.01818181818181818,
          0.015723270440251572,
          0.023178807947019868,
          0.024475524475524476,
          0.041353383458646614,
          0.04424778761061947,
          0.04032258064516129,
          0.037037037037037035,
          0.06167400881057269,
          0.02304147465437788
         ],
         "yaxis": "y"
        },
        {
         "alignmentgroup": "True",
         "customdata": [
          [
           5,
           "lejeloven"
          ],
          [
           10,
           "lejeloven"
          ],
          [
           3,
           "lejeloven"
          ],
          [
           6,
           "lejeloven"
          ],
          [
           1,
           "lejeloven"
          ],
          [
           7,
           "lejeloven"
          ],
          [
           3,
           "lejeloven"
          ],
          [
           9,
           "lejeloven"
          ],
          [
           10,
           "lejeloven"
          ],
          [
           4,
           "lejeloven"
          ],
          [
           6,
           "lejeloven"
          ],
          [
           5,
           "lejeloven"
          ],
          [
           4,
           "lejeloven"
          ],
          [
           3,
           "lejeloven"
          ],
          [
           8,
           "lejeloven"
          ],
          [
           8,
           "lejeloven"
          ],
          [
           10,
           "lejeloven"
          ],
          [
           8,
           "lejeloven"
          ],
          [
           15,
           "lejeloven"
          ],
          [
           14,
           "lejeloven"
          ],
          [
           7,
           "lejeloven"
          ],
          [
           6,
           "lejeloven"
          ],
          [
           6,
           "lejeloven"
          ],
          [
           7,
           "lejeloven"
          ],
          [
           6,
           "lejeloven"
          ],
          [
           6,
           "lejeloven"
          ],
          [
           6,
           "lejeloven"
          ],
          [
           14,
           "lejeloven"
          ],
          [
           9,
           "lejeloven"
          ],
          [
           7,
           "lejeloven"
          ],
          [
           4,
           "lejeloven"
          ],
          [
           11,
           "lejeloven"
          ],
          [
           3,
           "lejeloven"
          ],
          [
           8,
           "lejeloven"
          ],
          [
           9,
           "lejeloven"
          ],
          [
           5,
           "lejeloven"
          ],
          [
           9,
           "lejeloven"
          ],
          [
           4,
           "lejeloven"
          ],
          [
           9,
           "lejeloven"
          ],
          [
           3,
           "lejeloven"
          ],
          [
           1,
           "lejeloven"
          ],
          [
           5,
           "lejeloven"
          ],
          [
           2,
           "lejeloven"
          ],
          [
           9,
           "lejeloven"
          ],
          [
           6,
           "lejeloven"
          ],
          [
           1,
           "lejeloven"
          ],
          [
           5,
           "lejeloven"
          ],
          [
           4,
           "lejeloven"
          ],
          [
           6,
           "lejeloven"
          ],
          [
           8,
           "lejeloven"
          ],
          [
           7,
           "lejeloven"
          ],
          [
           8,
           "lejeloven"
          ],
          [
           8,
           "lejeloven"
          ],
          [
           11,
           "lejeloven"
          ],
          [
           14,
           "lejeloven"
          ],
          [
           11,
           "lejeloven"
          ],
          [
           23,
           "lejeloven"
          ],
          [
           35,
           "lejeloven"
          ],
          [
           24,
           "lejeloven"
          ],
          [
           21,
           "lejeloven"
          ],
          [
           32,
           "lejeloven"
          ],
          [
           30,
           "lejeloven"
          ],
          [
           27,
           "lejeloven"
          ],
          [
           30,
           "lejeloven"
          ],
          [
           28,
           "lejeloven"
          ],
          [
           41,
           "lejeloven"
          ],
          [
           27,
           "lejeloven"
          ],
          [
           36,
           "lejeloven"
          ],
          [
           44,
           "lejeloven"
          ],
          [
           26,
           "lejeloven"
          ],
          [
           21,
           "lejeloven"
          ],
          [
           27,
           "lejeloven"
          ]
         ],
         "hovertemplate": "<b>%{hovertext}</b><br><br>year=%{x}<br>share=%{y:.1%}<br>count=%{customdata[0]:.0f}<extra></extra>",
         "hovertext": [
          "lejeloven",
          "lejeloven",
          "lejeloven",
          "lejeloven",
          "lejeloven",
          "lejeloven",
          "lejeloven",
          "lejeloven",
          "lejeloven",
          "lejeloven",
          "lejeloven",
          "lejeloven",
          "lejeloven",
          "lejeloven",
          "lejeloven",
          "lejeloven",
          "lejeloven",
          "lejeloven",
          "lejeloven",
          "lejeloven",
          "lejeloven",
          "lejeloven",
          "lejeloven",
          "lejeloven",
          "lejeloven",
          "lejeloven",
          "lejeloven",
          "lejeloven",
          "lejeloven",
          "lejeloven",
          "lejeloven",
          "lejeloven",
          "lejeloven",
          "lejeloven",
          "lejeloven",
          "lejeloven",
          "lejeloven",
          "lejeloven",
          "lejeloven",
          "lejeloven",
          "lejeloven",
          "lejeloven",
          "lejeloven",
          "lejeloven",
          "lejeloven",
          "lejeloven",
          "lejeloven",
          "lejeloven",
          "lejeloven",
          "lejeloven",
          "lejeloven",
          "lejeloven",
          "lejeloven",
          "lejeloven",
          "lejeloven",
          "lejeloven",
          "lejeloven",
          "lejeloven",
          "lejeloven",
          "lejeloven",
          "lejeloven",
          "lejeloven",
          "lejeloven",
          "lejeloven",
          "lejeloven",
          "lejeloven",
          "lejeloven",
          "lejeloven",
          "lejeloven",
          "lejeloven",
          "lejeloven",
          "lejeloven"
         ],
         "legendgroup": "lejeloven",
         "marker": {
          "color": "rgb(179, 179, 179)",
          "pattern": {
           "shape": ""
          }
         },
         "name": "lejeloven",
         "offsetgroup": "lejeloven",
         "orientation": "v",
         "showlegend": true,
         "textposition": "auto",
         "type": "bar",
         "x": [
          2021,
          2020,
          2019,
          2018,
          2017,
          2016,
          2015,
          2014,
          2013,
          2012,
          2011,
          2010,
          2009,
          2008,
          2007,
          2006,
          2005,
          2004,
          2003,
          2002,
          2001,
          2000,
          1999,
          1998,
          1997,
          1996,
          1995,
          1994,
          1993,
          1992,
          1991,
          1990,
          1989,
          1988,
          1987,
          1986,
          1985,
          1984,
          1983,
          1982,
          1981,
          1980,
          1979,
          1978,
          1977,
          1976,
          1975,
          1974,
          1973,
          1972,
          1971,
          1970,
          1969,
          1968,
          1967,
          1966,
          1965,
          1964,
          1963,
          1962,
          1961,
          1960,
          1959,
          1958,
          1957,
          1956,
          1955,
          1954,
          1953,
          1952,
          1951,
          1950
         ],
         "xaxis": "x",
         "y": [
          0.011876484560570071,
          0.02680965147453083,
          0.008379888268156424,
          0.016483516483516484,
          0.002717391304347826,
          0.017811704834605598,
          0.008086253369272238,
          0.022443890274314215,
          0.023696682464454975,
          0.008565310492505354,
          0.01327433628318584,
          0.014534883720930232,
          0.009478672985781991,
          0.0057361376673040155,
          0.014925373134328358,
          0.014388489208633094,
          0.015432098765432098,
          0.01384083044982699,
          0.02626970227670753,
          0.029787234042553193,
          0.014644351464435146,
          0.012269938650306749,
          0.013043478260869565,
          0.01912568306010929,
          0.01643835616438356,
          0.015113350125944584,
          0.024,
          0.04929577464788732,
          0.03543307086614173,
          0.030837004405286344,
          0.01606425702811245,
          0.05527638190954774,
          0.013452914798206279,
          0.034934497816593885,
          0.035856573705179286,
          0.021367521367521368,
          0.032490974729241874,
          0.013937282229965157,
          0.029605263157894735,
          0.008875739644970414,
          0.0035335689045936395,
          0.016611295681063124,
          0.005747126436781609,
          0.030100334448160536,
          0.017241379310344827,
          0.002688172043010753,
          0.014577259475218658,
          0.011363636363636364,
          0.020689655172413793,
          0.02247191011235955,
          0.025,
          0.026845637583892617,
          0.0243161094224924,
          0.039285714285714285,
          0.04081632653061224,
          0.03333333333333333,
          0.0777027027027027,
          0.11437908496732026,
          0.07272727272727272,
          0.0626865671641791,
          0.0851063829787234,
          0.07633587786259542,
          0.07012987012987013,
          0.09433962264150944,
          0.09271523178807947,
          0.14335664335664336,
          0.10150375939849623,
          0.1592920353982301,
          0.1774193548387097,
          0.10699588477366255,
          0.09251101321585903,
          0.12442396313364056
         ],
         "yaxis": "y"
        },
        {
         "alignmentgroup": "True",
         "customdata": [
          [
           5,
           "grundloven"
          ],
          [
           4,
           "grundloven"
          ],
          [
           3,
           "grundloven"
          ],
          [
           4,
           "grundloven"
          ],
          [
           2,
           "grundloven"
          ],
          [
           2,
           "grundloven"
          ],
          [
           3,
           "grundloven"
          ],
          [
           6,
           "grundloven"
          ],
          [
           4,
           "grundloven"
          ],
          [
           3,
           "grundloven"
          ],
          [
           8,
           "grundloven"
          ],
          [
           5,
           "grundloven"
          ],
          [
           5,
           "grundloven"
          ],
          [
           6,
           "grundloven"
          ],
          [
           4,
           "grundloven"
          ],
          [
           2,
           "grundloven"
          ],
          [
           5,
           "grundloven"
          ],
          [
           8,
           "grundloven"
          ],
          [
           6,
           "grundloven"
          ],
          [
           6,
           "grundloven"
          ],
          [
           4,
           "grundloven"
          ],
          [
           5,
           "grundloven"
          ],
          [
           5,
           "grundloven"
          ],
          [
           3,
           "grundloven"
          ],
          [
           4,
           "grundloven"
          ],
          [
           7,
           "grundloven"
          ],
          [
           1,
           "grundloven"
          ],
          [
           1,
           "grundloven"
          ],
          [
           1,
           "grundloven"
          ],
          [
           3,
           "grundloven"
          ],
          [
           1,
           "grundloven"
          ],
          [
           1,
           "grundloven"
          ],
          [
           1,
           "grundloven"
          ],
          [
           1,
           "grundloven"
          ],
          [
           2,
           "grundloven"
          ],
          [
           6,
           "grundloven"
          ],
          [
           4,
           "grundloven"
          ],
          [
           6,
           "grundloven"
          ],
          [
           5,
           "grundloven"
          ],
          [
           5,
           "grundloven"
          ],
          [
           6,
           "grundloven"
          ],
          [
           6,
           "grundloven"
          ],
          [
           5,
           "grundloven"
          ],
          [
           5,
           "grundloven"
          ],
          [
           2,
           "grundloven"
          ],
          [
           9,
           "grundloven"
          ],
          [
           5,
           "grundloven"
          ],
          [
           5,
           "grundloven"
          ],
          [
           3,
           "grundloven"
          ],
          [
           7,
           "grundloven"
          ],
          [
           4,
           "grundloven"
          ],
          [
           10,
           "grundloven"
          ],
          [
           10,
           "grundloven"
          ],
          [
           9,
           "grundloven"
          ],
          [
           9,
           "grundloven"
          ],
          [
           5,
           "grundloven"
          ],
          [
           4,
           "grundloven"
          ],
          [
           5,
           "grundloven"
          ],
          [
           7,
           "grundloven"
          ],
          [
           2,
           "grundloven"
          ],
          [
           1,
           "grundloven"
          ]
         ],
         "hovertemplate": "<b>%{hovertext}</b><br><br>year=%{x}<br>share=%{y:.1%}<br>count=%{customdata[0]:.0f}<extra></extra>",
         "hovertext": [
          "grundloven",
          "grundloven",
          "grundloven",
          "grundloven",
          "grundloven",
          "grundloven",
          "grundloven",
          "grundloven",
          "grundloven",
          "grundloven",
          "grundloven",
          "grundloven",
          "grundloven",
          "grundloven",
          "grundloven",
          "grundloven",
          "grundloven",
          "grundloven",
          "grundloven",
          "grundloven",
          "grundloven",
          "grundloven",
          "grundloven",
          "grundloven",
          "grundloven",
          "grundloven",
          "grundloven",
          "grundloven",
          "grundloven",
          "grundloven",
          "grundloven",
          "grundloven",
          "grundloven",
          "grundloven",
          "grundloven",
          "grundloven",
          "grundloven",
          "grundloven",
          "grundloven",
          "grundloven",
          "grundloven",
          "grundloven",
          "grundloven",
          "grundloven",
          "grundloven",
          "grundloven",
          "grundloven",
          "grundloven",
          "grundloven",
          "grundloven",
          "grundloven",
          "grundloven",
          "grundloven",
          "grundloven",
          "grundloven",
          "grundloven",
          "grundloven",
          "grundloven",
          "grundloven",
          "grundloven",
          "grundloven"
         ],
         "legendgroup": "grundloven",
         "marker": {
          "color": "rgb(102, 197, 204)",
          "pattern": {
           "shape": ""
          }
         },
         "name": "grundloven",
         "offsetgroup": "grundloven",
         "orientation": "v",
         "showlegend": true,
         "textposition": "auto",
         "type": "bar",
         "x": [
          2021,
          2020,
          2018,
          2017,
          2014,
          2013,
          2012,
          2011,
          2010,
          2009,
          2008,
          2007,
          2006,
          2005,
          2004,
          2003,
          2002,
          2001,
          2000,
          1999,
          1998,
          1997,
          1996,
          1995,
          1994,
          1993,
          1992,
          1991,
          1989,
          1988,
          1987,
          1986,
          1982,
          1981,
          1980,
          1979,
          1978,
          1977,
          1976,
          1975,
          1974,
          1973,
          1972,
          1971,
          1970,
          1969,
          1968,
          1967,
          1966,
          1965,
          1964,
          1963,
          1962,
          1961,
          1960,
          1959,
          1958,
          1957,
          1956,
          1955,
          1954
         ],
         "xaxis": "x",
         "y": [
          0.011876484560570071,
          0.010723860589812333,
          0.008241758241758242,
          0.010869565217391304,
          0.004987531172069825,
          0.004739336492890996,
          0.006423982869379015,
          0.01327433628318584,
          0.011627906976744186,
          0.0071090047393364926,
          0.015296367112810707,
          0.009328358208955223,
          0.008992805755395683,
          0.009259259259259259,
          0.006920415224913495,
          0.0035026269702276708,
          0.010638297872340425,
          0.016736401673640166,
          0.012269938650306749,
          0.013043478260869565,
          0.01092896174863388,
          0.0136986301369863,
          0.012594458438287154,
          0.012,
          0.014084507042253521,
          0.027559055118110236,
          0.004405286343612335,
          0.004016064257028112,
          0.004484304932735426,
          0.013100436681222707,
          0.00398406374501992,
          0.004273504273504274,
          0.0029585798816568047,
          0.0035335689045936395,
          0.006644518272425249,
          0.017241379310344827,
          0.013377926421404682,
          0.017241379310344827,
          0.013440860215053764,
          0.014577259475218658,
          0.017045454545454544,
          0.020689655172413793,
          0.014044943820224719,
          0.017857142857142856,
          0.006711409395973154,
          0.02735562310030395,
          0.017857142857142856,
          0.014577259475218658,
          0.00909090909090909,
          0.02364864864864865,
          0.013071895424836602,
          0.030303030303030304,
          0.029850746268656716,
          0.023936170212765957,
          0.022900763358778626,
          0.012987012987012988,
          0.012578616352201259,
          0.016556291390728478,
          0.024475524475524476,
          0.007518796992481203,
          0.004424778761061947
         ],
         "yaxis": "y"
        },
        {
         "alignmentgroup": "True",
         "customdata": [
          [
           4,
           "ligningsloven"
          ],
          [
           4,
           "ligningsloven"
          ],
          [
           5,
           "ligningsloven"
          ],
          [
           1,
           "ligningsloven"
          ],
          [
           1,
           "ligningsloven"
          ],
          [
           4,
           "ligningsloven"
          ],
          [
           2,
           "ligningsloven"
          ],
          [
           5,
           "ligningsloven"
          ],
          [
           5,
           "ligningsloven"
          ],
          [
           3,
           "ligningsloven"
          ],
          [
           10,
           "ligningsloven"
          ],
          [
           1,
           "ligningsloven"
          ],
          [
           11,
           "ligningsloven"
          ],
          [
           15,
           "ligningsloven"
          ],
          [
           12,
           "ligningsloven"
          ],
          [
           9,
           "ligningsloven"
          ],
          [
           11,
           "ligningsloven"
          ],
          [
           9,
           "ligningsloven"
          ],
          [
           7,
           "ligningsloven"
          ],
          [
           7,
           "ligningsloven"
          ],
          [
           4,
           "ligningsloven"
          ],
          [
           12,
           "ligningsloven"
          ],
          [
           6,
           "ligningsloven"
          ],
          [
           6,
           "ligningsloven"
          ],
          [
           7,
           "ligningsloven"
          ],
          [
           6,
           "ligningsloven"
          ],
          [
           5,
           "ligningsloven"
          ],
          [
           2,
           "ligningsloven"
          ],
          [
           1,
           "ligningsloven"
          ],
          [
           4,
           "ligningsloven"
          ],
          [
           4,
           "ligningsloven"
          ],
          [
           4,
           "ligningsloven"
          ],
          [
           3,
           "ligningsloven"
          ],
          [
           3,
           "ligningsloven"
          ],
          [
           6,
           "ligningsloven"
          ],
          [
           6,
           "ligningsloven"
          ],
          [
           4,
           "ligningsloven"
          ],
          [
           5,
           "ligningsloven"
          ],
          [
           1,
           "ligningsloven"
          ],
          [
           10,
           "ligningsloven"
          ],
          [
           7,
           "ligningsloven"
          ],
          [
           9,
           "ligningsloven"
          ],
          [
           3,
           "ligningsloven"
          ],
          [
           2,
           "ligningsloven"
          ],
          [
           3,
           "ligningsloven"
          ],
          [
           2,
           "ligningsloven"
          ],
          [
           3,
           "ligningsloven"
          ],
          [
           6,
           "ligningsloven"
          ],
          [
           4,
           "ligningsloven"
          ],
          [
           3,
           "ligningsloven"
          ],
          [
           1,
           "ligningsloven"
          ],
          [
           3,
           "ligningsloven"
          ],
          [
           3,
           "ligningsloven"
          ],
          [
           4,
           "ligningsloven"
          ],
          [
           1,
           "ligningsloven"
          ],
          [
           2,
           "ligningsloven"
          ],
          [
           4,
           "ligningsloven"
          ],
          [
           2,
           "ligningsloven"
          ],
          [
           1,
           "ligningsloven"
          ],
          [
           1,
           "ligningsloven"
          ],
          [
           1,
           "ligningsloven"
          ],
          [
           2,
           "ligningsloven"
          ],
          [
           2,
           "ligningsloven"
          ],
          [
           1,
           "ligningsloven"
          ]
         ],
         "hovertemplate": "<b>%{hovertext}</b><br><br>year=%{x}<br>share=%{y:.1%}<br>count=%{customdata[0]:.0f}<extra></extra>",
         "hovertext": [
          "ligningsloven",
          "ligningsloven",
          "ligningsloven",
          "ligningsloven",
          "ligningsloven",
          "ligningsloven",
          "ligningsloven",
          "ligningsloven",
          "ligningsloven",
          "ligningsloven",
          "ligningsloven",
          "ligningsloven",
          "ligningsloven",
          "ligningsloven",
          "ligningsloven",
          "ligningsloven",
          "ligningsloven",
          "ligningsloven",
          "ligningsloven",
          "ligningsloven",
          "ligningsloven",
          "ligningsloven",
          "ligningsloven",
          "ligningsloven",
          "ligningsloven",
          "ligningsloven",
          "ligningsloven",
          "ligningsloven",
          "ligningsloven",
          "ligningsloven",
          "ligningsloven",
          "ligningsloven",
          "ligningsloven",
          "ligningsloven",
          "ligningsloven",
          "ligningsloven",
          "ligningsloven",
          "ligningsloven",
          "ligningsloven",
          "ligningsloven",
          "ligningsloven",
          "ligningsloven",
          "ligningsloven",
          "ligningsloven",
          "ligningsloven",
          "ligningsloven",
          "ligningsloven",
          "ligningsloven",
          "ligningsloven",
          "ligningsloven",
          "ligningsloven",
          "ligningsloven",
          "ligningsloven",
          "ligningsloven",
          "ligningsloven",
          "ligningsloven",
          "ligningsloven",
          "ligningsloven",
          "ligningsloven",
          "ligningsloven",
          "ligningsloven",
          "ligningsloven",
          "ligningsloven",
          "ligningsloven"
         ],
         "legendgroup": "ligningsloven",
         "marker": {
          "color": "rgb(246, 207, 113)",
          "pattern": {
           "shape": ""
          }
         },
         "name": "ligningsloven",
         "offsetgroup": "ligningsloven",
         "orientation": "v",
         "showlegend": true,
         "textposition": "auto",
         "type": "bar",
         "x": [
          2021,
          2020,
          2019,
          2018,
          2017,
          2016,
          2015,
          2014,
          2013,
          2012,
          2011,
          2010,
          2009,
          2008,
          2007,
          2006,
          2005,
          2004,
          2003,
          2002,
          2001,
          2000,
          1999,
          1998,
          1997,
          1996,
          1995,
          1994,
          1993,
          1992,
          1991,
          1990,
          1989,
          1988,
          1987,
          1986,
          1985,
          1984,
          1983,
          1982,
          1981,
          1980,
          1979,
          1978,
          1976,
          1975,
          1973,
          1972,
          1971,
          1970,
          1969,
          1967,
          1966,
          1965,
          1963,
          1962,
          1961,
          1960,
          1959,
          1958,
          1957,
          1956,
          1955,
          1953
         ],
         "xaxis": "x",
         "y": [
          0.009501187648456057,
          0.010723860589812333,
          0.013966480446927373,
          0.0027472527472527475,
          0.002717391304347826,
          0.010178117048346057,
          0.005390835579514825,
          0.012468827930174564,
          0.011848341232227487,
          0.006423982869379015,
          0.022123893805309734,
          0.0029069767441860465,
          0.026066350710900472,
          0.028680688336520075,
          0.022388059701492536,
          0.01618705035971223,
          0.016975308641975308,
          0.015570934256055362,
          0.012259194395796848,
          0.014893617021276596,
          0.008368200836820083,
          0.024539877300613498,
          0.013043478260869565,
          0.01639344262295082,
          0.019178082191780823,
          0.015113350125944584,
          0.02,
          0.007042253521126761,
          0.003937007874015748,
          0.01762114537444934,
          0.01606425702811245,
          0.020100502512562814,
          0.013452914798206279,
          0.013100436681222707,
          0.02390438247011952,
          0.02564102564102564,
          0.01444043321299639,
          0.017421602787456445,
          0.003289473684210526,
          0.029585798816568046,
          0.024734982332155476,
          0.029900332225913623,
          0.008620689655172414,
          0.006688963210702341,
          0.008064516129032258,
          0.0058309037900874635,
          0.010344827586206896,
          0.016853932584269662,
          0.014285714285714285,
          0.010067114093959731,
          0.00303951367781155,
          0.008746355685131196,
          0.00909090909090909,
          0.013513513513513514,
          0.0030303030303030303,
          0.005970149253731343,
          0.010638297872340425,
          0.005089058524173028,
          0.0025974025974025974,
          0.0031446540880503146,
          0.0033112582781456954,
          0.006993006993006993,
          0.007518796992481203,
          0.004032258064516129
         ],
         "yaxis": "y"
        },
        {
         "alignmentgroup": "True",
         "customdata": [
          [
           4,
           "tinglysningsloven"
          ],
          [
           3,
           "tinglysningsloven"
          ],
          [
           2,
           "tinglysningsloven"
          ],
          [
           1,
           "tinglysningsloven"
          ],
          [
           5,
           "tinglysningsloven"
          ],
          [
           4,
           "tinglysningsloven"
          ],
          [
           2,
           "tinglysningsloven"
          ],
          [
           4,
           "tinglysningsloven"
          ],
          [
           5,
           "tinglysningsloven"
          ],
          [
           3,
           "tinglysningsloven"
          ],
          [
           1,
           "tinglysningsloven"
          ],
          [
           1,
           "tinglysningsloven"
          ],
          [
           3,
           "tinglysningsloven"
          ],
          [
           2,
           "tinglysningsloven"
          ],
          [
           1,
           "tinglysningsloven"
          ],
          [
           1,
           "tinglysningsloven"
          ],
          [
           1,
           "tinglysningsloven"
          ],
          [
           1,
           "tinglysningsloven"
          ],
          [
           2,
           "tinglysningsloven"
          ],
          [
           2,
           "tinglysningsloven"
          ],
          [
           1,
           "tinglysningsloven"
          ],
          [
           3,
           "tinglysningsloven"
          ],
          [
           3,
           "tinglysningsloven"
          ],
          [
           2,
           "tinglysningsloven"
          ],
          [
           2,
           "tinglysningsloven"
          ],
          [
           2,
           "tinglysningsloven"
          ],
          [
           2,
           "tinglysningsloven"
          ],
          [
           1,
           "tinglysningsloven"
          ],
          [
           3,
           "tinglysningsloven"
          ],
          [
           5,
           "tinglysningsloven"
          ],
          [
           9,
           "tinglysningsloven"
          ],
          [
           6,
           "tinglysningsloven"
          ],
          [
           8,
           "tinglysningsloven"
          ],
          [
           7,
           "tinglysningsloven"
          ],
          [
           15,
           "tinglysningsloven"
          ],
          [
           8,
           "tinglysningsloven"
          ],
          [
           9,
           "tinglysningsloven"
          ],
          [
           5,
           "tinglysningsloven"
          ],
          [
           6,
           "tinglysningsloven"
          ],
          [
           13,
           "tinglysningsloven"
          ],
          [
           3,
           "tinglysningsloven"
          ],
          [
           4,
           "tinglysningsloven"
          ],
          [
           6,
           "tinglysningsloven"
          ],
          [
           1,
           "tinglysningsloven"
          ],
          [
           7,
           "tinglysningsloven"
          ],
          [
           5,
           "tinglysningsloven"
          ],
          [
           2,
           "tinglysningsloven"
          ],
          [
           6,
           "tinglysningsloven"
          ],
          [
           1,
           "tinglysningsloven"
          ],
          [
           1,
           "tinglysningsloven"
          ],
          [
           3,
           "tinglysningsloven"
          ],
          [
           2,
           "tinglysningsloven"
          ],
          [
           3,
           "tinglysningsloven"
          ],
          [
           2,
           "tinglysningsloven"
          ],
          [
           2,
           "tinglysningsloven"
          ],
          [
           1,
           "tinglysningsloven"
          ],
          [
           6,
           "tinglysningsloven"
          ],
          [
           9,
           "tinglysningsloven"
          ],
          [
           3,
           "tinglysningsloven"
          ],
          [
           4,
           "tinglysningsloven"
          ],
          [
           4,
           "tinglysningsloven"
          ],
          [
           5,
           "tinglysningsloven"
          ],
          [
           5,
           "tinglysningsloven"
          ],
          [
           6,
           "tinglysningsloven"
          ],
          [
           7,
           "tinglysningsloven"
          ],
          [
           7,
           "tinglysningsloven"
          ],
          [
           7,
           "tinglysningsloven"
          ],
          [
           4,
           "tinglysningsloven"
          ]
         ],
         "hovertemplate": "<b>%{hovertext}</b><br><br>year=%{x}<br>share=%{y:.1%}<br>count=%{customdata[0]:.0f}<extra></extra>",
         "hovertext": [
          "tinglysningsloven",
          "tinglysningsloven",
          "tinglysningsloven",
          "tinglysningsloven",
          "tinglysningsloven",
          "tinglysningsloven",
          "tinglysningsloven",
          "tinglysningsloven",
          "tinglysningsloven",
          "tinglysningsloven",
          "tinglysningsloven",
          "tinglysningsloven",
          "tinglysningsloven",
          "tinglysningsloven",
          "tinglysningsloven",
          "tinglysningsloven",
          "tinglysningsloven",
          "tinglysningsloven",
          "tinglysningsloven",
          "tinglysningsloven",
          "tinglysningsloven",
          "tinglysningsloven",
          "tinglysningsloven",
          "tinglysningsloven",
          "tinglysningsloven",
          "tinglysningsloven",
          "tinglysningsloven",
          "tinglysningsloven",
          "tinglysningsloven",
          "tinglysningsloven",
          "tinglysningsloven",
          "tinglysningsloven",
          "tinglysningsloven",
          "tinglysningsloven",
          "tinglysningsloven",
          "tinglysningsloven",
          "tinglysningsloven",
          "tinglysningsloven",
          "tinglysningsloven",
          "tinglysningsloven",
          "tinglysningsloven",
          "tinglysningsloven",
          "tinglysningsloven",
          "tinglysningsloven",
          "tinglysningsloven",
          "tinglysningsloven",
          "tinglysningsloven",
          "tinglysningsloven",
          "tinglysningsloven",
          "tinglysningsloven",
          "tinglysningsloven",
          "tinglysningsloven",
          "tinglysningsloven",
          "tinglysningsloven",
          "tinglysningsloven",
          "tinglysningsloven",
          "tinglysningsloven",
          "tinglysningsloven",
          "tinglysningsloven",
          "tinglysningsloven",
          "tinglysningsloven",
          "tinglysningsloven",
          "tinglysningsloven",
          "tinglysningsloven",
          "tinglysningsloven",
          "tinglysningsloven",
          "tinglysningsloven",
          "tinglysningsloven"
         ],
         "legendgroup": "tinglysningsloven",
         "marker": {
          "color": "rgb(248, 156, 116)",
          "pattern": {
           "shape": ""
          }
         },
         "name": "tinglysningsloven",
         "offsetgroup": "tinglysningsloven",
         "orientation": "v",
         "showlegend": true,
         "textposition": "auto",
         "type": "bar",
         "x": [
          2021,
          2020,
          2019,
          2018,
          2017,
          2016,
          2015,
          2014,
          2013,
          2012,
          2010,
          2009,
          2008,
          2007,
          2006,
          2005,
          2004,
          2003,
          2002,
          2001,
          2000,
          1999,
          1998,
          1996,
          1995,
          1992,
          1991,
          1990,
          1989,
          1988,
          1987,
          1986,
          1985,
          1984,
          1983,
          1982,
          1981,
          1980,
          1979,
          1978,
          1977,
          1976,
          1975,
          1974,
          1973,
          1972,
          1971,
          1970,
          1969,
          1968,
          1967,
          1966,
          1965,
          1964,
          1963,
          1962,
          1961,
          1960,
          1959,
          1958,
          1957,
          1956,
          1955,
          1954,
          1953,
          1952,
          1951,
          1950
         ],
         "xaxis": "x",
         "y": [
          0.009501187648456057,
          0.00804289544235925,
          0.00558659217877095,
          0.0027472527472527475,
          0.01358695652173913,
          0.010178117048346057,
          0.005390835579514825,
          0.00997506234413965,
          0.011848341232227487,
          0.006423982869379015,
          0.0029069767441860465,
          0.002369668246445498,
          0.0057361376673040155,
          0.0037313432835820895,
          0.0017985611510791368,
          0.0015432098765432098,
          0.0017301038062283738,
          0.0017513134851138354,
          0.00425531914893617,
          0.0041841004184100415,
          0.002044989775051125,
          0.006521739130434782,
          0.00819672131147541,
          0.005037783375314861,
          0.008,
          0.00881057268722467,
          0.008032128514056224,
          0.005025125628140704,
          0.013452914798206279,
          0.021834061135371178,
          0.035856573705179286,
          0.02564102564102564,
          0.02888086642599278,
          0.024390243902439025,
          0.049342105263157895,
          0.023668639053254437,
          0.03180212014134275,
          0.016611295681063124,
          0.017241379310344827,
          0.043478260869565216,
          0.008620689655172414,
          0.010752688172043012,
          0.01749271137026239,
          0.002840909090909091,
          0.02413793103448276,
          0.014044943820224719,
          0.007142857142857143,
          0.020134228187919462,
          0.00303951367781155,
          0.0035714285714285713,
          0.008746355685131196,
          0.006060606060606061,
          0.010135135135135136,
          0.006535947712418301,
          0.006060606060606061,
          0.0029850746268656717,
          0.015957446808510637,
          0.022900763358778626,
          0.007792207792207792,
          0.012578616352201259,
          0.013245033112582781,
          0.017482517482517484,
          0.018796992481203006,
          0.02654867256637168,
          0.028225806451612902,
          0.02880658436213992,
          0.030837004405286344,
          0.018433179723502304
         ],
         "yaxis": "y"
        },
        {
         "alignmentgroup": "True",
         "customdata": [
          [
           1,
           "forsikringsaftaleloven"
          ],
          [
           6,
           "forsikringsaftaleloven"
          ],
          [
           5,
           "forsikringsaftaleloven"
          ],
          [
           4,
           "forsikringsaftaleloven"
          ],
          [
           3,
           "forsikringsaftaleloven"
          ],
          [
           5,
           "forsikringsaftaleloven"
          ],
          [
           6,
           "forsikringsaftaleloven"
          ],
          [
           4,
           "forsikringsaftaleloven"
          ],
          [
           7,
           "forsikringsaftaleloven"
          ],
          [
           5,
           "forsikringsaftaleloven"
          ],
          [
           5,
           "forsikringsaftaleloven"
          ],
          [
           4,
           "forsikringsaftaleloven"
          ],
          [
           1,
           "forsikringsaftaleloven"
          ],
          [
           3,
           "forsikringsaftaleloven"
          ],
          [
           4,
           "forsikringsaftaleloven"
          ],
          [
           12,
           "forsikringsaftaleloven"
          ],
          [
           6,
           "forsikringsaftaleloven"
          ],
          [
           6,
           "forsikringsaftaleloven"
          ],
          [
           8,
           "forsikringsaftaleloven"
          ],
          [
           4,
           "forsikringsaftaleloven"
          ],
          [
           9,
           "forsikringsaftaleloven"
          ],
          [
           8,
           "forsikringsaftaleloven"
          ],
          [
           3,
           "forsikringsaftaleloven"
          ],
          [
           7,
           "forsikringsaftaleloven"
          ],
          [
           4,
           "forsikringsaftaleloven"
          ],
          [
           7,
           "forsikringsaftaleloven"
          ],
          [
           3,
           "forsikringsaftaleloven"
          ],
          [
           1,
           "forsikringsaftaleloven"
          ],
          [
           7,
           "forsikringsaftaleloven"
          ],
          [
           4,
           "forsikringsaftaleloven"
          ],
          [
           8,
           "forsikringsaftaleloven"
          ],
          [
           6,
           "forsikringsaftaleloven"
          ],
          [
           3,
           "forsikringsaftaleloven"
          ],
          [
           1,
           "forsikringsaftaleloven"
          ],
          [
           3,
           "forsikringsaftaleloven"
          ],
          [
           6,
           "forsikringsaftaleloven"
          ],
          [
           5,
           "forsikringsaftaleloven"
          ],
          [
           3,
           "forsikringsaftaleloven"
          ],
          [
           6,
           "forsikringsaftaleloven"
          ],
          [
           4,
           "forsikringsaftaleloven"
          ],
          [
           1,
           "forsikringsaftaleloven"
          ],
          [
           4,
           "forsikringsaftaleloven"
          ],
          [
           3,
           "forsikringsaftaleloven"
          ],
          [
           2,
           "forsikringsaftaleloven"
          ],
          [
           3,
           "forsikringsaftaleloven"
          ],
          [
           2,
           "forsikringsaftaleloven"
          ],
          [
           1,
           "forsikringsaftaleloven"
          ],
          [
           1,
           "forsikringsaftaleloven"
          ],
          [
           5,
           "forsikringsaftaleloven"
          ],
          [
           1,
           "forsikringsaftaleloven"
          ],
          [
           4,
           "forsikringsaftaleloven"
          ],
          [
           1,
           "forsikringsaftaleloven"
          ],
          [
           7,
           "forsikringsaftaleloven"
          ],
          [
           6,
           "forsikringsaftaleloven"
          ],
          [
           7,
           "forsikringsaftaleloven"
          ],
          [
           3,
           "forsikringsaftaleloven"
          ],
          [
           16,
           "forsikringsaftaleloven"
          ],
          [
           5,
           "forsikringsaftaleloven"
          ],
          [
           7,
           "forsikringsaftaleloven"
          ],
          [
           10,
           "forsikringsaftaleloven"
          ],
          [
           13,
           "forsikringsaftaleloven"
          ],
          [
           12,
           "forsikringsaftaleloven"
          ],
          [
           14,
           "forsikringsaftaleloven"
          ],
          [
           10,
           "forsikringsaftaleloven"
          ],
          [
           4,
           "forsikringsaftaleloven"
          ],
          [
           6,
           "forsikringsaftaleloven"
          ],
          [
           9,
           "forsikringsaftaleloven"
          ],
          [
           12,
           "forsikringsaftaleloven"
          ],
          [
           9,
           "forsikringsaftaleloven"
          ],
          [
           7,
           "forsikringsaftaleloven"
          ],
          [
           6,
           "forsikringsaftaleloven"
          ]
         ],
         "hovertemplate": "<b>%{hovertext}</b><br><br>year=%{x}<br>share=%{y:.1%}<br>count=%{customdata[0]:.0f}<extra></extra>",
         "hovertext": [
          "forsikringsaftaleloven",
          "forsikringsaftaleloven",
          "forsikringsaftaleloven",
          "forsikringsaftaleloven",
          "forsikringsaftaleloven",
          "forsikringsaftaleloven",
          "forsikringsaftaleloven",
          "forsikringsaftaleloven",
          "forsikringsaftaleloven",
          "forsikringsaftaleloven",
          "forsikringsaftaleloven",
          "forsikringsaftaleloven",
          "forsikringsaftaleloven",
          "forsikringsaftaleloven",
          "forsikringsaftaleloven",
          "forsikringsaftaleloven",
          "forsikringsaftaleloven",
          "forsikringsaftaleloven",
          "forsikringsaftaleloven",
          "forsikringsaftaleloven",
          "forsikringsaftaleloven",
          "forsikringsaftaleloven",
          "forsikringsaftaleloven",
          "forsikringsaftaleloven",
          "forsikringsaftaleloven",
          "forsikringsaftaleloven",
          "forsikringsaftaleloven",
          "forsikringsaftaleloven",
          "forsikringsaftaleloven",
          "forsikringsaftaleloven",
          "forsikringsaftaleloven",
          "forsikringsaftaleloven",
          "forsikringsaftaleloven",
          "forsikringsaftaleloven",
          "forsikringsaftaleloven",
          "forsikringsaftaleloven",
          "forsikringsaftaleloven",
          "forsikringsaftaleloven",
          "forsikringsaftaleloven",
          "forsikringsaftaleloven",
          "forsikringsaftaleloven",
          "forsikringsaftaleloven",
          "forsikringsaftaleloven",
          "forsikringsaftaleloven",
          "forsikringsaftaleloven",
          "forsikringsaftaleloven",
          "forsikringsaftaleloven",
          "forsikringsaftaleloven",
          "forsikringsaftaleloven",
          "forsikringsaftaleloven",
          "forsikringsaftaleloven",
          "forsikringsaftaleloven",
          "forsikringsaftaleloven",
          "forsikringsaftaleloven",
          "forsikringsaftaleloven",
          "forsikringsaftaleloven",
          "forsikringsaftaleloven",
          "forsikringsaftaleloven",
          "forsikringsaftaleloven",
          "forsikringsaftaleloven",
          "forsikringsaftaleloven",
          "forsikringsaftaleloven",
          "forsikringsaftaleloven",
          "forsikringsaftaleloven",
          "forsikringsaftaleloven",
          "forsikringsaftaleloven",
          "forsikringsaftaleloven",
          "forsikringsaftaleloven",
          "forsikringsaftaleloven",
          "forsikringsaftaleloven",
          "forsikringsaftaleloven"
         ],
         "legendgroup": "forsikringsaftaleloven",
         "marker": {
          "color": "rgb(220, 176, 242)",
          "pattern": {
           "shape": ""
          }
         },
         "name": "forsikringsaftaleloven",
         "offsetgroup": "forsikringsaftaleloven",
         "orientation": "v",
         "showlegend": true,
         "textposition": "auto",
         "type": "bar",
         "x": [
          2021,
          2020,
          2019,
          2018,
          2017,
          2016,
          2015,
          2014,
          2013,
          2012,
          2011,
          2010,
          2009,
          2008,
          2007,
          2006,
          2005,
          2004,
          2003,
          2002,
          2001,
          2000,
          1999,
          1998,
          1997,
          1996,
          1995,
          1994,
          1993,
          1992,
          1991,
          1990,
          1989,
          1988,
          1987,
          1986,
          1985,
          1984,
          1983,
          1982,
          1981,
          1980,
          1979,
          1978,
          1977,
          1976,
          1975,
          1974,
          1973,
          1972,
          1971,
          1970,
          1969,
          1968,
          1967,
          1965,
          1964,
          1963,
          1962,
          1961,
          1960,
          1959,
          1958,
          1957,
          1956,
          1955,
          1954,
          1953,
          1952,
          1951,
          1950
         ],
         "xaxis": "x",
         "y": [
          0.0023752969121140144,
          0.0160857908847185,
          0.013966480446927373,
          0.01098901098901099,
          0.008152173913043478,
          0.01272264631043257,
          0.016172506738544475,
          0.00997506234413965,
          0.016587677725118485,
          0.010706638115631691,
          0.011061946902654867,
          0.011627906976744186,
          0.002369668246445498,
          0.0057361376673040155,
          0.007462686567164179,
          0.02158273381294964,
          0.009259259259259259,
          0.010380622837370242,
          0.014010507880910683,
          0.00851063829787234,
          0.01882845188284519,
          0.016359918200409,
          0.006521739130434782,
          0.01912568306010929,
          0.010958904109589041,
          0.017632241813602016,
          0.012,
          0.0035211267605633804,
          0.027559055118110236,
          0.01762114537444934,
          0.0321285140562249,
          0.03015075376884422,
          0.013452914798206279,
          0.004366812227074236,
          0.01195219123505976,
          0.02564102564102564,
          0.018050541516245487,
          0.010452961672473868,
          0.019736842105263157,
          0.011834319526627219,
          0.0035335689045936395,
          0.013289036544850499,
          0.008620689655172414,
          0.006688963210702341,
          0.008620689655172414,
          0.005376344086021506,
          0.0029154518950437317,
          0.002840909090909091,
          0.017241379310344827,
          0.0028089887640449437,
          0.014285714285714285,
          0.003355704697986577,
          0.02127659574468085,
          0.02142857142857143,
          0.02040816326530612,
          0.010135135135135136,
          0.05228758169934641,
          0.015151515151515152,
          0.020895522388059702,
          0.026595744680851064,
          0.03307888040712468,
          0.03116883116883117,
          0.0440251572327044,
          0.033112582781456956,
          0.013986013986013986,
          0.022556390977443608,
          0.03982300884955752,
          0.04838709677419355,
          0.037037037037037035,
          0.030837004405286344,
          0.027649769585253458
         ],
         "yaxis": "y"
        },
        {
         "alignmentgroup": "True",
         "customdata": [
          [
           1,
           "indkomst og formueskat til staten"
          ],
          [
           3,
           "indkomst og formueskat til staten"
          ],
          [
           3,
           "indkomst og formueskat til staten"
          ],
          [
           1,
           "indkomst og formueskat til staten"
          ],
          [
           2,
           "indkomst og formueskat til staten"
          ],
          [
           1,
           "indkomst og formueskat til staten"
          ],
          [
           4,
           "indkomst og formueskat til staten"
          ],
          [
           8,
           "indkomst og formueskat til staten"
          ],
          [
           5,
           "indkomst og formueskat til staten"
          ],
          [
           9,
           "indkomst og formueskat til staten"
          ],
          [
           14,
           "indkomst og formueskat til staten"
          ],
          [
           15,
           "indkomst og formueskat til staten"
          ],
          [
           11,
           "indkomst og formueskat til staten"
          ],
          [
           9,
           "indkomst og formueskat til staten"
          ],
          [
           11,
           "indkomst og formueskat til staten"
          ],
          [
           13,
           "indkomst og formueskat til staten"
          ],
          [
           10,
           "indkomst og formueskat til staten"
          ],
          [
           10,
           "indkomst og formueskat til staten"
          ],
          [
           9,
           "indkomst og formueskat til staten"
          ],
          [
           14,
           "indkomst og formueskat til staten"
          ],
          [
           9,
           "indkomst og formueskat til staten"
          ],
          [
           9,
           "indkomst og formueskat til staten"
          ],
          [
           10,
           "indkomst og formueskat til staten"
          ],
          [
           17,
           "indkomst og formueskat til staten"
          ],
          [
           6,
           "indkomst og formueskat til staten"
          ],
          [
           7,
           "indkomst og formueskat til staten"
          ],
          [
           2,
           "indkomst og formueskat til staten"
          ],
          [
           4,
           "indkomst og formueskat til staten"
          ],
          [
           3,
           "indkomst og formueskat til staten"
          ],
          [
           6,
           "indkomst og formueskat til staten"
          ],
          [
           12,
           "indkomst og formueskat til staten"
          ],
          [
           9,
           "indkomst og formueskat til staten"
          ],
          [
           9,
           "indkomst og formueskat til staten"
          ],
          [
           13,
           "indkomst og formueskat til staten"
          ],
          [
           22,
           "indkomst og formueskat til staten"
          ],
          [
           26,
           "indkomst og formueskat til staten"
          ],
          [
           10,
           "indkomst og formueskat til staten"
          ],
          [
           20,
           "indkomst og formueskat til staten"
          ],
          [
           20,
           "indkomst og formueskat til staten"
          ],
          [
           19,
           "indkomst og formueskat til staten"
          ],
          [
           17,
           "indkomst og formueskat til staten"
          ],
          [
           9,
           "indkomst og formueskat til staten"
          ],
          [
           8,
           "indkomst og formueskat til staten"
          ],
          [
           17,
           "indkomst og formueskat til staten"
          ],
          [
           16,
           "indkomst og formueskat til staten"
          ],
          [
           18,
           "indkomst og formueskat til staten"
          ],
          [
           11,
           "indkomst og formueskat til staten"
          ],
          [
           14,
           "indkomst og formueskat til staten"
          ],
          [
           15,
           "indkomst og formueskat til staten"
          ],
          [
           17,
           "indkomst og formueskat til staten"
          ],
          [
           16,
           "indkomst og formueskat til staten"
          ],
          [
           6,
           "indkomst og formueskat til staten"
          ],
          [
           12,
           "indkomst og formueskat til staten"
          ],
          [
           5,
           "indkomst og formueskat til staten"
          ],
          [
           12,
           "indkomst og formueskat til staten"
          ],
          [
           5,
           "indkomst og formueskat til staten"
          ],
          [
           16,
           "indkomst og formueskat til staten"
          ],
          [
           13,
           "indkomst og formueskat til staten"
          ],
          [
           16,
           "indkomst og formueskat til staten"
          ],
          [
           22,
           "indkomst og formueskat til staten"
          ],
          [
           14,
           "indkomst og formueskat til staten"
          ],
          [
           17,
           "indkomst og formueskat til staten"
          ],
          [
           10,
           "indkomst og formueskat til staten"
          ],
          [
           11,
           "indkomst og formueskat til staten"
          ],
          [
           8,
           "indkomst og formueskat til staten"
          ],
          [
           10,
           "indkomst og formueskat til staten"
          ],
          [
           8,
           "indkomst og formueskat til staten"
          ],
          [
           9,
           "indkomst og formueskat til staten"
          ],
          [
           11,
           "indkomst og formueskat til staten"
          ],
          [
           8,
           "indkomst og formueskat til staten"
          ]
         ],
         "hovertemplate": "<b>%{hovertext}</b><br><br>year=%{x}<br>share=%{y:.1%}<br>count=%{customdata[0]:.0f}<extra></extra>",
         "hovertext": [
          "indkomst og formueskat til staten",
          "indkomst og formueskat til staten",
          "indkomst og formueskat til staten",
          "indkomst og formueskat til staten",
          "indkomst og formueskat til staten",
          "indkomst og formueskat til staten",
          "indkomst og formueskat til staten",
          "indkomst og formueskat til staten",
          "indkomst og formueskat til staten",
          "indkomst og formueskat til staten",
          "indkomst og formueskat til staten",
          "indkomst og formueskat til staten",
          "indkomst og formueskat til staten",
          "indkomst og formueskat til staten",
          "indkomst og formueskat til staten",
          "indkomst og formueskat til staten",
          "indkomst og formueskat til staten",
          "indkomst og formueskat til staten",
          "indkomst og formueskat til staten",
          "indkomst og formueskat til staten",
          "indkomst og formueskat til staten",
          "indkomst og formueskat til staten",
          "indkomst og formueskat til staten",
          "indkomst og formueskat til staten",
          "indkomst og formueskat til staten",
          "indkomst og formueskat til staten",
          "indkomst og formueskat til staten",
          "indkomst og formueskat til staten",
          "indkomst og formueskat til staten",
          "indkomst og formueskat til staten",
          "indkomst og formueskat til staten",
          "indkomst og formueskat til staten",
          "indkomst og formueskat til staten",
          "indkomst og formueskat til staten",
          "indkomst og formueskat til staten",
          "indkomst og formueskat til staten",
          "indkomst og formueskat til staten",
          "indkomst og formueskat til staten",
          "indkomst og formueskat til staten",
          "indkomst og formueskat til staten",
          "indkomst og formueskat til staten",
          "indkomst og formueskat til staten",
          "indkomst og formueskat til staten",
          "indkomst og formueskat til staten",
          "indkomst og formueskat til staten",
          "indkomst og formueskat til staten",
          "indkomst og formueskat til staten",
          "indkomst og formueskat til staten",
          "indkomst og formueskat til staten",
          "indkomst og formueskat til staten",
          "indkomst og formueskat til staten",
          "indkomst og formueskat til staten",
          "indkomst og formueskat til staten",
          "indkomst og formueskat til staten",
          "indkomst og formueskat til staten",
          "indkomst og formueskat til staten",
          "indkomst og formueskat til staten",
          "indkomst og formueskat til staten",
          "indkomst og formueskat til staten",
          "indkomst og formueskat til staten",
          "indkomst og formueskat til staten",
          "indkomst og formueskat til staten",
          "indkomst og formueskat til staten",
          "indkomst og formueskat til staten",
          "indkomst og formueskat til staten",
          "indkomst og formueskat til staten",
          "indkomst og formueskat til staten",
          "indkomst og formueskat til staten",
          "indkomst og formueskat til staten",
          "indkomst og formueskat til staten"
         ],
         "legendgroup": "indkomst og formueskat til staten",
         "marker": {
          "color": "rgb(135, 197, 95)",
          "pattern": {
           "shape": ""
          }
         },
         "name": "indkomst og formueskat til staten",
         "offsetgroup": "indkomst og formueskat til staten",
         "orientation": "v",
         "showlegend": true,
         "textposition": "auto",
         "type": "bar",
         "x": [
          2021,
          2020,
          2017,
          2016,
          2015,
          2014,
          2013,
          2012,
          2011,
          2010,
          2009,
          2008,
          2007,
          2006,
          2005,
          2004,
          2003,
          2002,
          2001,
          2000,
          1999,
          1998,
          1997,
          1996,
          1995,
          1994,
          1993,
          1992,
          1991,
          1990,
          1989,
          1988,
          1987,
          1986,
          1985,
          1984,
          1983,
          1982,
          1981,
          1980,
          1979,
          1978,
          1977,
          1976,
          1975,
          1974,
          1973,
          1972,
          1971,
          1970,
          1969,
          1968,
          1967,
          1966,
          1965,
          1964,
          1963,
          1962,
          1961,
          1960,
          1959,
          1958,
          1957,
          1956,
          1955,
          1954,
          1953,
          1952,
          1951,
          1950
         ],
         "xaxis": "x",
         "y": [
          0.0023752969121140144,
          0.00804289544235925,
          0.008152173913043478,
          0.002544529262086514,
          0.005390835579514825,
          0.0024937655860349127,
          0.009478672985781991,
          0.017130620985010708,
          0.011061946902654867,
          0.02616279069767442,
          0.03317535545023697,
          0.028680688336520075,
          0.020522388059701493,
          0.01618705035971223,
          0.016975308641975308,
          0.02249134948096886,
          0.017513134851138354,
          0.02127659574468085,
          0.01882845188284519,
          0.028629856850715747,
          0.01956521739130435,
          0.02459016393442623,
          0.0273972602739726,
          0.042821158690176324,
          0.024,
          0.02464788732394366,
          0.007874015748031496,
          0.01762114537444934,
          0.012048192771084338,
          0.03015075376884422,
          0.053811659192825115,
          0.039301310043668124,
          0.035856573705179286,
          0.05555555555555555,
          0.07942238267148015,
          0.09059233449477352,
          0.03289473684210526,
          0.05917159763313609,
          0.0706713780918728,
          0.06312292358803986,
          0.04885057471264368,
          0.030100334448160536,
          0.022988505747126436,
          0.0456989247311828,
          0.04664723032069971,
          0.05113636363636364,
          0.03793103448275862,
          0.03932584269662921,
          0.05357142857142857,
          0.05704697986577181,
          0.0486322188449848,
          0.02142857142857143,
          0.03498542274052478,
          0.015151515151515152,
          0.04054054054054054,
          0.016339869281045753,
          0.048484848484848485,
          0.03880597014925373,
          0.0425531914893617,
          0.05597964376590331,
          0.03636363636363636,
          0.05345911949685535,
          0.033112582781456956,
          0.038461538461538464,
          0.03007518796992481,
          0.04424778761061947,
          0.03225806451612903,
          0.037037037037037035,
          0.048458149779735685,
          0.03686635944700461
         ],
         "yaxis": "y"
        }
       ],
       "layout": {
        "barmode": "relative",
        "legend": {
         "title": {
          "text": "Associated law"
         },
         "tracegroupgap": 0
        },
        "margin": {
         "b": 0,
         "l": 0,
         "r": 0,
         "t": 0
        },
        "template": {
         "data": {
          "bar": [
           {
            "error_x": {
             "color": "rgb(51,51,51)"
            },
            "error_y": {
             "color": "rgb(51,51,51)"
            },
            "marker": {
             "line": {
              "color": "rgb(237,237,237)",
              "width": 0.5
             },
             "pattern": {
              "fillmode": "overlay",
              "size": 10,
              "solidity": 0.2
             }
            },
            "type": "bar"
           }
          ],
          "barpolar": [
           {
            "marker": {
             "line": {
              "color": "rgb(237,237,237)",
              "width": 0.5
             },
             "pattern": {
              "fillmode": "overlay",
              "size": 10,
              "solidity": 0.2
             }
            },
            "type": "barpolar"
           }
          ],
          "carpet": [
           {
            "aaxis": {
             "endlinecolor": "rgb(51,51,51)",
             "gridcolor": "white",
             "linecolor": "white",
             "minorgridcolor": "white",
             "startlinecolor": "rgb(51,51,51)"
            },
            "baxis": {
             "endlinecolor": "rgb(51,51,51)",
             "gridcolor": "white",
             "linecolor": "white",
             "minorgridcolor": "white",
             "startlinecolor": "rgb(51,51,51)"
            },
            "type": "carpet"
           }
          ],
          "choropleth": [
           {
            "colorbar": {
             "outlinewidth": 0,
             "tickcolor": "rgb(237,237,237)",
             "ticklen": 6,
             "ticks": "inside"
            },
            "type": "choropleth"
           }
          ],
          "contour": [
           {
            "colorbar": {
             "outlinewidth": 0,
             "tickcolor": "rgb(237,237,237)",
             "ticklen": 6,
             "ticks": "inside"
            },
            "colorscale": [
             [
              0,
              "rgb(20,44,66)"
             ],
             [
              1,
              "rgb(90,179,244)"
             ]
            ],
            "type": "contour"
           }
          ],
          "contourcarpet": [
           {
            "colorbar": {
             "outlinewidth": 0,
             "tickcolor": "rgb(237,237,237)",
             "ticklen": 6,
             "ticks": "inside"
            },
            "type": "contourcarpet"
           }
          ],
          "heatmap": [
           {
            "colorbar": {
             "outlinewidth": 0,
             "tickcolor": "rgb(237,237,237)",
             "ticklen": 6,
             "ticks": "inside"
            },
            "colorscale": [
             [
              0,
              "rgb(20,44,66)"
             ],
             [
              1,
              "rgb(90,179,244)"
             ]
            ],
            "type": "heatmap"
           }
          ],
          "heatmapgl": [
           {
            "colorbar": {
             "outlinewidth": 0,
             "tickcolor": "rgb(237,237,237)",
             "ticklen": 6,
             "ticks": "inside"
            },
            "colorscale": [
             [
              0,
              "rgb(20,44,66)"
             ],
             [
              1,
              "rgb(90,179,244)"
             ]
            ],
            "type": "heatmapgl"
           }
          ],
          "histogram": [
           {
            "marker": {
             "pattern": {
              "fillmode": "overlay",
              "size": 10,
              "solidity": 0.2
             }
            },
            "type": "histogram"
           }
          ],
          "histogram2d": [
           {
            "colorbar": {
             "outlinewidth": 0,
             "tickcolor": "rgb(237,237,237)",
             "ticklen": 6,
             "ticks": "inside"
            },
            "colorscale": [
             [
              0,
              "rgb(20,44,66)"
             ],
             [
              1,
              "rgb(90,179,244)"
             ]
            ],
            "type": "histogram2d"
           }
          ],
          "histogram2dcontour": [
           {
            "colorbar": {
             "outlinewidth": 0,
             "tickcolor": "rgb(237,237,237)",
             "ticklen": 6,
             "ticks": "inside"
            },
            "colorscale": [
             [
              0,
              "rgb(20,44,66)"
             ],
             [
              1,
              "rgb(90,179,244)"
             ]
            ],
            "type": "histogram2dcontour"
           }
          ],
          "mesh3d": [
           {
            "colorbar": {
             "outlinewidth": 0,
             "tickcolor": "rgb(237,237,237)",
             "ticklen": 6,
             "ticks": "inside"
            },
            "type": "mesh3d"
           }
          ],
          "parcoords": [
           {
            "line": {
             "colorbar": {
              "outlinewidth": 0,
              "tickcolor": "rgb(237,237,237)",
              "ticklen": 6,
              "ticks": "inside"
             }
            },
            "type": "parcoords"
           }
          ],
          "pie": [
           {
            "automargin": true,
            "type": "pie"
           }
          ],
          "scatter": [
           {
            "marker": {
             "colorbar": {
              "outlinewidth": 0,
              "tickcolor": "rgb(237,237,237)",
              "ticklen": 6,
              "ticks": "inside"
             }
            },
            "type": "scatter"
           }
          ],
          "scatter3d": [
           {
            "line": {
             "colorbar": {
              "outlinewidth": 0,
              "tickcolor": "rgb(237,237,237)",
              "ticklen": 6,
              "ticks": "inside"
             }
            },
            "marker": {
             "colorbar": {
              "outlinewidth": 0,
              "tickcolor": "rgb(237,237,237)",
              "ticklen": 6,
              "ticks": "inside"
             }
            },
            "type": "scatter3d"
           }
          ],
          "scattercarpet": [
           {
            "marker": {
             "colorbar": {
              "outlinewidth": 0,
              "tickcolor": "rgb(237,237,237)",
              "ticklen": 6,
              "ticks": "inside"
             }
            },
            "type": "scattercarpet"
           }
          ],
          "scattergeo": [
           {
            "marker": {
             "colorbar": {
              "outlinewidth": 0,
              "tickcolor": "rgb(237,237,237)",
              "ticklen": 6,
              "ticks": "inside"
             }
            },
            "type": "scattergeo"
           }
          ],
          "scattergl": [
           {
            "marker": {
             "colorbar": {
              "outlinewidth": 0,
              "tickcolor": "rgb(237,237,237)",
              "ticklen": 6,
              "ticks": "inside"
             }
            },
            "type": "scattergl"
           }
          ],
          "scattermapbox": [
           {
            "marker": {
             "colorbar": {
              "outlinewidth": 0,
              "tickcolor": "rgb(237,237,237)",
              "ticklen": 6,
              "ticks": "inside"
             }
            },
            "type": "scattermapbox"
           }
          ],
          "scatterpolar": [
           {
            "marker": {
             "colorbar": {
              "outlinewidth": 0,
              "tickcolor": "rgb(237,237,237)",
              "ticklen": 6,
              "ticks": "inside"
             }
            },
            "type": "scatterpolar"
           }
          ],
          "scatterpolargl": [
           {
            "marker": {
             "colorbar": {
              "outlinewidth": 0,
              "tickcolor": "rgb(237,237,237)",
              "ticklen": 6,
              "ticks": "inside"
             }
            },
            "type": "scatterpolargl"
           }
          ],
          "scatterternary": [
           {
            "marker": {
             "colorbar": {
              "outlinewidth": 0,
              "tickcolor": "rgb(237,237,237)",
              "ticklen": 6,
              "ticks": "inside"
             }
            },
            "type": "scatterternary"
           }
          ],
          "surface": [
           {
            "colorbar": {
             "outlinewidth": 0,
             "tickcolor": "rgb(237,237,237)",
             "ticklen": 6,
             "ticks": "inside"
            },
            "colorscale": [
             [
              0,
              "rgb(20,44,66)"
             ],
             [
              1,
              "rgb(90,179,244)"
             ]
            ],
            "type": "surface"
           }
          ],
          "table": [
           {
            "cells": {
             "fill": {
              "color": "rgb(237,237,237)"
             },
             "line": {
              "color": "white"
             }
            },
            "header": {
             "fill": {
              "color": "rgb(217,217,217)"
             },
             "line": {
              "color": "white"
             }
            },
            "type": "table"
           }
          ]
         },
         "layout": {
          "annotationdefaults": {
           "arrowhead": 0,
           "arrowwidth": 1
          },
          "autotypenumbers": "strict",
          "coloraxis": {
           "colorbar": {
            "outlinewidth": 0,
            "tickcolor": "rgb(237,237,237)",
            "ticklen": 6,
            "ticks": "inside"
           }
          },
          "colorscale": {
           "sequential": [
            [
             0,
             "rgb(20,44,66)"
            ],
            [
             1,
             "rgb(90,179,244)"
            ]
           ],
           "sequentialminus": [
            [
             0,
             "rgb(20,44,66)"
            ],
            [
             1,
             "rgb(90,179,244)"
            ]
           ]
          },
          "colorway": [
           "#F8766D",
           "#A3A500",
           "#00BF7D",
           "#00B0F6",
           "#E76BF3"
          ],
          "font": {
           "color": "rgb(51,51,51)"
          },
          "geo": {
           "bgcolor": "white",
           "lakecolor": "white",
           "landcolor": "rgb(237,237,237)",
           "showlakes": true,
           "showland": true,
           "subunitcolor": "white"
          },
          "hoverlabel": {
           "align": "left"
          },
          "hovermode": "closest",
          "paper_bgcolor": "white",
          "plot_bgcolor": "rgb(237,237,237)",
          "polar": {
           "angularaxis": {
            "gridcolor": "white",
            "linecolor": "white",
            "showgrid": true,
            "tickcolor": "rgb(51,51,51)",
            "ticks": "outside"
           },
           "bgcolor": "rgb(237,237,237)",
           "radialaxis": {
            "gridcolor": "white",
            "linecolor": "white",
            "showgrid": true,
            "tickcolor": "rgb(51,51,51)",
            "ticks": "outside"
           }
          },
          "scene": {
           "xaxis": {
            "backgroundcolor": "rgb(237,237,237)",
            "gridcolor": "white",
            "gridwidth": 2,
            "linecolor": "white",
            "showbackground": true,
            "showgrid": true,
            "tickcolor": "rgb(51,51,51)",
            "ticks": "outside",
            "zerolinecolor": "white"
           },
           "yaxis": {
            "backgroundcolor": "rgb(237,237,237)",
            "gridcolor": "white",
            "gridwidth": 2,
            "linecolor": "white",
            "showbackground": true,
            "showgrid": true,
            "tickcolor": "rgb(51,51,51)",
            "ticks": "outside",
            "zerolinecolor": "white"
           },
           "zaxis": {
            "backgroundcolor": "rgb(237,237,237)",
            "gridcolor": "white",
            "gridwidth": 2,
            "linecolor": "white",
            "showbackground": true,
            "showgrid": true,
            "tickcolor": "rgb(51,51,51)",
            "ticks": "outside",
            "zerolinecolor": "white"
           }
          },
          "shapedefaults": {
           "fillcolor": "black",
           "line": {
            "width": 0
           },
           "opacity": 0.3
          },
          "ternary": {
           "aaxis": {
            "gridcolor": "white",
            "linecolor": "white",
            "showgrid": true,
            "tickcolor": "rgb(51,51,51)",
            "ticks": "outside"
           },
           "baxis": {
            "gridcolor": "white",
            "linecolor": "white",
            "showgrid": true,
            "tickcolor": "rgb(51,51,51)",
            "ticks": "outside"
           },
           "bgcolor": "rgb(237,237,237)",
           "caxis": {
            "gridcolor": "white",
            "linecolor": "white",
            "showgrid": true,
            "tickcolor": "rgb(51,51,51)",
            "ticks": "outside"
           }
          },
          "xaxis": {
           "automargin": true,
           "gridcolor": "white",
           "linecolor": "white",
           "showgrid": true,
           "tickcolor": "rgb(51,51,51)",
           "ticks": "outside",
           "title": {
            "standoff": 15
           },
           "zerolinecolor": "white"
          },
          "yaxis": {
           "automargin": true,
           "gridcolor": "white",
           "linecolor": "white",
           "showgrid": true,
           "tickcolor": "rgb(51,51,51)",
           "ticks": "outside",
           "title": {
            "standoff": 15
           },
           "zerolinecolor": "white"
          }
         }
        },
        "xaxis": {
         "anchor": "y",
         "domain": [
          0,
          1
         ],
         "title": {
          "text": "Year"
         }
        },
        "yaxis": {
         "anchor": "x",
         "domain": [
          0,
          1
         ],
         "range": [
          0,
          1
         ],
         "tickformat": ".0%",
         "title": {
          "text": "Share (pct.)"
         }
        }
       }
      }
     },
     "metadata": {},
     "output_type": "display_data"
    }
   ],
   "source": [
    "df = df_org.copy()\n",
    "df = df.loc[df[\"not_kendelse\"] == True]\n",
    "\n",
    "#FIND THE X MOST ASSOCIATED LAWS\n",
    "top_n = 15\n",
    "df_relevante_love_top_x = df.loc[:,[\"id_verdict\",\"year\",\"relevante_love_cleaned\"]].explode(\"relevante_love_cleaned\").groupby(\"relevante_love_cleaned\").count().sort_values(\"id_verdict\",ascending=False)[\"id_verdict\"][:top_n]\n",
    "love_top_x = list(df_relevante_love_top_x.reset_index()[\"relevante_love_cleaned\"])\n",
    "\n",
    "df_top_x_lov = df.loc[:,[\"id_verdict\",\"year\",\"relevante_love_cleaned\"]].copy()\n",
    "df_top_x_lov[\"relevante_love_cleaned\"] = df_top_x_lov[\"relevante_love_cleaned\"].apply(lambda love: [lov if lov in love_top_x else \"Other law\" for lov in love] if love is not None else None)\n",
    "\n",
    "df_relevante_love = df_top_x_lov.explode(\"relevante_love_cleaned\").groupby([\"relevante_love_cleaned\",\"year\"]).count().sort_values(\"id_verdict\",ascending=False)[\"id_verdict\"]\n",
    "df_relevante_love = df_relevante_love.reset_index()\n",
    "df_relevante_love.rename(columns={\"id_verdict\":\"count\",\"relevante_love_cleaned\":\"Associated law\"}, inplace=True)\n",
    "\n",
    "df_relevante_love[\"year\"] = df_relevante_love[\"year\"].astype(int)\n",
    "df_relevante_love.sort_values([\"year\",\"count\"],inplace=True,ascending=False)\n",
    "df_relevante_love['share'] = df_relevante_love['count'] / df_relevante_love.groupby('year')['count'].transform('sum') \n",
    "fig = px.bar(df_relevante_love, \n",
    "            x=\"year\",\n",
    "            y=\"share\",\n",
    "            color=\"Associated law\",\n",
    "            template=\"ggplot2\",\n",
    "            color_discrete_sequence=px.colors.qualitative.Pastel,\n",
    "            hover_name=\"Associated law\", \n",
    "            hover_data= {\"count\":\":.0f\",\n",
    "                         \"share\":\":.1%\", \n",
    "                         \"Associated law\":False})\n",
    "fig.update_yaxes(tickformat=\".0%\", \n",
    "                range=[0,1])\n",
    "fig.update_layout(yaxis_title=\"Share (pct.)\",\n",
    "                  xaxis_title=\"Year\")\n",
    "fig = fig.update_layout(margin=dict(\n",
    "                        l=0,\n",
    "                        r=0,\n",
    "                        b=0,\n",
    "                        t=0\n",
    "                        )\n",
    "                        )\n",
    "fig.write_html(\"../../data/plots/distribution_of_judgements_by_associated_law.html\")\n",
    "fig.write_image(\"../../data/plots/distribution_of_judgements_by_associated_law.pdf\")\n",
    "fig"
   ]
  },
  {
   "cell_type": "code",
   "execution_count": 21,
   "metadata": {},
   "outputs": [
    {
     "data": {
      "application/vnd.plotly.v1+json": {
       "config": {
        "plotlyServerURL": "https://plot.ly"
       },
       "data": [
        {
         "alignmentgroup": "True",
         "customdata": [
          [
           163,
           "retsplejeloven"
          ],
          [
           190,
           "retsplejeloven"
          ],
          [
           145,
           "retsplejeloven"
          ],
          [
           130,
           "retsplejeloven"
          ],
          [
           148,
           "retsplejeloven"
          ],
          [
           171,
           "retsplejeloven"
          ],
          [
           146,
           "retsplejeloven"
          ],
          [
           155,
           "retsplejeloven"
          ],
          [
           179,
           "retsplejeloven"
          ],
          [
           131,
           "retsplejeloven"
          ],
          [
           175,
           "retsplejeloven"
          ],
          [
           102,
           "retsplejeloven"
          ],
          [
           162,
           "retsplejeloven"
          ],
          [
           154,
           "retsplejeloven"
          ],
          [
           130,
           "retsplejeloven"
          ],
          [
           123,
           "retsplejeloven"
          ],
          [
           134,
           "retsplejeloven"
          ],
          [
           99,
           "retsplejeloven"
          ],
          [
           131,
           "retsplejeloven"
          ],
          [
           99,
           "retsplejeloven"
          ],
          [
           125,
           "retsplejeloven"
          ],
          [
           121,
           "retsplejeloven"
          ],
          [
           101,
           "retsplejeloven"
          ],
          [
           97,
           "retsplejeloven"
          ],
          [
           90,
           "retsplejeloven"
          ],
          [
           88,
           "retsplejeloven"
          ],
          [
           52,
           "retsplejeloven"
          ],
          [
           38,
           "retsplejeloven"
          ],
          [
           32,
           "retsplejeloven"
          ],
          [
           37,
           "retsplejeloven"
          ],
          [
           34,
           "retsplejeloven"
          ],
          [
           36,
           "retsplejeloven"
          ],
          [
           30,
           "retsplejeloven"
          ],
          [
           36,
           "retsplejeloven"
          ],
          [
           27,
           "retsplejeloven"
          ],
          [
           30,
           "retsplejeloven"
          ],
          [
           26,
           "retsplejeloven"
          ],
          [
           44,
           "retsplejeloven"
          ],
          [
           56,
           "retsplejeloven"
          ],
          [
           33,
           "retsplejeloven"
          ],
          [
           51,
           "retsplejeloven"
          ],
          [
           38,
           "retsplejeloven"
          ],
          [
           47,
           "retsplejeloven"
          ],
          [
           55,
           "retsplejeloven"
          ],
          [
           29,
           "retsplejeloven"
          ],
          [
           41,
           "retsplejeloven"
          ],
          [
           33,
           "retsplejeloven"
          ],
          [
           45,
           "retsplejeloven"
          ],
          [
           38,
           "retsplejeloven"
          ],
          [
           39,
           "retsplejeloven"
          ],
          [
           42,
           "retsplejeloven"
          ],
          [
           37,
           "retsplejeloven"
          ],
          [
           44,
           "retsplejeloven"
          ],
          [
           38,
           "retsplejeloven"
          ],
          [
           23,
           "retsplejeloven"
          ],
          [
           53,
           "retsplejeloven"
          ],
          [
           33,
           "retsplejeloven"
          ],
          [
           29,
           "retsplejeloven"
          ],
          [
           34,
           "retsplejeloven"
          ],
          [
           26,
           "retsplejeloven"
          ],
          [
           22,
           "retsplejeloven"
          ],
          [
           25,
           "retsplejeloven"
          ],
          [
           28,
           "retsplejeloven"
          ],
          [
           34,
           "retsplejeloven"
          ],
          [
           36,
           "retsplejeloven"
          ],
          [
           26,
           "retsplejeloven"
          ],
          [
           21,
           "retsplejeloven"
          ],
          [
           18,
           "retsplejeloven"
          ],
          [
           14,
           "retsplejeloven"
          ],
          [
           18,
           "retsplejeloven"
          ],
          [
           22,
           "retsplejeloven"
          ],
          [
           17,
           "retsplejeloven"
          ]
         ],
         "hovertemplate": "<b>%{hovertext}</b><br><br>year=%{x}<br>share=%{y:.1%}<br>count=%{customdata[0]:.0f}<extra></extra>",
         "hovertext": [
          "retsplejeloven",
          "retsplejeloven",
          "retsplejeloven",
          "retsplejeloven",
          "retsplejeloven",
          "retsplejeloven",
          "retsplejeloven",
          "retsplejeloven",
          "retsplejeloven",
          "retsplejeloven",
          "retsplejeloven",
          "retsplejeloven",
          "retsplejeloven",
          "retsplejeloven",
          "retsplejeloven",
          "retsplejeloven",
          "retsplejeloven",
          "retsplejeloven",
          "retsplejeloven",
          "retsplejeloven",
          "retsplejeloven",
          "retsplejeloven",
          "retsplejeloven",
          "retsplejeloven",
          "retsplejeloven",
          "retsplejeloven",
          "retsplejeloven",
          "retsplejeloven",
          "retsplejeloven",
          "retsplejeloven",
          "retsplejeloven",
          "retsplejeloven",
          "retsplejeloven",
          "retsplejeloven",
          "retsplejeloven",
          "retsplejeloven",
          "retsplejeloven",
          "retsplejeloven",
          "retsplejeloven",
          "retsplejeloven",
          "retsplejeloven",
          "retsplejeloven",
          "retsplejeloven",
          "retsplejeloven",
          "retsplejeloven",
          "retsplejeloven",
          "retsplejeloven",
          "retsplejeloven",
          "retsplejeloven",
          "retsplejeloven",
          "retsplejeloven",
          "retsplejeloven",
          "retsplejeloven",
          "retsplejeloven",
          "retsplejeloven",
          "retsplejeloven",
          "retsplejeloven",
          "retsplejeloven",
          "retsplejeloven",
          "retsplejeloven",
          "retsplejeloven",
          "retsplejeloven",
          "retsplejeloven",
          "retsplejeloven",
          "retsplejeloven",
          "retsplejeloven",
          "retsplejeloven",
          "retsplejeloven",
          "retsplejeloven",
          "retsplejeloven",
          "retsplejeloven",
          "retsplejeloven"
         ],
         "legendgroup": "retsplejeloven",
         "marker": {
          "color": "rgb(102, 197, 204)",
          "pattern": {
           "shape": ""
          }
         },
         "name": "retsplejeloven",
         "offsetgroup": "retsplejeloven",
         "orientation": "v",
         "showlegend": true,
         "textposition": "auto",
         "type": "bar",
         "x": [
          2021,
          2020,
          2019,
          2018,
          2017,
          2016,
          2015,
          2014,
          2013,
          2012,
          2011,
          2010,
          2009,
          2008,
          2007,
          2006,
          2005,
          2004,
          2003,
          2002,
          2001,
          2000,
          1999,
          1998,
          1997,
          1996,
          1995,
          1994,
          1993,
          1992,
          1991,
          1990,
          1989,
          1988,
          1987,
          1986,
          1985,
          1984,
          1983,
          1982,
          1981,
          1980,
          1979,
          1978,
          1977,
          1976,
          1975,
          1974,
          1973,
          1972,
          1971,
          1970,
          1969,
          1968,
          1967,
          1966,
          1965,
          1964,
          1963,
          1962,
          1961,
          1960,
          1959,
          1958,
          1957,
          1956,
          1955,
          1954,
          1953,
          1952,
          1951,
          1950
         ],
         "xaxis": "x",
         "y": [
          0.5488215488215489,
          0.5740181268882175,
          0.5555555555555556,
          0.5416666666666666,
          0.578125,
          0.5360501567398119,
          0.5887096774193549,
          0.5575539568345323,
          0.6215277777777778,
          0.5900900900900901,
          0.6481481481481481,
          0.6538461538461539,
          0.6558704453441295,
          0.6637931034482759,
          0.5855855855855856,
          0.5466666666666666,
          0.600896860986547,
          0.47368421052631576,
          0.5097276264591439,
          0.5103092783505154,
          0.5296610169491526,
          0.5148936170212766,
          0.543010752688172,
          0.42543859649122806,
          0.5389221556886228,
          0.55,
          0.48148148148148145,
          0.4634146341463415,
          0.5245901639344263,
          0.5285714285714286,
          0.4358974358974359,
          0.46153846153846156,
          0.5357142857142857,
          0.5454545454545454,
          0.574468085106383,
          0.46153846153846156,
          0.3466666666666667,
          0.4943820224719101,
          0.6086956521739131,
          0.66,
          0.5930232558139535,
          0.5507246376811594,
          0.5662650602409639,
          0.5339805825242718,
          0.46774193548387094,
          0.6612903225806451,
          0.532258064516129,
          0.5625,
          0.5,
          0.52,
          0.6461538461538462,
          0.5873015873015873,
          0.7096774193548387,
          0.6229508196721312,
          0.5111111111111111,
          0.6625,
          0.559322033898305,
          0.4142857142857143,
          0.5483870967741935,
          0.5306122448979592,
          0.4888888888888889,
          0.5681818181818182,
          0.49122807017543857,
          0.6538461538461539,
          0.5373134328358209,
          0.4727272727272727,
          0.4117647058823529,
          0.4186046511627907,
          0.3684210526315789,
          0.391304347826087,
          0.4782608695652174,
          0.5483870967741935
         ],
         "yaxis": "y"
        },
        {
         "alignmentgroup": "True",
         "customdata": [
          [
           51,
           "Other law"
          ],
          [
           64,
           "Other law"
          ],
          [
           47,
           "Other law"
          ],
          [
           45,
           "Other law"
          ],
          [
           49,
           "Other law"
          ],
          [
           62,
           "Other law"
          ],
          [
           36,
           "Other law"
          ],
          [
           43,
           "Other law"
          ],
          [
           42,
           "Other law"
          ],
          [
           41,
           "Other law"
          ],
          [
           32,
           "Other law"
          ],
          [
           19,
           "Other law"
          ],
          [
           34,
           "Other law"
          ],
          [
           32,
           "Other law"
          ],
          [
           38,
           "Other law"
          ],
          [
           38,
           "Other law"
          ],
          [
           29,
           "Other law"
          ],
          [
           39,
           "Other law"
          ],
          [
           44,
           "Other law"
          ],
          [
           42,
           "Other law"
          ],
          [
           36,
           "Other law"
          ],
          [
           32,
           "Other law"
          ],
          [
           37,
           "Other law"
          ],
          [
           50,
           "Other law"
          ],
          [
           21,
           "Other law"
          ],
          [
           31,
           "Other law"
          ],
          [
           13,
           "Other law"
          ],
          [
           20,
           "Other law"
          ],
          [
           10,
           "Other law"
          ],
          [
           12,
           "Other law"
          ],
          [
           15,
           "Other law"
          ],
          [
           14,
           "Other law"
          ],
          [
           6,
           "Other law"
          ],
          [
           13,
           "Other law"
          ],
          [
           7,
           "Other law"
          ],
          [
           9,
           "Other law"
          ],
          [
           11,
           "Other law"
          ],
          [
           14,
           "Other law"
          ],
          [
           11,
           "Other law"
          ],
          [
           3,
           "Other law"
          ],
          [
           10,
           "Other law"
          ],
          [
           10,
           "Other law"
          ],
          [
           13,
           "Other law"
          ],
          [
           19,
           "Other law"
          ],
          [
           12,
           "Other law"
          ],
          [
           7,
           "Other law"
          ],
          [
           11,
           "Other law"
          ],
          [
           7,
           "Other law"
          ],
          [
           15,
           "Other law"
          ],
          [
           15,
           "Other law"
          ],
          [
           5,
           "Other law"
          ],
          [
           5,
           "Other law"
          ],
          [
           9,
           "Other law"
          ],
          [
           10,
           "Other law"
          ],
          [
           5,
           "Other law"
          ],
          [
           5,
           "Other law"
          ],
          [
           7,
           "Other law"
          ],
          [
           12,
           "Other law"
          ],
          [
           9,
           "Other law"
          ],
          [
           5,
           "Other law"
          ],
          [
           7,
           "Other law"
          ],
          [
           4,
           "Other law"
          ],
          [
           6,
           "Other law"
          ],
          [
           4,
           "Other law"
          ],
          [
           12,
           "Other law"
          ],
          [
           8,
           "Other law"
          ],
          [
           8,
           "Other law"
          ],
          [
           6,
           "Other law"
          ],
          [
           4,
           "Other law"
          ],
          [
           4,
           "Other law"
          ],
          [
           10,
           "Other law"
          ],
          [
           8,
           "Other law"
          ]
         ],
         "hovertemplate": "<b>%{hovertext}</b><br><br>year=%{x}<br>share=%{y:.1%}<br>count=%{customdata[0]:.0f}<extra></extra>",
         "hovertext": [
          "Other law",
          "Other law",
          "Other law",
          "Other law",
          "Other law",
          "Other law",
          "Other law",
          "Other law",
          "Other law",
          "Other law",
          "Other law",
          "Other law",
          "Other law",
          "Other law",
          "Other law",
          "Other law",
          "Other law",
          "Other law",
          "Other law",
          "Other law",
          "Other law",
          "Other law",
          "Other law",
          "Other law",
          "Other law",
          "Other law",
          "Other law",
          "Other law",
          "Other law",
          "Other law",
          "Other law",
          "Other law",
          "Other law",
          "Other law",
          "Other law",
          "Other law",
          "Other law",
          "Other law",
          "Other law",
          "Other law",
          "Other law",
          "Other law",
          "Other law",
          "Other law",
          "Other law",
          "Other law",
          "Other law",
          "Other law",
          "Other law",
          "Other law",
          "Other law",
          "Other law",
          "Other law",
          "Other law",
          "Other law",
          "Other law",
          "Other law",
          "Other law",
          "Other law",
          "Other law",
          "Other law",
          "Other law",
          "Other law",
          "Other law",
          "Other law",
          "Other law",
          "Other law",
          "Other law",
          "Other law",
          "Other law",
          "Other law",
          "Other law"
         ],
         "legendgroup": "Other law",
         "marker": {
          "color": "rgb(246, 207, 113)",
          "pattern": {
           "shape": ""
          }
         },
         "name": "Other law",
         "offsetgroup": "Other law",
         "orientation": "v",
         "showlegend": true,
         "textposition": "auto",
         "type": "bar",
         "x": [
          2021,
          2020,
          2019,
          2018,
          2017,
          2016,
          2015,
          2014,
          2013,
          2012,
          2011,
          2010,
          2009,
          2008,
          2007,
          2006,
          2005,
          2004,
          2003,
          2002,
          2001,
          2000,
          1999,
          1998,
          1997,
          1996,
          1995,
          1994,
          1993,
          1992,
          1991,
          1990,
          1989,
          1988,
          1987,
          1986,
          1985,
          1984,
          1983,
          1982,
          1981,
          1980,
          1979,
          1978,
          1977,
          1976,
          1975,
          1974,
          1973,
          1972,
          1971,
          1970,
          1969,
          1968,
          1967,
          1966,
          1965,
          1964,
          1963,
          1962,
          1961,
          1960,
          1959,
          1958,
          1957,
          1956,
          1955,
          1954,
          1953,
          1952,
          1951,
          1950
         ],
         "xaxis": "x",
         "y": [
          0.1717171717171717,
          0.1933534743202417,
          0.18007662835249041,
          0.1875,
          0.19140625,
          0.19435736677115986,
          0.14516129032258066,
          0.15467625899280577,
          0.14583333333333334,
          0.18468468468468469,
          0.11851851851851852,
          0.12179487179487179,
          0.13765182186234817,
          0.13793103448275862,
          0.17117117117117117,
          0.1688888888888889,
          0.13004484304932734,
          0.18660287081339713,
          0.17120622568093385,
          0.21649484536082475,
          0.15254237288135594,
          0.13617021276595745,
          0.1989247311827957,
          0.21929824561403508,
          0.12574850299401197,
          0.19375,
          0.12037037037037036,
          0.24390243902439024,
          0.16393442622950818,
          0.17142857142857143,
          0.19230769230769232,
          0.1794871794871795,
          0.10714285714285714,
          0.19696969696969696,
          0.14893617021276595,
          0.13846153846153847,
          0.14666666666666667,
          0.15730337078651685,
          0.11956521739130435,
          0.06,
          0.11627906976744186,
          0.14492753623188406,
          0.1566265060240964,
          0.18446601941747573,
          0.1935483870967742,
          0.11290322580645161,
          0.1774193548387097,
          0.0875,
          0.19736842105263158,
          0.2,
          0.07692307692307693,
          0.07936507936507936,
          0.14516129032258066,
          0.16393442622950818,
          0.1111111111111111,
          0.0625,
          0.11864406779661017,
          0.17142857142857143,
          0.14516129032258066,
          0.10204081632653061,
          0.15555555555555556,
          0.09090909090909091,
          0.10526315789473684,
          0.07692307692307693,
          0.1791044776119403,
          0.14545454545454545,
          0.1568627450980392,
          0.13953488372093023,
          0.10526315789473684,
          0.08695652173913043,
          0.21739130434782608,
          0.25806451612903225
         ],
         "yaxis": "y"
        },
        {
         "alignmentgroup": "True",
         "customdata": [
          [
           32,
           "konkursloven"
          ],
          [
           28,
           "konkursloven"
          ],
          [
           25,
           "konkursloven"
          ],
          [
           31,
           "konkursloven"
          ],
          [
           21,
           "konkursloven"
          ],
          [
           32,
           "konkursloven"
          ],
          [
           26,
           "konkursloven"
          ],
          [
           29,
           "konkursloven"
          ],
          [
           21,
           "konkursloven"
          ],
          [
           10,
           "konkursloven"
          ],
          [
           12,
           "konkursloven"
          ],
          [
           7,
           "konkursloven"
          ],
          [
           11,
           "konkursloven"
          ],
          [
           12,
           "konkursloven"
          ],
          [
           17,
           "konkursloven"
          ],
          [
           7,
           "konkursloven"
          ],
          [
           10,
           "konkursloven"
          ],
          [
           9,
           "konkursloven"
          ],
          [
           10,
           "konkursloven"
          ],
          [
           8,
           "konkursloven"
          ],
          [
           10,
           "konkursloven"
          ],
          [
           16,
           "konkursloven"
          ],
          [
           10,
           "konkursloven"
          ],
          [
           25,
           "konkursloven"
          ],
          [
           10,
           "konkursloven"
          ],
          [
           12,
           "konkursloven"
          ],
          [
           16,
           "konkursloven"
          ],
          [
           7,
           "konkursloven"
          ],
          [
           3,
           "konkursloven"
          ],
          [
           2,
           "konkursloven"
          ],
          [
           3,
           "konkursloven"
          ],
          [
           9,
           "konkursloven"
          ],
          [
           3,
           "konkursloven"
          ],
          [
           3,
           "konkursloven"
          ],
          [
           7,
           "konkursloven"
          ],
          [
           12,
           "konkursloven"
          ],
          [
           15,
           "konkursloven"
          ],
          [
           9,
           "konkursloven"
          ],
          [
           12,
           "konkursloven"
          ],
          [
           6,
           "konkursloven"
          ],
          [
           9,
           "konkursloven"
          ],
          [
           4,
           "konkursloven"
          ],
          [
           5,
           "konkursloven"
          ],
          [
           1,
           "konkursloven"
          ],
          [
           3,
           "konkursloven"
          ],
          [
           2,
           "konkursloven"
          ],
          [
           2,
           "konkursloven"
          ],
          [
           6,
           "konkursloven"
          ],
          [
           5,
           "konkursloven"
          ],
          [
           2,
           "konkursloven"
          ],
          [
           1,
           "konkursloven"
          ],
          [
           1,
           "konkursloven"
          ],
          [
           3,
           "konkursloven"
          ],
          [
           2,
           "konkursloven"
          ],
          [
           1,
           "konkursloven"
          ],
          [
           2,
           "konkursloven"
          ],
          [
           1,
           "konkursloven"
          ],
          [
           5,
           "konkursloven"
          ],
          [
           3,
           "konkursloven"
          ],
          [
           1,
           "konkursloven"
          ],
          [
           1,
           "konkursloven"
          ],
          [
           1,
           "konkursloven"
          ],
          [
           1,
           "konkursloven"
          ],
          [
           2,
           "konkursloven"
          ],
          [
           2,
           "konkursloven"
          ],
          [
           1,
           "konkursloven"
          ]
         ],
         "hovertemplate": "<b>%{hovertext}</b><br><br>year=%{x}<br>share=%{y:.1%}<br>count=%{customdata[0]:.0f}<extra></extra>",
         "hovertext": [
          "konkursloven",
          "konkursloven",
          "konkursloven",
          "konkursloven",
          "konkursloven",
          "konkursloven",
          "konkursloven",
          "konkursloven",
          "konkursloven",
          "konkursloven",
          "konkursloven",
          "konkursloven",
          "konkursloven",
          "konkursloven",
          "konkursloven",
          "konkursloven",
          "konkursloven",
          "konkursloven",
          "konkursloven",
          "konkursloven",
          "konkursloven",
          "konkursloven",
          "konkursloven",
          "konkursloven",
          "konkursloven",
          "konkursloven",
          "konkursloven",
          "konkursloven",
          "konkursloven",
          "konkursloven",
          "konkursloven",
          "konkursloven",
          "konkursloven",
          "konkursloven",
          "konkursloven",
          "konkursloven",
          "konkursloven",
          "konkursloven",
          "konkursloven",
          "konkursloven",
          "konkursloven",
          "konkursloven",
          "konkursloven",
          "konkursloven",
          "konkursloven",
          "konkursloven",
          "konkursloven",
          "konkursloven",
          "konkursloven",
          "konkursloven",
          "konkursloven",
          "konkursloven",
          "konkursloven",
          "konkursloven",
          "konkursloven",
          "konkursloven",
          "konkursloven",
          "konkursloven",
          "konkursloven",
          "konkursloven",
          "konkursloven",
          "konkursloven",
          "konkursloven",
          "konkursloven",
          "konkursloven",
          "konkursloven"
         ],
         "legendgroup": "konkursloven",
         "marker": {
          "color": "rgb(248, 156, 116)",
          "pattern": {
           "shape": ""
          }
         },
         "name": "konkursloven",
         "offsetgroup": "konkursloven",
         "orientation": "v",
         "showlegend": true,
         "textposition": "auto",
         "type": "bar",
         "x": [
          2021,
          2020,
          2019,
          2018,
          2017,
          2016,
          2015,
          2014,
          2013,
          2012,
          2011,
          2010,
          2009,
          2008,
          2007,
          2006,
          2005,
          2004,
          2003,
          2002,
          2001,
          2000,
          1999,
          1998,
          1997,
          1996,
          1995,
          1994,
          1993,
          1992,
          1991,
          1990,
          1989,
          1988,
          1987,
          1986,
          1985,
          1984,
          1983,
          1982,
          1981,
          1980,
          1979,
          1978,
          1977,
          1976,
          1975,
          1974,
          1973,
          1972,
          1971,
          1970,
          1969,
          1968,
          1967,
          1966,
          1965,
          1964,
          1963,
          1962,
          1960,
          1958,
          1956,
          1955,
          1954,
          1952
         ],
         "xaxis": "x",
         "y": [
          0.10774410774410774,
          0.08459214501510574,
          0.09578544061302682,
          0.12916666666666668,
          0.08203125,
          0.10031347962382445,
          0.10483870967741936,
          0.10431654676258993,
          0.07291666666666667,
          0.04504504504504504,
          0.044444444444444446,
          0.04487179487179487,
          0.044534412955465584,
          0.05172413793103448,
          0.07657657657657657,
          0.03111111111111111,
          0.04484304932735426,
          0.0430622009569378,
          0.038910505836575876,
          0.041237113402061855,
          0.0423728813559322,
          0.06808510638297872,
          0.053763440860215055,
          0.10964912280701754,
          0.059880239520958084,
          0.075,
          0.14814814814814814,
          0.08536585365853659,
          0.04918032786885246,
          0.02857142857142857,
          0.038461538461538464,
          0.11538461538461539,
          0.05357142857142857,
          0.045454545454545456,
          0.14893617021276595,
          0.18461538461538463,
          0.2,
          0.10112359550561797,
          0.13043478260869565,
          0.12,
          0.10465116279069768,
          0.057971014492753624,
          0.060240963855421686,
          0.009708737864077669,
          0.04838709677419355,
          0.03225806451612903,
          0.03225806451612903,
          0.075,
          0.06578947368421052,
          0.02666666666666667,
          0.015384615384615385,
          0.015873015873015872,
          0.04838709677419355,
          0.03278688524590164,
          0.022222222222222223,
          0.025,
          0.01694915254237288,
          0.07142857142857142,
          0.04838709677419355,
          0.02040816326530612,
          0.022727272727272728,
          0.019230769230769232,
          0.01818181818181818,
          0.0392156862745098,
          0.046511627906976744,
          0.021739130434782608
         ],
         "yaxis": "y"
        },
        {
         "alignmentgroup": "True",
         "customdata": [
          [
           13,
           "straffeloven"
          ],
          [
           9,
           "straffeloven"
          ],
          [
           9,
           "straffeloven"
          ],
          [
           4,
           "straffeloven"
          ],
          [
           8,
           "straffeloven"
          ],
          [
           9,
           "straffeloven"
          ],
          [
           5,
           "straffeloven"
          ],
          [
           7,
           "straffeloven"
          ],
          [
           2,
           "straffeloven"
          ],
          [
           3,
           "straffeloven"
          ],
          [
           11,
           "straffeloven"
          ],
          [
           5,
           "straffeloven"
          ],
          [
           10,
           "straffeloven"
          ],
          [
           6,
           "straffeloven"
          ],
          [
           1,
           "straffeloven"
          ],
          [
           10,
           "straffeloven"
          ],
          [
           5,
           "straffeloven"
          ],
          [
           2,
           "straffeloven"
          ],
          [
           5,
           "straffeloven"
          ],
          [
           10,
           "straffeloven"
          ],
          [
           10,
           "straffeloven"
          ],
          [
           8,
           "straffeloven"
          ],
          [
           5,
           "straffeloven"
          ],
          [
           24,
           "straffeloven"
          ],
          [
           6,
           "straffeloven"
          ],
          [
           4,
           "straffeloven"
          ],
          [
           3,
           "straffeloven"
          ],
          [
           2,
           "straffeloven"
          ],
          [
           2,
           "straffeloven"
          ],
          [
           4,
           "straffeloven"
          ],
          [
           2,
           "straffeloven"
          ],
          [
           3,
           "straffeloven"
          ],
          [
           5,
           "straffeloven"
          ],
          [
           2,
           "straffeloven"
          ],
          [
           1,
           "straffeloven"
          ],
          [
           1,
           "straffeloven"
          ],
          [
           4,
           "straffeloven"
          ],
          [
           1,
           "straffeloven"
          ],
          [
           1,
           "straffeloven"
          ],
          [
           2,
           "straffeloven"
          ],
          [
           5,
           "straffeloven"
          ],
          [
           1,
           "straffeloven"
          ],
          [
           4,
           "straffeloven"
          ],
          [
           3,
           "straffeloven"
          ],
          [
           1,
           "straffeloven"
          ],
          [
           1,
           "straffeloven"
          ],
          [
           3,
           "straffeloven"
          ],
          [
           4,
           "straffeloven"
          ],
          [
           3,
           "straffeloven"
          ],
          [
           3,
           "straffeloven"
          ],
          [
           3,
           "straffeloven"
          ],
          [
           3,
           "straffeloven"
          ],
          [
           2,
           "straffeloven"
          ],
          [
           5,
           "straffeloven"
          ],
          [
           5,
           "straffeloven"
          ],
          [
           3,
           "straffeloven"
          ],
          [
           2,
           "straffeloven"
          ],
          [
           3,
           "straffeloven"
          ],
          [
           5,
           "straffeloven"
          ],
          [
           10,
           "straffeloven"
          ],
          [
           2,
           "straffeloven"
          ],
          [
           4,
           "straffeloven"
          ],
          [
           2,
           "straffeloven"
          ],
          [
           1,
           "straffeloven"
          ],
          [
           3,
           "straffeloven"
          ],
          [
           8,
           "straffeloven"
          ],
          [
           6,
           "straffeloven"
          ],
          [
           6,
           "straffeloven"
          ],
          [
           3,
           "straffeloven"
          ]
         ],
         "hovertemplate": "<b>%{hovertext}</b><br><br>year=%{x}<br>share=%{y:.1%}<br>count=%{customdata[0]:.0f}<extra></extra>",
         "hovertext": [
          "straffeloven",
          "straffeloven",
          "straffeloven",
          "straffeloven",
          "straffeloven",
          "straffeloven",
          "straffeloven",
          "straffeloven",
          "straffeloven",
          "straffeloven",
          "straffeloven",
          "straffeloven",
          "straffeloven",
          "straffeloven",
          "straffeloven",
          "straffeloven",
          "straffeloven",
          "straffeloven",
          "straffeloven",
          "straffeloven",
          "straffeloven",
          "straffeloven",
          "straffeloven",
          "straffeloven",
          "straffeloven",
          "straffeloven",
          "straffeloven",
          "straffeloven",
          "straffeloven",
          "straffeloven",
          "straffeloven",
          "straffeloven",
          "straffeloven",
          "straffeloven",
          "straffeloven",
          "straffeloven",
          "straffeloven",
          "straffeloven",
          "straffeloven",
          "straffeloven",
          "straffeloven",
          "straffeloven",
          "straffeloven",
          "straffeloven",
          "straffeloven",
          "straffeloven",
          "straffeloven",
          "straffeloven",
          "straffeloven",
          "straffeloven",
          "straffeloven",
          "straffeloven",
          "straffeloven",
          "straffeloven",
          "straffeloven",
          "straffeloven",
          "straffeloven",
          "straffeloven",
          "straffeloven",
          "straffeloven",
          "straffeloven",
          "straffeloven",
          "straffeloven",
          "straffeloven",
          "straffeloven",
          "straffeloven",
          "straffeloven",
          "straffeloven",
          "straffeloven"
         ],
         "legendgroup": "straffeloven",
         "marker": {
          "color": "rgb(220, 176, 242)",
          "pattern": {
           "shape": ""
          }
         },
         "name": "straffeloven",
         "offsetgroup": "straffeloven",
         "orientation": "v",
         "showlegend": true,
         "textposition": "auto",
         "type": "bar",
         "x": [
          2021,
          2020,
          2019,
          2018,
          2017,
          2016,
          2015,
          2014,
          2013,
          2012,
          2011,
          2010,
          2009,
          2008,
          2007,
          2006,
          2005,
          2004,
          2003,
          2002,
          2001,
          2000,
          1999,
          1998,
          1997,
          1996,
          1995,
          1994,
          1993,
          1992,
          1991,
          1990,
          1989,
          1988,
          1987,
          1986,
          1985,
          1983,
          1982,
          1981,
          1980,
          1979,
          1978,
          1977,
          1976,
          1975,
          1974,
          1972,
          1970,
          1969,
          1968,
          1967,
          1966,
          1965,
          1964,
          1963,
          1962,
          1961,
          1960,
          1959,
          1958,
          1957,
          1956,
          1955,
          1954,
          1953,
          1952,
          1951,
          1950
         ],
         "xaxis": "x",
         "y": [
          0.04377104377104377,
          0.027190332326283987,
          0.034482758620689655,
          0.016666666666666666,
          0.03125,
          0.02821316614420063,
          0.020161290322580645,
          0.025179856115107913,
          0.006944444444444444,
          0.013513513513513514,
          0.040740740740740744,
          0.03205128205128205,
          0.04048582995951417,
          0.02586206896551724,
          0.0045045045045045045,
          0.044444444444444446,
          0.02242152466367713,
          0.009569377990430622,
          0.019455252918287938,
          0.05154639175257732,
          0.0423728813559322,
          0.03404255319148936,
          0.026881720430107527,
          0.10526315789473684,
          0.03592814371257485,
          0.025,
          0.027777777777777776,
          0.024390243902439025,
          0.03278688524590164,
          0.05714285714285714,
          0.02564102564102564,
          0.038461538461538464,
          0.08928571428571429,
          0.030303030303030304,
          0.02127659574468085,
          0.015384615384615385,
          0.05333333333333334,
          0.010869565217391304,
          0.02,
          0.023255813953488372,
          0.07246376811594203,
          0.012048192771084338,
          0.038834951456310676,
          0.04838709677419355,
          0.016129032258064516,
          0.016129032258064516,
          0.0375,
          0.05333333333333334,
          0.047619047619047616,
          0.04838709677419355,
          0.04918032786885246,
          0.06666666666666667,
          0.025,
          0.0847457627118644,
          0.07142857142857142,
          0.04838709677419355,
          0.04081632653061224,
          0.06666666666666667,
          0.11363636363636363,
          0.17543859649122806,
          0.038461538461538464,
          0.05970149253731343,
          0.03636363636363636,
          0.0196078431372549,
          0.06976744186046512,
          0.21052631578947367,
          0.13043478260869565,
          0.13043478260869565,
          0.0967741935483871
         ],
         "yaxis": "y"
        },
        {
         "alignmentgroup": "True",
         "customdata": [
          [
           10,
           "menneskerettighedskonventionen"
          ],
          [
           2,
           "menneskerettighedskonventionen"
          ],
          [
           3,
           "menneskerettighedskonventionen"
          ],
          [
           3,
           "menneskerettighedskonventionen"
          ],
          [
           5,
           "menneskerettighedskonventionen"
          ],
          [
           6,
           "menneskerettighedskonventionen"
          ],
          [
           3,
           "menneskerettighedskonventionen"
          ],
          [
           11,
           "menneskerettighedskonventionen"
          ],
          [
           3,
           "menneskerettighedskonventionen"
          ],
          [
           3,
           "menneskerettighedskonventionen"
          ],
          [
           5,
           "menneskerettighedskonventionen"
          ],
          [
           5,
           "menneskerettighedskonventionen"
          ],
          [
           4,
           "menneskerettighedskonventionen"
          ],
          [
           2,
           "menneskerettighedskonventionen"
          ],
          [
           4,
           "menneskerettighedskonventionen"
          ],
          [
           4,
           "menneskerettighedskonventionen"
          ],
          [
           7,
           "menneskerettighedskonventionen"
          ],
          [
           9,
           "menneskerettighedskonventionen"
          ],
          [
           4,
           "menneskerettighedskonventionen"
          ],
          [
           2,
           "menneskerettighedskonventionen"
          ],
          [
           3,
           "menneskerettighedskonventionen"
          ],
          [
           3,
           "menneskerettighedskonventionen"
          ],
          [
           9,
           "menneskerettighedskonventionen"
          ],
          [
           3,
           "menneskerettighedskonventionen"
          ],
          [
           2,
           "menneskerettighedskonventionen"
          ],
          [
           4,
           "menneskerettighedskonventionen"
          ],
          [
           6,
           "menneskerettighedskonventionen"
          ]
         ],
         "hovertemplate": "<b>%{hovertext}</b><br><br>year=%{x}<br>share=%{y:.1%}<br>count=%{customdata[0]:.0f}<extra></extra>",
         "hovertext": [
          "menneskerettighedskonventionen",
          "menneskerettighedskonventionen",
          "menneskerettighedskonventionen",
          "menneskerettighedskonventionen",
          "menneskerettighedskonventionen",
          "menneskerettighedskonventionen",
          "menneskerettighedskonventionen",
          "menneskerettighedskonventionen",
          "menneskerettighedskonventionen",
          "menneskerettighedskonventionen",
          "menneskerettighedskonventionen",
          "menneskerettighedskonventionen",
          "menneskerettighedskonventionen",
          "menneskerettighedskonventionen",
          "menneskerettighedskonventionen",
          "menneskerettighedskonventionen",
          "menneskerettighedskonventionen",
          "menneskerettighedskonventionen",
          "menneskerettighedskonventionen",
          "menneskerettighedskonventionen",
          "menneskerettighedskonventionen",
          "menneskerettighedskonventionen",
          "menneskerettighedskonventionen",
          "menneskerettighedskonventionen",
          "menneskerettighedskonventionen",
          "menneskerettighedskonventionen",
          "menneskerettighedskonventionen"
         ],
         "legendgroup": "menneskerettighedskonventionen",
         "marker": {
          "color": "rgb(135, 197, 95)",
          "pattern": {
           "shape": ""
          }
         },
         "name": "menneskerettighedskonventionen",
         "offsetgroup": "menneskerettighedskonventionen",
         "orientation": "v",
         "showlegend": true,
         "textposition": "auto",
         "type": "bar",
         "x": [
          2021,
          2020,
          2019,
          2018,
          2017,
          2016,
          2015,
          2014,
          2013,
          2012,
          2011,
          2010,
          2009,
          2008,
          2007,
          2006,
          2005,
          2004,
          2003,
          2002,
          2001,
          2000,
          1999,
          1998,
          1997,
          1996,
          1995
         ],
         "xaxis": "x",
         "y": [
          0.03367003367003367,
          0.006042296072507553,
          0.011494252873563218,
          0.0125,
          0.01953125,
          0.018808777429467086,
          0.012096774193548387,
          0.039568345323741004,
          0.010416666666666666,
          0.013513513513513514,
          0.018518518518518517,
          0.03205128205128205,
          0.016194331983805668,
          0.008620689655172414,
          0.018018018018018018,
          0.017777777777777778,
          0.03139013452914798,
          0.0430622009569378,
          0.01556420233463035,
          0.010309278350515464,
          0.012711864406779662,
          0.01276595744680851,
          0.04838709677419355,
          0.013157894736842105,
          0.011976047904191617,
          0.025,
          0.05555555555555555
         ],
         "yaxis": "y"
        },
        {
         "alignmentgroup": "True",
         "customdata": [
          [
           7,
           "færdselsloven"
          ],
          [
           2,
           "færdselsloven"
          ],
          [
           7,
           "færdselsloven"
          ],
          [
           6,
           "færdselsloven"
          ],
          [
           3,
           "færdselsloven"
          ],
          [
           3,
           "færdselsloven"
          ],
          [
           2,
           "færdselsloven"
          ],
          [
           2,
           "færdselsloven"
          ],
          [
           5,
           "færdselsloven"
          ],
          [
           5,
           "færdselsloven"
          ],
          [
           3,
           "færdselsloven"
          ],
          [
           2,
           "færdselsloven"
          ],
          [
           4,
           "færdselsloven"
          ],
          [
           8,
           "færdselsloven"
          ],
          [
           2,
           "færdselsloven"
          ],
          [
           4,
           "færdselsloven"
          ],
          [
           6,
           "færdselsloven"
          ],
          [
           5,
           "færdselsloven"
          ],
          [
           5,
           "færdselsloven"
          ],
          [
           7,
           "færdselsloven"
          ],
          [
           1,
           "færdselsloven"
          ],
          [
           5,
           "færdselsloven"
          ],
          [
           1,
           "færdselsloven"
          ],
          [
           2,
           "færdselsloven"
          ],
          [
           2,
           "færdselsloven"
          ],
          [
           1,
           "færdselsloven"
          ],
          [
           1,
           "færdselsloven"
          ],
          [
           1,
           "færdselsloven"
          ],
          [
           1,
           "færdselsloven"
          ],
          [
           2,
           "færdselsloven"
          ],
          [
           2,
           "færdselsloven"
          ],
          [
           1,
           "færdselsloven"
          ],
          [
           1,
           "færdselsloven"
          ],
          [
           1,
           "færdselsloven"
          ],
          [
           2,
           "færdselsloven"
          ],
          [
           2,
           "færdselsloven"
          ],
          [
           1,
           "færdselsloven"
          ],
          [
           3,
           "færdselsloven"
          ],
          [
           4,
           "færdselsloven"
          ],
          [
           1,
           "færdselsloven"
          ],
          [
           4,
           "færdselsloven"
          ],
          [
           2,
           "færdselsloven"
          ],
          [
           3,
           "færdselsloven"
          ],
          [
           3,
           "færdselsloven"
          ],
          [
           1,
           "færdselsloven"
          ],
          [
           1,
           "færdselsloven"
          ],
          [
           1,
           "færdselsloven"
          ],
          [
           6,
           "færdselsloven"
          ],
          [
           2,
           "færdselsloven"
          ],
          [
           2,
           "færdselsloven"
          ],
          [
           5,
           "færdselsloven"
          ],
          [
           2,
           "færdselsloven"
          ],
          [
           5,
           "færdselsloven"
          ],
          [
           5,
           "færdselsloven"
          ],
          [
           3,
           "færdselsloven"
          ],
          [
           3,
           "færdselsloven"
          ],
          [
           1,
           "færdselsloven"
          ]
         ],
         "hovertemplate": "<b>%{hovertext}</b><br><br>year=%{x}<br>share=%{y:.1%}<br>count=%{customdata[0]:.0f}<extra></extra>",
         "hovertext": [
          "færdselsloven",
          "færdselsloven",
          "færdselsloven",
          "færdselsloven",
          "færdselsloven",
          "færdselsloven",
          "færdselsloven",
          "færdselsloven",
          "færdselsloven",
          "færdselsloven",
          "færdselsloven",
          "færdselsloven",
          "færdselsloven",
          "færdselsloven",
          "færdselsloven",
          "færdselsloven",
          "færdselsloven",
          "færdselsloven",
          "færdselsloven",
          "færdselsloven",
          "færdselsloven",
          "færdselsloven",
          "færdselsloven",
          "færdselsloven",
          "færdselsloven",
          "færdselsloven",
          "færdselsloven",
          "færdselsloven",
          "færdselsloven",
          "færdselsloven",
          "færdselsloven",
          "færdselsloven",
          "færdselsloven",
          "færdselsloven",
          "færdselsloven",
          "færdselsloven",
          "færdselsloven",
          "færdselsloven",
          "færdselsloven",
          "færdselsloven",
          "færdselsloven",
          "færdselsloven",
          "færdselsloven",
          "færdselsloven",
          "færdselsloven",
          "færdselsloven",
          "færdselsloven",
          "færdselsloven",
          "færdselsloven",
          "færdselsloven",
          "færdselsloven",
          "færdselsloven",
          "færdselsloven",
          "færdselsloven",
          "færdselsloven",
          "færdselsloven",
          "færdselsloven"
         ],
         "legendgroup": "færdselsloven",
         "marker": {
          "color": "rgb(158, 185, 243)",
          "pattern": {
           "shape": ""
          }
         },
         "name": "færdselsloven",
         "offsetgroup": "færdselsloven",
         "orientation": "v",
         "showlegend": true,
         "textposition": "auto",
         "type": "bar",
         "x": [
          2021,
          2020,
          2019,
          2018,
          2017,
          2016,
          2015,
          2014,
          2013,
          2011,
          2009,
          2008,
          2007,
          2006,
          2005,
          2004,
          2003,
          2002,
          2001,
          2000,
          1999,
          1998,
          1997,
          1996,
          1995,
          1994,
          1993,
          1992,
          1991,
          1990,
          1989,
          1983,
          1980,
          1979,
          1978,
          1977,
          1976,
          1975,
          1974,
          1973,
          1972,
          1971,
          1970,
          1968,
          1967,
          1966,
          1965,
          1964,
          1963,
          1962,
          1961,
          1960,
          1959,
          1958,
          1957,
          1956,
          1955
         ],
         "xaxis": "x",
         "y": [
          0.02356902356902357,
          0.006042296072507553,
          0.02681992337164751,
          0.025,
          0.01171875,
          0.009404388714733543,
          0.008064516129032258,
          0.007194244604316547,
          0.017361111111111112,
          0.018518518518518517,
          0.012145748987854251,
          0.008620689655172414,
          0.018018018018018018,
          0.035555555555555556,
          0.008968609865470852,
          0.019138755980861243,
          0.023346303501945526,
          0.02577319587628866,
          0.0211864406779661,
          0.029787234042553193,
          0.005376344086021506,
          0.021929824561403508,
          0.005988023952095809,
          0.0125,
          0.018518518518518517,
          0.012195121951219513,
          0.01639344262295082,
          0.014285714285714285,
          0.01282051282051282,
          0.02564102564102564,
          0.03571428571428571,
          0.010869565217391304,
          0.014492753623188406,
          0.012048192771084338,
          0.019417475728155338,
          0.03225806451612903,
          0.016129032258064516,
          0.04838709677419355,
          0.05,
          0.013157894736842105,
          0.05333333333333334,
          0.03076923076923077,
          0.047619047619047616,
          0.04918032786885246,
          0.022222222222222223,
          0.0125,
          0.01694915254237288,
          0.08571428571428572,
          0.03225806451612903,
          0.04081632653061224,
          0.1111111111111111,
          0.045454545454545456,
          0.08771929824561403,
          0.09615384615384616,
          0.04477611940298507,
          0.05454545454545454,
          0.0196078431372549
         ],
         "yaxis": "y"
        },
        {
         "alignmentgroup": "True",
         "customdata": [
          [
           5,
           "udlændingeloven"
          ],
          [
           18,
           "udlændingeloven"
          ],
          [
           9,
           "udlændingeloven"
          ],
          [
           7,
           "udlændingeloven"
          ],
          [
           1,
           "udlændingeloven"
          ],
          [
           8,
           "udlændingeloven"
          ],
          [
           7,
           "udlændingeloven"
          ],
          [
           3,
           "udlændingeloven"
          ],
          [
           4,
           "udlændingeloven"
          ],
          [
           7,
           "udlændingeloven"
          ],
          [
           10,
           "udlændingeloven"
          ],
          [
           4,
           "udlændingeloven"
          ],
          [
           6,
           "udlændingeloven"
          ],
          [
           9,
           "udlændingeloven"
          ],
          [
           7,
           "udlændingeloven"
          ],
          [
           2,
           "udlændingeloven"
          ],
          [
           8,
           "udlændingeloven"
          ],
          [
           4,
           "udlændingeloven"
          ],
          [
           8,
           "udlændingeloven"
          ],
          [
           3,
           "udlændingeloven"
          ],
          [
           9,
           "udlændingeloven"
          ],
          [
           5,
           "udlændingeloven"
          ],
          [
           2,
           "udlændingeloven"
          ],
          [
           4,
           "udlændingeloven"
          ],
          [
           8,
           "udlændingeloven"
          ],
          [
           2,
           "udlændingeloven"
          ],
          [
           4,
           "udlændingeloven"
          ],
          [
           1,
           "udlændingeloven"
          ],
          [
           1,
           "udlændingeloven"
          ],
          [
           2,
           "udlændingeloven"
          ],
          [
           1,
           "udlændingeloven"
          ],
          [
           1,
           "udlændingeloven"
          ],
          [
           2,
           "udlændingeloven"
          ],
          [
           6,
           "udlændingeloven"
          ],
          [
           7,
           "udlændingeloven"
          ],
          [
           2,
           "udlændingeloven"
          ]
         ],
         "hovertemplate": "<b>%{hovertext}</b><br><br>year=%{x}<br>share=%{y:.1%}<br>count=%{customdata[0]:.0f}<extra></extra>",
         "hovertext": [
          "udlændingeloven",
          "udlændingeloven",
          "udlændingeloven",
          "udlændingeloven",
          "udlændingeloven",
          "udlændingeloven",
          "udlændingeloven",
          "udlændingeloven",
          "udlændingeloven",
          "udlændingeloven",
          "udlændingeloven",
          "udlændingeloven",
          "udlændingeloven",
          "udlændingeloven",
          "udlændingeloven",
          "udlændingeloven",
          "udlændingeloven",
          "udlændingeloven",
          "udlændingeloven",
          "udlændingeloven",
          "udlændingeloven",
          "udlændingeloven",
          "udlændingeloven",
          "udlændingeloven",
          "udlændingeloven",
          "udlændingeloven",
          "udlændingeloven",
          "udlændingeloven",
          "udlændingeloven",
          "udlændingeloven",
          "udlændingeloven",
          "udlændingeloven",
          "udlændingeloven",
          "udlændingeloven",
          "udlændingeloven",
          "udlændingeloven"
         ],
         "legendgroup": "udlændingeloven",
         "marker": {
          "color": "rgb(254, 136, 177)",
          "pattern": {
           "shape": ""
          }
         },
         "name": "udlændingeloven",
         "offsetgroup": "udlændingeloven",
         "orientation": "v",
         "showlegend": true,
         "textposition": "auto",
         "type": "bar",
         "x": [
          2021,
          2020,
          2019,
          2018,
          2017,
          2016,
          2015,
          2014,
          2013,
          2012,
          2011,
          2010,
          2009,
          2008,
          2007,
          2006,
          2005,
          2004,
          2003,
          2002,
          2001,
          2000,
          1999,
          1998,
          1997,
          1996,
          1995,
          1994,
          1992,
          1990,
          1989,
          1988,
          1986,
          1985,
          1984,
          1983
         ],
         "xaxis": "x",
         "y": [
          0.016835016835016835,
          0.054380664652567974,
          0.034482758620689655,
          0.029166666666666667,
          0.00390625,
          0.025078369905956112,
          0.028225806451612902,
          0.01079136690647482,
          0.013888888888888888,
          0.03153153153153153,
          0.037037037037037035,
          0.02564102564102564,
          0.024291497975708502,
          0.03879310344827586,
          0.03153153153153153,
          0.008888888888888889,
          0.03587443946188341,
          0.019138755980861243,
          0.0311284046692607,
          0.015463917525773196,
          0.038135593220338986,
          0.02127659574468085,
          0.010752688172043012,
          0.017543859649122806,
          0.04790419161676647,
          0.0125,
          0.037037037037037035,
          0.012195121951219513,
          0.014285714285714285,
          0.02564102564102564,
          0.017857142857142856,
          0.015151515151515152,
          0.03076923076923077,
          0.08,
          0.07865168539325842,
          0.021739130434782608
         ],
         "yaxis": "y"
        },
        {
         "alignmentgroup": "True",
         "customdata": [
          [
           5,
           "dødsboskifteloven"
          ],
          [
           3,
           "dødsboskifteloven"
          ],
          [
           4,
           "dødsboskifteloven"
          ],
          [
           3,
           "dødsboskifteloven"
          ],
          [
           5,
           "dødsboskifteloven"
          ],
          [
           10,
           "dødsboskifteloven"
          ],
          [
           11,
           "dødsboskifteloven"
          ],
          [
           6,
           "dødsboskifteloven"
          ],
          [
           6,
           "dødsboskifteloven"
          ],
          [
           3,
           "dødsboskifteloven"
          ],
          [
           1,
           "dødsboskifteloven"
          ],
          [
           2,
           "dødsboskifteloven"
          ],
          [
           2,
           "dødsboskifteloven"
          ],
          [
           3,
           "dødsboskifteloven"
          ],
          [
           5,
           "dødsboskifteloven"
          ],
          [
           7,
           "dødsboskifteloven"
          ],
          [
           4,
           "dødsboskifteloven"
          ],
          [
           9,
           "dødsboskifteloven"
          ],
          [
           8,
           "dødsboskifteloven"
          ],
          [
           7,
           "dødsboskifteloven"
          ],
          [
           5,
           "dødsboskifteloven"
          ],
          [
           2,
           "dødsboskifteloven"
          ],
          [
           8,
           "dødsboskifteloven"
          ],
          [
           5,
           "dødsboskifteloven"
          ],
          [
           1,
           "dødsboskifteloven"
          ]
         ],
         "hovertemplate": "<b>%{hovertext}</b><br><br>year=%{x}<br>share=%{y:.1%}<br>count=%{customdata[0]:.0f}<extra></extra>",
         "hovertext": [
          "dødsboskifteloven",
          "dødsboskifteloven",
          "dødsboskifteloven",
          "dødsboskifteloven",
          "dødsboskifteloven",
          "dødsboskifteloven",
          "dødsboskifteloven",
          "dødsboskifteloven",
          "dødsboskifteloven",
          "dødsboskifteloven",
          "dødsboskifteloven",
          "dødsboskifteloven",
          "dødsboskifteloven",
          "dødsboskifteloven",
          "dødsboskifteloven",
          "dødsboskifteloven",
          "dødsboskifteloven",
          "dødsboskifteloven",
          "dødsboskifteloven",
          "dødsboskifteloven",
          "dødsboskifteloven",
          "dødsboskifteloven",
          "dødsboskifteloven",
          "dødsboskifteloven",
          "dødsboskifteloven"
         ],
         "legendgroup": "dødsboskifteloven",
         "marker": {
          "color": "rgb(201, 219, 116)",
          "pattern": {
           "shape": ""
          }
         },
         "name": "dødsboskifteloven",
         "offsetgroup": "dødsboskifteloven",
         "orientation": "v",
         "showlegend": true,
         "textposition": "auto",
         "type": "bar",
         "x": [
          2021,
          2020,
          2019,
          2018,
          2017,
          2016,
          2015,
          2014,
          2013,
          2012,
          2011,
          2010,
          2009,
          2008,
          2007,
          2006,
          2005,
          2004,
          2003,
          2002,
          2001,
          2000,
          1999,
          1998,
          1997
         ],
         "xaxis": "x",
         "y": [
          0.016835016835016835,
          0.00906344410876133,
          0.01532567049808429,
          0.0125,
          0.01953125,
          0.03134796238244514,
          0.04435483870967742,
          0.02158273381294964,
          0.020833333333333332,
          0.013513513513513514,
          0.003703703703703704,
          0.01282051282051282,
          0.008097165991902834,
          0.01293103448275862,
          0.02252252252252252,
          0.03111111111111111,
          0.017937219730941704,
          0.0430622009569378,
          0.0311284046692607,
          0.03608247422680412,
          0.0211864406779661,
          0.00851063829787234,
          0.043010752688172046,
          0.021929824561403508,
          0.005988023952095809
         ],
         "yaxis": "y"
        },
        {
         "alignmentgroup": "True",
         "customdata": [
          [
           3,
           "udleveringsloven"
          ],
          [
           1,
           "udleveringsloven"
          ],
          [
           3,
           "udleveringsloven"
          ],
          [
           5,
           "udleveringsloven"
          ],
          [
           4,
           "udleveringsloven"
          ],
          [
           4,
           "udleveringsloven"
          ],
          [
           1,
           "udleveringsloven"
          ],
          [
           3,
           "udleveringsloven"
          ],
          [
           4,
           "udleveringsloven"
          ],
          [
           1,
           "udleveringsloven"
          ],
          [
           2,
           "udleveringsloven"
          ],
          [
           1,
           "udleveringsloven"
          ],
          [
           1,
           "udleveringsloven"
          ],
          [
           1,
           "udleveringsloven"
          ],
          [
           1,
           "udleveringsloven"
          ],
          [
           1,
           "udleveringsloven"
          ],
          [
           2,
           "udleveringsloven"
          ],
          [
           1,
           "udleveringsloven"
          ],
          [
           1,
           "udleveringsloven"
          ],
          [
           1,
           "udleveringsloven"
          ],
          [
           1,
           "udleveringsloven"
          ],
          [
           1,
           "udleveringsloven"
          ]
         ],
         "hovertemplate": "<b>%{hovertext}</b><br><br>year=%{x}<br>share=%{y:.1%}<br>count=%{customdata[0]:.0f}<extra></extra>",
         "hovertext": [
          "udleveringsloven",
          "udleveringsloven",
          "udleveringsloven",
          "udleveringsloven",
          "udleveringsloven",
          "udleveringsloven",
          "udleveringsloven",
          "udleveringsloven",
          "udleveringsloven",
          "udleveringsloven",
          "udleveringsloven",
          "udleveringsloven",
          "udleveringsloven",
          "udleveringsloven",
          "udleveringsloven",
          "udleveringsloven",
          "udleveringsloven",
          "udleveringsloven",
          "udleveringsloven",
          "udleveringsloven",
          "udleveringsloven",
          "udleveringsloven"
         ],
         "legendgroup": "udleveringsloven",
         "marker": {
          "color": "rgb(139, 224, 164)",
          "pattern": {
           "shape": ""
          }
         },
         "name": "udleveringsloven",
         "offsetgroup": "udleveringsloven",
         "orientation": "v",
         "showlegend": true,
         "textposition": "auto",
         "type": "bar",
         "x": [
          2021,
          2020,
          2019,
          2018,
          2017,
          2016,
          2015,
          2014,
          2013,
          2012,
          2011,
          2009,
          2006,
          2004,
          1997,
          1995,
          1994,
          1991,
          1988,
          1979,
          1977,
          1970
         ],
         "xaxis": "x",
         "y": [
          0.010101010101010102,
          0.0030211480362537764,
          0.011494252873563218,
          0.020833333333333332,
          0.015625,
          0.012539184952978056,
          0.004032258064516129,
          0.01079136690647482,
          0.013888888888888888,
          0.0045045045045045045,
          0.007407407407407408,
          0.004048582995951417,
          0.0044444444444444444,
          0.004784688995215311,
          0.005988023952095809,
          0.009259259259259259,
          0.024390243902439025,
          0.01282051282051282,
          0.015151515151515152,
          0.012048192771084338,
          0.016129032258064516,
          0.015873015873015872
         ],
         "yaxis": "y"
        },
        {
         "alignmentgroup": "True",
         "customdata": [
          [
           2,
           "kreditaftaleloven"
          ],
          [
           2,
           "kreditaftaleloven"
          ],
          [
           1,
           "kreditaftaleloven"
          ],
          [
           3,
           "kreditaftaleloven"
          ],
          [
           2,
           "kreditaftaleloven"
          ],
          [
           2,
           "kreditaftaleloven"
          ],
          [
           2,
           "kreditaftaleloven"
          ],
          [
           1,
           "kreditaftaleloven"
          ],
          [
           2,
           "kreditaftaleloven"
          ],
          [
           2,
           "kreditaftaleloven"
          ],
          [
           1,
           "kreditaftaleloven"
          ],
          [
           1,
           "kreditaftaleloven"
          ],
          [
           2,
           "kreditaftaleloven"
          ],
          [
           3,
           "kreditaftaleloven"
          ],
          [
           2,
           "kreditaftaleloven"
          ],
          [
           3,
           "kreditaftaleloven"
          ],
          [
           4,
           "kreditaftaleloven"
          ],
          [
           6,
           "kreditaftaleloven"
          ],
          [
           7,
           "kreditaftaleloven"
          ],
          [
           9,
           "kreditaftaleloven"
          ],
          [
           3,
           "kreditaftaleloven"
          ],
          [
           3,
           "kreditaftaleloven"
          ],
          [
           1,
           "kreditaftaleloven"
          ],
          [
           1,
           "kreditaftaleloven"
          ],
          [
           1,
           "kreditaftaleloven"
          ],
          [
           2,
           "kreditaftaleloven"
          ],
          [
           1,
           "kreditaftaleloven"
          ],
          [
           2,
           "kreditaftaleloven"
          ]
         ],
         "hovertemplate": "<b>%{hovertext}</b><br><br>year=%{x}<br>share=%{y:.1%}<br>count=%{customdata[0]:.0f}<extra></extra>",
         "hovertext": [
          "kreditaftaleloven",
          "kreditaftaleloven",
          "kreditaftaleloven",
          "kreditaftaleloven",
          "kreditaftaleloven",
          "kreditaftaleloven",
          "kreditaftaleloven",
          "kreditaftaleloven",
          "kreditaftaleloven",
          "kreditaftaleloven",
          "kreditaftaleloven",
          "kreditaftaleloven",
          "kreditaftaleloven",
          "kreditaftaleloven",
          "kreditaftaleloven",
          "kreditaftaleloven",
          "kreditaftaleloven",
          "kreditaftaleloven",
          "kreditaftaleloven",
          "kreditaftaleloven",
          "kreditaftaleloven",
          "kreditaftaleloven",
          "kreditaftaleloven",
          "kreditaftaleloven",
          "kreditaftaleloven",
          "kreditaftaleloven",
          "kreditaftaleloven",
          "kreditaftaleloven"
         ],
         "legendgroup": "kreditaftaleloven",
         "marker": {
          "color": "rgb(180, 151, 231)",
          "pattern": {
           "shape": ""
          }
         },
         "name": "kreditaftaleloven",
         "offsetgroup": "kreditaftaleloven",
         "orientation": "v",
         "showlegend": true,
         "textposition": "auto",
         "type": "bar",
         "x": [
          2021,
          2020,
          2019,
          2018,
          2017,
          2016,
          2014,
          2013,
          2012,
          2011,
          2010,
          2009,
          2008,
          2006,
          2005,
          2004,
          2003,
          2002,
          2001,
          2000,
          1999,
          1998,
          1996,
          1995,
          1994,
          1993,
          1992,
          1991
         ],
         "xaxis": "x",
         "y": [
          0.006734006734006734,
          0.006042296072507553,
          0.0038314176245210726,
          0.0125,
          0.0078125,
          0.006269592476489028,
          0.007194244604316547,
          0.003472222222222222,
          0.009009009009009009,
          0.007407407407407408,
          0.00641025641025641,
          0.004048582995951417,
          0.008620689655172414,
          0.013333333333333334,
          0.008968609865470852,
          0.014354066985645933,
          0.01556420233463035,
          0.030927835051546393,
          0.029661016949152543,
          0.03829787234042553,
          0.016129032258064516,
          0.013157894736842105,
          0.00625,
          0.009259259259259259,
          0.012195121951219513,
          0.03278688524590164,
          0.014285714285714285,
          0.02564102564102564
         ],
         "yaxis": "y"
        },
        {
         "alignmentgroup": "True",
         "customdata": [
          [
           2,
           "lejeloven"
          ],
          [
           4,
           "lejeloven"
          ],
          [
           2,
           "lejeloven"
          ],
          [
           5,
           "lejeloven"
          ],
          [
           3,
           "lejeloven"
          ],
          [
           1,
           "lejeloven"
          ],
          [
           7,
           "lejeloven"
          ],
          [
           12,
           "lejeloven"
          ],
          [
           2,
           "lejeloven"
          ],
          [
           3,
           "lejeloven"
          ],
          [
           1,
           "lejeloven"
          ],
          [
           3,
           "lejeloven"
          ],
          [
           1,
           "lejeloven"
          ],
          [
           2,
           "lejeloven"
          ],
          [
           1,
           "lejeloven"
          ],
          [
           8,
           "lejeloven"
          ],
          [
           7,
           "lejeloven"
          ],
          [
           9,
           "lejeloven"
          ],
          [
           2,
           "lejeloven"
          ],
          [
           6,
           "lejeloven"
          ],
          [
           7,
           "lejeloven"
          ],
          [
           2,
           "lejeloven"
          ],
          [
           1,
           "lejeloven"
          ],
          [
           10,
           "lejeloven"
          ],
          [
           5,
           "lejeloven"
          ],
          [
           1,
           "lejeloven"
          ],
          [
           5,
           "lejeloven"
          ],
          [
           3,
           "lejeloven"
          ],
          [
           3,
           "lejeloven"
          ],
          [
           2,
           "lejeloven"
          ],
          [
           3,
           "lejeloven"
          ],
          [
           1,
           "lejeloven"
          ],
          [
           1,
           "lejeloven"
          ],
          [
           2,
           "lejeloven"
          ],
          [
           2,
           "lejeloven"
          ],
          [
           2,
           "lejeloven"
          ],
          [
           4,
           "lejeloven"
          ],
          [
           1,
           "lejeloven"
          ],
          [
           1,
           "lejeloven"
          ],
          [
           2,
           "lejeloven"
          ],
          [
           1,
           "lejeloven"
          ],
          [
           1,
           "lejeloven"
          ],
          [
           1,
           "lejeloven"
          ],
          [
           1,
           "lejeloven"
          ],
          [
           1,
           "lejeloven"
          ],
          [
           3,
           "lejeloven"
          ],
          [
           2,
           "lejeloven"
          ],
          [
           2,
           "lejeloven"
          ],
          [
           2,
           "lejeloven"
          ],
          [
           1,
           "lejeloven"
          ],
          [
           5,
           "lejeloven"
          ],
          [
           4,
           "lejeloven"
          ],
          [
           7,
           "lejeloven"
          ],
          [
           8,
           "lejeloven"
          ],
          [
           7,
           "lejeloven"
          ],
          [
           12,
           "lejeloven"
          ],
          [
           1,
           "lejeloven"
          ],
          [
           1,
           "lejeloven"
          ]
         ],
         "hovertemplate": "<b>%{hovertext}</b><br><br>year=%{x}<br>share=%{y:.1%}<br>count=%{customdata[0]:.0f}<extra></extra>",
         "hovertext": [
          "lejeloven",
          "lejeloven",
          "lejeloven",
          "lejeloven",
          "lejeloven",
          "lejeloven",
          "lejeloven",
          "lejeloven",
          "lejeloven",
          "lejeloven",
          "lejeloven",
          "lejeloven",
          "lejeloven",
          "lejeloven",
          "lejeloven",
          "lejeloven",
          "lejeloven",
          "lejeloven",
          "lejeloven",
          "lejeloven",
          "lejeloven",
          "lejeloven",
          "lejeloven",
          "lejeloven",
          "lejeloven",
          "lejeloven",
          "lejeloven",
          "lejeloven",
          "lejeloven",
          "lejeloven",
          "lejeloven",
          "lejeloven",
          "lejeloven",
          "lejeloven",
          "lejeloven",
          "lejeloven",
          "lejeloven",
          "lejeloven",
          "lejeloven",
          "lejeloven",
          "lejeloven",
          "lejeloven",
          "lejeloven",
          "lejeloven",
          "lejeloven",
          "lejeloven",
          "lejeloven",
          "lejeloven",
          "lejeloven",
          "lejeloven",
          "lejeloven",
          "lejeloven",
          "lejeloven",
          "lejeloven",
          "lejeloven",
          "lejeloven",
          "lejeloven",
          "lejeloven"
         ],
         "legendgroup": "lejeloven",
         "marker": {
          "color": "rgb(179, 179, 179)",
          "pattern": {
           "shape": ""
          }
         },
         "name": "lejeloven",
         "offsetgroup": "lejeloven",
         "orientation": "v",
         "showlegend": true,
         "textposition": "auto",
         "type": "bar",
         "x": [
          2021,
          2020,
          2019,
          2017,
          2016,
          2015,
          2014,
          2013,
          2012,
          2011,
          2010,
          2009,
          2008,
          2007,
          2006,
          2005,
          2004,
          2003,
          2002,
          2001,
          2000,
          1999,
          1998,
          1997,
          1996,
          1994,
          1993,
          1992,
          1991,
          1990,
          1989,
          1986,
          1984,
          1983,
          1982,
          1979,
          1978,
          1977,
          1975,
          1971,
          1970,
          1968,
          1967,
          1966,
          1965,
          1963,
          1961,
          1960,
          1959,
          1958,
          1957,
          1956,
          1955,
          1954,
          1953,
          1952,
          1951,
          1950
         ],
         "xaxis": "x",
         "y": [
          0.006734006734006734,
          0.012084592145015106,
          0.007662835249042145,
          0.01953125,
          0.009404388714733543,
          0.004032258064516129,
          0.025179856115107913,
          0.041666666666666664,
          0.009009009009009009,
          0.011111111111111112,
          0.00641025641025641,
          0.012145748987854251,
          0.004310344827586207,
          0.009009009009009009,
          0.0044444444444444444,
          0.03587443946188341,
          0.03349282296650718,
          0.03501945525291829,
          0.010309278350515464,
          0.025423728813559324,
          0.029787234042553193,
          0.010752688172043012,
          0.0043859649122807015,
          0.059880239520958084,
          0.03125,
          0.012195121951219513,
          0.08196721311475409,
          0.04285714285714286,
          0.038461538461538464,
          0.02564102564102564,
          0.05357142857142857,
          0.015384615384615385,
          0.011235955056179775,
          0.021739130434782608,
          0.04,
          0.024096385542168676,
          0.038834951456310676,
          0.016129032258064516,
          0.016129032258064516,
          0.03076923076923077,
          0.015873015873015872,
          0.01639344262295082,
          0.022222222222222223,
          0.0125,
          0.01694915254237288,
          0.04838709677419355,
          0.044444444444444446,
          0.045454545454545456,
          0.03508771929824561,
          0.019230769230769232,
          0.07462686567164178,
          0.07272727272727272,
          0.13725490196078433,
          0.18604651162790697,
          0.18421052631578946,
          0.2608695652173913,
          0.021739130434782608,
          0.03225806451612903
         ],
         "yaxis": "y"
        },
        {
         "alignmentgroup": "True",
         "customdata": [
          [
           2,
           "tinglysningsloven"
          ],
          [
           3,
           "tinglysningsloven"
          ],
          [
           4,
           "tinglysningsloven"
          ],
          [
           2,
           "tinglysningsloven"
          ],
          [
           4,
           "tinglysningsloven"
          ],
          [
           1,
           "tinglysningsloven"
          ],
          [
           3,
           "tinglysningsloven"
          ],
          [
           5,
           "tinglysningsloven"
          ],
          [
           7,
           "tinglysningsloven"
          ],
          [
           3,
           "tinglysningsloven"
          ],
          [
           7,
           "tinglysningsloven"
          ],
          [
           6,
           "tinglysningsloven"
          ],
          [
           6,
           "tinglysningsloven"
          ],
          [
           10,
           "tinglysningsloven"
          ],
          [
           13,
           "tinglysningsloven"
          ],
          [
           9,
           "tinglysningsloven"
          ],
          [
           14,
           "tinglysningsloven"
          ],
          [
           16,
           "tinglysningsloven"
          ],
          [
           5,
           "tinglysningsloven"
          ],
          [
           15,
           "tinglysningsloven"
          ],
          [
           17,
           "tinglysningsloven"
          ],
          [
           5,
           "tinglysningsloven"
          ],
          [
           7,
           "tinglysningsloven"
          ],
          [
           9,
           "tinglysningsloven"
          ],
          [
           8,
           "tinglysningsloven"
          ],
          [
           9,
           "tinglysningsloven"
          ],
          [
           6,
           "tinglysningsloven"
          ],
          [
           5,
           "tinglysningsloven"
          ],
          [
           7,
           "tinglysningsloven"
          ],
          [
           12,
           "tinglysningsloven"
          ],
          [
           3,
           "tinglysningsloven"
          ],
          [
           3,
           "tinglysningsloven"
          ],
          [
           1,
           "tinglysningsloven"
          ],
          [
           4,
           "tinglysningsloven"
          ],
          [
           7,
           "tinglysningsloven"
          ],
          [
           8,
           "tinglysningsloven"
          ],
          [
           10,
           "tinglysningsloven"
          ],
          [
           5,
           "tinglysningsloven"
          ],
          [
           5,
           "tinglysningsloven"
          ],
          [
           11,
           "tinglysningsloven"
          ],
          [
           9,
           "tinglysningsloven"
          ],
          [
           9,
           "tinglysningsloven"
          ],
          [
           14,
           "tinglysningsloven"
          ],
          [
           8,
           "tinglysningsloven"
          ],
          [
           8,
           "tinglysningsloven"
          ],
          [
           10,
           "tinglysningsloven"
          ],
          [
           13,
           "tinglysningsloven"
          ],
          [
           16,
           "tinglysningsloven"
          ],
          [
           8,
           "tinglysningsloven"
          ],
          [
           7,
           "tinglysningsloven"
          ],
          [
           7,
           "tinglysningsloven"
          ],
          [
           3,
           "tinglysningsloven"
          ],
          [
           4,
           "tinglysningsloven"
          ],
          [
           9,
           "tinglysningsloven"
          ],
          [
           13,
           "tinglysningsloven"
          ],
          [
           10,
           "tinglysningsloven"
          ],
          [
           10,
           "tinglysningsloven"
          ],
          [
           8,
           "tinglysningsloven"
          ],
          [
           11,
           "tinglysningsloven"
          ],
          [
           5,
           "tinglysningsloven"
          ],
          [
           3,
           "tinglysningsloven"
          ],
          [
           5,
           "tinglysningsloven"
          ],
          [
           4,
           "tinglysningsloven"
          ],
          [
           6,
           "tinglysningsloven"
          ],
          [
           9,
           "tinglysningsloven"
          ],
          [
           9,
           "tinglysningsloven"
          ],
          [
           5,
           "tinglysningsloven"
          ],
          [
           3,
           "tinglysningsloven"
          ],
          [
           4,
           "tinglysningsloven"
          ],
          [
           6,
           "tinglysningsloven"
          ],
          [
           2,
           "tinglysningsloven"
          ]
         ],
         "hovertemplate": "<b>%{hovertext}</b><br><br>year=%{x}<br>share=%{y:.1%}<br>count=%{customdata[0]:.0f}<extra></extra>",
         "hovertext": [
          "tinglysningsloven",
          "tinglysningsloven",
          "tinglysningsloven",
          "tinglysningsloven",
          "tinglysningsloven",
          "tinglysningsloven",
          "tinglysningsloven",
          "tinglysningsloven",
          "tinglysningsloven",
          "tinglysningsloven",
          "tinglysningsloven",
          "tinglysningsloven",
          "tinglysningsloven",
          "tinglysningsloven",
          "tinglysningsloven",
          "tinglysningsloven",
          "tinglysningsloven",
          "tinglysningsloven",
          "tinglysningsloven",
          "tinglysningsloven",
          "tinglysningsloven",
          "tinglysningsloven",
          "tinglysningsloven",
          "tinglysningsloven",
          "tinglysningsloven",
          "tinglysningsloven",
          "tinglysningsloven",
          "tinglysningsloven",
          "tinglysningsloven",
          "tinglysningsloven",
          "tinglysningsloven",
          "tinglysningsloven",
          "tinglysningsloven",
          "tinglysningsloven",
          "tinglysningsloven",
          "tinglysningsloven",
          "tinglysningsloven",
          "tinglysningsloven",
          "tinglysningsloven",
          "tinglysningsloven",
          "tinglysningsloven",
          "tinglysningsloven",
          "tinglysningsloven",
          "tinglysningsloven",
          "tinglysningsloven",
          "tinglysningsloven",
          "tinglysningsloven",
          "tinglysningsloven",
          "tinglysningsloven",
          "tinglysningsloven",
          "tinglysningsloven",
          "tinglysningsloven",
          "tinglysningsloven",
          "tinglysningsloven",
          "tinglysningsloven",
          "tinglysningsloven",
          "tinglysningsloven",
          "tinglysningsloven",
          "tinglysningsloven",
          "tinglysningsloven",
          "tinglysningsloven",
          "tinglysningsloven",
          "tinglysningsloven",
          "tinglysningsloven",
          "tinglysningsloven",
          "tinglysningsloven",
          "tinglysningsloven",
          "tinglysningsloven",
          "tinglysningsloven",
          "tinglysningsloven",
          "tinglysningsloven"
         ],
         "legendgroup": "tinglysningsloven",
         "marker": {
          "color": "rgb(102, 197, 204)",
          "pattern": {
           "shape": ""
          }
         },
         "name": "tinglysningsloven",
         "offsetgroup": "tinglysningsloven",
         "orientation": "v",
         "showlegend": true,
         "textposition": "auto",
         "type": "bar",
         "x": [
          2021,
          2020,
          2019,
          2017,
          2016,
          2015,
          2014,
          2013,
          2012,
          2011,
          2010,
          2009,
          2008,
          2007,
          2006,
          2005,
          2004,
          2003,
          2002,
          2001,
          2000,
          1999,
          1998,
          1997,
          1996,
          1995,
          1994,
          1993,
          1992,
          1991,
          1990,
          1989,
          1988,
          1987,
          1986,
          1985,
          1984,
          1983,
          1982,
          1981,
          1980,
          1979,
          1978,
          1977,
          1976,
          1975,
          1974,
          1973,
          1972,
          1971,
          1970,
          1969,
          1968,
          1967,
          1966,
          1965,
          1964,
          1963,
          1962,
          1961,
          1960,
          1959,
          1958,
          1957,
          1956,
          1955,
          1954,
          1953,
          1952,
          1951,
          1950
         ],
         "xaxis": "x",
         "y": [
          0.006734006734006734,
          0.00906344410876133,
          0.01532567049808429,
          0.0078125,
          0.012539184952978056,
          0.004032258064516129,
          0.01079136690647482,
          0.017361111111111112,
          0.03153153153153153,
          0.011111111111111112,
          0.04487179487179487,
          0.024291497975708502,
          0.02586206896551724,
          0.04504504504504504,
          0.057777777777777775,
          0.04035874439461883,
          0.06698564593301436,
          0.0622568093385214,
          0.02577319587628866,
          0.0635593220338983,
          0.07234042553191489,
          0.026881720430107527,
          0.03070175438596491,
          0.05389221556886228,
          0.05,
          0.08333333333333333,
          0.07317073170731707,
          0.08196721311475409,
          0.1,
          0.15384615384615385,
          0.038461538461538464,
          0.05357142857142857,
          0.015151515151515152,
          0.0851063829787234,
          0.1076923076923077,
          0.10666666666666667,
          0.11235955056179775,
          0.05434782608695652,
          0.1,
          0.12790697674418605,
          0.13043478260869565,
          0.10843373493975904,
          0.13592233009708737,
          0.12903225806451613,
          0.12903225806451613,
          0.16129032258064516,
          0.1625,
          0.21052631578947367,
          0.10666666666666667,
          0.1076923076923077,
          0.1111111111111111,
          0.04838709677419355,
          0.06557377049180328,
          0.2,
          0.1625,
          0.1694915254237288,
          0.14285714285714285,
          0.12903225806451613,
          0.22448979591836735,
          0.1111111111111111,
          0.06818181818181818,
          0.08771929824561403,
          0.07692307692307693,
          0.08955223880597014,
          0.16363636363636364,
          0.17647058823529413,
          0.11627906976744186,
          0.07894736842105263,
          0.08695652173913043,
          0.13043478260869565,
          0.06451612903225806
         ],
         "yaxis": "y"
        },
        {
         "alignmentgroup": "True",
         "customdata": [
          [
           1,
           "boligreguleringsloven"
          ],
          [
           3,
           "boligreguleringsloven"
          ],
          [
           1,
           "boligreguleringsloven"
          ],
          [
           1,
           "boligreguleringsloven"
          ],
          [
           1,
           "boligreguleringsloven"
          ],
          [
           1,
           "boligreguleringsloven"
          ],
          [
           4,
           "boligreguleringsloven"
          ],
          [
           3,
           "boligreguleringsloven"
          ],
          [
           3,
           "boligreguleringsloven"
          ],
          [
           1,
           "boligreguleringsloven"
          ],
          [
           1,
           "boligreguleringsloven"
          ],
          [
           2,
           "boligreguleringsloven"
          ],
          [
           3,
           "boligreguleringsloven"
          ],
          [
           1,
           "boligreguleringsloven"
          ],
          [
           1,
           "boligreguleringsloven"
          ],
          [
           3,
           "boligreguleringsloven"
          ],
          [
           1,
           "boligreguleringsloven"
          ],
          [
           1,
           "boligreguleringsloven"
          ],
          [
           1,
           "boligreguleringsloven"
          ],
          [
           1,
           "boligreguleringsloven"
          ],
          [
           1,
           "boligreguleringsloven"
          ],
          [
           2,
           "boligreguleringsloven"
          ]
         ],
         "hovertemplate": "<b>%{hovertext}</b><br><br>year=%{x}<br>share=%{y:.1%}<br>count=%{customdata[0]:.0f}<extra></extra>",
         "hovertext": [
          "boligreguleringsloven",
          "boligreguleringsloven",
          "boligreguleringsloven",
          "boligreguleringsloven",
          "boligreguleringsloven",
          "boligreguleringsloven",
          "boligreguleringsloven",
          "boligreguleringsloven",
          "boligreguleringsloven",
          "boligreguleringsloven",
          "boligreguleringsloven",
          "boligreguleringsloven",
          "boligreguleringsloven",
          "boligreguleringsloven",
          "boligreguleringsloven",
          "boligreguleringsloven",
          "boligreguleringsloven",
          "boligreguleringsloven",
          "boligreguleringsloven",
          "boligreguleringsloven",
          "boligreguleringsloven",
          "boligreguleringsloven"
         ],
         "legendgroup": "boligreguleringsloven",
         "marker": {
          "color": "rgb(246, 207, 113)",
          "pattern": {
           "shape": ""
          }
         },
         "name": "boligreguleringsloven",
         "offsetgroup": "boligreguleringsloven",
         "orientation": "v",
         "showlegend": true,
         "textposition": "auto",
         "type": "bar",
         "x": [
          2021,
          2020,
          2019,
          2017,
          2015,
          2014,
          2012,
          2009,
          2007,
          2006,
          2004,
          2003,
          2001,
          2000,
          1998,
          1997,
          1996,
          1991,
          1988,
          1985,
          1983,
          1981
         ],
         "xaxis": "x",
         "y": [
          0.003367003367003367,
          0.00906344410876133,
          0.0038314176245210726,
          0.00390625,
          0.004032258064516129,
          0.0035971223021582736,
          0.018018018018018018,
          0.012145748987854251,
          0.013513513513513514,
          0.0044444444444444444,
          0.004784688995215311,
          0.007782101167315175,
          0.012711864406779662,
          0.00425531914893617,
          0.0043859649122807015,
          0.017964071856287425,
          0.00625,
          0.01282051282051282,
          0.015151515151515152,
          0.013333333333333334,
          0.010869565217391304,
          0.023255813953488372
         ],
         "yaxis": "y"
        },
        {
         "alignmentgroup": "True",
         "customdata": [
          [
           1,
           "retsafgiftsloven"
          ],
          [
           2,
           "retsafgiftsloven"
          ],
          [
           1,
           "retsafgiftsloven"
          ],
          [
           3,
           "retsafgiftsloven"
          ],
          [
           1,
           "retsafgiftsloven"
          ],
          [
           4,
           "retsafgiftsloven"
          ],
          [
           8,
           "retsafgiftsloven"
          ],
          [
           4,
           "retsafgiftsloven"
          ],
          [
           3,
           "retsafgiftsloven"
          ],
          [
           4,
           "retsafgiftsloven"
          ],
          [
           7,
           "retsafgiftsloven"
          ],
          [
           3,
           "retsafgiftsloven"
          ],
          [
           1,
           "retsafgiftsloven"
          ],
          [
           2,
           "retsafgiftsloven"
          ],
          [
           1,
           "retsafgiftsloven"
          ],
          [
           3,
           "retsafgiftsloven"
          ],
          [
           3,
           "retsafgiftsloven"
          ],
          [
           4,
           "retsafgiftsloven"
          ],
          [
           8,
           "retsafgiftsloven"
          ],
          [
           4,
           "retsafgiftsloven"
          ],
          [
           7,
           "retsafgiftsloven"
          ],
          [
           1,
           "retsafgiftsloven"
          ],
          [
           2,
           "retsafgiftsloven"
          ],
          [
           5,
           "retsafgiftsloven"
          ],
          [
           2,
           "retsafgiftsloven"
          ],
          [
           1,
           "retsafgiftsloven"
          ],
          [
           1,
           "retsafgiftsloven"
          ],
          [
           1,
           "retsafgiftsloven"
          ],
          [
           1,
           "retsafgiftsloven"
          ],
          [
           6,
           "retsafgiftsloven"
          ],
          [
           3,
           "retsafgiftsloven"
          ],
          [
           6,
           "retsafgiftsloven"
          ],
          [
           1,
           "retsafgiftsloven"
          ],
          [
           2,
           "retsafgiftsloven"
          ],
          [
           3,
           "retsafgiftsloven"
          ],
          [
           2,
           "retsafgiftsloven"
          ],
          [
           1,
           "retsafgiftsloven"
          ],
          [
           1,
           "retsafgiftsloven"
          ],
          [
           2,
           "retsafgiftsloven"
          ],
          [
           2,
           "retsafgiftsloven"
          ],
          [
           1,
           "retsafgiftsloven"
          ],
          [
           1,
           "retsafgiftsloven"
          ]
         ],
         "hovertemplate": "<b>%{hovertext}</b><br><br>year=%{x}<br>share=%{y:.1%}<br>count=%{customdata[0]:.0f}<extra></extra>",
         "hovertext": [
          "retsafgiftsloven",
          "retsafgiftsloven",
          "retsafgiftsloven",
          "retsafgiftsloven",
          "retsafgiftsloven",
          "retsafgiftsloven",
          "retsafgiftsloven",
          "retsafgiftsloven",
          "retsafgiftsloven",
          "retsafgiftsloven",
          "retsafgiftsloven",
          "retsafgiftsloven",
          "retsafgiftsloven",
          "retsafgiftsloven",
          "retsafgiftsloven",
          "retsafgiftsloven",
          "retsafgiftsloven",
          "retsafgiftsloven",
          "retsafgiftsloven",
          "retsafgiftsloven",
          "retsafgiftsloven",
          "retsafgiftsloven",
          "retsafgiftsloven",
          "retsafgiftsloven",
          "retsafgiftsloven",
          "retsafgiftsloven",
          "retsafgiftsloven",
          "retsafgiftsloven",
          "retsafgiftsloven",
          "retsafgiftsloven",
          "retsafgiftsloven",
          "retsafgiftsloven",
          "retsafgiftsloven",
          "retsafgiftsloven",
          "retsafgiftsloven",
          "retsafgiftsloven",
          "retsafgiftsloven",
          "retsafgiftsloven",
          "retsafgiftsloven",
          "retsafgiftsloven",
          "retsafgiftsloven",
          "retsafgiftsloven"
         ],
         "legendgroup": "retsafgiftsloven",
         "marker": {
          "color": "rgb(248, 156, 116)",
          "pattern": {
           "shape": ""
          }
         },
         "name": "retsafgiftsloven",
         "offsetgroup": "retsafgiftsloven",
         "orientation": "v",
         "showlegend": true,
         "textposition": "auto",
         "type": "bar",
         "x": [
          2021,
          2020,
          2019,
          2018,
          2017,
          2016,
          2015,
          2014,
          2013,
          2012,
          2011,
          2010,
          2009,
          2008,
          2007,
          2006,
          2005,
          2004,
          2003,
          2002,
          2000,
          1999,
          1998,
          1997,
          1996,
          1994,
          1993,
          1992,
          1991,
          1990,
          1989,
          1988,
          1987,
          1986,
          1985,
          1984,
          1981,
          1979,
          1978,
          1977,
          1973,
          1970
         ],
         "xaxis": "x",
         "y": [
          0.003367003367003367,
          0.006042296072507553,
          0.0038314176245210726,
          0.0125,
          0.00390625,
          0.012539184952978056,
          0.03225806451612903,
          0.014388489208633094,
          0.010416666666666666,
          0.018018018018018018,
          0.025925925925925925,
          0.019230769230769232,
          0.004048582995951417,
          0.008620689655172414,
          0.0045045045045045045,
          0.013333333333333334,
          0.013452914798206279,
          0.019138755980861243,
          0.0311284046692607,
          0.020618556701030927,
          0.029787234042553193,
          0.005376344086021506,
          0.008771929824561403,
          0.029940119760479042,
          0.0125,
          0.012195121951219513,
          0.01639344262295082,
          0.014285714285714285,
          0.01282051282051282,
          0.07692307692307693,
          0.05357142857142857,
          0.09090909090909091,
          0.02127659574468085,
          0.03076923076923077,
          0.04,
          0.02247191011235955,
          0.011627906976744186,
          0.012048192771084338,
          0.019417475728155338,
          0.03225806451612903,
          0.013157894736842105,
          0.015873015873015872
         ],
         "yaxis": "y"
        },
        {
         "alignmentgroup": "True",
         "customdata": [
          [
           1,
           "retsvirkningsloven"
          ],
          [
           1,
           "retsvirkningsloven"
          ],
          [
           2,
           "retsvirkningsloven"
          ],
          [
           1,
           "retsvirkningsloven"
          ],
          [
           1,
           "retsvirkningsloven"
          ],
          [
           1,
           "retsvirkningsloven"
          ],
          [
           1,
           "retsvirkningsloven"
          ],
          [
           1,
           "retsvirkningsloven"
          ],
          [
           3,
           "retsvirkningsloven"
          ],
          [
           1,
           "retsvirkningsloven"
          ],
          [
           2,
           "retsvirkningsloven"
          ],
          [
           1,
           "retsvirkningsloven"
          ],
          [
           1,
           "retsvirkningsloven"
          ],
          [
           1,
           "retsvirkningsloven"
          ],
          [
           1,
           "retsvirkningsloven"
          ],
          [
           2,
           "retsvirkningsloven"
          ],
          [
           1,
           "retsvirkningsloven"
          ],
          [
           1,
           "retsvirkningsloven"
          ],
          [
           3,
           "retsvirkningsloven"
          ],
          [
           2,
           "retsvirkningsloven"
          ],
          [
           1,
           "retsvirkningsloven"
          ],
          [
           2,
           "retsvirkningsloven"
          ],
          [
           2,
           "retsvirkningsloven"
          ],
          [
           3,
           "retsvirkningsloven"
          ],
          [
           1,
           "retsvirkningsloven"
          ],
          [
           1,
           "retsvirkningsloven"
          ],
          [
           2,
           "retsvirkningsloven"
          ],
          [
           2,
           "retsvirkningsloven"
          ],
          [
           1,
           "retsvirkningsloven"
          ],
          [
           1,
           "retsvirkningsloven"
          ],
          [
           2,
           "retsvirkningsloven"
          ],
          [
           1,
           "retsvirkningsloven"
          ],
          [
           2,
           "retsvirkningsloven"
          ]
         ],
         "hovertemplate": "<b>%{hovertext}</b><br><br>year=%{x}<br>share=%{y:.1%}<br>count=%{customdata[0]:.0f}<extra></extra>",
         "hovertext": [
          "retsvirkningsloven",
          "retsvirkningsloven",
          "retsvirkningsloven",
          "retsvirkningsloven",
          "retsvirkningsloven",
          "retsvirkningsloven",
          "retsvirkningsloven",
          "retsvirkningsloven",
          "retsvirkningsloven",
          "retsvirkningsloven",
          "retsvirkningsloven",
          "retsvirkningsloven",
          "retsvirkningsloven",
          "retsvirkningsloven",
          "retsvirkningsloven",
          "retsvirkningsloven",
          "retsvirkningsloven",
          "retsvirkningsloven",
          "retsvirkningsloven",
          "retsvirkningsloven",
          "retsvirkningsloven",
          "retsvirkningsloven",
          "retsvirkningsloven",
          "retsvirkningsloven",
          "retsvirkningsloven",
          "retsvirkningsloven",
          "retsvirkningsloven",
          "retsvirkningsloven",
          "retsvirkningsloven",
          "retsvirkningsloven",
          "retsvirkningsloven",
          "retsvirkningsloven",
          "retsvirkningsloven"
         ],
         "legendgroup": "retsvirkningsloven",
         "marker": {
          "color": "rgb(220, 176, 242)",
          "pattern": {
           "shape": ""
          }
         },
         "name": "retsvirkningsloven",
         "offsetgroup": "retsvirkningsloven",
         "orientation": "v",
         "showlegend": true,
         "textposition": "auto",
         "type": "bar",
         "x": [
          2017,
          2016,
          2014,
          2013,
          2012,
          2011,
          2006,
          2005,
          2004,
          2003,
          2001,
          1999,
          1998,
          1994,
          1991,
          1988,
          1985,
          1984,
          1979,
          1978,
          1977,
          1976,
          1972,
          1971,
          1970,
          1967,
          1966,
          1964,
          1962,
          1957,
          1956,
          1955,
          1953
         ],
         "xaxis": "x",
         "y": [
          0.00390625,
          0.003134796238244514,
          0.007194244604316547,
          0.003472222222222222,
          0.0045045045045045045,
          0.003703703703703704,
          0.0044444444444444444,
          0.004484304932735426,
          0.014354066985645933,
          0.0038910505836575876,
          0.00847457627118644,
          0.005376344086021506,
          0.0043859649122807015,
          0.012195121951219513,
          0.01282051282051282,
          0.030303030303030304,
          0.013333333333333334,
          0.011235955056179775,
          0.03614457831325301,
          0.019417475728155338,
          0.016129032258064516,
          0.03225806451612903,
          0.02666666666666667,
          0.046153846153846156,
          0.015873015873015872,
          0.022222222222222223,
          0.025,
          0.02857142857142857,
          0.02040816326530612,
          0.014925373134328358,
          0.03636363636363636,
          0.0196078431372549,
          0.05263157894736842
         ],
         "yaxis": "y"
        },
        {
         "alignmentgroup": "True",
         "customdata": [
          [
           3,
           "skifteloven"
          ],
          [
           1,
           "skifteloven"
          ],
          [
           1,
           "skifteloven"
          ],
          [
           3,
           "skifteloven"
          ],
          [
           1,
           "skifteloven"
          ],
          [
           1,
           "skifteloven"
          ],
          [
           1,
           "skifteloven"
          ],
          [
           1,
           "skifteloven"
          ],
          [
           1,
           "skifteloven"
          ],
          [
           1,
           "skifteloven"
          ],
          [
           1,
           "skifteloven"
          ],
          [
           1,
           "skifteloven"
          ],
          [
           2,
           "skifteloven"
          ],
          [
           1,
           "skifteloven"
          ],
          [
           1,
           "skifteloven"
          ],
          [
           1,
           "skifteloven"
          ],
          [
           1,
           "skifteloven"
          ],
          [
           2,
           "skifteloven"
          ],
          [
           1,
           "skifteloven"
          ],
          [
           2,
           "skifteloven"
          ],
          [
           1,
           "skifteloven"
          ],
          [
           3,
           "skifteloven"
          ],
          [
           3,
           "skifteloven"
          ],
          [
           1,
           "skifteloven"
          ],
          [
           1,
           "skifteloven"
          ],
          [
           1,
           "skifteloven"
          ],
          [
           1,
           "skifteloven"
          ],
          [
           1,
           "skifteloven"
          ],
          [
           1,
           "skifteloven"
          ],
          [
           2,
           "skifteloven"
          ],
          [
           1,
           "skifteloven"
          ],
          [
           1,
           "skifteloven"
          ],
          [
           1,
           "skifteloven"
          ],
          [
           1,
           "skifteloven"
          ],
          [
           1,
           "skifteloven"
          ],
          [
           1,
           "skifteloven"
          ]
         ],
         "hovertemplate": "<b>%{hovertext}</b><br><br>year=%{x}<br>share=%{y:.1%}<br>count=%{customdata[0]:.0f}<extra></extra>",
         "hovertext": [
          "skifteloven",
          "skifteloven",
          "skifteloven",
          "skifteloven",
          "skifteloven",
          "skifteloven",
          "skifteloven",
          "skifteloven",
          "skifteloven",
          "skifteloven",
          "skifteloven",
          "skifteloven",
          "skifteloven",
          "skifteloven",
          "skifteloven",
          "skifteloven",
          "skifteloven",
          "skifteloven",
          "skifteloven",
          "skifteloven",
          "skifteloven",
          "skifteloven",
          "skifteloven",
          "skifteloven",
          "skifteloven",
          "skifteloven",
          "skifteloven",
          "skifteloven",
          "skifteloven",
          "skifteloven",
          "skifteloven",
          "skifteloven",
          "skifteloven",
          "skifteloven",
          "skifteloven",
          "skifteloven"
         ],
         "legendgroup": "skifteloven",
         "marker": {
          "color": "rgb(135, 197, 95)",
          "pattern": {
           "shape": ""
          }
         },
         "name": "skifteloven",
         "offsetgroup": "skifteloven",
         "orientation": "v",
         "showlegend": true,
         "textposition": "auto",
         "type": "bar",
         "x": [
          2012,
          2011,
          2008,
          2006,
          2005,
          2004,
          2003,
          2002,
          1999,
          1995,
          1994,
          1992,
          1991,
          1990,
          1986,
          1984,
          1983,
          1980,
          1975,
          1974,
          1972,
          1971,
          1970,
          1967,
          1966,
          1965,
          1964,
          1962,
          1961,
          1960,
          1959,
          1958,
          1955,
          1954,
          1952,
          1951
         ],
         "xaxis": "x",
         "y": [
          0.013513513513513514,
          0.003703703703703704,
          0.004310344827586207,
          0.013333333333333334,
          0.004484304932735426,
          0.004784688995215311,
          0.0038910505836575876,
          0.005154639175257732,
          0.005376344086021506,
          0.009259259259259259,
          0.012195121951219513,
          0.014285714285714285,
          0.02564102564102564,
          0.01282051282051282,
          0.015384615384615385,
          0.011235955056179775,
          0.010869565217391304,
          0.028985507246376812,
          0.016129032258064516,
          0.025,
          0.013333333333333334,
          0.046153846153846156,
          0.047619047619047616,
          0.022222222222222223,
          0.0125,
          0.01694915254237288,
          0.014285714285714285,
          0.02040816326530612,
          0.022222222222222223,
          0.045454545454545456,
          0.017543859649122806,
          0.019230769230769232,
          0.0196078431372549,
          0.023255813953488372,
          0.021739130434782608,
          0.021739130434782608
         ],
         "yaxis": "y"
        }
       ],
       "layout": {
        "barmode": "relative",
        "legend": {
         "title": {
          "text": "Associated law"
         },
         "tracegroupgap": 0
        },
        "margin": {
         "b": 0,
         "l": 0,
         "r": 0,
         "t": 0
        },
        "template": {
         "data": {
          "bar": [
           {
            "error_x": {
             "color": "rgb(51,51,51)"
            },
            "error_y": {
             "color": "rgb(51,51,51)"
            },
            "marker": {
             "line": {
              "color": "rgb(237,237,237)",
              "width": 0.5
             },
             "pattern": {
              "fillmode": "overlay",
              "size": 10,
              "solidity": 0.2
             }
            },
            "type": "bar"
           }
          ],
          "barpolar": [
           {
            "marker": {
             "line": {
              "color": "rgb(237,237,237)",
              "width": 0.5
             },
             "pattern": {
              "fillmode": "overlay",
              "size": 10,
              "solidity": 0.2
             }
            },
            "type": "barpolar"
           }
          ],
          "carpet": [
           {
            "aaxis": {
             "endlinecolor": "rgb(51,51,51)",
             "gridcolor": "white",
             "linecolor": "white",
             "minorgridcolor": "white",
             "startlinecolor": "rgb(51,51,51)"
            },
            "baxis": {
             "endlinecolor": "rgb(51,51,51)",
             "gridcolor": "white",
             "linecolor": "white",
             "minorgridcolor": "white",
             "startlinecolor": "rgb(51,51,51)"
            },
            "type": "carpet"
           }
          ],
          "choropleth": [
           {
            "colorbar": {
             "outlinewidth": 0,
             "tickcolor": "rgb(237,237,237)",
             "ticklen": 6,
             "ticks": "inside"
            },
            "type": "choropleth"
           }
          ],
          "contour": [
           {
            "colorbar": {
             "outlinewidth": 0,
             "tickcolor": "rgb(237,237,237)",
             "ticklen": 6,
             "ticks": "inside"
            },
            "colorscale": [
             [
              0,
              "rgb(20,44,66)"
             ],
             [
              1,
              "rgb(90,179,244)"
             ]
            ],
            "type": "contour"
           }
          ],
          "contourcarpet": [
           {
            "colorbar": {
             "outlinewidth": 0,
             "tickcolor": "rgb(237,237,237)",
             "ticklen": 6,
             "ticks": "inside"
            },
            "type": "contourcarpet"
           }
          ],
          "heatmap": [
           {
            "colorbar": {
             "outlinewidth": 0,
             "tickcolor": "rgb(237,237,237)",
             "ticklen": 6,
             "ticks": "inside"
            },
            "colorscale": [
             [
              0,
              "rgb(20,44,66)"
             ],
             [
              1,
              "rgb(90,179,244)"
             ]
            ],
            "type": "heatmap"
           }
          ],
          "heatmapgl": [
           {
            "colorbar": {
             "outlinewidth": 0,
             "tickcolor": "rgb(237,237,237)",
             "ticklen": 6,
             "ticks": "inside"
            },
            "colorscale": [
             [
              0,
              "rgb(20,44,66)"
             ],
             [
              1,
              "rgb(90,179,244)"
             ]
            ],
            "type": "heatmapgl"
           }
          ],
          "histogram": [
           {
            "marker": {
             "pattern": {
              "fillmode": "overlay",
              "size": 10,
              "solidity": 0.2
             }
            },
            "type": "histogram"
           }
          ],
          "histogram2d": [
           {
            "colorbar": {
             "outlinewidth": 0,
             "tickcolor": "rgb(237,237,237)",
             "ticklen": 6,
             "ticks": "inside"
            },
            "colorscale": [
             [
              0,
              "rgb(20,44,66)"
             ],
             [
              1,
              "rgb(90,179,244)"
             ]
            ],
            "type": "histogram2d"
           }
          ],
          "histogram2dcontour": [
           {
            "colorbar": {
             "outlinewidth": 0,
             "tickcolor": "rgb(237,237,237)",
             "ticklen": 6,
             "ticks": "inside"
            },
            "colorscale": [
             [
              0,
              "rgb(20,44,66)"
             ],
             [
              1,
              "rgb(90,179,244)"
             ]
            ],
            "type": "histogram2dcontour"
           }
          ],
          "mesh3d": [
           {
            "colorbar": {
             "outlinewidth": 0,
             "tickcolor": "rgb(237,237,237)",
             "ticklen": 6,
             "ticks": "inside"
            },
            "type": "mesh3d"
           }
          ],
          "parcoords": [
           {
            "line": {
             "colorbar": {
              "outlinewidth": 0,
              "tickcolor": "rgb(237,237,237)",
              "ticklen": 6,
              "ticks": "inside"
             }
            },
            "type": "parcoords"
           }
          ],
          "pie": [
           {
            "automargin": true,
            "type": "pie"
           }
          ],
          "scatter": [
           {
            "marker": {
             "colorbar": {
              "outlinewidth": 0,
              "tickcolor": "rgb(237,237,237)",
              "ticklen": 6,
              "ticks": "inside"
             }
            },
            "type": "scatter"
           }
          ],
          "scatter3d": [
           {
            "line": {
             "colorbar": {
              "outlinewidth": 0,
              "tickcolor": "rgb(237,237,237)",
              "ticklen": 6,
              "ticks": "inside"
             }
            },
            "marker": {
             "colorbar": {
              "outlinewidth": 0,
              "tickcolor": "rgb(237,237,237)",
              "ticklen": 6,
              "ticks": "inside"
             }
            },
            "type": "scatter3d"
           }
          ],
          "scattercarpet": [
           {
            "marker": {
             "colorbar": {
              "outlinewidth": 0,
              "tickcolor": "rgb(237,237,237)",
              "ticklen": 6,
              "ticks": "inside"
             }
            },
            "type": "scattercarpet"
           }
          ],
          "scattergeo": [
           {
            "marker": {
             "colorbar": {
              "outlinewidth": 0,
              "tickcolor": "rgb(237,237,237)",
              "ticklen": 6,
              "ticks": "inside"
             }
            },
            "type": "scattergeo"
           }
          ],
          "scattergl": [
           {
            "marker": {
             "colorbar": {
              "outlinewidth": 0,
              "tickcolor": "rgb(237,237,237)",
              "ticklen": 6,
              "ticks": "inside"
             }
            },
            "type": "scattergl"
           }
          ],
          "scattermapbox": [
           {
            "marker": {
             "colorbar": {
              "outlinewidth": 0,
              "tickcolor": "rgb(237,237,237)",
              "ticklen": 6,
              "ticks": "inside"
             }
            },
            "type": "scattermapbox"
           }
          ],
          "scatterpolar": [
           {
            "marker": {
             "colorbar": {
              "outlinewidth": 0,
              "tickcolor": "rgb(237,237,237)",
              "ticklen": 6,
              "ticks": "inside"
             }
            },
            "type": "scatterpolar"
           }
          ],
          "scatterpolargl": [
           {
            "marker": {
             "colorbar": {
              "outlinewidth": 0,
              "tickcolor": "rgb(237,237,237)",
              "ticklen": 6,
              "ticks": "inside"
             }
            },
            "type": "scatterpolargl"
           }
          ],
          "scatterternary": [
           {
            "marker": {
             "colorbar": {
              "outlinewidth": 0,
              "tickcolor": "rgb(237,237,237)",
              "ticklen": 6,
              "ticks": "inside"
             }
            },
            "type": "scatterternary"
           }
          ],
          "surface": [
           {
            "colorbar": {
             "outlinewidth": 0,
             "tickcolor": "rgb(237,237,237)",
             "ticklen": 6,
             "ticks": "inside"
            },
            "colorscale": [
             [
              0,
              "rgb(20,44,66)"
             ],
             [
              1,
              "rgb(90,179,244)"
             ]
            ],
            "type": "surface"
           }
          ],
          "table": [
           {
            "cells": {
             "fill": {
              "color": "rgb(237,237,237)"
             },
             "line": {
              "color": "white"
             }
            },
            "header": {
             "fill": {
              "color": "rgb(217,217,217)"
             },
             "line": {
              "color": "white"
             }
            },
            "type": "table"
           }
          ]
         },
         "layout": {
          "annotationdefaults": {
           "arrowhead": 0,
           "arrowwidth": 1
          },
          "autotypenumbers": "strict",
          "coloraxis": {
           "colorbar": {
            "outlinewidth": 0,
            "tickcolor": "rgb(237,237,237)",
            "ticklen": 6,
            "ticks": "inside"
           }
          },
          "colorscale": {
           "sequential": [
            [
             0,
             "rgb(20,44,66)"
            ],
            [
             1,
             "rgb(90,179,244)"
            ]
           ],
           "sequentialminus": [
            [
             0,
             "rgb(20,44,66)"
            ],
            [
             1,
             "rgb(90,179,244)"
            ]
           ]
          },
          "colorway": [
           "#F8766D",
           "#A3A500",
           "#00BF7D",
           "#00B0F6",
           "#E76BF3"
          ],
          "font": {
           "color": "rgb(51,51,51)"
          },
          "geo": {
           "bgcolor": "white",
           "lakecolor": "white",
           "landcolor": "rgb(237,237,237)",
           "showlakes": true,
           "showland": true,
           "subunitcolor": "white"
          },
          "hoverlabel": {
           "align": "left"
          },
          "hovermode": "closest",
          "paper_bgcolor": "white",
          "plot_bgcolor": "rgb(237,237,237)",
          "polar": {
           "angularaxis": {
            "gridcolor": "white",
            "linecolor": "white",
            "showgrid": true,
            "tickcolor": "rgb(51,51,51)",
            "ticks": "outside"
           },
           "bgcolor": "rgb(237,237,237)",
           "radialaxis": {
            "gridcolor": "white",
            "linecolor": "white",
            "showgrid": true,
            "tickcolor": "rgb(51,51,51)",
            "ticks": "outside"
           }
          },
          "scene": {
           "xaxis": {
            "backgroundcolor": "rgb(237,237,237)",
            "gridcolor": "white",
            "gridwidth": 2,
            "linecolor": "white",
            "showbackground": true,
            "showgrid": true,
            "tickcolor": "rgb(51,51,51)",
            "ticks": "outside",
            "zerolinecolor": "white"
           },
           "yaxis": {
            "backgroundcolor": "rgb(237,237,237)",
            "gridcolor": "white",
            "gridwidth": 2,
            "linecolor": "white",
            "showbackground": true,
            "showgrid": true,
            "tickcolor": "rgb(51,51,51)",
            "ticks": "outside",
            "zerolinecolor": "white"
           },
           "zaxis": {
            "backgroundcolor": "rgb(237,237,237)",
            "gridcolor": "white",
            "gridwidth": 2,
            "linecolor": "white",
            "showbackground": true,
            "showgrid": true,
            "tickcolor": "rgb(51,51,51)",
            "ticks": "outside",
            "zerolinecolor": "white"
           }
          },
          "shapedefaults": {
           "fillcolor": "black",
           "line": {
            "width": 0
           },
           "opacity": 0.3
          },
          "ternary": {
           "aaxis": {
            "gridcolor": "white",
            "linecolor": "white",
            "showgrid": true,
            "tickcolor": "rgb(51,51,51)",
            "ticks": "outside"
           },
           "baxis": {
            "gridcolor": "white",
            "linecolor": "white",
            "showgrid": true,
            "tickcolor": "rgb(51,51,51)",
            "ticks": "outside"
           },
           "bgcolor": "rgb(237,237,237)",
           "caxis": {
            "gridcolor": "white",
            "linecolor": "white",
            "showgrid": true,
            "tickcolor": "rgb(51,51,51)",
            "ticks": "outside"
           }
          },
          "xaxis": {
           "automargin": true,
           "gridcolor": "white",
           "linecolor": "white",
           "showgrid": true,
           "tickcolor": "rgb(51,51,51)",
           "ticks": "outside",
           "title": {
            "standoff": 15
           },
           "zerolinecolor": "white"
          },
          "yaxis": {
           "automargin": true,
           "gridcolor": "white",
           "linecolor": "white",
           "showgrid": true,
           "tickcolor": "rgb(51,51,51)",
           "ticks": "outside",
           "title": {
            "standoff": 15
           },
           "zerolinecolor": "white"
          }
         }
        },
        "xaxis": {
         "anchor": "y",
         "domain": [
          0,
          1
         ],
         "title": {
          "text": "Year"
         }
        },
        "yaxis": {
         "anchor": "x",
         "domain": [
          0,
          1
         ],
         "range": [
          0,
          1
         ],
         "tickformat": ".0%",
         "title": {
          "text": "Share (pct.)"
         }
        }
       }
      }
     },
     "metadata": {},
     "output_type": "display_data"
    }
   ],
   "source": [
    "df = df_org.copy()\n",
    "df = df.loc[df[\"not_kendelse\"] == False]\n",
    "\n",
    "#FIND THE X MOST ASSOCIATED LAWS\n",
    "df_relevante_love_top_x = df.loc[:,[\"id_verdict\",\"year\",\"relevante_love_cleaned\"]].explode(\"relevante_love_cleaned\").groupby(\"relevante_love_cleaned\").count().sort_values(\"id_verdict\",ascending=False)[\"id_verdict\"][:15]\n",
    "love_top_x = list(df_relevante_love_top_x.reset_index()[\"relevante_love_cleaned\"])\n",
    "\n",
    "df_top_x_lov = df.loc[:,[\"id_verdict\",\"year\",\"relevante_love_cleaned\"]].copy()\n",
    "df_top_x_lov[\"relevante_love_cleaned\"] = df_top_x_lov[\"relevante_love_cleaned\"].apply(lambda love: [lov if lov in love_top_x else \"Other law\" for lov in love] if love is not None else None)\n",
    "\n",
    "df_relevante_love = df_top_x_lov.explode(\"relevante_love_cleaned\").groupby([\"relevante_love_cleaned\",\"year\"]).count().sort_values(\"id_verdict\",ascending=False)[\"id_verdict\"]\n",
    "df_relevante_love = df_relevante_love.reset_index()\n",
    "df_relevante_love.rename(columns={\"id_verdict\":\"count\",\"relevante_love_cleaned\":\"Associated law\"}, inplace=True)\n",
    "\n",
    "df_relevante_love[\"year\"] = df_relevante_love[\"year\"].astype(int)\n",
    "df_relevante_love.sort_values([\"year\",\"count\"],inplace=True,ascending=False)\n",
    "df_relevante_love['share'] = df_relevante_love['count'] / df_relevante_love.groupby('year')['count'].transform('sum') \n",
    "fig = px.bar(df_relevante_love, \n",
    "            x=\"year\",\n",
    "            y=\"share\",\n",
    "            color=\"Associated law\",\n",
    "            template=\"ggplot2\",\n",
    "            color_discrete_sequence=px.colors.qualitative.Pastel,\n",
    "            hover_name=\"Associated law\", \n",
    "            hover_data= {\"count\":\":.0f\",\n",
    "                         \"share\":\":.1%\", \n",
    "                         \"Associated law\":False})\n",
    "fig.update_yaxes(tickformat=\".0%\", \n",
    "                range=[0,1])\n",
    "fig.update_layout(yaxis_title=\"Share (pct.)\",\n",
    "                  xaxis_title=\"Year\")\n",
    "fig = fig.update_layout(margin=dict(\n",
    "                        l=0,\n",
    "                        r=0,\n",
    "                        b=0,\n",
    "                        t=0\n",
    "                        )\n",
    "                        )\n",
    "fig.write_html(\"../../data/plots/distribution_of_court_decisions_by_associated_law.html\")\n",
    "fig.write_image(\"../../data/plots/distribution_of_court_decisions_by_associated_law.pdf\")\n",
    "fig"
   ]
  },
  {
   "cell_type": "code",
   "execution_count": 9,
   "metadata": {},
   "outputs": [
    {
     "data": {
      "text/plain": [
       "0.3172826401621152"
      ]
     },
     "execution_count": 9,
     "metadata": {},
     "output_type": "execute_result"
    }
   ],
   "source": [
    "len(df_org[df_org[\"relevante_love_cleaned\"].isna()])/len(df_org)"
   ]
  },
  {
   "cell_type": "code",
   "execution_count": 14,
   "metadata": {},
   "outputs": [
    {
     "data": {
      "text/plain": [
       "28300"
      ]
     },
     "execution_count": 14,
     "metadata": {},
     "output_type": "execute_result"
    }
   ],
   "source": [
    "len(df_org[~df_org[\"relevante_love_cleaned\"].isna()])"
   ]
  },
  {
   "cell_type": "code",
   "execution_count": 15,
   "metadata": {},
   "outputs": [
    {
     "data": {
      "text/plain": [
       "0.6827173598378847"
      ]
     },
     "execution_count": 15,
     "metadata": {},
     "output_type": "execute_result"
    }
   ],
   "source": [
    "28300/len(df_org)"
   ]
  },
  {
   "cell_type": "code",
   "execution_count": 12,
   "metadata": {},
   "outputs": [
    {
     "data": {
      "text/plain": [
       "0.3172826401621152"
      ]
     },
     "execution_count": 12,
     "metadata": {},
     "output_type": "execute_result"
    }
   ],
   "source": [
    "len(df_org[df_org[\"relevante_love_cleaned\"].isna()])/len(df_org)"
   ]
  }
 ],
 "metadata": {
  "interpreter": {
   "hash": "3ed8ad36289d305c36e0f62c4336657b59989454aba0ee7799c35f3bccb4e530"
  },
  "kernelspec": {
   "display_name": "Python 3.8.8 ('base')",
   "language": "python",
   "name": "python3"
  },
  "language_info": {
   "codemirror_mode": {
    "name": "ipython",
    "version": 3
   },
   "file_extension": ".py",
   "mimetype": "text/x-python",
   "name": "python",
   "nbconvert_exporter": "python",
   "pygments_lexer": "ipython3",
   "version": "3.8.8"
  },
  "orig_nbformat": 4
 },
 "nbformat": 4,
 "nbformat_minor": 2
}
