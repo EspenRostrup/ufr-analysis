{
 "cells": [
  {
   "cell_type": "code",
   "execution_count": 2,
   "metadata": {},
   "outputs": [],
   "source": [
    "%load_ext autoreload\n",
    "%autoreload 2\n",
    "\n",
    "import pandas as pd\n",
    "import gensim\n",
    "from gensim.models import Word2Vec\n",
    "from tqdm.auto import tqdm\n",
    "from plotly.subplots import make_subplots\n",
    "import plotly.io as pio\n",
    "from utils import *\n",
    "import warnings\n",
    "warnings.simplefilter(action='ignore', category=FutureWarning)\n",
    "\n",
    "tqdm.pandas()\n"
   ]
  },
  {
   "cell_type": "markdown",
   "metadata": {},
   "source": [
    "## Load embeddings"
   ]
  },
  {
   "cell_type": "code",
   "execution_count": 3,
   "metadata": {},
   "outputs": [],
   "source": [
    "key_to_index = load_key_to_index()\n",
    "dw2v_embeddings = pd.read_pickle(\"trained_models/dw2v/5_year_interval/emb_300/L10T50G100A1ngV_iter9.p\")\n",
    "\n"
   ]
  },
  {
   "cell_type": "code",
   "execution_count": 4,
   "metadata": {},
   "outputs": [],
   "source": [
    "dw2v_embeddings_kw = []\n",
    "for embedding in dw2v_embeddings:\n",
    "    kw = gensim.models.KeyedVectors(vector_size=300)\n",
    "    kw.add_vectors(list(key_to_index.keys()),embedding)\n",
    "    dw2v_embeddings_kw.append(kw)"
   ]
  },
  {
   "cell_type": "code",
   "execution_count": 5,
   "metadata": {},
   "outputs": [
    {
     "name": "stderr",
     "output_type": "stream",
     "text": [
      "100%|██████████| 6/6 [00:02<00:00,  2.48it/s]\n"
     ]
    }
   ],
   "source": [
    "## INPUTS\n",
    "INTERVAL = [1867, 1920, 1950, 1980, 1995, 2010, 2022]\n",
    "#Generate inteverals based on input\n",
    "interval_range = [range(x[0],x[1]) for x in zip(INTERVAL[:-1],INTERVAL[1:])] \n",
    "timespans = list(zip(INTERVAL[:-1],INTERVAL[1:]))\n",
    "aw2v_embeddings = []\n",
    "timespans_str = []\n",
    "for timespan in tqdm(timespans):\n",
    "    timespans_str.append(f\"{timespan[0]}_{timespan[1]-1}\")\n",
    "    model = Word2Vec.load(f\"trained_models/aw2v/aligned/{timespan[0]}_{timespan[1]-1}_w2v.pkl\")\n",
    "    aw2v_embeddings.append(model.wv)\n"
   ]
  },
  {
   "cell_type": "markdown",
   "metadata": {},
   "source": [
    "# Visualisations"
   ]
  },
  {
   "cell_type": "markdown",
   "metadata": {},
   "source": [
    "### Two-dimensional embeddings"
   ]
  },
  {
   "cell_type": "markdown",
   "metadata": {},
   "source": [
    "#### Only DW2V"
   ]
  },
  {
   "cell_type": "code",
   "execution_count": 6,
   "metadata": {},
   "outputs": [
    {
     "name": "stdout",
     "output_type": "stream",
     "text": [
      "plotting at: (x1, y1)\n",
      "plotting at: (x2, y1)\n",
      "plotting at: (x1, y2)\n",
      "plotting at: (x2, y2)\n"
     ]
    },
    {
     "data": {
      "application/vnd.plotly.v1+json": {
       "config": {
        "plotlyServerURL": "https://plot.ly"
       },
       "data": [
        {
         "marker": {
          "color": "rgba(255,255,255)",
          "opacity": 0
         },
         "mode": "text",
         "type": "scatter",
         "x": [],
         "xaxis": "x",
         "y": [],
         "yaxis": "y"
        },
        {
         "line": {
          "color": "green",
          "width": 0.5
         },
         "marker": {
          "color": "rgba(255,255,255)",
          "opacity": 0
         },
         "mode": "lines",
         "type": "scatter",
         "x": [
          20.81484031677246,
          25.228612899780273
         ],
         "xaxis": "x",
         "y": [
          -23.997385025024414,
          -22.13575553894043
         ],
         "yaxis": "y"
        },
        {
         "line": {
          "color": "green",
          "width": 0.5
         },
         "marker": {
          "color": "rgba(255,255,255)",
          "opacity": 0
         },
         "mode": "lines",
         "type": "scatter",
         "x": [
          25.228612899780273,
          21.721813201904297
         ],
         "xaxis": "x",
         "y": [
          -22.13575553894043,
          -18.483125686645508
         ],
         "yaxis": "y"
        },
        {
         "line": {
          "color": "green",
          "width": 0.5
         },
         "marker": {
          "color": "rgba(255,255,255)",
          "opacity": 0
         },
         "mode": "lines",
         "type": "scatter",
         "x": [
          21.721813201904297,
          21.422607421875
         ],
         "xaxis": "x",
         "y": [
          -18.483125686645508,
          -13.569567680358887
         ],
         "yaxis": "y"
        },
        {
         "line": {
          "color": "green",
          "width": 0.5
         },
         "marker": {
          "color": "rgba(255,255,255)",
          "opacity": 0
         },
         "mode": "lines",
         "type": "scatter",
         "x": [
          21.422607421875,
          18.296825408935547
         ],
         "xaxis": "x",
         "y": [
          -13.569567680358887,
          -9.327178001403809
         ],
         "yaxis": "y"
        },
        {
         "line": {
          "color": "green",
          "width": 0.5
         },
         "marker": {
          "color": "rgba(255,255,255)",
          "opacity": 0
         },
         "mode": "lines",
         "type": "scatter",
         "x": [
          18.296825408935547,
          15.31666088104248
         ],
         "xaxis": "x",
         "y": [
          -9.327178001403809,
          -5.133901596069336
         ],
         "yaxis": "y"
        },
        {
         "line": {
          "color": "green",
          "width": 0.5
         },
         "marker": {
          "color": "rgba(255,255,255)",
          "opacity": 0
         },
         "mode": "lines",
         "type": "scatter",
         "x": [
          15.31666088104248,
          11.815189361572266
         ],
         "xaxis": "x",
         "y": [
          -5.133901596069336,
          -1.7365978956222534
         ],
         "yaxis": "y"
        },
        {
         "line": {
          "color": "green",
          "width": 0.5
         },
         "marker": {
          "color": "rgba(255,255,255)",
          "opacity": 0
         },
         "mode": "lines",
         "type": "scatter",
         "x": [
          11.815189361572266,
          9.246566772460938
         ],
         "xaxis": "x",
         "y": [
          -1.7365978956222534,
          4.1611328125
         ],
         "yaxis": "y"
        },
        {
         "line": {
          "color": "green",
          "width": 0.5
         },
         "marker": {
          "color": "rgba(255,255,255)",
          "opacity": 0
         },
         "mode": "lines",
         "type": "scatter",
         "x": [
          9.246566772460938,
          8.334056854248047
         ],
         "xaxis": "x",
         "y": [
          4.1611328125,
          9.510401725769043
         ],
         "yaxis": "y"
        },
        {
         "line": {
          "color": "green",
          "width": 0.5
         },
         "marker": {
          "color": "rgba(255,255,255)",
          "opacity": 0
         },
         "mode": "lines",
         "type": "scatter",
         "x": [
          8.334056854248047,
          11.758020401000977
         ],
         "xaxis": "x",
         "y": [
          9.510401725769043,
          13.111680030822754
         ],
         "yaxis": "y"
        },
        {
         "line": {
          "color": "green",
          "width": 0.5
         },
         "marker": {
          "color": "rgba(255,255,255)",
          "opacity": 0
         },
         "mode": "lines",
         "type": "scatter",
         "x": [
          11.758020401000977,
          16.87128448486328
         ],
         "xaxis": "x",
         "y": [
          13.111680030822754,
          15.195783615112305
         ],
         "yaxis": "y"
        },
        {
         "line": {
          "color": "green",
          "width": 0.5
         },
         "marker": {
          "color": "rgba(255,255,255)",
          "opacity": 0
         },
         "mode": "lines",
         "type": "scatter",
         "x": [
          16.87128448486328,
          20.19449806213379
         ],
         "xaxis": "x",
         "y": [
          15.195783615112305,
          19.89533042907715
         ],
         "yaxis": "y"
        },
        {
         "line": {
          "color": "green",
          "width": 0.5
         },
         "marker": {
          "color": "rgba(255,255,255)",
          "opacity": 0
         },
         "mode": "lines",
         "type": "scatter",
         "x": [
          20.19449806213379,
          16.50354766845703
         ],
         "xaxis": "x",
         "y": [
          19.89533042907715,
          21.74798011779785
         ],
         "yaxis": "y"
        },
        {
         "line": {
          "color": "green",
          "width": 0.5
         },
         "marker": {
          "color": "rgba(255,255,255)",
          "opacity": 0
         },
         "mode": "lines",
         "type": "scatter",
         "x": [
          16.50354766845703,
          9.882043838500977
         ],
         "xaxis": "x",
         "y": [
          21.74798011779785,
          24.256635665893555
         ],
         "yaxis": "y"
        },
        {
         "line": {
          "color": "green",
          "width": 0.5
         },
         "marker": {
          "color": "rgba(255,255,255)",
          "opacity": 0
         },
         "mode": "lines",
         "type": "scatter",
         "x": [
          9.882043838500977,
          5.296378135681152
         ],
         "xaxis": "x",
         "y": [
          24.256635665893555,
          26.98003578186035
         ],
         "yaxis": "y"
        },
        {
         "line": {
          "color": "green",
          "width": 0.5
         },
         "marker": {
          "color": "rgba(255,255,255)",
          "opacity": 0
         },
         "mode": "lines",
         "type": "scatter",
         "x": [
          5.296378135681152,
          0.8131862878799438
         ],
         "xaxis": "x",
         "y": [
          26.98003578186035,
          27.886308670043945
         ],
         "yaxis": "y"
        },
        {
         "line": {
          "color": "green",
          "width": 0.5
         },
         "marker": {
          "color": "rgba(255,255,255)",
          "opacity": 0
         },
         "mode": "lines",
         "type": "scatter",
         "x": [
          0.8131862878799438,
          8.418601989746094
         ],
         "xaxis": "x",
         "y": [
          27.886308670043945,
          31.84939193725586
         ],
         "yaxis": "y"
        },
        {
         "line": {
          "color": "green",
          "width": 0.5
         },
         "marker": {
          "color": "rgba(255,255,255)",
          "opacity": 0
         },
         "mode": "lines",
         "type": "scatter",
         "x": [
          8.418601989746094,
          3.3515260219573975
         ],
         "xaxis": "x",
         "y": [
          31.84939193725586,
          33.74001693725586
         ],
         "yaxis": "y"
        },
        {
         "line": {
          "color": "green",
          "width": 0.5
         },
         "marker": {
          "color": "rgba(255,255,255)",
          "opacity": 0
         },
         "mode": "lines",
         "type": "scatter",
         "x": [
          3.3515260219573975,
          1.3797317743301392
         ],
         "xaxis": "x",
         "y": [
          33.74001693725586,
          38.647884368896484
         ],
         "yaxis": "y"
        },
        {
         "line": {
          "color": "green",
          "width": 0.5
         },
         "marker": {
          "color": "rgba(255,255,255)",
          "opacity": 0
         },
         "mode": "lines",
         "type": "scatter",
         "x": [
          1.3797317743301392,
          -2.3690598011016846
         ],
         "xaxis": "x",
         "y": [
          38.647884368896484,
          34.50448989868164
         ],
         "yaxis": "y"
        },
        {
         "line": {
          "color": "green",
          "width": 0.5
         },
         "marker": {
          "color": "rgba(255,255,255)",
          "opacity": 0
         },
         "mode": "lines",
         "type": "scatter",
         "x": [
          -2.3690598011016846,
          -4.932488441467285
         ],
         "xaxis": "x",
         "y": [
          34.50448989868164,
          39.00559997558594
         ],
         "yaxis": "y"
        },
        {
         "line": {
          "color": "green",
          "width": 0.5
         },
         "marker": {
          "color": "rgba(255,255,255)",
          "opacity": 0
         },
         "mode": "lines",
         "type": "scatter",
         "x": [
          -4.932488441467285,
          -10.044900894165039
         ],
         "xaxis": "x",
         "y": [
          39.00559997558594,
          35.10088348388672
         ],
         "yaxis": "y"
        },
        {
         "line": {
          "color": "green",
          "width": 0.5
         },
         "marker": {
          "color": "rgba(255,255,255)",
          "opacity": 0
         },
         "mode": "lines",
         "type": "scatter",
         "x": [
          -10.044900894165039,
          -8.22018051147461
         ],
         "xaxis": "x",
         "y": [
          35.10088348388672,
          29.77751350402832
         ],
         "yaxis": "y"
        },
        {
         "line": {
          "color": "green",
          "width": 0.5
         },
         "marker": {
          "color": "rgba(255,255,255)",
          "opacity": 0
         },
         "mode": "lines",
         "type": "scatter",
         "x": [
          -8.22018051147461,
          -14.365315437316895
         ],
         "xaxis": "x",
         "y": [
          29.77751350402832,
          31.135879516601562
         ],
         "yaxis": "y"
        },
        {
         "line": {
          "color": "green",
          "width": 0.5
         },
         "marker": {
          "color": "rgba(255,255,255)",
          "opacity": 0
         },
         "mode": "lines",
         "type": "scatter",
         "x": [
          -14.365315437316895,
          -12.259892463684082
         ],
         "xaxis": "x",
         "y": [
          31.135879516601562,
          26.100160598754883
         ],
         "yaxis": "y"
        },
        {
         "line": {
          "color": "green",
          "width": 0.5
         },
         "marker": {
          "color": "rgba(255,255,255)",
          "opacity": 0
         },
         "mode": "lines",
         "type": "scatter",
         "x": [
          -12.259892463684082,
          -17.46700096130371
         ],
         "xaxis": "x",
         "y": [
          26.100160598754883,
          24.20646858215332
         ],
         "yaxis": "y"
        },
        {
         "line": {
          "color": "green",
          "width": 0.5
         },
         "marker": {
          "color": "rgba(255,255,255)",
          "opacity": 0
         },
         "mode": "lines",
         "type": "scatter",
         "x": [
          -17.46700096130371,
          -14.599526405334473
         ],
         "xaxis": "x",
         "y": [
          24.20646858215332,
          19.862606048583984
         ],
         "yaxis": "y"
        },
        {
         "line": {
          "color": "green",
          "width": 0.5
         },
         "marker": {
          "color": "rgba(255,255,255)",
          "opacity": 0
         },
         "mode": "lines",
         "type": "scatter",
         "x": [
          -14.599526405334473,
          -9.07157039642334
         ],
         "xaxis": "x",
         "y": [
          19.862606048583984,
          20.745241165161133
         ],
         "yaxis": "y"
        },
        {
         "line": {
          "color": "green",
          "width": 0.5
         },
         "marker": {
          "color": "rgba(255,255,255)",
          "opacity": 0
         },
         "mode": "lines",
         "type": "scatter",
         "x": [
          -9.07157039642334,
          -10.992256164550781
         ],
         "xaxis": "x",
         "y": [
          20.745241165161133,
          15.378206253051758
         ],
         "yaxis": "y"
        },
        {
         "line": {
          "color": "green",
          "width": 0.5
         },
         "marker": {
          "color": "rgba(255,255,255)",
          "opacity": 0
         },
         "mode": "lines",
         "type": "scatter",
         "x": [
          -10.992256164550781,
          -5.861478328704834
         ],
         "xaxis": "x",
         "y": [
          15.378206253051758,
          15.990429878234863
         ],
         "yaxis": "y"
        },
        {
         "line": {
          "color": "green",
          "width": 0.5
         },
         "marker": {
          "color": "rgba(255,255,255)",
          "opacity": 0
         },
         "mode": "lines",
         "type": "scatter",
         "x": [
          -5.861478328704834,
          -1.341087818145752
         ],
         "xaxis": "x",
         "y": [
          15.990429878234863,
          15.173728942871094
         ],
         "yaxis": "y"
        },
        {
         "marker": {
          "color": "rgba(255,255,255)",
          "opacity": 0
         },
         "mode": "text",
         "type": "scatter",
         "x": [],
         "xaxis": "x2",
         "y": [],
         "yaxis": "y2"
        },
        {
         "line": {
          "color": "green",
          "width": 0.5
         },
         "marker": {
          "color": "rgba(255,255,255)",
          "opacity": 0
         },
         "mode": "lines",
         "type": "scatter",
         "x": [
          -20.80547523498535,
          -30.026615142822266
         ],
         "xaxis": "x2",
         "y": [
          -0.10134859383106232,
          -4.896420955657959
         ],
         "yaxis": "y2"
        },
        {
         "line": {
          "color": "green",
          "width": 0.5
         },
         "marker": {
          "color": "rgba(255,255,255)",
          "opacity": 0
         },
         "mode": "lines",
         "type": "scatter",
         "x": [
          -30.026615142822266,
          -29.69692039489746
         ],
         "xaxis": "x2",
         "y": [
          -4.896420955657959,
          -16.133243560791016
         ],
         "yaxis": "y2"
        },
        {
         "line": {
          "color": "green",
          "width": 0.5
         },
         "marker": {
          "color": "rgba(255,255,255)",
          "opacity": 0
         },
         "mode": "lines",
         "type": "scatter",
         "x": [
          -29.69692039489746,
          -18.28639793395996
         ],
         "xaxis": "x2",
         "y": [
          -16.133243560791016,
          -13.842445373535156
         ],
         "yaxis": "y2"
        },
        {
         "line": {
          "color": "green",
          "width": 0.5
         },
         "marker": {
          "color": "rgba(255,255,255)",
          "opacity": 0
         },
         "mode": "lines",
         "type": "scatter",
         "x": [
          -18.28639793395996,
          -21.527862548828125
         ],
         "xaxis": "x2",
         "y": [
          -13.842445373535156,
          -26.98040771484375
         ],
         "yaxis": "y2"
        },
        {
         "line": {
          "color": "green",
          "width": 0.5
         },
         "marker": {
          "color": "rgba(255,255,255)",
          "opacity": 0
         },
         "mode": "lines",
         "type": "scatter",
         "x": [
          -21.527862548828125,
          -10.256479263305664
         ],
         "xaxis": "x2",
         "y": [
          -26.98040771484375,
          -24.81814956665039
         ],
         "yaxis": "y2"
        },
        {
         "line": {
          "color": "green",
          "width": 0.5
         },
         "marker": {
          "color": "rgba(255,255,255)",
          "opacity": 0
         },
         "mode": "lines",
         "type": "scatter",
         "x": [
          -10.256479263305664,
          -4.760222911834717
         ],
         "xaxis": "x2",
         "y": [
          -24.81814956665039,
          -35.045372009277344
         ],
         "yaxis": "y2"
        },
        {
         "line": {
          "color": "green",
          "width": 0.5
         },
         "marker": {
          "color": "rgba(255,255,255)",
          "opacity": 0
         },
         "mode": "lines",
         "type": "scatter",
         "x": [
          -4.760222911834717,
          4.131607532501221
         ],
         "xaxis": "x2",
         "y": [
          -35.045372009277344,
          -26.862051010131836
         ],
         "yaxis": "y2"
        },
        {
         "line": {
          "color": "green",
          "width": 0.5
         },
         "marker": {
          "color": "rgba(255,255,255)",
          "opacity": 0
         },
         "mode": "lines",
         "type": "scatter",
         "x": [
          4.131607532501221,
          -1.2262934446334839
         ],
         "xaxis": "x2",
         "y": [
          -26.862051010131836,
          -15.244760513305664
         ],
         "yaxis": "y2"
        },
        {
         "line": {
          "color": "green",
          "width": 0.5
         },
         "marker": {
          "color": "rgba(255,255,255)",
          "opacity": 0
         },
         "mode": "lines",
         "type": "scatter",
         "x": [
          -1.2262934446334839,
          9.944459915161133
         ],
         "xaxis": "x2",
         "y": [
          -15.244760513305664,
          -14.111327171325684
         ],
         "yaxis": "y2"
        },
        {
         "line": {
          "color": "green",
          "width": 0.5
         },
         "marker": {
          "color": "rgba(255,255,255)",
          "opacity": 0
         },
         "mode": "lines",
         "type": "scatter",
         "x": [
          9.944459915161133,
          3.822268009185791
         ],
         "xaxis": "x2",
         "y": [
          -14.111327171325684,
          -3.1377222537994385
         ],
         "yaxis": "y2"
        },
        {
         "line": {
          "color": "green",
          "width": 0.5
         },
         "marker": {
          "color": "rgba(255,255,255)",
          "opacity": 0
         },
         "mode": "lines",
         "type": "scatter",
         "x": [
          3.822268009185791,
          14.256007194519043
         ],
         "xaxis": "x2",
         "y": [
          -3.1377222537994385,
          0.8310844898223877
         ],
         "yaxis": "y2"
        },
        {
         "line": {
          "color": "green",
          "width": 0.5
         },
         "marker": {
          "color": "rgba(255,255,255)",
          "opacity": 0
         },
         "mode": "lines",
         "type": "scatter",
         "x": [
          14.256007194519043,
          25.561199188232422
         ],
         "xaxis": "x2",
         "y": [
          0.8310844898223877,
          3.359579086303711
         ],
         "yaxis": "y2"
        },
        {
         "line": {
          "color": "green",
          "width": 0.5
         },
         "marker": {
          "color": "rgba(255,255,255)",
          "opacity": 0
         },
         "mode": "lines",
         "type": "scatter",
         "x": [
          25.561199188232422,
          25.166019439697266
         ],
         "xaxis": "x2",
         "y": [
          3.359579086303711,
          -9.181995391845703
         ],
         "yaxis": "y2"
        },
        {
         "line": {
          "color": "green",
          "width": 0.5
         },
         "marker": {
          "color": "rgba(255,255,255)",
          "opacity": 0
         },
         "mode": "lines",
         "type": "scatter",
         "x": [
          25.166019439697266,
          36.868804931640625
         ],
         "xaxis": "x2",
         "y": [
          -9.181995391845703,
          -5.25541877746582
         ],
         "yaxis": "y2"
        },
        {
         "line": {
          "color": "green",
          "width": 0.5
         },
         "marker": {
          "color": "rgba(255,255,255)",
          "opacity": 0
         },
         "mode": "lines",
         "type": "scatter",
         "x": [
          36.868804931640625,
          36.38129425048828
         ],
         "xaxis": "x2",
         "y": [
          -5.25541877746582,
          -17.448673248291016
         ],
         "yaxis": "y2"
        },
        {
         "line": {
          "color": "green",
          "width": 0.5
         },
         "marker": {
          "color": "rgba(255,255,255)",
          "opacity": 0
         },
         "mode": "lines",
         "type": "scatter",
         "x": [
          36.38129425048828,
          25.747840881347656
         ],
         "xaxis": "x2",
         "y": [
          -17.448673248291016,
          -23.709754943847656
         ],
         "yaxis": "y2"
        },
        {
         "line": {
          "color": "green",
          "width": 0.5
         },
         "marker": {
          "color": "rgba(255,255,255)",
          "opacity": 0
         },
         "mode": "lines",
         "type": "scatter",
         "x": [
          25.747840881347656,
          34.1761474609375
         ],
         "xaxis": "x2",
         "y": [
          -23.709754943847656,
          -32.35001754760742
         ],
         "yaxis": "y2"
        },
        {
         "line": {
          "color": "green",
          "width": 0.5
         },
         "marker": {
          "color": "rgba(255,255,255)",
          "opacity": 0
         },
         "mode": "lines",
         "type": "scatter",
         "x": [
          34.1761474609375,
          23.179046630859375
         ],
         "xaxis": "x2",
         "y": [
          -32.35001754760742,
          -37.48728561401367
         ],
         "yaxis": "y2"
        },
        {
         "line": {
          "color": "green",
          "width": 0.5
         },
         "marker": {
          "color": "rgba(255,255,255)",
          "opacity": 0
         },
         "mode": "lines",
         "type": "scatter",
         "x": [
          23.179046630859375,
          16.117176055908203
         ],
         "xaxis": "x2",
         "y": [
          -37.48728561401367,
          -46.75828170776367
         ],
         "yaxis": "y2"
        },
        {
         "line": {
          "color": "green",
          "width": 0.5
         },
         "marker": {
          "color": "rgba(255,255,255)",
          "opacity": 0
         },
         "mode": "lines",
         "type": "scatter",
         "x": [
          16.117176055908203,
          21.845966339111328
         ],
         "xaxis": "x2",
         "y": [
          -46.75828170776367,
          -57.25185775756836
         ],
         "yaxis": "y2"
        },
        {
         "line": {
          "color": "green",
          "width": 0.5
         },
         "marker": {
          "color": "rgba(255,255,255)",
          "opacity": 0
         },
         "mode": "lines",
         "type": "scatter",
         "x": [
          21.845966339111328,
          32.15831756591797
         ],
         "xaxis": "x2",
         "y": [
          -57.25185775756836,
          -49.69521713256836
         ],
         "yaxis": "y2"
        },
        {
         "line": {
          "color": "green",
          "width": 0.5
         },
         "marker": {
          "color": "rgba(255,255,255)",
          "opacity": 0
         },
         "mode": "lines",
         "type": "scatter",
         "x": [
          32.15831756591797,
          35.27710723876953
         ],
         "xaxis": "x2",
         "y": [
          -49.69521713256836,
          -61.9093017578125
         ],
         "yaxis": "y2"
        },
        {
         "line": {
          "color": "green",
          "width": 0.5
         },
         "marker": {
          "color": "rgba(255,255,255)",
          "opacity": 0
         },
         "mode": "lines",
         "type": "scatter",
         "x": [
          35.27710723876953,
          47.98634719848633
         ],
         "xaxis": "x2",
         "y": [
          -61.9093017578125,
          -63.03233337402344
         ],
         "yaxis": "y2"
        },
        {
         "line": {
          "color": "green",
          "width": 0.5
         },
         "marker": {
          "color": "rgba(255,255,255)",
          "opacity": 0
         },
         "mode": "lines",
         "type": "scatter",
         "x": [
          47.98634719848633,
          46.992286682128906
         ],
         "xaxis": "x2",
         "y": [
          -63.03233337402344,
          -50.858154296875
         ],
         "yaxis": "y2"
        },
        {
         "line": {
          "color": "green",
          "width": 0.5
         },
         "marker": {
          "color": "rgba(255,255,255)",
          "opacity": 0
         },
         "mode": "lines",
         "type": "scatter",
         "x": [
          46.992286682128906,
          60.32084274291992
         ],
         "xaxis": "x2",
         "y": [
          -50.858154296875,
          -50.70137405395508
         ],
         "yaxis": "y2"
        },
        {
         "line": {
          "color": "green",
          "width": 0.5
         },
         "marker": {
          "color": "rgba(255,255,255)",
          "opacity": 0
         },
         "mode": "lines",
         "type": "scatter",
         "x": [
          60.32084274291992,
          53.2595100402832
         ],
         "xaxis": "x2",
         "y": [
          -50.70137405395508,
          -40.172080993652344
         ],
         "yaxis": "y2"
        },
        {
         "line": {
          "color": "green",
          "width": 0.5
         },
         "marker": {
          "color": "rgba(255,255,255)",
          "opacity": 0
         },
         "mode": "lines",
         "type": "scatter",
         "x": [
          53.2595100402832,
          53.82514953613281
         ],
         "xaxis": "x2",
         "y": [
          -40.172080993652344,
          -29.150638580322266
         ],
         "yaxis": "y2"
        },
        {
         "line": {
          "color": "green",
          "width": 0.5
         },
         "marker": {
          "color": "rgba(255,255,255)",
          "opacity": 0
         },
         "mode": "lines",
         "type": "scatter",
         "x": [
          53.82514953613281,
          65.93258666992188
         ],
         "xaxis": "x2",
         "y": [
          -29.150638580322266,
          -35.20275115966797
         ],
         "yaxis": "y2"
        },
        {
         "line": {
          "color": "green",
          "width": 0.5
         },
         "marker": {
          "color": "rgba(255,255,255)",
          "opacity": 0
         },
         "mode": "lines",
         "type": "scatter",
         "x": [
          65.93258666992188,
          68.38884735107422
         ],
         "xaxis": "x2",
         "y": [
          -35.20275115966797,
          -23.611858367919922
         ],
         "yaxis": "y2"
        },
        {
         "line": {
          "color": "green",
          "width": 0.5
         },
         "marker": {
          "color": "rgba(255,255,255)",
          "opacity": 0
         },
         "mode": "lines",
         "type": "scatter",
         "x": [
          68.38884735107422,
          58.698402404785156
         ],
         "xaxis": "x2",
         "y": [
          -23.611858367919922,
          -16.901708602905273
         ],
         "yaxis": "y2"
        },
        {
         "marker": {
          "color": "rgba(255,255,255)",
          "opacity": 0
         },
         "mode": "text",
         "type": "scatter",
         "x": [],
         "xaxis": "x3",
         "y": [],
         "yaxis": "y3"
        },
        {
         "line": {
          "color": "green",
          "width": 0.5
         },
         "marker": {
          "color": "rgba(255,255,255)",
          "opacity": 0
         },
         "mode": "lines",
         "type": "scatter",
         "x": [
          42.995750427246094,
          37.827796936035156
         ],
         "xaxis": "x3",
         "y": [
          4.2655534744262695,
          -11.871639251708984
         ],
         "yaxis": "y3"
        },
        {
         "line": {
          "color": "green",
          "width": 0.5
         },
         "marker": {
          "color": "rgba(255,255,255)",
          "opacity": 0
         },
         "mode": "lines",
         "type": "scatter",
         "x": [
          37.827796936035156,
          54.95957565307617
         ],
         "xaxis": "x3",
         "y": [
          -11.871639251708984,
          -13.941122055053711
         ],
         "yaxis": "y3"
        },
        {
         "line": {
          "color": "green",
          "width": 0.5
         },
         "marker": {
          "color": "rgba(255,255,255)",
          "opacity": 0
         },
         "mode": "lines",
         "type": "scatter",
         "x": [
          54.95957565307617,
          47.8370361328125
         ],
         "xaxis": "x3",
         "y": [
          -13.941122055053711,
          -30.933897018432617
         ],
         "yaxis": "y3"
        },
        {
         "line": {
          "color": "green",
          "width": 0.5
         },
         "marker": {
          "color": "rgba(255,255,255)",
          "opacity": 0
         },
         "mode": "lines",
         "type": "scatter",
         "x": [
          47.8370361328125,
          31.01479721069336
         ],
         "xaxis": "x3",
         "y": [
          -30.933897018432617,
          -36.158084869384766
         ],
         "yaxis": "y3"
        },
        {
         "line": {
          "color": "green",
          "width": 0.5
         },
         "marker": {
          "color": "rgba(255,255,255)",
          "opacity": 0
         },
         "mode": "lines",
         "type": "scatter",
         "x": [
          31.01479721069336,
          19.977806091308594
         ],
         "xaxis": "x3",
         "y": [
          -36.158084869384766,
          -22.192949295043945
         ],
         "yaxis": "y3"
        },
        {
         "line": {
          "color": "green",
          "width": 0.5
         },
         "marker": {
          "color": "rgba(255,255,255)",
          "opacity": 0
         },
         "mode": "lines",
         "type": "scatter",
         "x": [
          19.977806091308594,
          1.6385365724563599
         ],
         "xaxis": "x3",
         "y": [
          -22.192949295043945,
          -26.365144729614258
         ],
         "yaxis": "y3"
        },
        {
         "line": {
          "color": "green",
          "width": 0.5
         },
         "marker": {
          "color": "rgba(255,255,255)",
          "opacity": 0
         },
         "mode": "lines",
         "type": "scatter",
         "x": [
          1.6385365724563599,
          1.7738735675811768
         ],
         "xaxis": "x3",
         "y": [
          -26.365144729614258,
          -5.947892189025879
         ],
         "yaxis": "y3"
        },
        {
         "line": {
          "color": "green",
          "width": 0.5
         },
         "marker": {
          "color": "rgba(255,255,255)",
          "opacity": 0
         },
         "mode": "lines",
         "type": "scatter",
         "x": [
          1.7738735675811768,
          16.20075225830078
         ],
         "xaxis": "x3",
         "y": [
          -5.947892189025879,
          5.27711820602417
         ],
         "yaxis": "y3"
        },
        {
         "line": {
          "color": "green",
          "width": 0.5
         },
         "marker": {
          "color": "rgba(255,255,255)",
          "opacity": 0
         },
         "mode": "lines",
         "type": "scatter",
         "x": [
          16.20075225830078,
          11.382268905639648
         ],
         "xaxis": "x3",
         "y": [
          5.27711820602417,
          22.14500617980957
         ],
         "yaxis": "y3"
        },
        {
         "line": {
          "color": "green",
          "width": 0.5
         },
         "marker": {
          "color": "rgba(255,255,255)",
          "opacity": 0
         },
         "mode": "lines",
         "type": "scatter",
         "x": [
          11.382268905639648,
          24.51808738708496
         ],
         "xaxis": "x3",
         "y": [
          22.14500617980957,
          34.707218170166016
         ],
         "yaxis": "y3"
        },
        {
         "line": {
          "color": "green",
          "width": 0.5
         },
         "marker": {
          "color": "rgba(255,255,255)",
          "opacity": 0
         },
         "mode": "lines",
         "type": "scatter",
         "x": [
          24.51808738708496,
          16.082571029663086
         ],
         "xaxis": "x3",
         "y": [
          34.707218170166016,
          51.97373962402344
         ],
         "yaxis": "y3"
        },
        {
         "line": {
          "color": "green",
          "width": 0.5
         },
         "marker": {
          "color": "rgba(255,255,255)",
          "opacity": 0
         },
         "mode": "lines",
         "type": "scatter",
         "x": [
          16.082571029663086,
          -0.897224485874176
         ],
         "xaxis": "x3",
         "y": [
          51.97373962402344,
          64.84021759033203
         ],
         "yaxis": "y3"
        },
        {
         "line": {
          "color": "green",
          "width": 0.5
         },
         "marker": {
          "color": "rgba(255,255,255)",
          "opacity": 0
         },
         "mode": "lines",
         "type": "scatter",
         "x": [
          -0.897224485874176,
          -9.788945198059082
         ],
         "xaxis": "x3",
         "y": [
          64.84021759033203,
          48.235294342041016
         ],
         "yaxis": "y3"
        },
        {
         "line": {
          "color": "green",
          "width": 0.5
         },
         "marker": {
          "color": "rgba(255,255,255)",
          "opacity": 0
         },
         "mode": "lines",
         "type": "scatter",
         "x": [
          -9.788945198059082,
          -28.7617244720459
         ],
         "xaxis": "x3",
         "y": [
          48.235294342041016,
          57.93413162231445
         ],
         "yaxis": "y3"
        },
        {
         "line": {
          "color": "green",
          "width": 0.5
         },
         "marker": {
          "color": "rgba(255,255,255)",
          "opacity": 0
         },
         "mode": "lines",
         "type": "scatter",
         "x": [
          -28.7617244720459,
          -30.573749542236328
         ],
         "xaxis": "x3",
         "y": [
          57.93413162231445,
          40.53122329711914
         ],
         "yaxis": "y3"
        },
        {
         "line": {
          "color": "green",
          "width": 0.5
         },
         "marker": {
          "color": "rgba(255,255,255)",
          "opacity": 0
         },
         "mode": "lines",
         "type": "scatter",
         "x": [
          -30.573749542236328,
          -51.12029266357422
         ],
         "xaxis": "x3",
         "y": [
          40.53122329711914,
          39.202056884765625
         ],
         "yaxis": "y3"
        },
        {
         "line": {
          "color": "green",
          "width": 0.5
         },
         "marker": {
          "color": "rgba(255,255,255)",
          "opacity": 0
         },
         "mode": "lines",
         "type": "scatter",
         "x": [
          -51.12029266357422,
          -45.067020416259766
         ],
         "xaxis": "x3",
         "y": [
          39.202056884765625,
          15.403141975402832
         ],
         "yaxis": "y3"
        },
        {
         "line": {
          "color": "green",
          "width": 0.5
         },
         "marker": {
          "color": "rgba(255,255,255)",
          "opacity": 0
         },
         "mode": "lines",
         "type": "scatter",
         "x": [
          -45.067020416259766,
          -74.69922637939453
         ],
         "xaxis": "x3",
         "y": [
          15.403141975402832,
          -16.352113723754883
         ],
         "yaxis": "y3"
        },
        {
         "line": {
          "color": "green",
          "width": 0.5
         },
         "marker": {
          "color": "rgba(255,255,255)",
          "opacity": 0
         },
         "mode": "lines",
         "type": "scatter",
         "x": [
          -74.69922637939453,
          -56.621337890625
         ],
         "xaxis": "x3",
         "y": [
          -16.352113723754883,
          -22.298328399658203
         ],
         "yaxis": "y3"
        },
        {
         "line": {
          "color": "green",
          "width": 0.5
         },
         "marker": {
          "color": "rgba(255,255,255)",
          "opacity": 0
         },
         "mode": "lines",
         "type": "scatter",
         "x": [
          -56.621337890625,
          -71.96930694580078
         ],
         "xaxis": "x3",
         "y": [
          -22.298328399658203,
          -38.158329010009766
         ],
         "yaxis": "y3"
        },
        {
         "line": {
          "color": "green",
          "width": 0.5
         },
         "marker": {
          "color": "rgba(255,255,255)",
          "opacity": 0
         },
         "mode": "lines",
         "type": "scatter",
         "x": [
          -71.96930694580078,
          -65.16813659667969
         ],
         "xaxis": "x3",
         "y": [
          -38.158329010009766,
          15.624983787536621
         ],
         "yaxis": "y3"
        },
        {
         "line": {
          "color": "green",
          "width": 0.5
         },
         "marker": {
          "color": "rgba(255,255,255)",
          "opacity": 0
         },
         "mode": "lines",
         "type": "scatter",
         "x": [
          -65.16813659667969,
          -36.85500717163086
         ],
         "xaxis": "x3",
         "y": [
          15.624983787536621,
          -26.409719467163086
         ],
         "yaxis": "y3"
        },
        {
         "line": {
          "color": "green",
          "width": 0.5
         },
         "marker": {
          "color": "rgba(255,255,255)",
          "opacity": 0
         },
         "mode": "lines",
         "type": "scatter",
         "x": [
          -36.85500717163086,
          -58.84791946411133
         ],
         "xaxis": "x3",
         "y": [
          -26.409719467163086,
          -3.0311198234558105
         ],
         "yaxis": "y3"
        },
        {
         "line": {
          "color": "green",
          "width": 0.5
         },
         "marker": {
          "color": "rgba(255,255,255)",
          "opacity": 0
         },
         "mode": "lines",
         "type": "scatter",
         "x": [
          -58.84791946411133,
          -91.87008666992188
         ],
         "xaxis": "x3",
         "y": [
          -3.0311198234558105,
          -28.828369140625
         ],
         "yaxis": "y3"
        },
        {
         "line": {
          "color": "green",
          "width": 0.5
         },
         "marker": {
          "color": "rgba(255,255,255)",
          "opacity": 0
         },
         "mode": "lines",
         "type": "scatter",
         "x": [
          -91.87008666992188,
          -79.6518783569336
         ],
         "xaxis": "x3",
         "y": [
          -28.828369140625,
          2.347282886505127
         ],
         "yaxis": "y3"
        },
        {
         "line": {
          "color": "green",
          "width": 0.5
         },
         "marker": {
          "color": "rgba(255,255,255)",
          "opacity": 0
         },
         "mode": "lines",
         "type": "scatter",
         "x": [
          -79.6518783569336,
          -50.764801025390625
         ],
         "xaxis": "x3",
         "y": [
          2.347282886505127,
          -44.49404525756836
         ],
         "yaxis": "y3"
        },
        {
         "line": {
          "color": "green",
          "width": 0.5
         },
         "marker": {
          "color": "rgba(255,255,255)",
          "opacity": 0
         },
         "mode": "lines",
         "type": "scatter",
         "x": [
          -50.764801025390625,
          -81.10823822021484
         ],
         "xaxis": "x3",
         "y": [
          -44.49404525756836,
          28.938005447387695
         ],
         "yaxis": "y3"
        },
        {
         "line": {
          "color": "green",
          "width": 0.5
         },
         "marker": {
          "color": "rgba(255,255,255)",
          "opacity": 0
         },
         "mode": "lines",
         "type": "scatter",
         "x": [
          -81.10823822021484,
          -97.50476837158203
         ],
         "xaxis": "x3",
         "y": [
          28.938005447387695,
          14.135209083557129
         ],
         "yaxis": "y3"
        },
        {
         "line": {
          "color": "green",
          "width": 0.5
         },
         "marker": {
          "color": "rgba(255,255,255)",
          "opacity": 0
         },
         "mode": "lines",
         "type": "scatter",
         "x": [
          -97.50476837158203,
          -38.17753982543945
         ],
         "xaxis": "x3",
         "y": [
          14.135209083557129,
          -5.601043224334717
         ],
         "yaxis": "y3"
        },
        {
         "line": {
          "color": "green",
          "width": 0.5
         },
         "marker": {
          "color": "rgba(255,255,255)",
          "opacity": 0
         },
         "mode": "lines",
         "type": "scatter",
         "x": [
          -38.17753982543945,
          -98.95115661621094
         ],
         "xaxis": "x3",
         "y": [
          -5.601043224334717,
          -7.850080490112305
         ],
         "yaxis": "y3"
        },
        {
         "marker": {
          "color": "rgba(255,255,255)",
          "opacity": 0
         },
         "mode": "text",
         "type": "scatter",
         "x": [],
         "xaxis": "x4",
         "y": [],
         "yaxis": "y4"
        },
        {
         "line": {
          "color": "green",
          "width": 0.5
         },
         "mode": "lines",
         "type": "scatter",
         "x": [
          9.340751647949219,
          8.10883617401123
         ],
         "xaxis": "x4",
         "y": [
          -16.447811126708984,
          -20.66667366027832
         ],
         "yaxis": "y4"
        },
        {
         "line": {
          "color": "green",
          "width": 0.5
         },
         "mode": "lines",
         "type": "scatter",
         "x": [
          8.10883617401123,
          3.7164041996002197
         ],
         "xaxis": "x4",
         "y": [
          -20.66667366027832,
          -21.69358253479004
         ],
         "yaxis": "y4"
        },
        {
         "line": {
          "color": "green",
          "width": 0.5
         },
         "mode": "lines",
         "type": "scatter",
         "x": [
          3.7164041996002197,
          -0.31921571493148804
         ],
         "xaxis": "x4",
         "y": [
          -21.69358253479004,
          -19.938140869140625
         ],
         "yaxis": "y4"
        },
        {
         "line": {
          "color": "green",
          "width": 0.5
         },
         "mode": "lines",
         "type": "scatter",
         "x": [
          -0.31921571493148804,
          -4.219825267791748
         ],
         "xaxis": "x4",
         "y": [
          -19.938140869140625,
          -17.392745971679688
         ],
         "yaxis": "y4"
        },
        {
         "line": {
          "color": "green",
          "width": 0.5
         },
         "mode": "lines",
         "type": "scatter",
         "x": [
          -4.219825267791748,
          -7.634514808654785
         ],
         "xaxis": "x4",
         "y": [
          -17.392745971679688,
          -11.000961303710938
         ],
         "yaxis": "y4"
        },
        {
         "line": {
          "color": "green",
          "width": 0.5
         },
         "mode": "lines",
         "type": "scatter",
         "x": [
          -7.634514808654785,
          -8.87373161315918
         ],
         "xaxis": "x4",
         "y": [
          -11.000961303710938,
          -6.624955177307129
         ],
         "yaxis": "y4"
        },
        {
         "line": {
          "color": "green",
          "width": 0.5
         },
         "mode": "lines",
         "type": "scatter",
         "x": [
          -8.87373161315918,
          -9.235729217529297
         ],
         "xaxis": "x4",
         "y": [
          -6.624955177307129,
          -2.371575355529785
         ],
         "yaxis": "y4"
        },
        {
         "line": {
          "color": "green",
          "width": 0.5
         },
         "mode": "lines",
         "type": "scatter",
         "x": [
          -9.235729217529297,
          -13.800484657287598
         ],
         "xaxis": "x4",
         "y": [
          -2.371575355529785,
          -4.4079155921936035
         ],
         "yaxis": "y4"
        },
        {
         "line": {
          "color": "green",
          "width": 0.5
         },
         "mode": "lines",
         "type": "scatter",
         "x": [
          -13.800484657287598,
          -14.127016067504883
         ],
         "xaxis": "x4",
         "y": [
          -4.4079155921936035,
          0.06930198520421982
         ],
         "yaxis": "y4"
        },
        {
         "line": {
          "color": "green",
          "width": 0.5
         },
         "mode": "lines",
         "type": "scatter",
         "x": [
          -14.127016067504883,
          -10.877524375915527
         ],
         "xaxis": "x4",
         "y": [
          0.06930198520421982,
          3.3435075283050537
         ],
         "yaxis": "y4"
        },
        {
         "line": {
          "color": "green",
          "width": 0.5
         },
         "mode": "lines",
         "type": "scatter",
         "x": [
          -10.877524375915527,
          -14.426324844360352
         ],
         "xaxis": "x4",
         "y": [
          3.3435075283050537,
          5.821767330169678
         ],
         "yaxis": "y4"
        },
        {
         "line": {
          "color": "green",
          "width": 0.5
         },
         "mode": "lines",
         "type": "scatter",
         "x": [
          -14.426324844360352,
          -18.941940307617188
         ],
         "xaxis": "x4",
         "y": [
          5.821767330169678,
          3.7633767127990723
         ],
         "yaxis": "y4"
        },
        {
         "line": {
          "color": "green",
          "width": 0.5
         },
         "mode": "lines",
         "type": "scatter",
         "x": [
          -18.941940307617188,
          -22.257877349853516
         ],
         "xaxis": "x4",
         "y": [
          3.7633767127990723,
          7.209264278411865
         ],
         "yaxis": "y4"
        },
        {
         "line": {
          "color": "green",
          "width": 0.5
         },
         "mode": "lines",
         "type": "scatter",
         "x": [
          -22.257877349853516,
          -26.87200927734375
         ],
         "xaxis": "x4",
         "y": [
          7.209264278411865,
          7.43547248840332
         ],
         "yaxis": "y4"
        },
        {
         "line": {
          "color": "green",
          "width": 0.5
         },
         "mode": "lines",
         "type": "scatter",
         "x": [
          -26.87200927734375,
          -30.575284957885742
         ],
         "xaxis": "x4",
         "y": [
          7.43547248840332,
          4.544267654418945
         ],
         "yaxis": "y4"
        },
        {
         "line": {
          "color": "green",
          "width": 0.5
         },
         "mode": "lines",
         "type": "scatter",
         "x": [
          -30.575284957885742,
          -27.791854858398438
         ],
         "xaxis": "x4",
         "y": [
          4.544267654418945,
          0.743591845035553
         ],
         "yaxis": "y4"
        },
        {
         "line": {
          "color": "green",
          "width": 0.5
         },
         "mode": "lines",
         "type": "scatter",
         "x": [
          -27.791854858398438,
          -28.263545989990234
         ],
         "xaxis": "x4",
         "y": [
          0.743591845035553,
          -3.354198932647705
         ],
         "yaxis": "y4"
        },
        {
         "line": {
          "color": "green",
          "width": 0.5
         },
         "mode": "lines",
         "type": "scatter",
         "x": [
          -28.263545989990234,
          -32.50343322753906
         ],
         "xaxis": "x4",
         "y": [
          -3.354198932647705,
          -5.3833441734313965
         ],
         "yaxis": "y4"
        },
        {
         "line": {
          "color": "green",
          "width": 0.5
         },
         "mode": "lines",
         "type": "scatter",
         "x": [
          -32.50343322753906,
          -36.458534240722656
         ],
         "xaxis": "x4",
         "y": [
          -5.3833441734313965,
          -7.333353042602539
         ],
         "yaxis": "y4"
        },
        {
         "line": {
          "color": "green",
          "width": 0.5
         },
         "mode": "lines",
         "type": "scatter",
         "x": [
          -36.458534240722656,
          -36.08464813232422
         ],
         "xaxis": "x4",
         "y": [
          -7.333353042602539,
          -11.609719276428223
         ],
         "yaxis": "y4"
        },
        {
         "line": {
          "color": "green",
          "width": 0.5
         },
         "mode": "lines",
         "type": "scatter",
         "x": [
          -36.08464813232422,
          -32.429256439208984
         ],
         "xaxis": "x4",
         "y": [
          -11.609719276428223,
          -13.85556697845459
         ],
         "yaxis": "y4"
        },
        {
         "line": {
          "color": "green",
          "width": 0.5
         },
         "mode": "lines",
         "type": "scatter",
         "x": [
          -32.429256439208984,
          -27.003074645996094
         ],
         "xaxis": "x4",
         "y": [
          -13.85556697845459,
          -14.003056526184082
         ],
         "yaxis": "y4"
        },
        {
         "line": {
          "color": "green",
          "width": 0.5
         },
         "mode": "lines",
         "type": "scatter",
         "x": [
          -27.003074645996094,
          -22.884958267211914
         ],
         "xaxis": "x4",
         "y": [
          -14.003056526184082,
          -13.370915412902832
         ],
         "yaxis": "y4"
        },
        {
         "line": {
          "color": "green",
          "width": 0.5
         },
         "mode": "lines",
         "type": "scatter",
         "x": [
          -22.884958267211914,
          -19.99311637878418
         ],
         "xaxis": "x4",
         "y": [
          -13.370915412902832,
          -16.505985260009766
         ],
         "yaxis": "y4"
        },
        {
         "line": {
          "color": "green",
          "width": 0.5
         },
         "mode": "lines",
         "type": "scatter",
         "x": [
          -19.99311637878418,
          -22.362302780151367
         ],
         "xaxis": "x4",
         "y": [
          -16.505985260009766,
          -20.50345230102539
         ],
         "yaxis": "y4"
        },
        {
         "line": {
          "color": "green",
          "width": 0.5
         },
         "mode": "lines",
         "type": "scatter",
         "x": [
          -22.362302780151367,
          -19.5054874420166
         ],
         "xaxis": "x4",
         "y": [
          -20.50345230102539,
          -24.04172706604004
         ],
         "yaxis": "y4"
        },
        {
         "line": {
          "color": "green",
          "width": 0.5
         },
         "mode": "lines",
         "type": "scatter",
         "x": [
          -19.5054874420166,
          -22.149267196655273
         ],
         "xaxis": "x4",
         "y": [
          -24.04172706604004,
          -27.388996124267578
         ],
         "yaxis": "y4"
        },
        {
         "line": {
          "color": "green",
          "width": 0.5
         },
         "mode": "lines",
         "type": "scatter",
         "x": [
          -22.149267196655273,
          -26.133508682250977
         ],
         "xaxis": "x4",
         "y": [
          -27.388996124267578,
          -29.250720977783203
         ],
         "yaxis": "y4"
        },
        {
         "line": {
          "color": "green",
          "width": 0.5
         },
         "mode": "lines",
         "type": "scatter",
         "x": [
          -26.133508682250977,
          -28.85440444946289
         ],
         "xaxis": "x4",
         "y": [
          -29.250720977783203,
          -25.671321868896484
         ],
         "yaxis": "y4"
        },
        {
         "line": {
          "color": "green",
          "width": 0.5
         },
         "mode": "lines",
         "type": "scatter",
         "x": [
          -28.85440444946289,
          -32.24625015258789
         ],
         "xaxis": "x4",
         "y": [
          -25.671321868896484,
          -27.626190185546875
         ],
         "yaxis": "y4"
        }
       ],
       "layout": {
        "annotations": [
         {
          "font": {
           "size": 16
          },
          "showarrow": false,
          "text": "Query word - sex, DW2V",
          "x": 0.2475,
          "xanchor": "center",
          "xref": "paper",
          "y": 1,
          "yanchor": "bottom",
          "yref": "paper"
         },
         {
          "font": {
           "size": 16
          },
          "showarrow": false,
          "text": "Query word - mand, DW2V",
          "x": 0.7525,
          "xanchor": "center",
          "xref": "paper",
          "y": 1,
          "yanchor": "bottom",
          "yref": "paper"
         },
         {
          "font": {
           "size": 16
          },
          "showarrow": false,
          "text": "Query word - imødegå, DW2V",
          "x": 0.2475,
          "xanchor": "center",
          "xref": "paper",
          "y": 0.445,
          "yanchor": "bottom",
          "yref": "paper"
         },
         {
          "font": {
           "size": 16
          },
          "showarrow": false,
          "text": "Query word - overfald, DW2V",
          "x": 0.7525,
          "xanchor": "center",
          "xref": "paper",
          "y": 0.445,
          "yanchor": "bottom",
          "yref": "paper"
         },
         {
          "font": {
           "color": "black",
           "size": 11
          },
          "showarrow": false,
          "text": "1869",
          "x": -1.341087818145752,
          "xref": "x",
          "y": 15.173728942871094,
          "yref": "y"
         },
         {
          "font": {
           "color": "black",
           "size": 11
          },
          "showarrow": false,
          "text": "1874",
          "x": -5.861478328704834,
          "xref": "x",
          "y": 15.990429878234863,
          "yref": "y"
         },
         {
          "font": {
           "color": "black",
           "size": 11
          },
          "showarrow": false,
          "text": "1879",
          "x": -10.992256164550781,
          "xref": "x",
          "y": 15.378206253051758,
          "yref": "y"
         },
         {
          "font": {
           "color": "black",
           "size": 11
          },
          "showarrow": false,
          "text": "1884",
          "x": -9.07157039642334,
          "xref": "x",
          "y": 20.745241165161133,
          "yref": "y"
         },
         {
          "font": {
           "color": "black",
           "size": 11
          },
          "showarrow": false,
          "text": "1889",
          "x": -14.599526405334473,
          "xref": "x",
          "y": 19.862606048583984,
          "yref": "y"
         },
         {
          "font": {
           "color": "black",
           "size": 11
          },
          "showarrow": false,
          "text": "1894",
          "x": -17.46700096130371,
          "xref": "x",
          "y": 24.20646858215332,
          "yref": "y"
         },
         {
          "font": {
           "color": "black",
           "size": 11
          },
          "showarrow": false,
          "text": "1899",
          "x": -12.259892463684082,
          "xref": "x",
          "y": 26.100160598754883,
          "yref": "y"
         },
         {
          "font": {
           "color": "black",
           "size": 11
          },
          "showarrow": false,
          "text": "1904",
          "x": -14.365315437316895,
          "xref": "x",
          "y": 31.135879516601562,
          "yref": "y"
         },
         {
          "font": {
           "color": "black",
           "size": 11
          },
          "showarrow": false,
          "text": "1909",
          "x": -8.22018051147461,
          "xref": "x",
          "y": 29.77751350402832,
          "yref": "y"
         },
         {
          "font": {
           "color": "black",
           "size": 11
          },
          "showarrow": false,
          "text": "1914",
          "x": -10.044900894165039,
          "xref": "x",
          "y": 35.10088348388672,
          "yref": "y"
         },
         {
          "font": {
           "color": "black",
           "size": 11
          },
          "showarrow": false,
          "text": "1919",
          "x": -4.932488441467285,
          "xref": "x",
          "y": 39.00559997558594,
          "yref": "y"
         },
         {
          "font": {
           "color": "black",
           "size": 11
          },
          "showarrow": false,
          "text": "1924",
          "x": -2.3690598011016846,
          "xref": "x",
          "y": 34.50448989868164,
          "yref": "y"
         },
         {
          "font": {
           "color": "black",
           "size": 11
          },
          "showarrow": false,
          "text": "1929",
          "x": 1.3797317743301392,
          "xref": "x",
          "y": 38.647884368896484,
          "yref": "y"
         },
         {
          "font": {
           "color": "black",
           "size": 11
          },
          "showarrow": false,
          "text": "1934",
          "x": 3.3515260219573975,
          "xref": "x",
          "y": 33.74001693725586,
          "yref": "y"
         },
         {
          "font": {
           "color": "black",
           "size": 11
          },
          "showarrow": false,
          "text": "1939",
          "x": 8.418601989746094,
          "xref": "x",
          "y": 31.84939193725586,
          "yref": "y"
         },
         {
          "font": {
           "color": "black",
           "size": 11
          },
          "showarrow": false,
          "text": "1944",
          "x": 0.8131862878799438,
          "xref": "x",
          "y": 27.886308670043945,
          "yref": "y"
         },
         {
          "font": {
           "color": "black",
           "size": 11
          },
          "showarrow": false,
          "text": "1949",
          "x": 5.296378135681152,
          "xref": "x",
          "y": 26.98003578186035,
          "yref": "y"
         },
         {
          "font": {
           "color": "black",
           "size": 11
          },
          "showarrow": false,
          "text": "1954",
          "x": 9.882043838500977,
          "xref": "x",
          "y": 24.256635665893555,
          "yref": "y"
         },
         {
          "font": {
           "color": "black",
           "size": 11
          },
          "showarrow": false,
          "text": "1959",
          "x": 16.50354766845703,
          "xref": "x",
          "y": 21.74798011779785,
          "yref": "y"
         },
         {
          "font": {
           "color": "black",
           "size": 11
          },
          "showarrow": false,
          "text": "1964",
          "x": 20.19449806213379,
          "xref": "x",
          "y": 19.89533042907715,
          "yref": "y"
         },
         {
          "font": {
           "color": "black",
           "size": 11
          },
          "showarrow": false,
          "text": "1969",
          "x": 16.87128448486328,
          "xref": "x",
          "y": 15.195783615112305,
          "yref": "y"
         },
         {
          "font": {
           "color": "black",
           "size": 11
          },
          "showarrow": false,
          "text": "1974",
          "x": 11.758020401000977,
          "xref": "x",
          "y": 13.111680030822754,
          "yref": "y"
         },
         {
          "font": {
           "color": "black",
           "size": 11
          },
          "showarrow": false,
          "text": "1979",
          "x": 8.334056854248047,
          "xref": "x",
          "y": 9.510401725769043,
          "yref": "y"
         },
         {
          "font": {
           "color": "black",
           "size": 11
          },
          "showarrow": false,
          "text": "1984",
          "x": 9.246566772460938,
          "xref": "x",
          "y": 4.1611328125,
          "yref": "y"
         },
         {
          "font": {
           "color": "black",
           "size": 11
          },
          "showarrow": false,
          "text": "1989",
          "x": 11.815189361572266,
          "xref": "x",
          "y": -1.7365978956222534,
          "yref": "y"
         },
         {
          "font": {
           "color": "black",
           "size": 11
          },
          "showarrow": false,
          "text": "1994",
          "x": 15.31666088104248,
          "xref": "x",
          "y": -5.133901596069336,
          "yref": "y"
         },
         {
          "font": {
           "color": "black",
           "size": 11
          },
          "showarrow": false,
          "text": "1999",
          "x": 18.296825408935547,
          "xref": "x",
          "y": -9.327178001403809,
          "yref": "y"
         },
         {
          "font": {
           "color": "black",
           "size": 11
          },
          "showarrow": false,
          "text": "2004",
          "x": 21.422607421875,
          "xref": "x",
          "y": -13.569567680358887,
          "yref": "y"
         },
         {
          "font": {
           "color": "black",
           "size": 11
          },
          "showarrow": false,
          "text": "2009",
          "x": 21.721813201904297,
          "xref": "x",
          "y": -18.483125686645508,
          "yref": "y"
         },
         {
          "font": {
           "color": "black",
           "size": 11
          },
          "showarrow": false,
          "text": "2014",
          "x": 25.228612899780273,
          "xref": "x",
          "y": -22.13575553894043,
          "yref": "y"
         },
         {
          "font": {
           "color": "black",
           "size": 11
          },
          "showarrow": false,
          "text": "2019",
          "x": 20.81484031677246,
          "xref": "x",
          "y": -23.997385025024414,
          "yref": "y"
         },
         {
          "font": {
           "color": "green",
           "size": 10.680476009845734
          },
          "showarrow": false,
          "text": "fremstillingen",
          "x": 29.9855899810791,
          "xref": "x",
          "y": -8.916093826293945,
          "yref": "y"
         },
         {
          "font": {
           "color": "green",
           "size": 9.535870015621185
          },
          "showarrow": false,
          "text": "maaneder",
          "x": -10.897747993469238,
          "xref": "x",
          "y": -17.477907180786133,
          "yref": "y"
         },
         {
          "font": {
           "color": "green",
           "size": 7.797921299934387
          },
          "showarrow": false,
          "text": "ophøret",
          "x": -32.204219818115234,
          "xref": "x",
          "y": -5.1704020500183105,
          "yref": "y"
         },
         {
          "font": {
           "color": "green",
           "size": 7.770469039678574
          },
          "showarrow": false,
          "text": "fangekost",
          "x": 23.193767547607422,
          "xref": "x",
          "y": 4.560466766357422,
          "yref": "y"
         },
         {
          "font": {
           "color": "green",
           "size": 9.718820571899414
          },
          "showarrow": false,
          "text": "fængsel",
          "x": -10.798880577087402,
          "xref": "x",
          "y": -22.755558013916016,
          "yref": "y"
         },
         {
          "font": {
           "color": "green",
           "size": 9.209060192108154
          },
          "showarrow": false,
          "text": "sædvanlig",
          "x": -22.710336685180664,
          "xref": "x",
          "y": -16.983482360839844,
          "yref": "y"
         },
         {
          "font": {
           "color": "green",
           "size": 8.837731957435608
          },
          "showarrow": false,
          "text": "simpelt",
          "x": -5.730978012084961,
          "xref": "x",
          "y": -16.914674758911133,
          "yref": "y"
         },
         {
          "font": {
           "color": "green",
           "size": 12.420521199703217
          },
          "showarrow": false,
          "text": "fem",
          "x": -21.22993278503418,
          "xref": "x",
          "y": 7.938276767730713,
          "yref": "y"
         },
         {
          "font": {
           "color": "green",
           "size": 12.337296545505524
          },
          "showarrow": false,
          "text": "tyve",
          "x": -14.7908296585083,
          "xref": "x",
          "y": 0.6173329949378967,
          "yref": "y"
         },
         {
          "font": {
           "color": "green",
           "size": 11.535808086395264
          },
          "showarrow": false,
          "text": "brød",
          "x": 3.9725112915039062,
          "xref": "x",
          "y": -30.416057586669922,
          "yref": "y"
         },
         {
          "font": {
           "color": "green",
           "size": 12.222808182239532
          },
          "showarrow": false,
          "text": "otte",
          "x": -23.17704963684082,
          "xref": "x",
          "y": 3.4165709018707275,
          "yref": "y"
         },
         {
          "font": {
           "color": "green",
           "size": 12.357062578201294
          },
          "showarrow": false,
          "text": "hundrede",
          "x": -11.232178688049316,
          "xref": "x",
          "y": 4.529904842376709,
          "yref": "y"
         },
         {
          "font": {
           "color": "green",
           "size": 14.606892466545105
          },
          "showarrow": false,
          "text": "seks",
          "x": -26.76309585571289,
          "xref": "x",
          "y": 0.3055005669593811,
          "yref": "y"
         },
         {
          "font": {
           "color": "green",
           "size": 12.986840784549713
          },
          "showarrow": false,
          "text": "tolv",
          "x": -22.43324851989746,
          "xref": "x",
          "y": -4.433492660522461,
          "yref": "y"
         },
         {
          "font": {
           "color": "green",
           "size": 14.130154848098755
          },
          "showarrow": false,
          "text": "tusinde",
          "x": -9.327383041381836,
          "xref": "x",
          "y": 0.8224737644195557,
          "yref": "y"
         },
         {
          "font": {
           "color": "green",
           "size": 11.762942671775818
          },
          "showarrow": false,
          "text": "skriver",
          "x": 12.003310203552246,
          "xref": "x",
          "y": 40.29634094238281,
          "yref": "y"
         },
         {
          "font": {
           "color": "green",
           "size": 11.672157943248749
          },
          "showarrow": false,
          "text": "syv",
          "x": -26.2586612701416,
          "xref": "x",
          "y": 9.034872055053711,
          "yref": "y"
         },
         {
          "font": {
           "color": "green",
           "size": 11.668813109397888
          },
          "showarrow": false,
          "text": "ni",
          "x": -29.170621871948242,
          "xref": "x",
          "y": 5.302696704864502,
          "yref": "y"
         },
         {
          "font": {
           "color": "green",
           "size": 13.404677510261536
          },
          "showarrow": false,
          "text": "kroner",
          "x": -10.10771369934082,
          "xref": "x",
          "y": -4.31585168838501,
          "yref": "y"
         },
         {
          "font": {
           "color": "green",
           "size": 7.302435487508774
          },
          "showarrow": false,
          "text": "av",
          "x": 32.606834411621094,
          "xref": "x",
          "y": 22.553558349609375,
          "yref": "y"
         },
         {
          "font": {
           "color": "green",
           "size": 7.139930367469788
          },
          "showarrow": false,
          "text": "forrentes",
          "x": -19.749109268188477,
          "xref": "x",
          "y": -13.874268531799316,
          "yref": "y"
         },
         {
          "font": {
           "color": "green",
           "size": 7.134240806102753
          },
          "showarrow": false,
          "text": "ett",
          "x": 29.817296981811523,
          "xref": "x",
          "y": 26.43216896057129,
          "yref": "y"
         },
         {
          "font": {
           "color": "green",
           "size": 6.878829658031464
          },
          "showarrow": false,
          "text": "för",
          "x": 33.907318115234375,
          "xref": "x",
          "y": 27.613985061645508,
          "yref": "y"
         },
         {
          "font": {
           "color": "green",
           "size": 9.171991407871246
          },
          "showarrow": false,
          "text": "q",
          "x": 25.36829948425293,
          "xref": "x",
          "y": 13.263869285583496,
          "yref": "y"
         },
         {
          "font": {
           "color": "green",
           "size": 8.911796569824219
          },
          "showarrow": false,
          "text": "pet",
          "x": 32.06962966918945,
          "xref": "x",
          "y": 1.4138076305389404,
          "yref": "y"
         },
         {
          "font": {
           "color": "green",
           "size": 9.879306733608246
          },
          "showarrow": false,
          "text": "udgivet",
          "x": 37.128013610839844,
          "xref": "x",
          "y": 4.955280780792236,
          "yref": "y"
         },
         {
          "font": {
           "color": "green",
           "size": 9.377951502799988
          },
          "showarrow": false,
          "text": "press",
          "x": 43.29962158203125,
          "xref": "x",
          "y": 1.9944498538970947,
          "yref": "y"
         },
         {
          "font": {
           "color": "green",
           "size": 8.705764532089233
          },
          "showarrow": false,
          "text": "forlaget",
          "x": 37.86118698120117,
          "xref": "x",
          "y": 1.2224994897842407,
          "yref": "y"
         },
         {
          "font": {
           "color": "green",
           "size": 7.391638994216919
          },
          "showarrow": false,
          "text": "trio",
          "x": -0.39523816108703613,
          "xref": "x",
          "y": -36.8848762512207,
          "yref": "y"
         },
         {
          "font": {
           "color": "green",
           "size": 7.24240580201149
          },
          "showarrow": false,
          "text": "indeholdende",
          "x": 0.046320050954818726,
          "xref": "x",
          "y": -0.12741725146770477,
          "yref": "y"
         },
         {
          "font": {
           "color": "green",
           "size": 10.403036177158356
          },
          "showarrow": false,
          "text": "uni",
          "x": 39.868534088134766,
          "xref": "x",
          "y": -10.157374382019043,
          "yref": "y"
         },
         {
          "font": {
           "color": "green",
           "size": 8.812154769897461
          },
          "showarrow": false,
          "text": "ur",
          "x": 1.4206961393356323,
          "xref": "x",
          "y": -4.414626121520996,
          "yref": "y"
         },
         {
          "font": {
           "color": "green",
           "size": 6.907479107379913
          },
          "showarrow": false,
          "text": "plus",
          "x": -14.10247802734375,
          "xref": "x",
          "y": -8.561366081237793,
          "yref": "y"
         },
         {
          "font": {
           "color": "green",
           "size": 8.70519608259201
          },
          "showarrow": false,
          "text": "forskellige",
          "x": 14.997851371765137,
          "xref": "x",
          "y": 5.176115036010742,
          "yref": "y"
         },
         {
          "font": {
           "color": "green",
           "size": 7.760780066251755
          },
          "showarrow": false,
          "text": "pige",
          "x": 9.079992294311523,
          "xref": "x",
          "y": -18.972124099731445,
          "yref": "y"
         },
         {
          "font": {
           "color": "green",
           "size": 9.842595636844635
          },
          "showarrow": false,
          "text": "terror",
          "x": 24.578235626220703,
          "xref": "x",
          "y": -2.8245081901550293,
          "yref": "y"
         },
         {
          "font": {
           "color": "green",
           "size": 7.447415441274643
          },
          "showarrow": false,
          "text": "seksuelt",
          "x": 14.305447578430176,
          "xref": "x",
          "y": -15.759224891662598,
          "yref": "y"
         },
         {
          "font": {
           "color": "green",
           "size": 6.801954209804535
          },
          "showarrow": false,
          "text": "ung",
          "x": 4.221395969390869,
          "xref": "x",
          "y": -19.018962860107422,
          "yref": "y"
         },
         {
          "font": {
           "color": "green",
           "size": 7.73174050450325
          },
          "showarrow": false,
          "text": "ulykkelig",
          "x": 8.188076972961426,
          "xref": "x",
          "y": -11.040987014770508,
          "yref": "y"
         },
         {
          "font": {
           "color": "green",
           "size": 7.700346082448959
          },
          "showarrow": false,
          "text": "pigen",
          "x": 14.146316528320312,
          "xref": "x",
          "y": -20.876028060913086,
          "yref": "y"
         },
         {
          "font": {
           "color": "green",
           "size": 8.254717081785202
          },
          "showarrow": false,
          "text": "sagde",
          "x": 20.979320526123047,
          "xref": "x",
          "y": -34.14284896850586,
          "yref": "y"
         },
         {
          "font": {
           "color": "green",
           "size": 8.138349086046219
          },
          "showarrow": false,
          "text": "snakke",
          "x": 12.039552688598633,
          "xref": "x",
          "y": -31.27520179748535,
          "yref": "y"
         },
         {
          "font": {
           "color": "green",
           "size": 8.008777558803558
          },
          "showarrow": false,
          "text": "sagt",
          "x": 16.781496047973633,
          "xref": "x",
          "y": -35.48521041870117,
          "yref": "y"
         },
         {
          "font": {
           "color": "green",
           "size": 7.869845867156982
          },
          "showarrow": false,
          "text": "sjov",
          "x": 17.117084503173828,
          "xref": "x",
          "y": -29.465410232543945,
          "yref": "y"
         },
         {
          "font": {
           "color": "green",
           "size": 9.308290600776672
          },
          "showarrow": false,
          "text": "snakket",
          "x": 10.404851913452148,
          "xref": "x",
          "y": -36.65275955200195,
          "yref": "y"
         },
         {
          "font": {
           "color": "green",
           "size": 9.075777530670166
          },
          "showarrow": false,
          "text": "pigerne",
          "x": 10.32688045501709,
          "xref": "x",
          "y": -24.798297882080078,
          "yref": "y"
         },
         {
          "font": {
           "color": "black",
           "size": 11
          },
          "showarrow": false,
          "text": "1869",
          "x": 58.698402404785156,
          "xref": "x2",
          "y": -16.901708602905273,
          "yref": "y2"
         },
         {
          "font": {
           "color": "black",
           "size": 11
          },
          "showarrow": false,
          "text": "1874",
          "x": 68.38884735107422,
          "xref": "x2",
          "y": -23.611858367919922,
          "yref": "y2"
         },
         {
          "font": {
           "color": "black",
           "size": 11
          },
          "showarrow": false,
          "text": "1879",
          "x": 65.93258666992188,
          "xref": "x2",
          "y": -35.20275115966797,
          "yref": "y2"
         },
         {
          "font": {
           "color": "black",
           "size": 11
          },
          "showarrow": false,
          "text": "1884",
          "x": 53.82514953613281,
          "xref": "x2",
          "y": -29.150638580322266,
          "yref": "y2"
         },
         {
          "font": {
           "color": "black",
           "size": 11
          },
          "showarrow": false,
          "text": "1889",
          "x": 53.2595100402832,
          "xref": "x2",
          "y": -40.172080993652344,
          "yref": "y2"
         },
         {
          "font": {
           "color": "black",
           "size": 11
          },
          "showarrow": false,
          "text": "1894",
          "x": 60.32084274291992,
          "xref": "x2",
          "y": -50.70137405395508,
          "yref": "y2"
         },
         {
          "font": {
           "color": "black",
           "size": 11
          },
          "showarrow": false,
          "text": "1899",
          "x": 46.992286682128906,
          "xref": "x2",
          "y": -50.858154296875,
          "yref": "y2"
         },
         {
          "font": {
           "color": "black",
           "size": 11
          },
          "showarrow": false,
          "text": "1904",
          "x": 47.98634719848633,
          "xref": "x2",
          "y": -63.03233337402344,
          "yref": "y2"
         },
         {
          "font": {
           "color": "black",
           "size": 11
          },
          "showarrow": false,
          "text": "1909",
          "x": 35.27710723876953,
          "xref": "x2",
          "y": -61.9093017578125,
          "yref": "y2"
         },
         {
          "font": {
           "color": "black",
           "size": 11
          },
          "showarrow": false,
          "text": "1914",
          "x": 32.15831756591797,
          "xref": "x2",
          "y": -49.69521713256836,
          "yref": "y2"
         },
         {
          "font": {
           "color": "black",
           "size": 11
          },
          "showarrow": false,
          "text": "1919",
          "x": 21.845966339111328,
          "xref": "x2",
          "y": -57.25185775756836,
          "yref": "y2"
         },
         {
          "font": {
           "color": "black",
           "size": 11
          },
          "showarrow": false,
          "text": "1924",
          "x": 16.117176055908203,
          "xref": "x2",
          "y": -46.75828170776367,
          "yref": "y2"
         },
         {
          "font": {
           "color": "black",
           "size": 11
          },
          "showarrow": false,
          "text": "1929",
          "x": 23.179046630859375,
          "xref": "x2",
          "y": -37.48728561401367,
          "yref": "y2"
         },
         {
          "font": {
           "color": "black",
           "size": 11
          },
          "showarrow": false,
          "text": "1934",
          "x": 34.1761474609375,
          "xref": "x2",
          "y": -32.35001754760742,
          "yref": "y2"
         },
         {
          "font": {
           "color": "black",
           "size": 11
          },
          "showarrow": false,
          "text": "1939",
          "x": 25.747840881347656,
          "xref": "x2",
          "y": -23.709754943847656,
          "yref": "y2"
         },
         {
          "font": {
           "color": "black",
           "size": 11
          },
          "showarrow": false,
          "text": "1944",
          "x": 36.38129425048828,
          "xref": "x2",
          "y": -17.448673248291016,
          "yref": "y2"
         },
         {
          "font": {
           "color": "black",
           "size": 11
          },
          "showarrow": false,
          "text": "1949",
          "x": 36.868804931640625,
          "xref": "x2",
          "y": -5.25541877746582,
          "yref": "y2"
         },
         {
          "font": {
           "color": "black",
           "size": 11
          },
          "showarrow": false,
          "text": "1954",
          "x": 25.166019439697266,
          "xref": "x2",
          "y": -9.181995391845703,
          "yref": "y2"
         },
         {
          "font": {
           "color": "black",
           "size": 11
          },
          "showarrow": false,
          "text": "1959",
          "x": 25.561199188232422,
          "xref": "x2",
          "y": 3.359579086303711,
          "yref": "y2"
         },
         {
          "font": {
           "color": "black",
           "size": 11
          },
          "showarrow": false,
          "text": "1964",
          "x": 14.256007194519043,
          "xref": "x2",
          "y": 0.8310844898223877,
          "yref": "y2"
         },
         {
          "font": {
           "color": "black",
           "size": 11
          },
          "showarrow": false,
          "text": "1969",
          "x": 3.822268009185791,
          "xref": "x2",
          "y": -3.1377222537994385,
          "yref": "y2"
         },
         {
          "font": {
           "color": "black",
           "size": 11
          },
          "showarrow": false,
          "text": "1974",
          "x": 9.944459915161133,
          "xref": "x2",
          "y": -14.111327171325684,
          "yref": "y2"
         },
         {
          "font": {
           "color": "black",
           "size": 11
          },
          "showarrow": false,
          "text": "1979",
          "x": -1.2262934446334839,
          "xref": "x2",
          "y": -15.244760513305664,
          "yref": "y2"
         },
         {
          "font": {
           "color": "black",
           "size": 11
          },
          "showarrow": false,
          "text": "1984",
          "x": 4.131607532501221,
          "xref": "x2",
          "y": -26.862051010131836,
          "yref": "y2"
         },
         {
          "font": {
           "color": "black",
           "size": 11
          },
          "showarrow": false,
          "text": "1989",
          "x": -4.760222911834717,
          "xref": "x2",
          "y": -35.045372009277344,
          "yref": "y2"
         },
         {
          "font": {
           "color": "black",
           "size": 11
          },
          "showarrow": false,
          "text": "1994",
          "x": -10.256479263305664,
          "xref": "x2",
          "y": -24.81814956665039,
          "yref": "y2"
         },
         {
          "font": {
           "color": "black",
           "size": 11
          },
          "showarrow": false,
          "text": "1999",
          "x": -21.527862548828125,
          "xref": "x2",
          "y": -26.98040771484375,
          "yref": "y2"
         },
         {
          "font": {
           "color": "black",
           "size": 11
          },
          "showarrow": false,
          "text": "2004",
          "x": -18.28639793395996,
          "xref": "x2",
          "y": -13.842445373535156,
          "yref": "y2"
         },
         {
          "font": {
           "color": "black",
           "size": 11
          },
          "showarrow": false,
          "text": "2009",
          "x": -29.69692039489746,
          "xref": "x2",
          "y": -16.133243560791016,
          "yref": "y2"
         },
         {
          "font": {
           "color": "black",
           "size": 11
          },
          "showarrow": false,
          "text": "2014",
          "x": -30.026615142822266,
          "xref": "x2",
          "y": -4.896420955657959,
          "yref": "y2"
         },
         {
          "font": {
           "color": "black",
           "size": 11
          },
          "showarrow": false,
          "text": "2019",
          "x": -20.80547523498535,
          "xref": "x2",
          "y": -0.10134859383106232,
          "yref": "y2"
         },
         {
          "font": {
           "color": "green",
           "size": 8.724761486053467
          },
          "showarrow": false,
          "text": "brænder",
          "x": 48.8834342956543,
          "xref": "x2",
          "y": 21.008359909057617,
          "yref": "y2"
         },
         {
          "font": {
           "color": "green",
           "size": 8.214354127645493
          },
          "showarrow": false,
          "text": "troværdig",
          "x": 17.14078140258789,
          "xref": "x2",
          "y": 61.59466552734375,
          "yref": "y2"
         },
         {
          "font": {
           "color": "green",
           "size": 7.995361238718033
          },
          "showarrow": false,
          "text": "lorenzen",
          "x": -44.123374938964844,
          "xref": "x2",
          "y": 74.32048034667969,
          "yref": "y2"
         },
         {
          "font": {
           "color": "green",
           "size": 8.24600288271904
          },
          "showarrow": false,
          "text": "redelig",
          "x": -80.63362884521484,
          "xref": "x2",
          "y": 27.13469696044922,
          "yref": "y2"
         },
         {
          "font": {
           "color": "green",
           "size": 8.124177366495132
          },
          "showarrow": false,
          "text": "kvinde",
          "x": -25.528928756713867,
          "xref": "x2",
          "y": 11.868708610534668,
          "yref": "y2"
         },
         {
          "font": {
           "color": "green",
           "size": 8.027874827384949
          },
          "showarrow": false,
          "text": "dygtig",
          "x": 11.485228538513184,
          "xref": "x2",
          "y": 24.124019622802734,
          "yref": "y2"
         },
         {
          "font": {
           "color": "green",
           "size": 8.2980717420578
          },
          "showarrow": false,
          "text": "bosiddende",
          "x": -38.98017501831055,
          "xref": "x2",
          "y": 52.90632629394531,
          "yref": "y2"
         },
         {
          "font": {
           "color": "green",
           "size": 8.072678983211517
          },
          "showarrow": false,
          "text": "hænger",
          "x": -68.7797622680664,
          "xref": "x2",
          "y": 6.980804920196533,
          "yref": "y2"
         },
         {
          "font": {
           "color": "green",
           "size": 9.052520751953125
          },
          "showarrow": false,
          "text": "underbilag",
          "x": 3.0996580123901367,
          "xref": "x2",
          "y": 69.75934600830078,
          "yref": "y2"
         },
         {
          "font": {
           "color": "green",
           "size": 8.305426120758057
          },
          "showarrow": false,
          "text": "separationen",
          "x": -63.19342041015625,
          "xref": "x2",
          "y": 62.418983459472656,
          "yref": "y2"
         },
         {
          "font": {
           "color": "green",
           "size": 8.295825809240341
          },
          "showarrow": false,
          "text": "sagesløs",
          "x": -64.9635009765625,
          "xref": "x2",
          "y": -15.258722305297852,
          "yref": "y2"
         },
         {
          "font": {
           "color": "green",
           "size": 7.044115215539932
          },
          "showarrow": false,
          "text": "ung",
          "x": -7.585568904876709,
          "xref": "x2",
          "y": 22.4537353515625,
          "yref": "y2"
         },
         {
          "font": {
           "color": "green",
           "size": 7.963813304901123
          },
          "showarrow": false,
          "text": "bon",
          "x": -13.444422721862793,
          "xref": "x2",
          "y": 77.17022705078125,
          "yref": "y2"
         },
         {
          "font": {
           "color": "green",
           "size": 8.387735784053802
          },
          "showarrow": false,
          "text": "voksen",
          "x": -19.169769287109375,
          "xref": "x2",
          "y": 24.908159255981445,
          "yref": "y2"
         },
         {
          "font": {
           "color": "green",
           "size": 7.486640989780426
          },
          "showarrow": false,
          "text": "beskikke",
          "x": -15.846484184265137,
          "xref": "x2",
          "y": 53.84346389770508,
          "yref": "y2"
         },
         {
          "font": {
           "color": "green",
           "size": 7.02931272983551
          },
          "showarrow": false,
          "text": "navngiven",
          "x": -7.024343013763428,
          "xref": "x2",
          "y": 39.22219467163086,
          "yref": "y2"
         },
         {
          "font": {
           "color": "green",
           "size": 7.935768276453018
          },
          "showarrow": false,
          "text": "nemt",
          "x": 39.861366271972656,
          "xref": "x2",
          "y": 25.02088165283203,
          "yref": "y2"
         },
         {
          "font": {
           "color": "green",
           "size": 9.911662757396698
          },
          "showarrow": false,
          "text": "lånt",
          "x": -27.048126220703125,
          "xref": "x2",
          "y": 39.93381881713867,
          "yref": "y2"
         },
         {
          "font": {
           "color": "green",
           "size": 7.916017442941666
          },
          "showarrow": false,
          "text": "adopteret",
          "x": -70.88603973388672,
          "xref": "x2",
          "y": 53.21461868286133,
          "yref": "y2"
         },
         {
          "font": {
           "color": "green",
           "size": 8.768314242362976
          },
          "showarrow": false,
          "text": "mus",
          "x": 61.3545036315918,
          "xref": "x2",
          "y": 5.216594696044922,
          "yref": "y2"
         },
         {
          "font": {
           "color": "green",
           "size": 8.671696066856384
          },
          "showarrow": false,
          "text": "dræbte",
          "x": -38.206504821777344,
          "xref": "x2",
          "y": -35.846397399902344,
          "yref": "y2"
         },
         {
          "font": {
           "color": "green",
           "size": 10.427243411540985
          },
          "showarrow": false,
          "text": "beskrev",
          "x": 8.00244140625,
          "xref": "x2",
          "y": 51.25533676147461,
          "yref": "y2"
         },
         {
          "font": {
           "color": "green",
           "size": 9.98349004983902
          },
          "showarrow": false,
          "text": "cl",
          "x": -24.350683212280273,
          "xref": "x2",
          "y": 71.5295639038086,
          "yref": "y2"
         },
         {
          "font": {
           "color": "green",
           "size": 9.868511259555817
          },
          "showarrow": false,
          "text": "samarbejdede",
          "x": 12.67966365814209,
          "xref": "x2",
          "y": 34.97743225097656,
          "yref": "y2"
         },
         {
          "font": {
           "color": "green",
           "size": 8.048286318778992
          },
          "showarrow": false,
          "text": "aarig",
          "x": -44.689064025878906,
          "xref": "x2",
          "y": -20.637653350830078,
          "yref": "y2"
         },
         {
          "font": {
           "color": "green",
           "size": 7.452753394842148
          },
          "showarrow": false,
          "text": "overnattede",
          "x": -49.43710708618164,
          "xref": "x2",
          "y": 20.99217414855957,
          "yref": "y2"
         },
         {
          "font": {
           "color": "green",
           "size": 7.4284742176532745
          },
          "showarrow": false,
          "text": "forlovet",
          "x": -52.73210906982422,
          "xref": "x2",
          "y": 52.353973388671875,
          "yref": "y2"
         },
         {
          "font": {
           "color": "green",
           "size": 8.266864269971848
          },
          "showarrow": false,
          "text": "samlever",
          "x": -41.84920883178711,
          "xref": "x2",
          "y": 37.397274017333984,
          "yref": "y2"
         },
         {
          "font": {
           "color": "green",
           "size": 7.951233446598053
          },
          "showarrow": false,
          "text": "arbejdsgruppe",
          "x": 35.608070373535156,
          "xref": "x2",
          "y": 48.385353088378906,
          "yref": "y2"
         },
         {
          "font": {
           "color": "green",
           "size": 9.096696674823761
          },
          "showarrow": false,
          "text": "ubekendt",
          "x": -10.913009643554688,
          "xref": "x2",
          "y": 89.70797729492188,
          "yref": "y2"
         },
         {
          "font": {
           "color": "green",
           "size": 8.723398625850677
          },
          "showarrow": false,
          "text": "levet",
          "x": -66.70413208007812,
          "xref": "x2",
          "y": 34.05073547363281,
          "yref": "y2"
         },
         {
          "font": {
           "color": "green",
           "size": 9.86734801530838
          },
          "showarrow": false,
          "text": "ugift",
          "x": -53.50608825683594,
          "xref": "x2",
          "y": 39.79243469238281,
          "yref": "y2"
         },
         {
          "font": {
           "color": "green",
           "size": 10.785572290420532
          },
          "showarrow": false,
          "text": "opmaaling",
          "x": -22.08814811706543,
          "xref": "x2",
          "y": -46.719783782958984,
          "yref": "y2"
         },
         {
          "font": {
           "color": "green",
           "size": 10.37261551618576
          },
          "showarrow": false,
          "text": "pige",
          "x": -9.737821578979492,
          "xref": "x2",
          "y": 11.10794448852539,
          "yref": "y2"
         },
         {
          "font": {
           "color": "green",
           "size": 9.589604198932648
          },
          "showarrow": false,
          "text": "datter",
          "x": -35.44645309448242,
          "xref": "x2",
          "y": 27.966100692749023,
          "yref": "y2"
         },
         {
          "font": {
           "color": "green",
           "size": 11.246582806110382
          },
          "showarrow": false,
          "text": "tømmeret",
          "x": -44.124996185302734,
          "xref": "x2",
          "y": -5.1543660163879395,
          "yref": "y2"
         },
         {
          "font": {
           "color": "green",
           "size": 11.086789727210999
          },
          "showarrow": false,
          "text": "kvinden",
          "x": -37.045936584472656,
          "xref": "x2",
          "y": 9.31754207611084,
          "yref": "y2"
         },
         {
          "font": {
           "color": "black",
           "size": 11
          },
          "showarrow": false,
          "text": "1869",
          "x": -98.95115661621094,
          "xref": "x3",
          "y": -7.850080490112305,
          "yref": "y3"
         },
         {
          "font": {
           "color": "black",
           "size": 11
          },
          "showarrow": false,
          "text": "1874",
          "x": -38.17753982543945,
          "xref": "x3",
          "y": -5.601043224334717,
          "yref": "y3"
         },
         {
          "font": {
           "color": "black",
           "size": 11
          },
          "showarrow": false,
          "text": "1879",
          "x": -97.50476837158203,
          "xref": "x3",
          "y": 14.135209083557129,
          "yref": "y3"
         },
         {
          "font": {
           "color": "black",
           "size": 11
          },
          "showarrow": false,
          "text": "1884",
          "x": -81.10823822021484,
          "xref": "x3",
          "y": 28.938005447387695,
          "yref": "y3"
         },
         {
          "font": {
           "color": "black",
           "size": 11
          },
          "showarrow": false,
          "text": "1889",
          "x": -50.764801025390625,
          "xref": "x3",
          "y": -44.49404525756836,
          "yref": "y3"
         },
         {
          "font": {
           "color": "black",
           "size": 11
          },
          "showarrow": false,
          "text": "1894",
          "x": -79.6518783569336,
          "xref": "x3",
          "y": 2.347282886505127,
          "yref": "y3"
         },
         {
          "font": {
           "color": "black",
           "size": 11
          },
          "showarrow": false,
          "text": "1899",
          "x": -91.87008666992188,
          "xref": "x3",
          "y": -28.828369140625,
          "yref": "y3"
         },
         {
          "font": {
           "color": "black",
           "size": 11
          },
          "showarrow": false,
          "text": "1904",
          "x": -58.84791946411133,
          "xref": "x3",
          "y": -3.0311198234558105,
          "yref": "y3"
         },
         {
          "font": {
           "color": "black",
           "size": 11
          },
          "showarrow": false,
          "text": "1909",
          "x": -36.85500717163086,
          "xref": "x3",
          "y": -26.409719467163086,
          "yref": "y3"
         },
         {
          "font": {
           "color": "black",
           "size": 11
          },
          "showarrow": false,
          "text": "1914",
          "x": -65.16813659667969,
          "xref": "x3",
          "y": 15.624983787536621,
          "yref": "y3"
         },
         {
          "font": {
           "color": "black",
           "size": 11
          },
          "showarrow": false,
          "text": "1919",
          "x": -71.96930694580078,
          "xref": "x3",
          "y": -38.158329010009766,
          "yref": "y3"
         },
         {
          "font": {
           "color": "black",
           "size": 11
          },
          "showarrow": false,
          "text": "1924",
          "x": -56.621337890625,
          "xref": "x3",
          "y": -22.298328399658203,
          "yref": "y3"
         },
         {
          "font": {
           "color": "black",
           "size": 11
          },
          "showarrow": false,
          "text": "1929",
          "x": -74.69922637939453,
          "xref": "x3",
          "y": -16.352113723754883,
          "yref": "y3"
         },
         {
          "font": {
           "color": "black",
           "size": 11
          },
          "showarrow": false,
          "text": "1934",
          "x": -45.067020416259766,
          "xref": "x3",
          "y": 15.403141975402832,
          "yref": "y3"
         },
         {
          "font": {
           "color": "black",
           "size": 11
          },
          "showarrow": false,
          "text": "1939",
          "x": -51.12029266357422,
          "xref": "x3",
          "y": 39.202056884765625,
          "yref": "y3"
         },
         {
          "font": {
           "color": "black",
           "size": 11
          },
          "showarrow": false,
          "text": "1944",
          "x": -30.573749542236328,
          "xref": "x3",
          "y": 40.53122329711914,
          "yref": "y3"
         },
         {
          "font": {
           "color": "black",
           "size": 11
          },
          "showarrow": false,
          "text": "1949",
          "x": -28.7617244720459,
          "xref": "x3",
          "y": 57.93413162231445,
          "yref": "y3"
         },
         {
          "font": {
           "color": "black",
           "size": 11
          },
          "showarrow": false,
          "text": "1954",
          "x": -9.788945198059082,
          "xref": "x3",
          "y": 48.235294342041016,
          "yref": "y3"
         },
         {
          "font": {
           "color": "black",
           "size": 11
          },
          "showarrow": false,
          "text": "1959",
          "x": -0.897224485874176,
          "xref": "x3",
          "y": 64.84021759033203,
          "yref": "y3"
         },
         {
          "font": {
           "color": "black",
           "size": 11
          },
          "showarrow": false,
          "text": "1964",
          "x": 16.082571029663086,
          "xref": "x3",
          "y": 51.97373962402344,
          "yref": "y3"
         },
         {
          "font": {
           "color": "black",
           "size": 11
          },
          "showarrow": false,
          "text": "1969",
          "x": 24.51808738708496,
          "xref": "x3",
          "y": 34.707218170166016,
          "yref": "y3"
         },
         {
          "font": {
           "color": "black",
           "size": 11
          },
          "showarrow": false,
          "text": "1974",
          "x": 11.382268905639648,
          "xref": "x3",
          "y": 22.14500617980957,
          "yref": "y3"
         },
         {
          "font": {
           "color": "black",
           "size": 11
          },
          "showarrow": false,
          "text": "1979",
          "x": 16.20075225830078,
          "xref": "x3",
          "y": 5.27711820602417,
          "yref": "y3"
         },
         {
          "font": {
           "color": "black",
           "size": 11
          },
          "showarrow": false,
          "text": "1984",
          "x": 1.7738735675811768,
          "xref": "x3",
          "y": -5.947892189025879,
          "yref": "y3"
         },
         {
          "font": {
           "color": "black",
           "size": 11
          },
          "showarrow": false,
          "text": "1989",
          "x": 1.6385365724563599,
          "xref": "x3",
          "y": -26.365144729614258,
          "yref": "y3"
         },
         {
          "font": {
           "color": "black",
           "size": 11
          },
          "showarrow": false,
          "text": "1994",
          "x": 19.977806091308594,
          "xref": "x3",
          "y": -22.192949295043945,
          "yref": "y3"
         },
         {
          "font": {
           "color": "black",
           "size": 11
          },
          "showarrow": false,
          "text": "1999",
          "x": 31.01479721069336,
          "xref": "x3",
          "y": -36.158084869384766,
          "yref": "y3"
         },
         {
          "font": {
           "color": "black",
           "size": 11
          },
          "showarrow": false,
          "text": "2004",
          "x": 47.8370361328125,
          "xref": "x3",
          "y": -30.933897018432617,
          "yref": "y3"
         },
         {
          "font": {
           "color": "black",
           "size": 11
          },
          "showarrow": false,
          "text": "2009",
          "x": 54.95957565307617,
          "xref": "x3",
          "y": -13.941122055053711,
          "yref": "y3"
         },
         {
          "font": {
           "color": "black",
           "size": 11
          },
          "showarrow": false,
          "text": "2014",
          "x": 37.827796936035156,
          "xref": "x3",
          "y": -11.871639251708984,
          "yref": "y3"
         },
         {
          "font": {
           "color": "black",
           "size": 11
          },
          "showarrow": false,
          "text": "2019",
          "x": 42.995750427246094,
          "xref": "x3",
          "y": 4.2655534744262695,
          "yref": "y3"
         },
         {
          "font": {
           "color": "green",
           "size": 8.137825727462769
          },
          "showarrow": false,
          "text": "arbejdsløshedsdagpenge",
          "x": 95.08158874511719,
          "xref": "x3",
          "y": 40.23175811767578,
          "yref": "y3"
         },
         {
          "font": {
           "color": "green",
           "size": 7.0880332589149475
          },
          "showarrow": false,
          "text": "årsrapport",
          "x": -18.49127960205078,
          "xref": "x3",
          "y": 19.78858757019043,
          "yref": "y3"
         },
         {
          "font": {
           "color": "green",
           "size": 9.033387005329132
          },
          "showarrow": false,
          "text": "forgæves",
          "x": 54.104225158691406,
          "xref": "x3",
          "y": 55.83584213256836,
          "yref": "y3"
         },
         {
          "font": {
           "color": "green",
           "size": 8.304598778486252
          },
          "showarrow": false,
          "text": "forsøgt",
          "x": 62.51134490966797,
          "xref": "x3",
          "y": 69.38238525390625,
          "yref": "y3"
         },
         {
          "font": {
           "color": "green",
           "size": 8.280747711658478
          },
          "showarrow": false,
          "text": "søgt",
          "x": 75.76417541503906,
          "xref": "x3",
          "y": 52.006591796875,
          "yref": "y3"
         },
         {
          "font": {
           "color": "green",
           "size": 7.504146903753281
          },
          "showarrow": false,
          "text": "faren",
          "x": 56.22222900390625,
          "xref": "x3",
          "y": 24.261255264282227,
          "yref": "y3"
         },
         {
          "font": {
           "color": "green",
           "size": 9.507737338542938
          },
          "showarrow": false,
          "text": "ligeartede",
          "x": 30.43695640563965,
          "xref": "x3",
          "y": 82.443115234375,
          "yref": "y3"
         },
         {
          "font": {
           "color": "green",
           "size": 9.23799741268158
          },
          "showarrow": false,
          "text": "ligeartet",
          "x": 97.27263641357422,
          "xref": "x3",
          "y": -17.99067497253418,
          "yref": "y3"
         },
         {
          "font": {
           "color": "green",
           "size": 9.062255322933197
          },
          "showarrow": false,
          "text": "forebyggelse",
          "x": 85.43946075439453,
          "xref": "x3",
          "y": 7.163629531860352,
          "yref": "y3"
         },
         {
          "font": {
           "color": "green",
           "size": 9.50540679693222
          },
          "showarrow": false,
          "text": "recidiv",
          "x": 93.2181396484375,
          "xref": "x3",
          "y": -38.897315979003906,
          "yref": "y3"
         },
         {
          "font": {
           "color": "green",
           "size": 8.300071448087692
          },
          "showarrow": false,
          "text": "risikoen",
          "x": 62.94146728515625,
          "xref": "x3",
          "y": -51.99643325805664,
          "yref": "y3"
         },
         {
          "font": {
           "color": "green",
           "size": 7.834381610155106
          },
          "showarrow": false,
          "text": "imødegåelse",
          "x": 71.87641143798828,
          "xref": "x3",
          "y": -30.76791763305664,
          "yref": "y3"
         },
         {
          "font": {
           "color": "green",
           "size": 7.431043386459351
          },
          "showarrow": false,
          "text": "misforståelser",
          "x": 13.163702964782715,
          "xref": "x3",
          "y": -58.1790885925293,
          "yref": "y3"
         },
         {
          "font": {
           "color": "green",
           "size": 8.83603572845459
          },
          "showarrow": false,
          "text": "formålstjenlige",
          "x": 78.05565643310547,
          "xref": "x3",
          "y": -14.331926345825195,
          "yref": "y3"
         },
         {
          "font": {
           "color": "green",
           "size": 10.689265191555023
          },
          "showarrow": false,
          "text": "forebygge",
          "x": 65.56169891357422,
          "xref": "x3",
          "y": 3.777916193008423,
          "yref": "y3"
         },
         {
          "font": {
           "color": "green",
           "size": 9.178507804870605
          },
          "showarrow": false,
          "text": "undgå",
          "x": 38.26243209838867,
          "xref": "x3",
          "y": -60.5245361328125,
          "yref": "y3"
         },
         {
          "font": {
           "color": "black",
           "size": 11
          },
          "showarrow": false,
          "text": "1869",
          "x": -32.24625015258789,
          "xref": "x4",
          "y": -27.626190185546875,
          "yref": "y4"
         },
         {
          "font": {
           "color": "black",
           "size": 11
          },
          "showarrow": false,
          "text": "1874",
          "x": -28.85440444946289,
          "xref": "x4",
          "y": -25.671321868896484,
          "yref": "y4"
         },
         {
          "font": {
           "color": "black",
           "size": 11
          },
          "showarrow": false,
          "text": "1879",
          "x": -26.133508682250977,
          "xref": "x4",
          "y": -29.250720977783203,
          "yref": "y4"
         },
         {
          "font": {
           "color": "black",
           "size": 11
          },
          "showarrow": false,
          "text": "1884",
          "x": -22.149267196655273,
          "xref": "x4",
          "y": -27.388996124267578,
          "yref": "y4"
         },
         {
          "font": {
           "color": "black",
           "size": 11
          },
          "showarrow": false,
          "text": "1889",
          "x": -19.5054874420166,
          "xref": "x4",
          "y": -24.04172706604004,
          "yref": "y4"
         },
         {
          "font": {
           "color": "black",
           "size": 11
          },
          "showarrow": false,
          "text": "1894",
          "x": -22.362302780151367,
          "xref": "x4",
          "y": -20.50345230102539,
          "yref": "y4"
         },
         {
          "font": {
           "color": "black",
           "size": 11
          },
          "showarrow": false,
          "text": "1899",
          "x": -19.99311637878418,
          "xref": "x4",
          "y": -16.505985260009766,
          "yref": "y4"
         },
         {
          "font": {
           "color": "black",
           "size": 11
          },
          "showarrow": false,
          "text": "1904",
          "x": -22.884958267211914,
          "xref": "x4",
          "y": -13.370915412902832,
          "yref": "y4"
         },
         {
          "font": {
           "color": "black",
           "size": 11
          },
          "showarrow": false,
          "text": "1909",
          "x": -27.003074645996094,
          "xref": "x4",
          "y": -14.003056526184082,
          "yref": "y4"
         },
         {
          "font": {
           "color": "black",
           "size": 11
          },
          "showarrow": false,
          "text": "1914",
          "x": -32.429256439208984,
          "xref": "x4",
          "y": -13.85556697845459,
          "yref": "y4"
         },
         {
          "font": {
           "color": "black",
           "size": 11
          },
          "showarrow": false,
          "text": "1919",
          "x": -36.08464813232422,
          "xref": "x4",
          "y": -11.609719276428223,
          "yref": "y4"
         },
         {
          "font": {
           "color": "black",
           "size": 11
          },
          "showarrow": false,
          "text": "1924",
          "x": -36.458534240722656,
          "xref": "x4",
          "y": -7.333353042602539,
          "yref": "y4"
         },
         {
          "font": {
           "color": "black",
           "size": 11
          },
          "showarrow": false,
          "text": "1929",
          "x": -32.50343322753906,
          "xref": "x4",
          "y": -5.3833441734313965,
          "yref": "y4"
         },
         {
          "font": {
           "color": "black",
           "size": 11
          },
          "showarrow": false,
          "text": "1934",
          "x": -28.263545989990234,
          "xref": "x4",
          "y": -3.354198932647705,
          "yref": "y4"
         },
         {
          "font": {
           "color": "black",
           "size": 11
          },
          "showarrow": false,
          "text": "1939",
          "x": -27.791854858398438,
          "xref": "x4",
          "y": 0.743591845035553,
          "yref": "y4"
         },
         {
          "font": {
           "color": "black",
           "size": 11
          },
          "showarrow": false,
          "text": "1944",
          "x": -30.575284957885742,
          "xref": "x4",
          "y": 4.544267654418945,
          "yref": "y4"
         },
         {
          "font": {
           "color": "black",
           "size": 11
          },
          "showarrow": false,
          "text": "1949",
          "x": -26.87200927734375,
          "xref": "x4",
          "y": 7.43547248840332,
          "yref": "y4"
         },
         {
          "font": {
           "color": "black",
           "size": 11
          },
          "showarrow": false,
          "text": "1954",
          "x": -22.257877349853516,
          "xref": "x4",
          "y": 7.209264278411865,
          "yref": "y4"
         },
         {
          "font": {
           "color": "black",
           "size": 11
          },
          "showarrow": false,
          "text": "1959",
          "x": -18.941940307617188,
          "xref": "x4",
          "y": 3.7633767127990723,
          "yref": "y4"
         },
         {
          "font": {
           "color": "black",
           "size": 11
          },
          "showarrow": false,
          "text": "1964",
          "x": -14.426324844360352,
          "xref": "x4",
          "y": 5.821767330169678,
          "yref": "y4"
         },
         {
          "font": {
           "color": "black",
           "size": 11
          },
          "showarrow": false,
          "text": "1969",
          "x": -10.877524375915527,
          "xref": "x4",
          "y": 3.3435075283050537,
          "yref": "y4"
         },
         {
          "font": {
           "color": "black",
           "size": 11
          },
          "showarrow": false,
          "text": "1974",
          "x": -14.127016067504883,
          "xref": "x4",
          "y": 0.06930198520421982,
          "yref": "y4"
         },
         {
          "font": {
           "color": "black",
           "size": 11
          },
          "showarrow": false,
          "text": "1979",
          "x": -13.800484657287598,
          "xref": "x4",
          "y": -4.4079155921936035,
          "yref": "y4"
         },
         {
          "font": {
           "color": "black",
           "size": 11
          },
          "showarrow": false,
          "text": "1984",
          "x": -9.235729217529297,
          "xref": "x4",
          "y": -2.371575355529785,
          "yref": "y4"
         },
         {
          "font": {
           "color": "black",
           "size": 11
          },
          "showarrow": false,
          "text": "1989",
          "x": -8.87373161315918,
          "xref": "x4",
          "y": -6.624955177307129,
          "yref": "y4"
         },
         {
          "font": {
           "color": "black",
           "size": 11
          },
          "showarrow": false,
          "text": "1994",
          "x": -7.634514808654785,
          "xref": "x4",
          "y": -11.000961303710938,
          "yref": "y4"
         },
         {
          "font": {
           "color": "black",
           "size": 11
          },
          "showarrow": false,
          "text": "1999",
          "x": -4.219825267791748,
          "xref": "x4",
          "y": -17.392745971679688,
          "yref": "y4"
         },
         {
          "font": {
           "color": "black",
           "size": 11
          },
          "showarrow": false,
          "text": "2004",
          "x": -0.31921571493148804,
          "xref": "x4",
          "y": -19.938140869140625,
          "yref": "y4"
         },
         {
          "font": {
           "color": "black",
           "size": 11
          },
          "showarrow": false,
          "text": "2009",
          "x": 3.7164041996002197,
          "xref": "x4",
          "y": -21.69358253479004,
          "yref": "y4"
         },
         {
          "font": {
           "color": "black",
           "size": 11
          },
          "showarrow": false,
          "text": "2014",
          "x": 8.10883617401123,
          "xref": "x4",
          "y": -20.66667366027832,
          "yref": "y4"
         },
         {
          "font": {
           "color": "black",
           "size": 11
          },
          "showarrow": false,
          "text": "2019",
          "x": 9.340751647949219,
          "xref": "x4",
          "y": -16.447811126708984,
          "yref": "y4"
         },
         {
          "font": {
           "color": "green",
           "size": 11.253540992736816
          },
          "showarrow": false,
          "text": "voldeligt",
          "x": 13.838850021362305,
          "xref": "x4",
          "y": -20.921483993530273,
          "yref": "y4"
         },
         {
          "font": {
           "color": "green",
           "size": 8.84435373544693
          },
          "showarrow": false,
          "text": "indbrudstyveri",
          "x": 3.7470195293426514,
          "xref": "x4",
          "y": 8.409555435180664,
          "yref": "y4"
         },
         {
          "font": {
           "color": "green",
           "size": 7.386831998825073
          },
          "showarrow": false,
          "text": "blandt",
          "x": -23.497568130493164,
          "xref": "x4",
          "y": 19.611438751220703,
          "yref": "y4"
         },
         {
          "font": {
           "color": "green",
           "size": 6.825477987527847
          },
          "showarrow": false,
          "text": "begyndte",
          "x": 22.640460968017578,
          "xref": "x4",
          "y": -16.915353775024414,
          "yref": "y4"
         },
         {
          "font": {
           "color": "green",
           "size": 6.934475392103195
          },
          "showarrow": false,
          "text": "axel",
          "x": -16.37473487854004,
          "xref": "x4",
          "y": 22.855918884277344,
          "yref": "y4"
         },
         {
          "font": {
           "color": "green",
           "size": 7.526213586330414
          },
          "showarrow": false,
          "text": "skaarup",
          "x": -20.01193618774414,
          "xref": "x4",
          "y": 21.271812438964844,
          "yref": "y4"
         },
         {
          "font": {
           "color": "green",
           "size": 7.375789791345596
          },
          "showarrow": false,
          "text": "røveri",
          "x": 6.623512268066406,
          "xref": "x4",
          "y": 5.024399757385254,
          "yref": "y4"
         },
         {
          "font": {
           "color": "green",
           "size": 8.99296224117279
          },
          "showarrow": false,
          "text": "voldtægt",
          "x": 10.16692066192627,
          "xref": "x4",
          "y": 0.7514950037002563,
          "yref": "y4"
         },
         {
          "font": {
           "color": "green",
           "size": 7.2584840059280396
          },
          "showarrow": false,
          "text": "drab",
          "x": 11.4696683883667,
          "xref": "x4",
          "y": 5.945281505584717,
          "yref": "y4"
         },
         {
          "font": {
           "color": "green",
           "size": 7.956332266330719
          },
          "showarrow": false,
          "text": "fængselsbetjent",
          "x": 8.580802917480469,
          "xref": "x4",
          "y": -26.62697410583496,
          "yref": "y4"
         },
         {
          "font": {
           "color": "green",
           "size": 8.258988052606583
          },
          "showarrow": false,
          "text": "afsonede",
          "x": 15.217153549194336,
          "xref": "x4",
          "y": 27.586490631103516,
          "yref": "y4"
         },
         {
          "font": {
           "color": "green",
           "size": 7.695718437433243
          },
          "showarrow": false,
          "text": "års",
          "x": 7.411377429962158,
          "xref": "x4",
          "y": 27.06500816345215,
          "yref": "y4"
         },
         {
          "font": {
           "color": "green",
           "size": 7.329011768102646
          },
          "showarrow": false,
          "text": "drabsforsøg",
          "x": 8.867776870727539,
          "xref": "x4",
          "y": 9.429993629455566,
          "yref": "y4"
         },
         {
          "font": {
           "color": "green",
           "size": 9.210835456848145
          },
          "showarrow": false,
          "text": "idømt",
          "x": 9.769326210021973,
          "xref": "x4",
          "y": 21.964092254638672,
          "yref": "y4"
         },
         {
          "font": {
           "color": "green",
           "size": 8.052146404981613
          },
          "showarrow": false,
          "text": "straffelovens",
          "x": 12.84406566619873,
          "xref": "x4",
          "y": 16.19101333618164,
          "yref": "y4"
         },
         {
          "font": {
           "color": "green",
           "size": 7.7915776669979095
          },
          "showarrow": false,
          "text": "fængsel",
          "x": 13.458802223205566,
          "xref": "x4",
          "y": 23.36956787109375,
          "yref": "y4"
         },
         {
          "font": {
           "color": "green",
           "size": 7.583100080490112
          },
          "showarrow": false,
          "text": "forøvet",
          "x": 6.123347759246826,
          "xref": "x4",
          "y": -2.4500510692596436,
          "yref": "y4"
         },
         {
          "font": {
           "color": "green",
           "size": 7.201326966285706
          },
          "showarrow": false,
          "text": "fanget",
          "x": -8.444671630859375,
          "xref": "x4",
          "y": -22.576791763305664,
          "yref": "y4"
         },
         {
          "font": {
           "color": "green",
           "size": 9.24526971578598
          },
          "showarrow": false,
          "text": "tiltale",
          "x": -2.7861194610595703,
          "xref": "x4",
          "y": 18.068845748901367,
          "yref": "y4"
         },
         {
          "font": {
           "color": "green",
           "size": 8.798109710216522
          },
          "showarrow": false,
          "text": "overtrædelse",
          "x": 17.54084587097168,
          "xref": "x4",
          "y": 17.197786331176758,
          "yref": "y4"
         },
         {
          "font": {
           "color": "green",
           "size": 8.492012321949005
          },
          "showarrow": false,
          "text": "skyldnersvig",
          "x": -3.6121280193328857,
          "xref": "x4",
          "y": 10.945782661437988,
          "yref": "y4"
         },
         {
          "font": {
           "color": "green",
           "size": 8.485348999500275
          },
          "showarrow": false,
          "text": "sigtet",
          "x": 2.486825466156006,
          "xref": "x4",
          "y": 17.62120246887207,
          "yref": "y4"
         },
         {
          "font": {
           "color": "green",
           "size": 11.370490610599518
          },
          "showarrow": false,
          "text": "legemsbeskadigelse",
          "x": 18.897823333740234,
          "xref": "x4",
          "y": 8.236183166503906,
          "yref": "y4"
         },
         {
          "font": {
           "color": "green",
           "size": 9.40117484331131
          },
          "showarrow": false,
          "text": "manddrab",
          "x": 14.596385955810547,
          "xref": "x4",
          "y": 10.206499099731445,
          "yref": "y4"
         },
         {
          "font": {
           "color": "green",
           "size": 9.326821446418762
          },
          "showarrow": false,
          "text": "lide",
          "x": -1.026401162147522,
          "xref": "x4",
          "y": -12.15127182006836,
          "yref": "y4"
         },
         {
          "font": {
           "color": "green",
           "size": 12.537937939167023
          },
          "showarrow": false,
          "text": "farlig",
          "x": 2.3996102809906006,
          "xref": "x4",
          "y": -7.650995254516602,
          "yref": "y4"
         },
         {
          "font": {
           "color": "green",
           "size": 12.051779866218567
          },
          "showarrow": false,
          "text": "bedrageri",
          "x": 0.7127575874328613,
          "xref": "x4",
          "y": 12.192913055419922,
          "yref": "y4"
         },
         {
          "font": {
           "color": "green",
           "size": 12.014124393463135
          },
          "showarrow": false,
          "text": "forsøg",
          "x": -2.0738871097564697,
          "xref": "x4",
          "y": 0.9930397868156433,
          "yref": "y4"
         },
         {
          "font": {
           "color": "green",
           "size": 11.703364908695221
          },
          "showarrow": false,
          "text": "røverier",
          "x": 6.4232635498046875,
          "xref": "x4",
          "y": 13.442747116088867,
          "yref": "y4"
         },
         {
          "font": {
           "color": "green",
           "size": 12.59133368730545
          },
          "showarrow": false,
          "text": "mishandling",
          "x": 14.135584831237793,
          "xref": "x4",
          "y": -4.260246753692627,
          "yref": "y4"
         },
         {
          "font": {
           "color": "green",
           "size": 11.700812458992004
          },
          "showarrow": false,
          "text": "brutal",
          "x": 18.24176788330078,
          "xref": "x4",
          "y": -2.244941234588623,
          "yref": "y4"
         },
         {
          "font": {
           "color": "green",
           "size": 10.123911261558533
          },
          "showarrow": false,
          "text": "tyverier",
          "x": -0.3141953647136688,
          "xref": "x4",
          "y": 6.1466522216796875,
          "yref": "y4"
         },
         {
          "font": {
           "color": "green",
           "size": 9.902330458164215
          },
          "showarrow": false,
          "text": "legemsangreb",
          "x": 15.242277145385742,
          "xref": "x4",
          "y": 2.255870819091797,
          "yref": "y4"
         },
         {
          "font": {
           "color": "green",
           "size": 9.773434281349182
          },
          "showarrow": false,
          "text": "hærværk",
          "x": 3.1319289207458496,
          "xref": "x4",
          "y": 1.7788810729980469,
          "yref": "y4"
         },
         {
          "font": {
           "color": "green",
           "size": 10.205498456954956
          },
          "showarrow": false,
          "text": "vold",
          "x": 8.888427734375,
          "xref": "x4",
          "y": -7.30100154876709,
          "yref": "y4"
         },
         {
          "font": {
           "color": "green",
           "size": 9.785764873027802
          },
          "showarrow": false,
          "text": "trusler",
          "x": 11.924162864685059,
          "xref": "x4",
          "y": -10.635762214660645,
          "yref": "y4"
         },
         {
          "font": {
           "color": "green",
           "size": 9.509689927101135
          },
          "showarrow": false,
          "text": "voldelige",
          "x": 15.2169828414917,
          "xref": "x4",
          "y": -16.249034881591797,
          "yref": "y4"
         },
         {
          "font": {
           "color": "green",
           "size": 9.064013361930847
          },
          "showarrow": false,
          "text": "overfaldet",
          "x": 4.7026591300964355,
          "xref": "x4",
          "y": -16.00836944580078,
          "yref": "y4"
         }
        ],
        "font": {
         "family": "Serif"
        },
        "margin": {
         "b": 5,
         "l": 5,
         "r": 5,
         "t": 22
        },
        "showlegend": false,
        "template": {
         "data": {
          "bar": [
           {
            "error_x": {
             "color": "#2a3f5f"
            },
            "error_y": {
             "color": "#2a3f5f"
            },
            "marker": {
             "line": {
              "color": "#E5ECF6",
              "width": 0.5
             },
             "pattern": {
              "fillmode": "overlay",
              "size": 10,
              "solidity": 0.2
             }
            },
            "type": "bar"
           }
          ],
          "barpolar": [
           {
            "marker": {
             "line": {
              "color": "#E5ECF6",
              "width": 0.5
             },
             "pattern": {
              "fillmode": "overlay",
              "size": 10,
              "solidity": 0.2
             }
            },
            "type": "barpolar"
           }
          ],
          "carpet": [
           {
            "aaxis": {
             "endlinecolor": "#2a3f5f",
             "gridcolor": "white",
             "linecolor": "white",
             "minorgridcolor": "white",
             "startlinecolor": "#2a3f5f"
            },
            "baxis": {
             "endlinecolor": "#2a3f5f",
             "gridcolor": "white",
             "linecolor": "white",
             "minorgridcolor": "white",
             "startlinecolor": "#2a3f5f"
            },
            "type": "carpet"
           }
          ],
          "choropleth": [
           {
            "colorbar": {
             "outlinewidth": 0,
             "ticks": ""
            },
            "type": "choropleth"
           }
          ],
          "contour": [
           {
            "colorbar": {
             "outlinewidth": 0,
             "ticks": ""
            },
            "colorscale": [
             [
              0,
              "#0d0887"
             ],
             [
              0.1111111111111111,
              "#46039f"
             ],
             [
              0.2222222222222222,
              "#7201a8"
             ],
             [
              0.3333333333333333,
              "#9c179e"
             ],
             [
              0.4444444444444444,
              "#bd3786"
             ],
             [
              0.5555555555555556,
              "#d8576b"
             ],
             [
              0.6666666666666666,
              "#ed7953"
             ],
             [
              0.7777777777777778,
              "#fb9f3a"
             ],
             [
              0.8888888888888888,
              "#fdca26"
             ],
             [
              1,
              "#f0f921"
             ]
            ],
            "type": "contour"
           }
          ],
          "contourcarpet": [
           {
            "colorbar": {
             "outlinewidth": 0,
             "ticks": ""
            },
            "type": "contourcarpet"
           }
          ],
          "heatmap": [
           {
            "colorbar": {
             "outlinewidth": 0,
             "ticks": ""
            },
            "colorscale": [
             [
              0,
              "#0d0887"
             ],
             [
              0.1111111111111111,
              "#46039f"
             ],
             [
              0.2222222222222222,
              "#7201a8"
             ],
             [
              0.3333333333333333,
              "#9c179e"
             ],
             [
              0.4444444444444444,
              "#bd3786"
             ],
             [
              0.5555555555555556,
              "#d8576b"
             ],
             [
              0.6666666666666666,
              "#ed7953"
             ],
             [
              0.7777777777777778,
              "#fb9f3a"
             ],
             [
              0.8888888888888888,
              "#fdca26"
             ],
             [
              1,
              "#f0f921"
             ]
            ],
            "type": "heatmap"
           }
          ],
          "heatmapgl": [
           {
            "colorbar": {
             "outlinewidth": 0,
             "ticks": ""
            },
            "colorscale": [
             [
              0,
              "#0d0887"
             ],
             [
              0.1111111111111111,
              "#46039f"
             ],
             [
              0.2222222222222222,
              "#7201a8"
             ],
             [
              0.3333333333333333,
              "#9c179e"
             ],
             [
              0.4444444444444444,
              "#bd3786"
             ],
             [
              0.5555555555555556,
              "#d8576b"
             ],
             [
              0.6666666666666666,
              "#ed7953"
             ],
             [
              0.7777777777777778,
              "#fb9f3a"
             ],
             [
              0.8888888888888888,
              "#fdca26"
             ],
             [
              1,
              "#f0f921"
             ]
            ],
            "type": "heatmapgl"
           }
          ],
          "histogram": [
           {
            "marker": {
             "pattern": {
              "fillmode": "overlay",
              "size": 10,
              "solidity": 0.2
             }
            },
            "type": "histogram"
           }
          ],
          "histogram2d": [
           {
            "colorbar": {
             "outlinewidth": 0,
             "ticks": ""
            },
            "colorscale": [
             [
              0,
              "#0d0887"
             ],
             [
              0.1111111111111111,
              "#46039f"
             ],
             [
              0.2222222222222222,
              "#7201a8"
             ],
             [
              0.3333333333333333,
              "#9c179e"
             ],
             [
              0.4444444444444444,
              "#bd3786"
             ],
             [
              0.5555555555555556,
              "#d8576b"
             ],
             [
              0.6666666666666666,
              "#ed7953"
             ],
             [
              0.7777777777777778,
              "#fb9f3a"
             ],
             [
              0.8888888888888888,
              "#fdca26"
             ],
             [
              1,
              "#f0f921"
             ]
            ],
            "type": "histogram2d"
           }
          ],
          "histogram2dcontour": [
           {
            "colorbar": {
             "outlinewidth": 0,
             "ticks": ""
            },
            "colorscale": [
             [
              0,
              "#0d0887"
             ],
             [
              0.1111111111111111,
              "#46039f"
             ],
             [
              0.2222222222222222,
              "#7201a8"
             ],
             [
              0.3333333333333333,
              "#9c179e"
             ],
             [
              0.4444444444444444,
              "#bd3786"
             ],
             [
              0.5555555555555556,
              "#d8576b"
             ],
             [
              0.6666666666666666,
              "#ed7953"
             ],
             [
              0.7777777777777778,
              "#fb9f3a"
             ],
             [
              0.8888888888888888,
              "#fdca26"
             ],
             [
              1,
              "#f0f921"
             ]
            ],
            "type": "histogram2dcontour"
           }
          ],
          "mesh3d": [
           {
            "colorbar": {
             "outlinewidth": 0,
             "ticks": ""
            },
            "type": "mesh3d"
           }
          ],
          "parcoords": [
           {
            "line": {
             "colorbar": {
              "outlinewidth": 0,
              "ticks": ""
             }
            },
            "type": "parcoords"
           }
          ],
          "pie": [
           {
            "automargin": true,
            "type": "pie"
           }
          ],
          "scatter": [
           {
            "marker": {
             "colorbar": {
              "outlinewidth": 0,
              "ticks": ""
             }
            },
            "type": "scatter"
           }
          ],
          "scatter3d": [
           {
            "line": {
             "colorbar": {
              "outlinewidth": 0,
              "ticks": ""
             }
            },
            "marker": {
             "colorbar": {
              "outlinewidth": 0,
              "ticks": ""
             }
            },
            "type": "scatter3d"
           }
          ],
          "scattercarpet": [
           {
            "marker": {
             "colorbar": {
              "outlinewidth": 0,
              "ticks": ""
             }
            },
            "type": "scattercarpet"
           }
          ],
          "scattergeo": [
           {
            "marker": {
             "colorbar": {
              "outlinewidth": 0,
              "ticks": ""
             }
            },
            "type": "scattergeo"
           }
          ],
          "scattergl": [
           {
            "marker": {
             "colorbar": {
              "outlinewidth": 0,
              "ticks": ""
             }
            },
            "type": "scattergl"
           }
          ],
          "scattermapbox": [
           {
            "marker": {
             "colorbar": {
              "outlinewidth": 0,
              "ticks": ""
             }
            },
            "type": "scattermapbox"
           }
          ],
          "scatterpolar": [
           {
            "marker": {
             "colorbar": {
              "outlinewidth": 0,
              "ticks": ""
             }
            },
            "type": "scatterpolar"
           }
          ],
          "scatterpolargl": [
           {
            "marker": {
             "colorbar": {
              "outlinewidth": 0,
              "ticks": ""
             }
            },
            "type": "scatterpolargl"
           }
          ],
          "scatterternary": [
           {
            "marker": {
             "colorbar": {
              "outlinewidth": 0,
              "ticks": ""
             }
            },
            "type": "scatterternary"
           }
          ],
          "surface": [
           {
            "colorbar": {
             "outlinewidth": 0,
             "ticks": ""
            },
            "colorscale": [
             [
              0,
              "#0d0887"
             ],
             [
              0.1111111111111111,
              "#46039f"
             ],
             [
              0.2222222222222222,
              "#7201a8"
             ],
             [
              0.3333333333333333,
              "#9c179e"
             ],
             [
              0.4444444444444444,
              "#bd3786"
             ],
             [
              0.5555555555555556,
              "#d8576b"
             ],
             [
              0.6666666666666666,
              "#ed7953"
             ],
             [
              0.7777777777777778,
              "#fb9f3a"
             ],
             [
              0.8888888888888888,
              "#fdca26"
             ],
             [
              1,
              "#f0f921"
             ]
            ],
            "type": "surface"
           }
          ],
          "table": [
           {
            "cells": {
             "fill": {
              "color": "#EBF0F8"
             },
             "line": {
              "color": "white"
             }
            },
            "header": {
             "fill": {
              "color": "#C8D4E3"
             },
             "line": {
              "color": "white"
             }
            },
            "type": "table"
           }
          ]
         },
         "layout": {
          "annotationdefaults": {
           "arrowcolor": "#2a3f5f",
           "arrowhead": 0,
           "arrowwidth": 1
          },
          "autotypenumbers": "strict",
          "coloraxis": {
           "colorbar": {
            "outlinewidth": 0,
            "ticks": ""
           }
          },
          "colorscale": {
           "diverging": [
            [
             0,
             "#8e0152"
            ],
            [
             0.1,
             "#c51b7d"
            ],
            [
             0.2,
             "#de77ae"
            ],
            [
             0.3,
             "#f1b6da"
            ],
            [
             0.4,
             "#fde0ef"
            ],
            [
             0.5,
             "#f7f7f7"
            ],
            [
             0.6,
             "#e6f5d0"
            ],
            [
             0.7,
             "#b8e186"
            ],
            [
             0.8,
             "#7fbc41"
            ],
            [
             0.9,
             "#4d9221"
            ],
            [
             1,
             "#276419"
            ]
           ],
           "sequential": [
            [
             0,
             "#0d0887"
            ],
            [
             0.1111111111111111,
             "#46039f"
            ],
            [
             0.2222222222222222,
             "#7201a8"
            ],
            [
             0.3333333333333333,
             "#9c179e"
            ],
            [
             0.4444444444444444,
             "#bd3786"
            ],
            [
             0.5555555555555556,
             "#d8576b"
            ],
            [
             0.6666666666666666,
             "#ed7953"
            ],
            [
             0.7777777777777778,
             "#fb9f3a"
            ],
            [
             0.8888888888888888,
             "#fdca26"
            ],
            [
             1,
             "#f0f921"
            ]
           ],
           "sequentialminus": [
            [
             0,
             "#0d0887"
            ],
            [
             0.1111111111111111,
             "#46039f"
            ],
            [
             0.2222222222222222,
             "#7201a8"
            ],
            [
             0.3333333333333333,
             "#9c179e"
            ],
            [
             0.4444444444444444,
             "#bd3786"
            ],
            [
             0.5555555555555556,
             "#d8576b"
            ],
            [
             0.6666666666666666,
             "#ed7953"
            ],
            [
             0.7777777777777778,
             "#fb9f3a"
            ],
            [
             0.8888888888888888,
             "#fdca26"
            ],
            [
             1,
             "#f0f921"
            ]
           ]
          },
          "colorway": [
           "#636efa",
           "#EF553B",
           "#00cc96",
           "#ab63fa",
           "#FFA15A",
           "#19d3f3",
           "#FF6692",
           "#B6E880",
           "#FF97FF",
           "#FECB52"
          ],
          "font": {
           "color": "#2a3f5f"
          },
          "geo": {
           "bgcolor": "white",
           "lakecolor": "white",
           "landcolor": "#E5ECF6",
           "showlakes": true,
           "showland": true,
           "subunitcolor": "white"
          },
          "hoverlabel": {
           "align": "left"
          },
          "hovermode": "closest",
          "mapbox": {
           "style": "light"
          },
          "paper_bgcolor": "white",
          "plot_bgcolor": "#E5ECF6",
          "polar": {
           "angularaxis": {
            "gridcolor": "white",
            "linecolor": "white",
            "ticks": ""
           },
           "bgcolor": "#E5ECF6",
           "radialaxis": {
            "gridcolor": "white",
            "linecolor": "white",
            "ticks": ""
           }
          },
          "scene": {
           "xaxis": {
            "backgroundcolor": "#E5ECF6",
            "gridcolor": "white",
            "gridwidth": 2,
            "linecolor": "white",
            "showbackground": true,
            "ticks": "",
            "zerolinecolor": "white"
           },
           "yaxis": {
            "backgroundcolor": "#E5ECF6",
            "gridcolor": "white",
            "gridwidth": 2,
            "linecolor": "white",
            "showbackground": true,
            "ticks": "",
            "zerolinecolor": "white"
           },
           "zaxis": {
            "backgroundcolor": "#E5ECF6",
            "gridcolor": "white",
            "gridwidth": 2,
            "linecolor": "white",
            "showbackground": true,
            "ticks": "",
            "zerolinecolor": "white"
           }
          },
          "shapedefaults": {
           "line": {
            "color": "#2a3f5f"
           }
          },
          "ternary": {
           "aaxis": {
            "gridcolor": "white",
            "linecolor": "white",
            "ticks": ""
           },
           "baxis": {
            "gridcolor": "white",
            "linecolor": "white",
            "ticks": ""
           },
           "bgcolor": "#E5ECF6",
           "caxis": {
            "gridcolor": "white",
            "linecolor": "white",
            "ticks": ""
           }
          },
          "title": {
           "x": 0.05
          },
          "xaxis": {
           "automargin": true,
           "gridcolor": "white",
           "linecolor": "white",
           "ticks": "",
           "title": {
            "standoff": 15
           },
           "zerolinecolor": "white",
           "zerolinewidth": 2
          },
          "yaxis": {
           "automargin": true,
           "gridcolor": "white",
           "linecolor": "white",
           "ticks": "",
           "title": {
            "standoff": 15
           },
           "zerolinecolor": "white",
           "zerolinewidth": 2
          }
         }
        },
        "xaxis": {
         "anchor": "y",
         "domain": [
          0,
          0.495
         ],
         "showgrid": false,
         "showticklabels": false,
         "visible": false
        },
        "xaxis2": {
         "anchor": "y2",
         "domain": [
          0.505,
          1
         ],
         "showgrid": false,
         "showticklabels": false,
         "visible": false
        },
        "xaxis3": {
         "anchor": "y3",
         "domain": [
          0,
          0.495
         ],
         "showgrid": false,
         "showticklabels": false,
         "visible": false
        },
        "xaxis4": {
         "anchor": "y4",
         "domain": [
          0.505,
          1
         ],
         "showgrid": false,
         "showticklabels": false,
         "visible": false
        },
        "yaxis": {
         "anchor": "x",
         "domain": [
          0.555,
          1
         ],
         "showgrid": false,
         "showticklabels": false,
         "visible": false
        },
        "yaxis2": {
         "anchor": "x2",
         "domain": [
          0.555,
          1
         ],
         "showgrid": false,
         "showticklabels": false,
         "visible": false
        },
        "yaxis3": {
         "anchor": "x3",
         "domain": [
          0,
          0.445
         ],
         "showgrid": false,
         "showticklabels": false,
         "visible": false
        },
        "yaxis4": {
         "anchor": "x4",
         "domain": [
          0,
          0.445
         ],
         "showgrid": false,
         "showticklabels": false,
         "visible": false
        }
       }
      }
     },
     "metadata": {},
     "output_type": "display_data"
    }
   ],
   "source": [
    "from utils import *\n",
    "\n",
    "gode_ord = [\"landbrug\",\"sex\",\"fod\",\"stande\",\"stoffer\"]\n",
    "title_prefix = \"Query word - \"\n",
    "query_word_1 = \"sex\"\n",
    "query_word_2 = \"mand\"\n",
    "query_word_3 = \"imødegå\"\n",
    "query_word_4 = \"overfald\"\n",
    "\n",
    "subplot_titles = [f\"{title_prefix}{query_word_1}, DW2V\",\n",
    "                   f\"{title_prefix}{query_word_2}, DW2V\",\n",
    "                   f\"{title_prefix}{query_word_3}, DW2V\",\n",
    "                   f\"{title_prefix}{query_word_4}, DW2V\"]\n",
    "top_n_words=3\n",
    "\n",
    "fig = make_subplots(rows=2, cols=2,\n",
    "                    subplot_titles=subplot_titles,\n",
    "                    horizontal_spacing = 0.01,\n",
    "                    vertical_spacing = 0.11,\n",
    "                    shared_xaxes=False,\n",
    "                    shared_yaxes=False)\n",
    "\n",
    "create_subplot(query_word_1,dw2v_embeddings_kw,fig,fig_placement=[1,1],top_n=4,interval_sampled=1)\n",
    "create_subplot(query_word_2,dw2v_embeddings_kw,fig,fig_placement=[1,2],top_n=top_n_words,interval_sampled=1)\n",
    "create_subplot(query_word_3,dw2v_embeddings_kw,fig,fig_placement=[2,1],top_n=top_n_words,interval_sampled=1)\n",
    "create_subplot(query_word_4,dw2v_embeddings_kw,fig,fig_placement=[2,2],top_n=5,interval_sampled=1)\n",
    "\n",
    "\n",
    "fig.update_yaxes(dict(\n",
    "                showgrid=False,\n",
    "                showticklabels= False,\n",
    "                visible=False\n",
    "                ))\n",
    "fig.update_xaxes(dict(\n",
    "                showgrid=False,\n",
    "                showticklabels= False,\n",
    "                visible=False\n",
    "                ))\n",
    "\n",
    "fig.update_layout(margin={\"l\":5,\"r\":5,\"b\":5,\"t\":22},\n",
    "                  showlegend=False,\n",
    "                  font_family=\"Serif\")\n",
    "\n",
    "fig.write_html(f\"figs/{' '.join(subplot_titles)}.html\")\n",
    "\n",
    "fig.show()\n",
    "\n",
    "fig.update_layout(width =500, height=250, font_size=12)\n",
    "pio.write_image(fig, f\"figs/{' '.join(subplot_titles)}.pdf\", width=1.5*500, height=0.75*500)\n",
    "\n",
    "                  "
   ]
  },
  {
   "cell_type": "markdown",
   "metadata": {},
   "source": [
    "### AW2V and DW2V"
   ]
  },
  {
   "cell_type": "code",
   "execution_count": 7,
   "metadata": {},
   "outputs": [
    {
     "name": "stdout",
     "output_type": "stream",
     "text": [
      "plotting at: (x1, y1)\n",
      "plotting at: (x2, y1)\n",
      "plotting at: (x1, y2)\n",
      "plotting at: (x2, y2)\n"
     ]
    },
    {
     "data": {
      "application/vnd.plotly.v1+json": {
       "config": {
        "plotlyServerURL": "https://plot.ly"
       },
       "data": [
        {
         "marker": {
          "color": "rgba(255,255,255)",
          "opacity": 0
         },
         "mode": "text",
         "type": "scatter",
         "x": [],
         "xaxis": "x",
         "y": [],
         "yaxis": "y"
        },
        {
         "line": {
          "color": "green",
          "width": 0.5
         },
         "marker": {
          "color": "rgba(255,255,255)",
          "opacity": 0
         },
         "mode": "lines",
         "type": "scatter",
         "x": [
          25.320972442626953,
          25.03339958190918
         ],
         "xaxis": "x",
         "y": [
          7.349968433380127,
          15.906926155090332
         ],
         "yaxis": "y"
        },
        {
         "line": {
          "color": "green",
          "width": 0.5
         },
         "marker": {
          "color": "rgba(255,255,255)",
          "opacity": 0
         },
         "mode": "lines",
         "type": "scatter",
         "x": [
          25.03339958190918,
          16.766958236694336
         ],
         "xaxis": "x",
         "y": [
          15.906926155090332,
          12.068304061889648
         ],
         "yaxis": "y"
        },
        {
         "line": {
          "color": "green",
          "width": 0.5
         },
         "marker": {
          "color": "rgba(255,255,255)",
          "opacity": 0
         },
         "mode": "lines",
         "type": "scatter",
         "x": [
          16.766958236694336,
          12.882558822631836
         ],
         "xaxis": "x",
         "y": [
          12.068304061889648,
          4.679234027862549
         ],
         "yaxis": "y"
        },
        {
         "line": {
          "color": "green",
          "width": 0.5
         },
         "marker": {
          "color": "rgba(255,255,255)",
          "opacity": 0
         },
         "mode": "lines",
         "type": "scatter",
         "x": [
          12.882558822631836,
          -27.01192855834961
         ],
         "xaxis": "x",
         "y": [
          4.679234027862549,
          12.721285820007324
         ],
         "yaxis": "y"
        },
        {
         "line": {
          "color": "green",
          "width": 0.5
         },
         "marker": {
          "color": "rgba(255,255,255)",
          "opacity": 0
         },
         "mode": "lines",
         "type": "scatter",
         "x": [
          -27.01192855834961,
          -25.44692611694336
         ],
         "xaxis": "x",
         "y": [
          12.721285820007324,
          21.770610809326172
         ],
         "yaxis": "y"
        },
        {
         "line": {
          "color": "green",
          "width": 0.5
         },
         "marker": {
          "color": "rgba(255,255,255)",
          "opacity": 0
         },
         "mode": "lines",
         "type": "scatter",
         "x": [
          -25.44692611694336,
          -18.878896713256836
         ],
         "xaxis": "x",
         "y": [
          21.770610809326172,
          27.851430892944336
         ],
         "yaxis": "y"
        },
        {
         "line": {
          "color": "green",
          "width": 0.5
         },
         "marker": {
          "color": "rgba(255,255,255)",
          "opacity": 0
         },
         "mode": "lines",
         "type": "scatter",
         "x": [
          -18.878896713256836,
          1.492407202720642
         ],
         "xaxis": "x",
         "y": [
          27.851430892944336,
          19.312084197998047
         ],
         "yaxis": "y"
        },
        {
         "line": {
          "color": "green",
          "width": 0.5
         },
         "marker": {
          "color": "rgba(255,255,255)",
          "opacity": 0
         },
         "mode": "lines",
         "type": "scatter",
         "x": [
          1.492407202720642,
          -8.762316703796387
         ],
         "xaxis": "x",
         "y": [
          19.312084197998047,
          32.18295669555664
         ],
         "yaxis": "y"
        },
        {
         "line": {
          "color": "green",
          "width": 0.5
         },
         "marker": {
          "color": "rgba(255,255,255)",
          "opacity": 0
         },
         "mode": "lines",
         "type": "scatter",
         "x": [
          -8.762316703796387,
          -0.6100120544433594
         ],
         "xaxis": "x",
         "y": [
          32.18295669555664,
          28.639541625976562
         ],
         "yaxis": "y"
        },
        {
         "line": {
          "color": "green",
          "width": 0.5
         },
         "marker": {
          "color": "rgba(255,255,255)",
          "opacity": 0
         },
         "mode": "lines",
         "type": "scatter",
         "x": [
          -0.6100120544433594,
          -7.8528852462768555
         ],
         "xaxis": "x",
         "y": [
          28.639541625976562,
          22.378198623657227
         ],
         "yaxis": "y"
        },
        {
         "line": {
          "color": "green",
          "width": 0.5
         },
         "marker": {
          "color": "rgba(255,255,255)",
          "opacity": 0
         },
         "mode": "lines",
         "type": "scatter",
         "x": [
          -7.8528852462768555,
          -13.962843894958496
         ],
         "xaxis": "x",
         "y": [
          22.378198623657227,
          15.917222023010254
         ],
         "yaxis": "y"
        },
        {
         "line": {
          "color": "green",
          "width": 0.5
         },
         "marker": {
          "color": "rgba(255,255,255)",
          "opacity": 0
         },
         "mode": "lines",
         "type": "scatter",
         "x": [
          -13.962843894958496,
          -6.4194016456604
         ],
         "xaxis": "x",
         "y": [
          15.917222023010254,
          12.218262672424316
         ],
         "yaxis": "y"
        },
        {
         "line": {
          "color": "green",
          "width": 0.5
         },
         "marker": {
          "color": "rgba(255,255,255)",
          "opacity": 0
         },
         "mode": "lines",
         "type": "scatter",
         "x": [
          -6.4194016456604,
          0.835858941078186
         ],
         "xaxis": "x",
         "y": [
          12.218262672424316,
          7.41953706741333
         ],
         "yaxis": "y"
        },
        {
         "line": {
          "color": "green",
          "width": 0.5
         },
         "marker": {
          "color": "rgba(255,255,255)",
          "opacity": 0
         },
         "mode": "lines",
         "type": "scatter",
         "x": [
          0.835858941078186,
          -6.404339790344238
         ],
         "xaxis": "x",
         "y": [
          7.41953706741333,
          2.2277534008026123
         ],
         "yaxis": "y"
        },
        {
         "line": {
          "color": "green",
          "width": 0.5
         },
         "marker": {
          "color": "rgba(255,255,255)",
          "opacity": 0
         },
         "mode": "lines",
         "type": "scatter",
         "x": [
          -6.404339790344238,
          -15.735101699829102
         ],
         "xaxis": "x",
         "y": [
          2.2277534008026123,
          4.096653461456299
         ],
         "yaxis": "y"
        },
        {
         "line": {
          "color": "green",
          "width": 0.5
         },
         "marker": {
          "color": "rgba(255,255,255)",
          "opacity": 0
         },
         "mode": "lines",
         "type": "scatter",
         "x": [
          -15.735101699829102,
          -13.064958572387695
         ],
         "xaxis": "x",
         "y": [
          4.096653461456299,
          -4.30470609664917
         ],
         "yaxis": "y"
        },
        {
         "line": {
          "color": "green",
          "width": 0.5
         },
         "marker": {
          "color": "rgba(255,255,255)",
          "opacity": 0
         },
         "mode": "lines",
         "type": "scatter",
         "x": [
          -13.064958572387695,
          -23.09969711303711
         ],
         "xaxis": "x",
         "y": [
          -4.30470609664917,
          -3.207296371459961
         ],
         "yaxis": "y"
        },
        {
         "line": {
          "color": "green",
          "width": 0.5
         },
         "marker": {
          "color": "rgba(255,255,255)",
          "opacity": 0
         },
         "mode": "lines",
         "type": "scatter",
         "x": [
          -23.09969711303711,
          -26.651004791259766
         ],
         "xaxis": "x",
         "y": [
          -3.207296371459961,
          -12.14873218536377
         ],
         "yaxis": "y"
        },
        {
         "line": {
          "color": "green",
          "width": 0.5
         },
         "marker": {
          "color": "rgba(255,255,255)",
          "opacity": 0
         },
         "mode": "lines",
         "type": "scatter",
         "x": [
          -26.651004791259766,
          -17.01335334777832
         ],
         "xaxis": "x",
         "y": [
          -12.14873218536377,
          -13.253052711486816
         ],
         "yaxis": "y"
        },
        {
         "line": {
          "color": "green",
          "width": 0.5
         },
         "marker": {
          "color": "rgba(255,255,255)",
          "opacity": 0
         },
         "mode": "lines",
         "type": "scatter",
         "x": [
          -17.01335334777832,
          -19.794370651245117
         ],
         "xaxis": "x",
         "y": [
          -13.253052711486816,
          -22.520965576171875
         ],
         "yaxis": "y"
        },
        {
         "line": {
          "color": "green",
          "width": 0.5
         },
         "marker": {
          "color": "rgba(255,255,255)",
          "opacity": 0
         },
         "mode": "lines",
         "type": "scatter",
         "x": [
          -19.794370651245117,
          -10.700587272644043
         ],
         "xaxis": "x",
         "y": [
          -22.520965576171875,
          -20.631166458129883
         ],
         "yaxis": "y"
        },
        {
         "line": {
          "color": "green",
          "width": 0.5
         },
         "marker": {
          "color": "rgba(255,255,255)",
          "opacity": 0
         },
         "mode": "lines",
         "type": "scatter",
         "x": [
          -10.700587272644043,
          -12.141575813293457
         ],
         "xaxis": "x",
         "y": [
          -20.631166458129883,
          -29.983945846557617
         ],
         "yaxis": "y"
        },
        {
         "line": {
          "color": "green",
          "width": 0.5
         },
         "marker": {
          "color": "rgba(255,255,255)",
          "opacity": 0
         },
         "mode": "lines",
         "type": "scatter",
         "x": [
          -12.141575813293457,
          11.664505958557129
         ],
         "xaxis": "x",
         "y": [
          -29.983945846557617,
          -23.535234451293945
         ],
         "yaxis": "y"
        },
        {
         "line": {
          "color": "green",
          "width": 0.5
         },
         "marker": {
          "color": "rgba(255,255,255)",
          "opacity": 0
         },
         "mode": "lines",
         "type": "scatter",
         "x": [
          11.664505958557129,
          -2.907202959060669
         ],
         "xaxis": "x",
         "y": [
          -23.535234451293945,
          -25.967967987060547
         ],
         "yaxis": "y"
        },
        {
         "line": {
          "color": "green",
          "width": 0.5
         },
         "marker": {
          "color": "rgba(255,255,255)",
          "opacity": 0
         },
         "mode": "lines",
         "type": "scatter",
         "x": [
          -2.907202959060669,
          5.265371322631836
         ],
         "xaxis": "x",
         "y": [
          -25.967967987060547,
          -30.37110710144043
         ],
         "yaxis": "y"
        },
        {
         "line": {
          "color": "green",
          "width": 0.5
         },
         "marker": {
          "color": "rgba(255,255,255)",
          "opacity": 0
         },
         "mode": "lines",
         "type": "scatter",
         "x": [
          5.265371322631836,
          2.8179025650024414
         ],
         "xaxis": "x",
         "y": [
          -30.37110710144043,
          -19.504566192626953
         ],
         "yaxis": "y"
        },
        {
         "line": {
          "color": "green",
          "width": 0.5
         },
         "marker": {
          "color": "rgba(255,255,255)",
          "opacity": 0
         },
         "mode": "lines",
         "type": "scatter",
         "x": [
          2.8179025650024414,
          -3.957909345626831
         ],
         "xaxis": "x",
         "y": [
          -19.504566192626953,
          -13.905183792114258
         ],
         "yaxis": "y"
        },
        {
         "line": {
          "color": "green",
          "width": 0.5
         },
         "marker": {
          "color": "rgba(255,255,255)",
          "opacity": 0
         },
         "mode": "lines",
         "type": "scatter",
         "x": [
          -3.957909345626831,
          9.733449935913086
         ],
         "xaxis": "x",
         "y": [
          -13.905183792114258,
          -13.10483169555664
         ],
         "yaxis": "y"
        },
        {
         "line": {
          "color": "green",
          "width": 0.5
         },
         "marker": {
          "color": "rgba(255,255,255)",
          "opacity": 0
         },
         "mode": "lines",
         "type": "scatter",
         "x": [
          9.733449935913086,
          -2.925555944442749
         ],
         "xaxis": "x",
         "y": [
          -13.10483169555664,
          -36.550514221191406
         ],
         "yaxis": "y"
        },
        {
         "line": {
          "color": "green",
          "width": 0.5
         },
         "marker": {
          "color": "rgba(255,255,255)",
          "opacity": 0
         },
         "mode": "lines",
         "type": "scatter",
         "x": [
          -2.925555944442749,
          2.4740915298461914
         ],
         "xaxis": "x",
         "y": [
          -36.550514221191406,
          -7.403332233428955
         ],
         "yaxis": "y"
        },
        {
         "marker": {
          "color": "rgba(255,255,255)",
          "opacity": 0
         },
         "mode": "text",
         "type": "scatter",
         "x": [],
         "xaxis": "x2",
         "y": [],
         "yaxis": "y2"
        },
        {
         "line": {
          "color": "green",
          "width": 0.5
         },
         "marker": {
          "color": "rgba(255,255,255)",
          "opacity": 0
         },
         "mode": "lines",
         "type": "scatter",
         "x": [
          15.922560691833496,
          5.926136016845703
         ],
         "xaxis": "x2",
         "y": [
          18.008533477783203,
          27.65816879272461
         ],
         "yaxis": "y2"
        },
        {
         "line": {
          "color": "green",
          "width": 0.5
         },
         "marker": {
          "color": "rgba(255,255,255)",
          "opacity": 0
         },
         "mode": "lines",
         "type": "scatter",
         "x": [
          5.926136016845703,
          -9.377450942993164
         ],
         "xaxis": "x2",
         "y": [
          27.65816879272461,
          27.83135223388672
         ],
         "yaxis": "y2"
        },
        {
         "line": {
          "color": "green",
          "width": 0.5
         },
         "marker": {
          "color": "rgba(255,255,255)",
          "opacity": 0
         },
         "mode": "lines",
         "type": "scatter",
         "x": [
          -9.377450942993164,
          -2.1148080825805664
         ],
         "xaxis": "x2",
         "y": [
          27.83135223388672,
          15.149727821350098
         ],
         "yaxis": "y2"
        },
        {
         "line": {
          "color": "green",
          "width": 0.5
         },
         "marker": {
          "color": "rgba(255,255,255)",
          "opacity": 0
         },
         "mode": "lines",
         "type": "scatter",
         "x": [
          -2.1148080825805664,
          7.28208589553833
         ],
         "xaxis": "x2",
         "y": [
          15.149727821350098,
          2.813767671585083
         ],
         "yaxis": "y2"
        },
        {
         "line": {
          "color": "green",
          "width": 0.5
         },
         "marker": {
          "color": "rgba(255,255,255)",
          "opacity": 0
         },
         "mode": "lines",
         "type": "scatter",
         "x": [
          7.28208589553833,
          -7.402693748474121
         ],
         "xaxis": "x2",
         "y": [
          2.813767671585083,
          0.727220892906189
         ],
         "yaxis": "y2"
        },
        {
         "line": {
          "color": "green",
          "width": 0.5
         },
         "marker": {
          "color": "rgba(255,255,255)",
          "opacity": 0
         },
         "mode": "lines",
         "type": "scatter",
         "x": [
          -7.402693748474121,
          -20.567590713500977
         ],
         "xaxis": "x2",
         "y": [
          0.727220892906189,
          8.449115753173828
         ],
         "yaxis": "y2"
        },
        {
         "line": {
          "color": "green",
          "width": 0.5
         },
         "marker": {
          "color": "rgba(255,255,255)",
          "opacity": 0
         },
         "mode": "lines",
         "type": "scatter",
         "x": [
          -20.567590713500977,
          -23.918216705322266
         ],
         "xaxis": "x2",
         "y": [
          8.449115753173828,
          -5.728977203369141
         ],
         "yaxis": "y2"
        },
        {
         "line": {
          "color": "green",
          "width": 0.5
         },
         "marker": {
          "color": "rgba(255,255,255)",
          "opacity": 0
         },
         "mode": "lines",
         "type": "scatter",
         "x": [
          -23.918216705322266,
          -12.708223342895508
         ],
         "xaxis": "x2",
         "y": [
          -5.728977203369141,
          -15.85097599029541
         ],
         "yaxis": "y2"
        },
        {
         "line": {
          "color": "green",
          "width": 0.5
         },
         "marker": {
          "color": "rgba(255,255,255)",
          "opacity": 0
         },
         "mode": "lines",
         "type": "scatter",
         "x": [
          -12.708223342895508,
          3.2418460845947266
         ],
         "xaxis": "x2",
         "y": [
          -15.85097599029541,
          -15.939536094665527
         ],
         "yaxis": "y2"
        },
        {
         "line": {
          "color": "green",
          "width": 0.5
         },
         "marker": {
          "color": "rgba(255,255,255)",
          "opacity": 0
         },
         "mode": "lines",
         "type": "scatter",
         "x": [
          3.2418460845947266,
          -4.073653221130371
         ],
         "xaxis": "x2",
         "y": [
          -15.939536094665527,
          -29.345863342285156
         ],
         "yaxis": "y2"
        },
        {
         "line": {
          "color": "green",
          "width": 0.5
         },
         "marker": {
          "color": "rgba(255,255,255)",
          "opacity": 0
         },
         "mode": "lines",
         "type": "scatter",
         "x": [
          -4.073653221130371,
          11.472691535949707
         ],
         "xaxis": "x2",
         "y": [
          -29.345863342285156,
          -30.858312606811523
         ],
         "yaxis": "y2"
        },
        {
         "line": {
          "color": "green",
          "width": 0.5
         },
         "marker": {
          "color": "rgba(255,255,255)",
          "opacity": 0
         },
         "mode": "lines",
         "type": "scatter",
         "x": [
          11.472691535949707,
          6.300271034240723
         ],
         "xaxis": "x2",
         "y": [
          -30.858312606811523,
          -44.993282318115234
         ],
         "yaxis": "y2"
        },
        {
         "line": {
          "color": "green",
          "width": 0.5
         },
         "marker": {
          "color": "rgba(255,255,255)",
          "opacity": 0
         },
         "mode": "lines",
         "type": "scatter",
         "x": [
          6.300271034240723,
          -2.2035701274871826
         ],
         "xaxis": "x2",
         "y": [
          -44.993282318115234,
          -57.3045539855957
         ],
         "yaxis": "y2"
        },
        {
         "line": {
          "color": "green",
          "width": 0.5
         },
         "marker": {
          "color": "rgba(255,255,255)",
          "opacity": 0
         },
         "mode": "lines",
         "type": "scatter",
         "x": [
          -2.2035701274871826,
          -13.300046920776367
         ],
         "xaxis": "x2",
         "y": [
          -57.3045539855957,
          -44.927391052246094
         ],
         "yaxis": "y2"
        },
        {
         "line": {
          "color": "green",
          "width": 0.5
         },
         "marker": {
          "color": "rgba(255,255,255)",
          "opacity": 0
         },
         "mode": "lines",
         "type": "scatter",
         "x": [
          -13.300046920776367,
          -21.234601974487305
         ],
         "xaxis": "x2",
         "y": [
          -44.927391052246094,
          -59.11497116088867
         ],
         "yaxis": "y2"
        },
        {
         "line": {
          "color": "green",
          "width": 0.5
         },
         "marker": {
          "color": "rgba(255,255,255)",
          "opacity": 0
         },
         "mode": "lines",
         "type": "scatter",
         "x": [
          -21.234601974487305,
          -31.988727569580078
         ],
         "xaxis": "x2",
         "y": [
          -59.11497116088867,
          -47.57782745361328
         ],
         "yaxis": "y2"
        },
        {
         "line": {
          "color": "green",
          "width": 0.5
         },
         "marker": {
          "color": "rgba(255,255,255)",
          "opacity": 0
         },
         "mode": "lines",
         "type": "scatter",
         "x": [
          -31.988727569580078,
          -28.492237091064453
         ],
         "xaxis": "x2",
         "y": [
          -47.57782745361328,
          -32.316162109375
         ],
         "yaxis": "y2"
        },
        {
         "line": {
          "color": "green",
          "width": 0.5
         },
         "marker": {
          "color": "rgba(255,255,255)",
          "opacity": 0
         },
         "mode": "lines",
         "type": "scatter",
         "x": [
          -28.492237091064453,
          -42.78514862060547
         ],
         "xaxis": "x2",
         "y": [
          -32.316162109375,
          -33.183570861816406
         ],
         "yaxis": "y2"
        },
        {
         "line": {
          "color": "green",
          "width": 0.5
         },
         "marker": {
          "color": "rgba(255,255,255)",
          "opacity": 0
         },
         "mode": "lines",
         "type": "scatter",
         "x": [
          -42.78514862060547,
          -43.36143493652344
         ],
         "xaxis": "x2",
         "y": [
          -33.183570861816406,
          -17.853437423706055
         ],
         "yaxis": "y2"
        },
        {
         "line": {
          "color": "green",
          "width": 0.5
         },
         "marker": {
          "color": "rgba(255,255,255)",
          "opacity": 0
         },
         "mode": "lines",
         "type": "scatter",
         "x": [
          -43.36143493652344,
          -58.453853607177734
         ],
         "xaxis": "x2",
         "y": [
          -17.853437423706055,
          -18.635601043701172
         ],
         "yaxis": "y2"
        },
        {
         "line": {
          "color": "green",
          "width": 0.5
         },
         "marker": {
          "color": "rgba(255,255,255)",
          "opacity": 0
         },
         "mode": "lines",
         "type": "scatter",
         "x": [
          -58.453853607177734,
          -61.14934158325195
         ],
         "xaxis": "x2",
         "y": [
          -18.635601043701172,
          -34.334712982177734
         ],
         "yaxis": "y2"
        },
        {
         "line": {
          "color": "green",
          "width": 0.5
         },
         "marker": {
          "color": "rgba(255,255,255)",
          "opacity": 0
         },
         "mode": "lines",
         "type": "scatter",
         "x": [
          -61.14934158325195,
          -53.60106658935547
         ],
         "xaxis": "x2",
         "y": [
          -34.334712982177734,
          -48.55801773071289
         ],
         "yaxis": "y2"
        },
        {
         "line": {
          "color": "green",
          "width": 0.5
         },
         "marker": {
          "color": "rgba(255,255,255)",
          "opacity": 0
         },
         "mode": "lines",
         "type": "scatter",
         "x": [
          -53.60106658935547,
          -54.58277130126953
         ],
         "xaxis": "x2",
         "y": [
          -48.55801773071289,
          -64.21387481689453
         ],
         "yaxis": "y2"
        },
        {
         "line": {
          "color": "green",
          "width": 0.5
         },
         "marker": {
          "color": "rgba(255,255,255)",
          "opacity": 0
         },
         "mode": "lines",
         "type": "scatter",
         "x": [
          -54.58277130126953,
          -68.77851104736328
         ],
         "xaxis": "x2",
         "y": [
          -64.21387481689453,
          -55.06165313720703
         ],
         "yaxis": "y2"
        },
        {
         "line": {
          "color": "green",
          "width": 0.5
         },
         "marker": {
          "color": "rgba(255,255,255)",
          "opacity": 0
         },
         "mode": "lines",
         "type": "scatter",
         "x": [
          -68.77851104736328,
          -71.648193359375
         ],
         "xaxis": "x2",
         "y": [
          -55.06165313720703,
          -70.38955688476562
         ],
         "yaxis": "y2"
        },
        {
         "line": {
          "color": "green",
          "width": 0.5
         },
         "marker": {
          "color": "rgba(255,255,255)",
          "opacity": 0
         },
         "mode": "lines",
         "type": "scatter",
         "x": [
          -71.648193359375,
          -85.70719909667969
         ],
         "xaxis": "x2",
         "y": [
          -70.38955688476562,
          -60.26061248779297
         ],
         "yaxis": "y2"
        },
        {
         "line": {
          "color": "green",
          "width": 0.5
         },
         "marker": {
          "color": "rgba(255,255,255)",
          "opacity": 0
         },
         "mode": "lines",
         "type": "scatter",
         "x": [
          -85.70719909667969,
          -92.22377014160156
         ],
         "xaxis": "x2",
         "y": [
          -60.26061248779297,
          -45.359256744384766
         ],
         "yaxis": "y2"
        },
        {
         "line": {
          "color": "green",
          "width": 0.5
         },
         "marker": {
          "color": "rgba(255,255,255)",
          "opacity": 0
         },
         "mode": "lines",
         "type": "scatter",
         "x": [
          -92.22377014160156,
          -85.79743194580078
         ],
         "xaxis": "x2",
         "y": [
          -45.359256744384766,
          -31.218698501586914
         ],
         "yaxis": "y2"
        },
        {
         "line": {
          "color": "green",
          "width": 0.5
         },
         "marker": {
          "color": "rgba(255,255,255)",
          "opacity": 0
         },
         "mode": "lines",
         "type": "scatter",
         "x": [
          -85.79743194580078,
          -90.58612823486328
         ],
         "xaxis": "x2",
         "y": [
          -31.218698501586914,
          -16.832048416137695
         ],
         "yaxis": "y2"
        },
        {
         "line": {
          "color": "green",
          "width": 0.5
         },
         "marker": {
          "color": "rgba(255,255,255)",
          "opacity": 0
         },
         "mode": "lines",
         "type": "scatter",
         "x": [
          -90.58612823486328,
          -102.53311157226562
         ],
         "xaxis": "x2",
         "y": [
          -16.832048416137695,
          -25.152931213378906
         ],
         "yaxis": "y2"
        },
        {
         "marker": {
          "color": "rgba(255,255,255)",
          "opacity": 0
         },
         "mode": "text",
         "type": "scatter",
         "x": [],
         "xaxis": "x3",
         "y": [],
         "yaxis": "y3"
        },
        {
         "line": {
          "color": "green",
          "width": 0.5
         },
         "marker": {
          "color": "rgba(255,255,255)",
          "opacity": 0
         },
         "mode": "lines",
         "type": "scatter",
         "x": [
          -98.06198120117188,
          65.99584197998047
         ],
         "xaxis": "x3",
         "y": [
          -11.267229080200195,
          196.05068969726562
         ],
         "yaxis": "y3"
        },
        {
         "line": {
          "color": "green",
          "width": 0.5
         },
         "marker": {
          "color": "rgba(255,255,255)",
          "opacity": 0
         },
         "mode": "lines",
         "type": "scatter",
         "x": [
          65.99584197998047,
          102.68531799316406
         ],
         "xaxis": "x3",
         "y": [
          196.05068969726562,
          116.97542572021484
         ],
         "yaxis": "y3"
        },
        {
         "line": {
          "color": "green",
          "width": 0.5
         },
         "marker": {
          "color": "rgba(255,255,255)",
          "opacity": 0
         },
         "mode": "lines",
         "type": "scatter",
         "x": [
          102.68531799316406,
          185.24703979492188
         ],
         "xaxis": "x3",
         "y": [
          116.97542572021484,
          101.72942352294922
         ],
         "yaxis": "y3"
        },
        {
         "line": {
          "color": "green",
          "width": 0.5
         },
         "marker": {
          "color": "rgba(255,255,255)",
          "opacity": 0
         },
         "mode": "lines",
         "type": "scatter",
         "x": [
          185.24703979492188,
          116.84593963623047
         ],
         "xaxis": "x3",
         "y": [
          101.72942352294922,
          -49.387813568115234
         ],
         "yaxis": "y3"
        },
        {
         "line": {
          "color": "green",
          "width": 0.5
         },
         "marker": {
          "color": "rgba(255,255,255)",
          "opacity": 0
         },
         "mode": "lines",
         "type": "scatter",
         "x": [
          116.84593963623047,
          171.8903045654297
         ],
         "xaxis": "x3",
         "y": [
          -49.387813568115234,
          8.817286491394043
         ],
         "yaxis": "y3"
        },
        {
         "marker": {
          "color": "rgba(255,255,255)",
          "opacity": 0
         },
         "mode": "text",
         "type": "scatter",
         "x": [],
         "xaxis": "x4",
         "y": [],
         "yaxis": "y4"
        },
        {
         "line": {
          "color": "green",
          "width": 0.5
         },
         "mode": "lines",
         "type": "scatter",
         "x": [
          -28.677051544189453,
          -5.480436325073242
         ],
         "xaxis": "x4",
         "y": [
          -10.32394027709961,
          -49.57268524169922
         ],
         "yaxis": "y4"
        },
        {
         "line": {
          "color": "green",
          "width": 0.5
         },
         "mode": "lines",
         "type": "scatter",
         "x": [
          -5.480436325073242,
          -9.158377647399902
         ],
         "xaxis": "x4",
         "y": [
          -49.57268524169922,
          10.025572776794434
         ],
         "yaxis": "y4"
        },
        {
         "line": {
          "color": "green",
          "width": 0.5
         },
         "mode": "lines",
         "type": "scatter",
         "x": [
          -9.158377647399902,
          -35.0847282409668
         ],
         "xaxis": "x4",
         "y": [
          10.025572776794434,
          -39.589229583740234
         ],
         "yaxis": "y4"
        },
        {
         "line": {
          "color": "green",
          "width": 0.5
         },
         "mode": "lines",
         "type": "scatter",
         "x": [
          -35.0847282409668,
          -36.055538177490234
         ],
         "xaxis": "x4",
         "y": [
          -39.589229583740234,
          -68.54363250732422
         ],
         "yaxis": "y4"
        },
        {
         "line": {
          "color": "green",
          "width": 0.5
         },
         "mode": "lines",
         "type": "scatter",
         "x": [
          -36.055538177490234,
          -2.467475652694702
         ],
         "xaxis": "x4",
         "y": [
          -68.54363250732422,
          42.63341522216797
         ],
         "yaxis": "y4"
        }
       ],
       "layout": {
        "annotations": [
         {
          "font": {
           "size": 16
          },
          "showarrow": false,
          "text": "Query word - omgang, DW2V",
          "x": 0.2475,
          "xanchor": "center",
          "xref": "paper",
          "y": 1,
          "yanchor": "bottom",
          "yref": "paper"
         },
         {
          "font": {
           "size": 16
          },
          "showarrow": false,
          "text": "Query word - kvinde, DW2V",
          "x": 0.7525,
          "xanchor": "center",
          "xref": "paper",
          "y": 1,
          "yanchor": "bottom",
          "yref": "paper"
         },
         {
          "font": {
           "size": 16
          },
          "showarrow": false,
          "text": "Query word - omgang, AW2V",
          "x": 0.2475,
          "xanchor": "center",
          "xref": "paper",
          "y": 0.46,
          "yanchor": "bottom",
          "yref": "paper"
         },
         {
          "font": {
           "size": 16
          },
          "showarrow": false,
          "text": "Query word - kvinde, AW2V",
          "x": 0.7525,
          "xanchor": "center",
          "xref": "paper",
          "y": 0.46,
          "yanchor": "bottom",
          "yref": "paper"
         },
         {
          "font": {
           "color": "black",
           "size": 11
          },
          "showarrow": false,
          "text": "1869",
          "x": 2.4740915298461914,
          "xref": "x",
          "y": -7.403332233428955,
          "yref": "y"
         },
         {
          "font": {
           "color": "black",
           "size": 11
          },
          "showarrow": false,
          "text": "1874",
          "x": -2.925555944442749,
          "xref": "x",
          "y": -36.550514221191406,
          "yref": "y"
         },
         {
          "font": {
           "color": "black",
           "size": 11
          },
          "showarrow": false,
          "text": "1879",
          "x": 9.733449935913086,
          "xref": "x",
          "y": -13.10483169555664,
          "yref": "y"
         },
         {
          "font": {
           "color": "black",
           "size": 11
          },
          "showarrow": false,
          "text": "1884",
          "x": -3.957909345626831,
          "xref": "x",
          "y": -13.905183792114258,
          "yref": "y"
         },
         {
          "font": {
           "color": "black",
           "size": 11
          },
          "showarrow": false,
          "text": "1889",
          "x": 2.8179025650024414,
          "xref": "x",
          "y": -19.504566192626953,
          "yref": "y"
         },
         {
          "font": {
           "color": "black",
           "size": 11
          },
          "showarrow": false,
          "text": "1894",
          "x": 5.265371322631836,
          "xref": "x",
          "y": -30.37110710144043,
          "yref": "y"
         },
         {
          "font": {
           "color": "black",
           "size": 11
          },
          "showarrow": false,
          "text": "1899",
          "x": -2.907202959060669,
          "xref": "x",
          "y": -25.967967987060547,
          "yref": "y"
         },
         {
          "font": {
           "color": "black",
           "size": 11
          },
          "showarrow": false,
          "text": "1904",
          "x": 11.664505958557129,
          "xref": "x",
          "y": -23.535234451293945,
          "yref": "y"
         },
         {
          "font": {
           "color": "black",
           "size": 11
          },
          "showarrow": false,
          "text": "1909",
          "x": -12.141575813293457,
          "xref": "x",
          "y": -29.983945846557617,
          "yref": "y"
         },
         {
          "font": {
           "color": "black",
           "size": 11
          },
          "showarrow": false,
          "text": "1914",
          "x": -10.700587272644043,
          "xref": "x",
          "y": -20.631166458129883,
          "yref": "y"
         },
         {
          "font": {
           "color": "black",
           "size": 11
          },
          "showarrow": false,
          "text": "1919",
          "x": -19.794370651245117,
          "xref": "x",
          "y": -22.520965576171875,
          "yref": "y"
         },
         {
          "font": {
           "color": "black",
           "size": 11
          },
          "showarrow": false,
          "text": "1924",
          "x": -17.01335334777832,
          "xref": "x",
          "y": -13.253052711486816,
          "yref": "y"
         },
         {
          "font": {
           "color": "black",
           "size": 11
          },
          "showarrow": false,
          "text": "1929",
          "x": -26.651004791259766,
          "xref": "x",
          "y": -12.14873218536377,
          "yref": "y"
         },
         {
          "font": {
           "color": "black",
           "size": 11
          },
          "showarrow": false,
          "text": "1934",
          "x": -23.09969711303711,
          "xref": "x",
          "y": -3.207296371459961,
          "yref": "y"
         },
         {
          "font": {
           "color": "black",
           "size": 11
          },
          "showarrow": false,
          "text": "1939",
          "x": -13.064958572387695,
          "xref": "x",
          "y": -4.30470609664917,
          "yref": "y"
         },
         {
          "font": {
           "color": "black",
           "size": 11
          },
          "showarrow": false,
          "text": "1944",
          "x": -15.735101699829102,
          "xref": "x",
          "y": 4.096653461456299,
          "yref": "y"
         },
         {
          "font": {
           "color": "black",
           "size": 11
          },
          "showarrow": false,
          "text": "1949",
          "x": -6.404339790344238,
          "xref": "x",
          "y": 2.2277534008026123,
          "yref": "y"
         },
         {
          "font": {
           "color": "black",
           "size": 11
          },
          "showarrow": false,
          "text": "1954",
          "x": 0.835858941078186,
          "xref": "x",
          "y": 7.41953706741333,
          "yref": "y"
         },
         {
          "font": {
           "color": "black",
           "size": 11
          },
          "showarrow": false,
          "text": "1959",
          "x": -6.4194016456604,
          "xref": "x",
          "y": 12.218262672424316,
          "yref": "y"
         },
         {
          "font": {
           "color": "black",
           "size": 11
          },
          "showarrow": false,
          "text": "1964",
          "x": -13.962843894958496,
          "xref": "x",
          "y": 15.917222023010254,
          "yref": "y"
         },
         {
          "font": {
           "color": "black",
           "size": 11
          },
          "showarrow": false,
          "text": "1969",
          "x": -7.8528852462768555,
          "xref": "x",
          "y": 22.378198623657227,
          "yref": "y"
         },
         {
          "font": {
           "color": "black",
           "size": 11
          },
          "showarrow": false,
          "text": "1974",
          "x": -0.6100120544433594,
          "xref": "x",
          "y": 28.639541625976562,
          "yref": "y"
         },
         {
          "font": {
           "color": "black",
           "size": 11
          },
          "showarrow": false,
          "text": "1979",
          "x": -8.762316703796387,
          "xref": "x",
          "y": 32.18295669555664,
          "yref": "y"
         },
         {
          "font": {
           "color": "black",
           "size": 11
          },
          "showarrow": false,
          "text": "1984",
          "x": 1.492407202720642,
          "xref": "x",
          "y": 19.312084197998047,
          "yref": "y"
         },
         {
          "font": {
           "color": "black",
           "size": 11
          },
          "showarrow": false,
          "text": "1989",
          "x": -18.878896713256836,
          "xref": "x",
          "y": 27.851430892944336,
          "yref": "y"
         },
         {
          "font": {
           "color": "black",
           "size": 11
          },
          "showarrow": false,
          "text": "1994",
          "x": -25.44692611694336,
          "xref": "x",
          "y": 21.770610809326172,
          "yref": "y"
         },
         {
          "font": {
           "color": "black",
           "size": 11
          },
          "showarrow": false,
          "text": "1999",
          "x": -27.01192855834961,
          "xref": "x",
          "y": 12.721285820007324,
          "yref": "y"
         },
         {
          "font": {
           "color": "black",
           "size": 11
          },
          "showarrow": false,
          "text": "2004",
          "x": 12.882558822631836,
          "xref": "x",
          "y": 4.679234027862549,
          "yref": "y"
         },
         {
          "font": {
           "color": "black",
           "size": 11
          },
          "showarrow": false,
          "text": "2009",
          "x": 16.766958236694336,
          "xref": "x",
          "y": 12.068304061889648,
          "yref": "y"
         },
         {
          "font": {
           "color": "black",
           "size": 11
          },
          "showarrow": false,
          "text": "2014",
          "x": 25.03339958190918,
          "xref": "x",
          "y": 15.906926155090332,
          "yref": "y"
         },
         {
          "font": {
           "color": "black",
           "size": 11
          },
          "showarrow": false,
          "text": "2019",
          "x": 25.320972442626953,
          "xref": "x",
          "y": 7.349968433380127,
          "yref": "y"
         },
         {
          "font": {
           "color": "green",
           "size": 14.802223265171051
          },
          "showarrow": false,
          "text": "legemlig",
          "x": -31.647930145263672,
          "xref": "x",
          "y": -27.43773651123047,
          "yref": "y"
         },
         {
          "font": {
           "color": "green",
           "size": 13.34171438217163
          },
          "showarrow": false,
          "text": "plejet",
          "x": 6.34920072555542,
          "xref": "x",
          "y": 47.12300109863281,
          "yref": "y"
         },
         {
          "font": {
           "color": "green",
           "size": 11.732976973056793
          },
          "showarrow": false,
          "text": "bekræfter",
          "x": 27.709850311279297,
          "xref": "x",
          "y": -21.04909896850586,
          "yref": "y"
         },
         {
          "font": {
           "color": "green",
           "size": 10.833558142185211
          },
          "showarrow": false,
          "text": "barnemoderen",
          "x": -23.583213806152344,
          "xref": "x",
          "y": -40.00574493408203,
          "yref": "y"
         },
         {
          "font": {
           "color": "green",
           "size": 11.948251128196716
          },
          "showarrow": false,
          "text": "klagerinden",
          "x": 18.412866592407227,
          "xref": "x",
          "y": -34.59268569946289,
          "yref": "y"
         },
         {
          "font": {
           "color": "green",
           "size": 11.711565375328064
          },
          "showarrow": false,
          "text": "hittegods",
          "x": 13.960485458374023,
          "xref": "x",
          "y": 21.618371963500977,
          "yref": "y"
         },
         {
          "font": {
           "color": "green",
           "size": 12.537156701087952
          },
          "showarrow": false,
          "text": "kønslig",
          "x": 20.13041114807129,
          "xref": "x",
          "y": 30.381244659423828,
          "yref": "y"
         },
         {
          "font": {
           "color": "green",
           "size": 9.373350203037262
          },
          "showarrow": false,
          "text": "omgængelse",
          "x": 13.820625305175781,
          "xref": "x",
          "y": 35.273895263671875,
          "yref": "y"
         },
         {
          "font": {
           "color": "green",
           "size": 11.242752611637115
          },
          "showarrow": false,
          "text": "samleje",
          "x": 28.123411178588867,
          "xref": "x",
          "y": 34.803070068359375,
          "yref": "y"
         },
         {
          "font": {
           "color": "green",
           "size": 8.915951013565063
          },
          "showarrow": false,
          "text": "steddatter",
          "x": 20.826887130737305,
          "xref": "x",
          "y": 42.00490951538086,
          "yref": "y"
         },
         {
          "font": {
           "color": "green",
           "size": 7.54926010966301
          },
          "showarrow": false,
          "text": "første",
          "x": 36.770450592041016,
          "xref": "x",
          "y": 9.526266098022461,
          "yref": "y"
         },
         {
          "font": {
           "color": "green",
           "size": 7.152865886688232
          },
          "showarrow": false,
          "text": "troede",
          "x": 22.77145767211914,
          "xref": "x",
          "y": -3.8526978492736816,
          "yref": "y"
         },
         {
          "font": {
           "color": "green",
           "size": 6.807713180780411
          },
          "showarrow": false,
          "text": "mente",
          "x": 31.312950134277344,
          "xref": "x",
          "y": -5.583881378173828,
          "yref": "y"
         },
         {
          "font": {
           "color": "black",
           "size": 11
          },
          "showarrow": false,
          "text": "1869",
          "x": -102.53311157226562,
          "xref": "x2",
          "y": -25.152931213378906,
          "yref": "y2"
         },
         {
          "font": {
           "color": "black",
           "size": 11
          },
          "showarrow": false,
          "text": "1874",
          "x": -90.58612823486328,
          "xref": "x2",
          "y": -16.832048416137695,
          "yref": "y2"
         },
         {
          "font": {
           "color": "black",
           "size": 11
          },
          "showarrow": false,
          "text": "1879",
          "x": -85.79743194580078,
          "xref": "x2",
          "y": -31.218698501586914,
          "yref": "y2"
         },
         {
          "font": {
           "color": "black",
           "size": 11
          },
          "showarrow": false,
          "text": "1884",
          "x": -92.22377014160156,
          "xref": "x2",
          "y": -45.359256744384766,
          "yref": "y2"
         },
         {
          "font": {
           "color": "black",
           "size": 11
          },
          "showarrow": false,
          "text": "1889",
          "x": -85.70719909667969,
          "xref": "x2",
          "y": -60.26061248779297,
          "yref": "y2"
         },
         {
          "font": {
           "color": "black",
           "size": 11
          },
          "showarrow": false,
          "text": "1894",
          "x": -71.648193359375,
          "xref": "x2",
          "y": -70.38955688476562,
          "yref": "y2"
         },
         {
          "font": {
           "color": "black",
           "size": 11
          },
          "showarrow": false,
          "text": "1899",
          "x": -68.77851104736328,
          "xref": "x2",
          "y": -55.06165313720703,
          "yref": "y2"
         },
         {
          "font": {
           "color": "black",
           "size": 11
          },
          "showarrow": false,
          "text": "1904",
          "x": -54.58277130126953,
          "xref": "x2",
          "y": -64.21387481689453,
          "yref": "y2"
         },
         {
          "font": {
           "color": "black",
           "size": 11
          },
          "showarrow": false,
          "text": "1909",
          "x": -53.60106658935547,
          "xref": "x2",
          "y": -48.55801773071289,
          "yref": "y2"
         },
         {
          "font": {
           "color": "black",
           "size": 11
          },
          "showarrow": false,
          "text": "1914",
          "x": -61.14934158325195,
          "xref": "x2",
          "y": -34.334712982177734,
          "yref": "y2"
         },
         {
          "font": {
           "color": "black",
           "size": 11
          },
          "showarrow": false,
          "text": "1919",
          "x": -58.453853607177734,
          "xref": "x2",
          "y": -18.635601043701172,
          "yref": "y2"
         },
         {
          "font": {
           "color": "black",
           "size": 11
          },
          "showarrow": false,
          "text": "1924",
          "x": -43.36143493652344,
          "xref": "x2",
          "y": -17.853437423706055,
          "yref": "y2"
         },
         {
          "font": {
           "color": "black",
           "size": 11
          },
          "showarrow": false,
          "text": "1929",
          "x": -42.78514862060547,
          "xref": "x2",
          "y": -33.183570861816406,
          "yref": "y2"
         },
         {
          "font": {
           "color": "black",
           "size": 11
          },
          "showarrow": false,
          "text": "1934",
          "x": -28.492237091064453,
          "xref": "x2",
          "y": -32.316162109375,
          "yref": "y2"
         },
         {
          "font": {
           "color": "black",
           "size": 11
          },
          "showarrow": false,
          "text": "1939",
          "x": -31.988727569580078,
          "xref": "x2",
          "y": -47.57782745361328,
          "yref": "y2"
         },
         {
          "font": {
           "color": "black",
           "size": 11
          },
          "showarrow": false,
          "text": "1944",
          "x": -21.234601974487305,
          "xref": "x2",
          "y": -59.11497116088867,
          "yref": "y2"
         },
         {
          "font": {
           "color": "black",
           "size": 11
          },
          "showarrow": false,
          "text": "1949",
          "x": -13.300046920776367,
          "xref": "x2",
          "y": -44.927391052246094,
          "yref": "y2"
         },
         {
          "font": {
           "color": "black",
           "size": 11
          },
          "showarrow": false,
          "text": "1954",
          "x": -2.2035701274871826,
          "xref": "x2",
          "y": -57.3045539855957,
          "yref": "y2"
         },
         {
          "font": {
           "color": "black",
           "size": 11
          },
          "showarrow": false,
          "text": "1959",
          "x": 6.300271034240723,
          "xref": "x2",
          "y": -44.993282318115234,
          "yref": "y2"
         },
         {
          "font": {
           "color": "black",
           "size": 11
          },
          "showarrow": false,
          "text": "1964",
          "x": 11.472691535949707,
          "xref": "x2",
          "y": -30.858312606811523,
          "yref": "y2"
         },
         {
          "font": {
           "color": "black",
           "size": 11
          },
          "showarrow": false,
          "text": "1969",
          "x": -4.073653221130371,
          "xref": "x2",
          "y": -29.345863342285156,
          "yref": "y2"
         },
         {
          "font": {
           "color": "black",
           "size": 11
          },
          "showarrow": false,
          "text": "1974",
          "x": 3.2418460845947266,
          "xref": "x2",
          "y": -15.939536094665527,
          "yref": "y2"
         },
         {
          "font": {
           "color": "black",
           "size": 11
          },
          "showarrow": false,
          "text": "1979",
          "x": -12.708223342895508,
          "xref": "x2",
          "y": -15.85097599029541,
          "yref": "y2"
         },
         {
          "font": {
           "color": "black",
           "size": 11
          },
          "showarrow": false,
          "text": "1984",
          "x": -23.918216705322266,
          "xref": "x2",
          "y": -5.728977203369141,
          "yref": "y2"
         },
         {
          "font": {
           "color": "black",
           "size": 11
          },
          "showarrow": false,
          "text": "1989",
          "x": -20.567590713500977,
          "xref": "x2",
          "y": 8.449115753173828,
          "yref": "y2"
         },
         {
          "font": {
           "color": "black",
           "size": 11
          },
          "showarrow": false,
          "text": "1994",
          "x": -7.402693748474121,
          "xref": "x2",
          "y": 0.727220892906189,
          "yref": "y2"
         },
         {
          "font": {
           "color": "black",
           "size": 11
          },
          "showarrow": false,
          "text": "1999",
          "x": 7.28208589553833,
          "xref": "x2",
          "y": 2.813767671585083,
          "yref": "y2"
         },
         {
          "font": {
           "color": "black",
           "size": 11
          },
          "showarrow": false,
          "text": "2004",
          "x": -2.1148080825805664,
          "xref": "x2",
          "y": 15.149727821350098,
          "yref": "y2"
         },
         {
          "font": {
           "color": "black",
           "size": 11
          },
          "showarrow": false,
          "text": "2009",
          "x": -9.377450942993164,
          "xref": "x2",
          "y": 27.83135223388672,
          "yref": "y2"
         },
         {
          "font": {
           "color": "black",
           "size": 11
          },
          "showarrow": false,
          "text": "2014",
          "x": 5.926136016845703,
          "xref": "x2",
          "y": 27.65816879272461,
          "yref": "y2"
         },
         {
          "font": {
           "color": "black",
           "size": 11
          },
          "showarrow": false,
          "text": "2019",
          "x": 15.922560691833496,
          "xref": "x2",
          "y": 18.008533477783203,
          "yref": "y2"
         },
         {
          "font": {
           "color": "green",
           "size": 7.53138992190361
          },
          "showarrow": false,
          "text": "mand",
          "x": 21.870315551757812,
          "xref": "x2",
          "y": 31.72867774963379,
          "yref": "y2"
         },
         {
          "font": {
           "color": "green",
           "size": 7.557170778512955
          },
          "showarrow": false,
          "text": "forringede",
          "x": 67.74929809570312,
          "xref": "x2",
          "y": 67.97277069091797,
          "yref": "y2"
         },
         {
          "font": {
           "color": "green",
           "size": 7.413125067949295
          },
          "showarrow": false,
          "text": "redelig",
          "x": 70.24683380126953,
          "xref": "x2",
          "y": -33.77492141723633,
          "yref": "y2"
         },
         {
          "font": {
           "color": "green",
           "size": 9.58863753080368
          },
          "showarrow": false,
          "text": "linien",
          "x": 63.807132720947266,
          "xref": "x2",
          "y": 91.17585754394531,
          "yref": "y2"
         },
         {
          "font": {
           "color": "green",
           "size": 8.754121243953705
          },
          "showarrow": false,
          "text": "afkom",
          "x": 48.15541458129883,
          "xref": "x2",
          "y": 76.09468078613281,
          "yref": "y2"
         },
         {
          "font": {
           "color": "green",
           "size": 8.042229443788528
          },
          "showarrow": false,
          "text": "autorisation",
          "x": 48.54425048828125,
          "xref": "x2",
          "y": 102.41287231445312,
          "yref": "y2"
         },
         {
          "font": {
           "color": "green",
           "size": 7.716035187244415
          },
          "showarrow": false,
          "text": "tiltalt",
          "x": 78.17061614990234,
          "xref": "x2",
          "y": -1.860896348953247,
          "yref": "y2"
         },
         {
          "font": {
           "color": "green",
           "size": 7.498000860214233
          },
          "showarrow": false,
          "text": "besvangret",
          "x": -31.650190353393555,
          "xref": "x2",
          "y": -87.7486801147461,
          "yref": "y2"
         },
         {
          "font": {
           "color": "green",
           "size": 7.105617702007294
          },
          "showarrow": false,
          "text": "kønsligt",
          "x": 60.08572006225586,
          "xref": "x2",
          "y": 23.403724670410156,
          "yref": "y2"
         },
         {
          "font": {
           "color": "green",
           "size": 8.049715548753738
          },
          "showarrow": false,
          "text": "samlevet",
          "x": 54.1528205871582,
          "xref": "x2",
          "y": -20.982316970825195,
          "yref": "y2"
         },
         {
          "font": {
           "color": "green",
           "size": 8.034937888383865
          },
          "showarrow": false,
          "text": "nøgen",
          "x": 55.365901947021484,
          "xref": "x2",
          "y": 39.250606536865234,
          "yref": "y2"
         },
         {
          "font": {
           "color": "green",
           "size": 10.059907495975494
          },
          "showarrow": false,
          "text": "aarig",
          "x": -34.764129638671875,
          "xref": "x2",
          "y": 25.184947967529297,
          "yref": "y2"
         },
         {
          "font": {
           "color": "green",
           "size": 7.571378469467163
          },
          "showarrow": false,
          "text": "mishandlet",
          "x": 36.65376281738281,
          "xref": "x2",
          "y": -37.39702224731445,
          "yref": "y2"
         },
         {
          "font": {
           "color": "green",
           "size": 10.380187749862671
          },
          "showarrow": false,
          "text": "ustraffet",
          "x": 58.76832580566406,
          "xref": "x2",
          "y": 1.4902206659317017,
          "yref": "y2"
         },
         {
          "font": {
           "color": "green",
           "size": 10.038485765457153
          },
          "showarrow": false,
          "text": "pige",
          "x": 16.619279861450195,
          "xref": "x2",
          "y": 47.09257888793945,
          "yref": "y2"
         },
         {
          "font": {
           "color": "green",
           "size": 8.885812044143677
          },
          "showarrow": false,
          "text": "påkørte",
          "x": -45.997318267822266,
          "xref": "x2",
          "y": 66.89414978027344,
          "yref": "y2"
         },
         {
          "font": {
           "color": "green",
           "size": 9.522178590297699
          },
          "showarrow": false,
          "text": "drab",
          "x": 84.08353424072266,
          "xref": "x2",
          "y": 8.732614517211914,
          "yref": "y2"
         },
         {
          "font": {
           "color": "green",
           "size": 10.068523406982422
          },
          "showarrow": false,
          "text": "samlever",
          "x": 28.688234329223633,
          "xref": "x2",
          "y": 75.26457214355469,
          "yref": "y2"
         },
         {
          "font": {
           "color": "green",
           "size": 9.368722558021545
          },
          "showarrow": false,
          "text": "årig",
          "x": -9.130903244018555,
          "xref": "x2",
          "y": 55.88590621948242,
          "yref": "y2"
         },
         {
          "font": {
           "color": "green",
           "size": 9.120109498500824
          },
          "showarrow": false,
          "text": "ung",
          "x": 2.164952516555786,
          "xref": "x2",
          "y": 43.65400314331055,
          "yref": "y2"
         },
         {
          "font": {
           "color": "green",
           "size": 10.45106053352356
          },
          "showarrow": false,
          "text": "sovende",
          "x": 74.20982360839844,
          "xref": "x2",
          "y": 46.05308532714844,
          "yref": "y2"
         },
         {
          "font": {
           "color": "green",
           "size": 10.423143684864044
          },
          "showarrow": false,
          "text": "skizofreni",
          "x": 28.128559112548828,
          "xref": "x2",
          "y": -10.602628707885742,
          "yref": "y2"
         },
         {
          "font": {
           "color": "green",
           "size": 10.79239672422409
          },
          "showarrow": false,
          "text": "fraskilt",
          "x": 16.640199661254883,
          "xref": "x2",
          "y": 70.44803619384766,
          "yref": "y2"
         },
         {
          "font": {
           "color": "green",
           "size": 10.932567656040192
          },
          "showarrow": false,
          "text": "ubekendt",
          "x": -12.045220375061035,
          "xref": "x2",
          "y": 75.94099426269531,
          "yref": "y2"
         },
         {
          "font": {
           "color": "green",
           "size": 10.575085878372192
          },
          "showarrow": false,
          "text": "dræbt",
          "x": -36.80586242675781,
          "xref": "x2",
          "y": 50.82947540283203,
          "yref": "y2"
         },
         {
          "font": {
           "color": "green",
           "size": 10.966643214225769
          },
          "showarrow": false,
          "text": "dræbte",
          "x": -49.08303451538086,
          "xref": "x2",
          "y": 47.091270446777344,
          "yref": "y2"
         },
         {
          "font": {
           "color": "green",
           "size": 13.30884563922882
          },
          "showarrow": false,
          "text": "tyrkisk",
          "x": 35.492252349853516,
          "xref": "x2",
          "y": 52.35245895385742,
          "yref": "y2"
         },
         {
          "font": {
           "color": "green",
           "size": 10.970369040966034
          },
          "showarrow": false,
          "text": "utugt",
          "x": 30.750839233398438,
          "xref": "x2",
          "y": 9.76927375793457,
          "yref": "y2"
         },
         {
          "font": {
           "color": "green",
           "size": 10.892800509929657
          },
          "showarrow": false,
          "text": "kvinden",
          "x": 36.31709671020508,
          "xref": "x2",
          "y": 27.4713134765625,
          "yref": "y2"
         },
         {
          "font": {
           "color": "black",
           "size": 11
          },
          "showarrow": false,
          "text": "1867-1919",
          "x": 171.8903045654297,
          "xref": "x3",
          "y": 8.817286491394043,
          "yref": "y3"
         },
         {
          "font": {
           "color": "black",
           "size": 11
          },
          "showarrow": false,
          "text": "1920-1949",
          "x": 116.84593963623047,
          "xref": "x3",
          "y": -49.387813568115234,
          "yref": "y3"
         },
         {
          "font": {
           "color": "black",
           "size": 11
          },
          "showarrow": false,
          "text": "1950-1979",
          "x": 185.24703979492188,
          "xref": "x3",
          "y": 101.72942352294922,
          "yref": "y3"
         },
         {
          "font": {
           "color": "black",
           "size": 11
          },
          "showarrow": false,
          "text": "1980-1994",
          "x": 102.68531799316406,
          "xref": "x3",
          "y": 116.97542572021484,
          "yref": "y3"
         },
         {
          "font": {
           "color": "black",
           "size": 11
          },
          "showarrow": false,
          "text": "1995-2009",
          "x": 65.99584197998047,
          "xref": "x3",
          "y": 196.05068969726562,
          "yref": "y3"
         },
         {
          "font": {
           "color": "black",
           "size": 11
          },
          "showarrow": false,
          "text": "2010-2021",
          "x": -98.06198120117188,
          "xref": "x3",
          "y": -11.267229080200195,
          "yref": "y3"
         },
         {
          "font": {
           "color": "green",
           "size": 13.970664739608765
          },
          "showarrow": false,
          "text": "legemlig",
          "x": 193.19139099121094,
          "xref": "x3",
          "y": -217.3438262939453,
          "yref": "y3"
         },
         {
          "font": {
           "color": "green",
           "size": 10.57521253824234
          },
          "showarrow": false,
          "text": "samleje",
          "x": -173.60089111328125,
          "xref": "x3",
          "y": -79.42379760742188,
          "yref": "y3"
         },
         {
          "font": {
           "color": "green",
           "size": 9.721864461898804
          },
          "showarrow": false,
          "text": "hittegods",
          "x": 92.56092834472656,
          "xref": "x3",
          "y": -238.39073181152344,
          "yref": "y3"
         },
         {
          "font": {
           "color": "green",
           "size": 9.392731189727783
          },
          "showarrow": false,
          "text": "bekræfter",
          "x": -138.08778381347656,
          "xref": "x3",
          "y": 203.75836181640625,
          "yref": "y3"
         },
         {
          "font": {
           "color": "green",
           "size": 9.335550844669342
          },
          "showarrow": false,
          "text": "kønslig",
          "x": -168.51683044433594,
          "xref": "x3",
          "y": 9.23823070526123,
          "yref": "y3"
         },
         {
          "font": {
           "color": "green",
           "size": 8.688719153404236
          },
          "showarrow": false,
          "text": "samlevet",
          "x": 106.72956085205078,
          "xref": "x3",
          "y": -143.5413055419922,
          "yref": "y3"
         },
         {
          "font": {
           "color": "green",
           "size": 8.446881890296936
          },
          "showarrow": false,
          "text": "tiltvunget",
          "x": 42.96976852416992,
          "xref": "x3",
          "y": -101.72787475585938,
          "yref": "y3"
         },
         {
          "font": {
           "color": "green",
           "size": 8.40956637263298
          },
          "showarrow": false,
          "text": "samlejet",
          "x": 179.17291259765625,
          "xref": "x3",
          "y": -117.09271240234375,
          "yref": "y3"
         },
         {
          "font": {
           "color": "green",
           "size": 8.384845912456512
          },
          "showarrow": false,
          "text": "ed",
          "x": -137.59373474121094,
          "xref": "x3",
          "y": -299.6287841796875,
          "yref": "y3"
         },
         {
          "font": {
           "color": "green",
           "size": 8.362414956092834
          },
          "showarrow": false,
          "text": "samlejer",
          "x": 5.834903240203857,
          "xref": "x3",
          "y": 90.40091705322266,
          "yref": "y3"
         },
         {
          "font": {
           "color": "green",
           "size": 12.160642504692078
          },
          "showarrow": false,
          "text": "omgængelse",
          "x": -102.8111572265625,
          "xref": "x3",
          "y": -105.1578140258789,
          "yref": "y3"
         },
         {
          "font": {
           "color": "green",
           "size": 10.110160052776337
          },
          "showarrow": false,
          "text": "tiltvinge",
          "x": -39.76768112182617,
          "xref": "x3",
          "y": -148.4170379638672,
          "yref": "y3"
         },
         {
          "font": {
           "color": "green",
           "size": 9.507459700107574
          },
          "showarrow": false,
          "text": "kvalt",
          "x": 34.01052474975586,
          "xref": "x3",
          "y": -28.566564559936523,
          "yref": "y3"
         },
         {
          "font": {
           "color": "green",
           "size": 9.153967201709747
          },
          "showarrow": false,
          "text": "tilnærmelser",
          "x": -49.64311218261719,
          "xref": "x3",
          "y": -236.5653076171875,
          "yref": "y3"
         },
         {
          "font": {
           "color": "green",
           "size": 8.453171819448471
          },
          "showarrow": false,
          "text": "gang",
          "x": -258.74383544921875,
          "xref": "x3",
          "y": 38.95619201660156,
          "yref": "y3"
         },
         {
          "font": {
           "color": "green",
           "size": 8.140748023986816
          },
          "showarrow": false,
          "text": "steddatter",
          "x": 29.938446044921875,
          "xref": "x3",
          "y": -180.6740264892578,
          "yref": "y3"
         },
         {
          "font": {
           "color": "green",
           "size": 7.796978443861008
          },
          "showarrow": false,
          "text": "tredje",
          "x": -242.13363647460938,
          "xref": "x3",
          "y": -164.7374267578125,
          "yref": "y3"
         },
         {
          "font": {
           "color": "green",
           "size": 7.359625965356827
          },
          "showarrow": false,
          "text": "tredie",
          "x": -40.74858093261719,
          "xref": "x3",
          "y": 169.42527770996094,
          "yref": "y3"
         },
         {
          "font": {
           "color": "green",
           "size": 7.310376048088074
          },
          "showarrow": false,
          "text": "medtiltalt",
          "x": 240.3933868408203,
          "xref": "x3",
          "y": -50.760459899902344,
          "yref": "y3"
         },
         {
          "font": {
           "color": "green",
           "size": 6.91045206785202
          },
          "showarrow": false,
          "text": "ihjel",
          "x": -24.76624298095703,
          "xref": "x3",
          "y": 18.49424171447754,
          "yref": "y3"
         },
         {
          "font": {
           "color": "green",
           "size": 7.7873183488845825
          },
          "showarrow": false,
          "text": "færd",
          "x": -143.49005126953125,
          "xref": "x3",
          "y": -193.20274353027344,
          "yref": "y3"
         },
         {
          "font": {
           "color": "green",
           "size": 7.753963232040405
          },
          "showarrow": false,
          "text": "tilstod",
          "x": -30.349029541015625,
          "xref": "x3",
          "y": -67.8407211303711,
          "yref": "y3"
         },
         {
          "font": {
           "color": "green",
           "size": 7.624165743589401
          },
          "showarrow": false,
          "text": "truslen",
          "x": -274.5718688964844,
          "xref": "x3",
          "y": -65.63311767578125,
          "yref": "y3"
         },
         {
          "font": {
           "color": "green",
           "size": 7.5422274470329285
          },
          "showarrow": false,
          "text": "ryge",
          "x": -93.21544647216797,
          "xref": "x3",
          "y": 85.19937896728516,
          "yref": "y3"
         },
         {
          "font": {
           "color": "green",
           "size": 7.353448003530502
          },
          "showarrow": false,
          "text": "indvilget",
          "x": 12.071978569030762,
          "xref": "x3",
          "y": -306.28564453125,
          "yref": "y3"
         },
         {
          "font": {
           "color": "green",
           "size": 7.328503102064133
          },
          "showarrow": false,
          "text": "fortrød",
          "x": 76.01512145996094,
          "xref": "x3",
          "y": 33.536800384521484,
          "yref": "y3"
         },
         {
          "font": {
           "color": "green",
           "size": 8.161153435707092
          },
          "showarrow": false,
          "text": "første",
          "x": -204.61642456054688,
          "xref": "x3",
          "y": 115.0470199584961,
          "yref": "y3"
         },
         {
          "font": {
           "color": "black",
           "size": 11
          },
          "showarrow": false,
          "text": "1867-1919",
          "x": -2.467475652694702,
          "xref": "x4",
          "y": 42.63341522216797,
          "yref": "y4"
         },
         {
          "font": {
           "color": "black",
           "size": 11
          },
          "showarrow": false,
          "text": "1920-1949",
          "x": -36.055538177490234,
          "xref": "x4",
          "y": -68.54363250732422,
          "yref": "y4"
         },
         {
          "font": {
           "color": "black",
           "size": 11
          },
          "showarrow": false,
          "text": "1950-1979",
          "x": -35.0847282409668,
          "xref": "x4",
          "y": -39.589229583740234,
          "yref": "y4"
         },
         {
          "font": {
           "color": "black",
           "size": 11
          },
          "showarrow": false,
          "text": "1980-1994",
          "x": -9.158377647399902,
          "xref": "x4",
          "y": 10.025572776794434,
          "yref": "y4"
         },
         {
          "font": {
           "color": "black",
           "size": 11
          },
          "showarrow": false,
          "text": "1995-2009",
          "x": -5.480436325073242,
          "xref": "x4",
          "y": -49.57268524169922,
          "yref": "y4"
         },
         {
          "font": {
           "color": "black",
           "size": 11
          },
          "showarrow": false,
          "text": "2010-2021",
          "x": -28.677051544189453,
          "xref": "x4",
          "y": -10.32394027709961,
          "yref": "y4"
         },
         {
          "font": {
           "color": "green",
           "size": 11.5212442278862
          },
          "showarrow": false,
          "text": "pige",
          "x": -53.025634765625,
          "xref": "x4",
          "y": 49.834896087646484,
          "yref": "y4"
         },
         {
          "font": {
           "color": "green",
           "size": 11.488739252090454
          },
          "showarrow": false,
          "text": "ung",
          "x": -82.49540710449219,
          "xref": "x4",
          "y": 70.8204116821289,
          "yref": "y4"
         },
         {
          "font": {
           "color": "green",
           "size": 10.457662045955658
          },
          "showarrow": false,
          "text": "dreng",
          "x": -34.65330505371094,
          "xref": "x4",
          "y": 30.167957305908203,
          "yref": "y4"
         },
         {
          "font": {
           "color": "green",
           "size": 9.95966786146164
          },
          "showarrow": false,
          "text": "kone",
          "x": 51.326751708984375,
          "xref": "x4",
          "y": -89.30249786376953,
          "yref": "y4"
         },
         {
          "font": {
           "color": "green",
           "size": 9.934550702571869
          },
          "showarrow": false,
          "text": "dame",
          "x": -53.4444694519043,
          "xref": "x4",
          "y": 100.52063751220703,
          "yref": "y4"
         },
         {
          "font": {
           "color": "green",
           "size": 9.167790353298187
          },
          "showarrow": false,
          "text": "tiltvunget",
          "x": -91.09925842285156,
          "xref": "x4",
          "y": -10.262228012084961,
          "yref": "y4"
         },
         {
          "font": {
           "color": "green",
           "size": 9.01566880941391
          },
          "showarrow": false,
          "text": "kønslig",
          "x": -128.72958374023438,
          "xref": "x4",
          "y": -31.162206649780273,
          "yref": "y4"
         },
         {
          "font": {
           "color": "green",
           "size": 9.00705999135971
          },
          "showarrow": false,
          "text": "samlevet",
          "x": 101.16471862792969,
          "xref": "x4",
          "y": -6.1686811447143555,
          "yref": "y4"
         },
         {
          "font": {
           "color": "green",
           "size": 8.942981243133545
          },
          "showarrow": false,
          "text": "medtiltalt",
          "x": -80.56214141845703,
          "xref": "x4",
          "y": -80.31407165527344,
          "yref": "y4"
         },
         {
          "font": {
           "color": "green",
           "size": 8.92721563577652
          },
          "showarrow": false,
          "text": "kvindelig",
          "x": -91.4112777709961,
          "xref": "x4",
          "y": 32.24960708618164,
          "yref": "y4"
         },
         {
          "font": {
           "color": "green",
           "size": 9.799058079719543
          },
          "showarrow": false,
          "text": "omgængelse",
          "x": -102.60872650146484,
          "xref": "x4",
          "y": -42.67232894897461,
          "yref": "y4"
         },
         {
          "font": {
           "color": "green",
           "size": 9.323832273483276
          },
          "showarrow": false,
          "text": "kvalt",
          "x": -59.69622802734375,
          "xref": "x4",
          "y": 6.933246612548828,
          "yref": "y4"
         },
         {
          "font": {
           "color": "green",
           "size": 9.194239974021912
          },
          "showarrow": false,
          "text": "kvinder",
          "x": 1.669799566268921,
          "xref": "x4",
          "y": 112.96917724609375,
          "yref": "y4"
         },
         {
          "font": {
           "color": "green",
           "size": 9.18597161769867
          },
          "showarrow": false,
          "text": "ægtepar",
          "x": 115.07743072509766,
          "xref": "x4",
          "y": -43.9757194519043,
          "yref": "y4"
         },
         {
          "font": {
           "color": "green",
           "size": 8.873798608779907
          },
          "showarrow": false,
          "text": "voldtægt",
          "x": -127.93252563476562,
          "xref": "x4",
          "y": 6.557831287384033,
          "yref": "y4"
         },
         {
          "font": {
           "color": "green",
           "size": 10.385693907737732
          },
          "showarrow": false,
          "text": "mand",
          "x": 2.449599027633667,
          "xref": "x4",
          "y": -18.71463966369629,
          "yref": "y4"
         },
         {
          "font": {
           "color": "green",
           "size": 10.198780417442322
          },
          "showarrow": false,
          "text": "steddatter",
          "x": -69.61409759521484,
          "xref": "x4",
          "y": -36.153751373291016,
          "yref": "y4"
         },
         {
          "font": {
           "color": "green",
           "size": 9.699286580085754
          },
          "showarrow": false,
          "text": "kæreste",
          "x": 25.44353675842285,
          "xref": "x4",
          "y": -70.8450927734375,
          "yref": "y4"
         },
         {
          "font": {
           "color": "green",
           "size": 9.21824049949646
          },
          "showarrow": false,
          "text": "overfaldt",
          "x": -22.913650512695312,
          "xref": "x4",
          "y": 73.24192810058594,
          "yref": "y4"
         },
         {
          "font": {
           "color": "green",
           "size": 10.675932466983795
          },
          "showarrow": false,
          "text": "polsk",
          "x": -52.325721740722656,
          "xref": "x4",
          "y": -113.72470092773438,
          "yref": "y4"
         },
         {
          "font": {
           "color": "green",
           "size": 10.339517772197723
          },
          "showarrow": false,
          "text": "dræbte",
          "x": 103.55642700195312,
          "xref": "x4",
          "y": 54.48799514770508,
          "yref": "y4"
         },
         {
          "font": {
           "color": "green",
           "size": 10.150099456310272
          },
          "showarrow": false,
          "text": "forlovet",
          "x": 74.93740844726562,
          "xref": "x4",
          "y": -27.59317398071289,
          "yref": "y4"
         },
         {
          "font": {
           "color": "green",
           "size": 9.963049173355103
          },
          "showarrow": false,
          "text": "herboende",
          "x": 65.82957458496094,
          "xref": "x4",
          "y": 77.81804656982422,
          "yref": "y4"
         },
         {
          "font": {
           "color": "green",
           "size": 9.826283872127533
          },
          "showarrow": false,
          "text": "mishandlet",
          "x": 24.878211975097656,
          "xref": "x4",
          "y": 17.393800735473633,
          "yref": "y4"
         },
         {
          "font": {
           "color": "green",
           "size": 9.673056840896606
          },
          "showarrow": false,
          "text": "jordemoder",
          "x": -3.2950589656829834,
          "xref": "x4",
          "y": -107.08012390136719,
          "yref": "y4"
         },
         {
          "font": {
           "color": "green",
           "size": 9.564542770385742
          },
          "showarrow": false,
          "text": "fraskilt",
          "x": 56.395408630371094,
          "xref": "x4",
          "y": -0.32217854261398315,
          "yref": "y4"
         },
         {
          "font": {
           "color": "green",
           "size": 9.3755784034729
          },
          "showarrow": false,
          "text": "ugift",
          "x": 80.4744644165039,
          "xref": "x4",
          "y": 20.110689163208008,
          "yref": "y4"
         },
         {
          "font": {
           "color": "green",
           "size": 9.272277653217316
          },
          "showarrow": false,
          "text": "giftede",
          "x": 77.92333984375,
          "xref": "x4",
          "y": -60.331668853759766,
          "yref": "y4"
         },
         {
          "font": {
           "color": "green",
           "size": 9.115240693092346
          },
          "showarrow": false,
          "text": "ægtemanden",
          "x": 53.356834411621094,
          "xref": "x4",
          "y": 37.81509017944336,
          "yref": "y4"
         },
         {
          "font": {
           "color": "green",
           "size": 8.924663186073303
          },
          "showarrow": false,
          "text": "barn",
          "x": 25.55091667175293,
          "xref": "x4",
          "y": 65.97370910644531,
          "yref": "y4"
         },
         {
          "font": {
           "color": "green",
           "size": 8.617046892642975
          },
          "showarrow": false,
          "text": "forlovede",
          "x": 47.39556884765625,
          "xref": "x4",
          "y": -44.324867248535156,
          "yref": "y4"
         },
         {
          "font": {
           "color": "green",
           "size": 8.486783295869827
          },
          "showarrow": false,
          "text": "fraseparerede",
          "x": 33.948997497558594,
          "xref": "x4",
          "y": -19.08938217163086,
          "yref": "y4"
         }
        ],
        "font": {
         "family": "Serif"
        },
        "margin": {
         "b": 0,
         "l": 0,
         "r": 0,
         "t": 30
        },
        "showlegend": false,
        "template": {
         "data": {
          "bar": [
           {
            "error_x": {
             "color": "#2a3f5f"
            },
            "error_y": {
             "color": "#2a3f5f"
            },
            "marker": {
             "line": {
              "color": "#E5ECF6",
              "width": 0.5
             },
             "pattern": {
              "fillmode": "overlay",
              "size": 10,
              "solidity": 0.2
             }
            },
            "type": "bar"
           }
          ],
          "barpolar": [
           {
            "marker": {
             "line": {
              "color": "#E5ECF6",
              "width": 0.5
             },
             "pattern": {
              "fillmode": "overlay",
              "size": 10,
              "solidity": 0.2
             }
            },
            "type": "barpolar"
           }
          ],
          "carpet": [
           {
            "aaxis": {
             "endlinecolor": "#2a3f5f",
             "gridcolor": "white",
             "linecolor": "white",
             "minorgridcolor": "white",
             "startlinecolor": "#2a3f5f"
            },
            "baxis": {
             "endlinecolor": "#2a3f5f",
             "gridcolor": "white",
             "linecolor": "white",
             "minorgridcolor": "white",
             "startlinecolor": "#2a3f5f"
            },
            "type": "carpet"
           }
          ],
          "choropleth": [
           {
            "colorbar": {
             "outlinewidth": 0,
             "ticks": ""
            },
            "type": "choropleth"
           }
          ],
          "contour": [
           {
            "colorbar": {
             "outlinewidth": 0,
             "ticks": ""
            },
            "colorscale": [
             [
              0,
              "#0d0887"
             ],
             [
              0.1111111111111111,
              "#46039f"
             ],
             [
              0.2222222222222222,
              "#7201a8"
             ],
             [
              0.3333333333333333,
              "#9c179e"
             ],
             [
              0.4444444444444444,
              "#bd3786"
             ],
             [
              0.5555555555555556,
              "#d8576b"
             ],
             [
              0.6666666666666666,
              "#ed7953"
             ],
             [
              0.7777777777777778,
              "#fb9f3a"
             ],
             [
              0.8888888888888888,
              "#fdca26"
             ],
             [
              1,
              "#f0f921"
             ]
            ],
            "type": "contour"
           }
          ],
          "contourcarpet": [
           {
            "colorbar": {
             "outlinewidth": 0,
             "ticks": ""
            },
            "type": "contourcarpet"
           }
          ],
          "heatmap": [
           {
            "colorbar": {
             "outlinewidth": 0,
             "ticks": ""
            },
            "colorscale": [
             [
              0,
              "#0d0887"
             ],
             [
              0.1111111111111111,
              "#46039f"
             ],
             [
              0.2222222222222222,
              "#7201a8"
             ],
             [
              0.3333333333333333,
              "#9c179e"
             ],
             [
              0.4444444444444444,
              "#bd3786"
             ],
             [
              0.5555555555555556,
              "#d8576b"
             ],
             [
              0.6666666666666666,
              "#ed7953"
             ],
             [
              0.7777777777777778,
              "#fb9f3a"
             ],
             [
              0.8888888888888888,
              "#fdca26"
             ],
             [
              1,
              "#f0f921"
             ]
            ],
            "type": "heatmap"
           }
          ],
          "heatmapgl": [
           {
            "colorbar": {
             "outlinewidth": 0,
             "ticks": ""
            },
            "colorscale": [
             [
              0,
              "#0d0887"
             ],
             [
              0.1111111111111111,
              "#46039f"
             ],
             [
              0.2222222222222222,
              "#7201a8"
             ],
             [
              0.3333333333333333,
              "#9c179e"
             ],
             [
              0.4444444444444444,
              "#bd3786"
             ],
             [
              0.5555555555555556,
              "#d8576b"
             ],
             [
              0.6666666666666666,
              "#ed7953"
             ],
             [
              0.7777777777777778,
              "#fb9f3a"
             ],
             [
              0.8888888888888888,
              "#fdca26"
             ],
             [
              1,
              "#f0f921"
             ]
            ],
            "type": "heatmapgl"
           }
          ],
          "histogram": [
           {
            "marker": {
             "pattern": {
              "fillmode": "overlay",
              "size": 10,
              "solidity": 0.2
             }
            },
            "type": "histogram"
           }
          ],
          "histogram2d": [
           {
            "colorbar": {
             "outlinewidth": 0,
             "ticks": ""
            },
            "colorscale": [
             [
              0,
              "#0d0887"
             ],
             [
              0.1111111111111111,
              "#46039f"
             ],
             [
              0.2222222222222222,
              "#7201a8"
             ],
             [
              0.3333333333333333,
              "#9c179e"
             ],
             [
              0.4444444444444444,
              "#bd3786"
             ],
             [
              0.5555555555555556,
              "#d8576b"
             ],
             [
              0.6666666666666666,
              "#ed7953"
             ],
             [
              0.7777777777777778,
              "#fb9f3a"
             ],
             [
              0.8888888888888888,
              "#fdca26"
             ],
             [
              1,
              "#f0f921"
             ]
            ],
            "type": "histogram2d"
           }
          ],
          "histogram2dcontour": [
           {
            "colorbar": {
             "outlinewidth": 0,
             "ticks": ""
            },
            "colorscale": [
             [
              0,
              "#0d0887"
             ],
             [
              0.1111111111111111,
              "#46039f"
             ],
             [
              0.2222222222222222,
              "#7201a8"
             ],
             [
              0.3333333333333333,
              "#9c179e"
             ],
             [
              0.4444444444444444,
              "#bd3786"
             ],
             [
              0.5555555555555556,
              "#d8576b"
             ],
             [
              0.6666666666666666,
              "#ed7953"
             ],
             [
              0.7777777777777778,
              "#fb9f3a"
             ],
             [
              0.8888888888888888,
              "#fdca26"
             ],
             [
              1,
              "#f0f921"
             ]
            ],
            "type": "histogram2dcontour"
           }
          ],
          "mesh3d": [
           {
            "colorbar": {
             "outlinewidth": 0,
             "ticks": ""
            },
            "type": "mesh3d"
           }
          ],
          "parcoords": [
           {
            "line": {
             "colorbar": {
              "outlinewidth": 0,
              "ticks": ""
             }
            },
            "type": "parcoords"
           }
          ],
          "pie": [
           {
            "automargin": true,
            "type": "pie"
           }
          ],
          "scatter": [
           {
            "marker": {
             "colorbar": {
              "outlinewidth": 0,
              "ticks": ""
             }
            },
            "type": "scatter"
           }
          ],
          "scatter3d": [
           {
            "line": {
             "colorbar": {
              "outlinewidth": 0,
              "ticks": ""
             }
            },
            "marker": {
             "colorbar": {
              "outlinewidth": 0,
              "ticks": ""
             }
            },
            "type": "scatter3d"
           }
          ],
          "scattercarpet": [
           {
            "marker": {
             "colorbar": {
              "outlinewidth": 0,
              "ticks": ""
             }
            },
            "type": "scattercarpet"
           }
          ],
          "scattergeo": [
           {
            "marker": {
             "colorbar": {
              "outlinewidth": 0,
              "ticks": ""
             }
            },
            "type": "scattergeo"
           }
          ],
          "scattergl": [
           {
            "marker": {
             "colorbar": {
              "outlinewidth": 0,
              "ticks": ""
             }
            },
            "type": "scattergl"
           }
          ],
          "scattermapbox": [
           {
            "marker": {
             "colorbar": {
              "outlinewidth": 0,
              "ticks": ""
             }
            },
            "type": "scattermapbox"
           }
          ],
          "scatterpolar": [
           {
            "marker": {
             "colorbar": {
              "outlinewidth": 0,
              "ticks": ""
             }
            },
            "type": "scatterpolar"
           }
          ],
          "scatterpolargl": [
           {
            "marker": {
             "colorbar": {
              "outlinewidth": 0,
              "ticks": ""
             }
            },
            "type": "scatterpolargl"
           }
          ],
          "scatterternary": [
           {
            "marker": {
             "colorbar": {
              "outlinewidth": 0,
              "ticks": ""
             }
            },
            "type": "scatterternary"
           }
          ],
          "surface": [
           {
            "colorbar": {
             "outlinewidth": 0,
             "ticks": ""
            },
            "colorscale": [
             [
              0,
              "#0d0887"
             ],
             [
              0.1111111111111111,
              "#46039f"
             ],
             [
              0.2222222222222222,
              "#7201a8"
             ],
             [
              0.3333333333333333,
              "#9c179e"
             ],
             [
              0.4444444444444444,
              "#bd3786"
             ],
             [
              0.5555555555555556,
              "#d8576b"
             ],
             [
              0.6666666666666666,
              "#ed7953"
             ],
             [
              0.7777777777777778,
              "#fb9f3a"
             ],
             [
              0.8888888888888888,
              "#fdca26"
             ],
             [
              1,
              "#f0f921"
             ]
            ],
            "type": "surface"
           }
          ],
          "table": [
           {
            "cells": {
             "fill": {
              "color": "#EBF0F8"
             },
             "line": {
              "color": "white"
             }
            },
            "header": {
             "fill": {
              "color": "#C8D4E3"
             },
             "line": {
              "color": "white"
             }
            },
            "type": "table"
           }
          ]
         },
         "layout": {
          "annotationdefaults": {
           "arrowcolor": "#2a3f5f",
           "arrowhead": 0,
           "arrowwidth": 1
          },
          "autotypenumbers": "strict",
          "coloraxis": {
           "colorbar": {
            "outlinewidth": 0,
            "ticks": ""
           }
          },
          "colorscale": {
           "diverging": [
            [
             0,
             "#8e0152"
            ],
            [
             0.1,
             "#c51b7d"
            ],
            [
             0.2,
             "#de77ae"
            ],
            [
             0.3,
             "#f1b6da"
            ],
            [
             0.4,
             "#fde0ef"
            ],
            [
             0.5,
             "#f7f7f7"
            ],
            [
             0.6,
             "#e6f5d0"
            ],
            [
             0.7,
             "#b8e186"
            ],
            [
             0.8,
             "#7fbc41"
            ],
            [
             0.9,
             "#4d9221"
            ],
            [
             1,
             "#276419"
            ]
           ],
           "sequential": [
            [
             0,
             "#0d0887"
            ],
            [
             0.1111111111111111,
             "#46039f"
            ],
            [
             0.2222222222222222,
             "#7201a8"
            ],
            [
             0.3333333333333333,
             "#9c179e"
            ],
            [
             0.4444444444444444,
             "#bd3786"
            ],
            [
             0.5555555555555556,
             "#d8576b"
            ],
            [
             0.6666666666666666,
             "#ed7953"
            ],
            [
             0.7777777777777778,
             "#fb9f3a"
            ],
            [
             0.8888888888888888,
             "#fdca26"
            ],
            [
             1,
             "#f0f921"
            ]
           ],
           "sequentialminus": [
            [
             0,
             "#0d0887"
            ],
            [
             0.1111111111111111,
             "#46039f"
            ],
            [
             0.2222222222222222,
             "#7201a8"
            ],
            [
             0.3333333333333333,
             "#9c179e"
            ],
            [
             0.4444444444444444,
             "#bd3786"
            ],
            [
             0.5555555555555556,
             "#d8576b"
            ],
            [
             0.6666666666666666,
             "#ed7953"
            ],
            [
             0.7777777777777778,
             "#fb9f3a"
            ],
            [
             0.8888888888888888,
             "#fdca26"
            ],
            [
             1,
             "#f0f921"
            ]
           ]
          },
          "colorway": [
           "#636efa",
           "#EF553B",
           "#00cc96",
           "#ab63fa",
           "#FFA15A",
           "#19d3f3",
           "#FF6692",
           "#B6E880",
           "#FF97FF",
           "#FECB52"
          ],
          "font": {
           "color": "#2a3f5f"
          },
          "geo": {
           "bgcolor": "white",
           "lakecolor": "white",
           "landcolor": "#E5ECF6",
           "showlakes": true,
           "showland": true,
           "subunitcolor": "white"
          },
          "hoverlabel": {
           "align": "left"
          },
          "hovermode": "closest",
          "mapbox": {
           "style": "light"
          },
          "paper_bgcolor": "white",
          "plot_bgcolor": "#E5ECF6",
          "polar": {
           "angularaxis": {
            "gridcolor": "white",
            "linecolor": "white",
            "ticks": ""
           },
           "bgcolor": "#E5ECF6",
           "radialaxis": {
            "gridcolor": "white",
            "linecolor": "white",
            "ticks": ""
           }
          },
          "scene": {
           "xaxis": {
            "backgroundcolor": "#E5ECF6",
            "gridcolor": "white",
            "gridwidth": 2,
            "linecolor": "white",
            "showbackground": true,
            "ticks": "",
            "zerolinecolor": "white"
           },
           "yaxis": {
            "backgroundcolor": "#E5ECF6",
            "gridcolor": "white",
            "gridwidth": 2,
            "linecolor": "white",
            "showbackground": true,
            "ticks": "",
            "zerolinecolor": "white"
           },
           "zaxis": {
            "backgroundcolor": "#E5ECF6",
            "gridcolor": "white",
            "gridwidth": 2,
            "linecolor": "white",
            "showbackground": true,
            "ticks": "",
            "zerolinecolor": "white"
           }
          },
          "shapedefaults": {
           "line": {
            "color": "#2a3f5f"
           }
          },
          "ternary": {
           "aaxis": {
            "gridcolor": "white",
            "linecolor": "white",
            "ticks": ""
           },
           "baxis": {
            "gridcolor": "white",
            "linecolor": "white",
            "ticks": ""
           },
           "bgcolor": "#E5ECF6",
           "caxis": {
            "gridcolor": "white",
            "linecolor": "white",
            "ticks": ""
           }
          },
          "title": {
           "x": 0.05
          },
          "xaxis": {
           "automargin": true,
           "gridcolor": "white",
           "linecolor": "white",
           "ticks": "",
           "title": {
            "standoff": 15
           },
           "zerolinecolor": "white",
           "zerolinewidth": 2
          },
          "yaxis": {
           "automargin": true,
           "gridcolor": "white",
           "linecolor": "white",
           "ticks": "",
           "title": {
            "standoff": 15
           },
           "zerolinecolor": "white",
           "zerolinewidth": 2
          }
         }
        },
        "xaxis": {
         "anchor": "y",
         "domain": [
          0,
          0.495
         ],
         "showgrid": false,
         "showticklabels": false,
         "visible": false
        },
        "xaxis2": {
         "anchor": "y2",
         "domain": [
          0.505,
          1
         ],
         "showgrid": false,
         "showticklabels": false,
         "visible": false
        },
        "xaxis3": {
         "anchor": "y3",
         "domain": [
          0,
          0.495
         ],
         "showgrid": false,
         "showticklabels": false,
         "visible": false
        },
        "xaxis4": {
         "anchor": "y4",
         "domain": [
          0.505,
          1
         ],
         "showgrid": false,
         "showticklabels": false,
         "visible": false
        },
        "yaxis": {
         "anchor": "x",
         "domain": [
          0.54,
          1
         ],
         "showgrid": false,
         "showticklabels": false,
         "visible": false
        },
        "yaxis2": {
         "anchor": "x2",
         "domain": [
          0.54,
          1
         ],
         "showgrid": false,
         "showticklabels": false,
         "visible": false
        },
        "yaxis3": {
         "anchor": "x3",
         "domain": [
          0,
          0.46
         ],
         "showgrid": false,
         "showticklabels": false,
         "visible": false
        },
        "yaxis4": {
         "anchor": "x4",
         "domain": [
          0,
          0.46
         ],
         "showgrid": false,
         "showticklabels": false,
         "visible": false
        }
       }
      }
     },
     "metadata": {},
     "output_type": "display_data"
    }
   ],
   "source": [
    "from utils import *\n",
    "\n",
    "gode_ord = [\"kvinde\",\"sex\",\"fod\",\"stande\",\"stoffer\"]\n",
    "title_prefix = \"Query word - \"\n",
    "query_word_1 = \"omgang\"\n",
    "query_word_2 = \"kvinde\"\n",
    "\n",
    "subplot_titles = [f\"{title_prefix}{query_word_1}, DW2V\",\n",
    "                   f\"{title_prefix}{query_word_2}, DW2V\",\n",
    "                   f\"{title_prefix}{query_word_1}, AW2V\",\n",
    "                   f\"{title_prefix}{query_word_2}, AW2V\"]\n",
    "\n",
    "fig = make_subplots(rows=2, cols=2,\n",
    "                    subplot_titles=subplot_titles,\n",
    "                    horizontal_spacing = 0.01,\n",
    "                    vertical_spacing = 0.08,\n",
    "                    shared_xaxes=False,\n",
    "                    shared_yaxes=False)\n",
    "\n",
    "create_subplot(query_word_1,dw2v_embeddings_kw,fig,fig_placement=[1,1],top_n=3)\n",
    "create_subplot(query_word_2,dw2v_embeddings_kw,fig,fig_placement=[1,2],top_n=3)\n",
    "create_subplot(query_word_1,aw2v_embeddings,fig,fig_placement=[2,1],top_n=10,timespan=timespans_str)\n",
    "create_subplot(query_word_2,aw2v_embeddings,fig,fig_placement=[2,2],top_n=10,timespan=timespans_str)\n",
    "\n",
    "\n",
    "fig.update_yaxes(dict(\n",
    "                showgrid=False,\n",
    "                showticklabels= False,\n",
    "                visible=False\n",
    "                ))\n",
    "fig.update_xaxes(dict(\n",
    "                showgrid=False,\n",
    "                showticklabels= False,\n",
    "                visible=False\n",
    "                ))\n",
    "\n",
    "fig.update_layout(margin={\"l\":0,\"r\":0,\"b\":0,\"t\":30},\n",
    "                  showlegend=False,\n",
    "                  font_family=\"Serif\")\n",
    "fig.write_html(f\"figs/{' '.join(subplot_titles)}.html\")\n",
    "pio.write_image(fig, f\"figs/{' '.join(subplot_titles)}.pdf\", width=1.5*500, height=0.75*500)\n",
    "pio.write_image(fig, f\"../../data/plots/aw2v-dw2v-word-embeddings_test.pdf\", width=1.5*500, height=0.75*500)\n",
    "\n",
    "fig.show()\n",
    "\n"
   ]
  },
  {
   "cell_type": "markdown",
   "metadata": {},
   "source": [
    "## One-dimensional embeddings"
   ]
  },
  {
   "cell_type": "code",
   "execution_count": 8,
   "metadata": {},
   "outputs": [],
   "source": [
    "df_term_freq = pd.read_pickle(\"../../data/processed/pyarrow/term_frequency.pkl\")\n",
    "query_word=\"omgang\"\n"
   ]
  },
  {
   "cell_type": "code",
   "execution_count": 9,
   "metadata": {},
   "outputs": [],
   "source": [
    "df_doc_share = pd.read_pickle(\"../../data/processed/pyarrow/term_document_share.pkl\")\n",
    "df_doc_share = df_doc_share*100\n",
    "df_doc_share = df_doc_share.transpose().reset_index()\n",
    "def get_demi_decade(year):\n",
    "    for x in range(1867,2022,5):\n",
    "        if year >= x and x+5 > year:\n",
    "            return x\n",
    "df_doc_share[\"level_0\"] = df_doc_share[\"level_0\"].astype(int) \n",
    "df_doc_share[\"demi_decade\"] = df_doc_share[\"level_0\"].map(get_demi_decade)\n",
    "df_doc_share = df_doc_share.groupby(\"demi_decade\").mean()\n",
    "\n",
    "query_word_embedding_through_time = []\n",
    "for model in dw2v_embeddings_kw:\n",
    "    query_word_embedding_through_time.append(model.get_vector(query_word,norm=True))\n",
    "query_word_embedding_through_time = np.asarray(query_word_embedding_through_time)\n",
    "\n",
    "top_5_most_sim = []\n",
    "for model in dw2v_embeddings_kw:\n",
    "    top_5_most_sim.append(\"\\n\".join([x[0] for x in model.most_similar(query_word,topn=5)]))"
   ]
  },
  {
   "cell_type": "code",
   "execution_count": 10,
   "metadata": {},
   "outputs": [
    {
     "data": {
      "image/png": "[encoded data removed]",
      "text/plain": [
       "<Figure size 432x288 with 2 Axes>"
      ]
     },
     "metadata": {},
     "output_type": "display_data"
    }
   ],
   "source": [
    "\n",
    "%matplotlib inline\n",
    "from matplotlib import rcParams\n",
    "\n",
    "\n",
    "from sklearn.decomposition import PCA\n",
    "import matplotlib.pyplot as plt\n",
    "import matplotlib.ticker as mtick\n",
    "\n",
    "plt.style.use('ggplot')\n",
    "plt.rcParams.update({\n",
    "  \"text.usetex\": True,\n",
    "  \"font.family\": \"Helvetica\"\n",
    "})\n",
    "\n",
    "\n",
    "pca = PCA(1)\n",
    "pca.fit(query_word_embedding_through_time)\n",
    "pca.transform(query_word_embedding_through_time)\n",
    "time_considered = [index for index in range(1867,2022,5)]\n",
    "one_dimensional_embedding = [x[0] for x in pca.transform(query_word_embedding_through_time).tolist()]\n",
    "one_dimensional_embedding_plot = list(zip(one_dimensional_embedding,time_considered))\n",
    "plt.clf\n",
    "fig = plt.figure()\n",
    "ax = plt.axes()\n",
    "ax.plot(time_considered,one_dimensional_embedding)\n",
    "ax.set_ylabel('\"Meaning\"',color=\"red\")\n",
    "ax.tick_params(axis='y', colors='red')\n",
    "ax.spines['top'].set_visible(False)\n",
    "# ax.set_title(f'Evolution of meaning for \"{query_word}\"')\n",
    "\n",
    "annotate_year = [1869,1904,1944, 1969, 2004]\n",
    "years = range(1869,2019,5)\n",
    "annotate_year_index = [years.index(x) for x in annotate_year]\n",
    "\n",
    "for year,year_index in enumerate(annotate_year_index):\n",
    "    if one_dimensional_embedding_plot[year_index][0] > 0.8 * max(one_dimensional_embedding_plot)[0]:\n",
    "        y = one_dimensional_embedding_plot[year_index][0] - 0.3 * (max(one_dimensional_embedding_plot)[0] - min(one_dimensional_embedding_plot)[0])\n",
    "    else:\n",
    "        y = one_dimensional_embedding_plot[year_index][0]\n",
    "\n",
    "    ax.annotate(text=top_5_most_sim[year_index],\n",
    "                xy=(one_dimensional_embedding_plot[year_index][1],y),\n",
    "                xycoords =\"data\")\n",
    "ax.grid(False)\n",
    "ax2 = ax.twinx()  # instantiate a second axes that shares the same x-axis\n",
    "ax2.plot(df_doc_share.loc[:,query_word],color=\"blue\", linestyle=\"--\",alpha=0.5)\n",
    "ax2.set_ylabel(f'Share of \"{query_word}\"-token in documents',color=\"blue\")\n",
    "ax2.tick_params(axis='y', colors='blue')\n",
    "\n",
    "ax2.grid(False)\n",
    "ax2.yaxis.set_major_formatter(mtick.PercentFormatter())\n",
    "\n",
    "\n",
    "\n",
    "fig.savefig(\"../../data/plots/one_dimensional_meaning_test.pdf\")\n"
   ]
  },
  {
   "cell_type": "markdown",
   "metadata": {},
   "source": [
    "## The words that changed the most"
   ]
  },
  {
   "cell_type": "code",
   "execution_count": 11,
   "metadata": {},
   "outputs": [],
   "source": [
    "from scipy import spatial"
   ]
  },
  {
   "cell_type": "code",
   "execution_count": 12,
   "metadata": {},
   "outputs": [
    {
     "data": {
      "text/html": [
       "<div>\n",
       "<style scoped>\n",
       "    .dataframe tbody tr th:only-of-type {\n",
       "        vertical-align: middle;\n",
       "    }\n",
       "\n",
       "    .dataframe tbody tr th {\n",
       "        vertical-align: top;\n",
       "    }\n",
       "\n",
       "    .dataframe thead th {\n",
       "        text-align: right;\n",
       "    }\n",
       "</style>\n",
       "<table border=\"1\" class=\"dataframe\">\n",
       "  <thead>\n",
       "    <tr style=\"text-align: right;\">\n",
       "      <th></th>\n",
       "      <th>Distance</th>\n",
       "      <th>Word</th>\n",
       "      <th>ID</th>\n",
       "    </tr>\n",
       "  </thead>\n",
       "  <tbody>\n",
       "    <tr>\n",
       "      <th>1761</th>\n",
       "      <td>0.928062</td>\n",
       "      <td>omgang</td>\n",
       "      <td>1761</td>\n",
       "    </tr>\n",
       "    <tr>\n",
       "      <th>879</th>\n",
       "      <td>0.90595</td>\n",
       "      <td>fr</td>\n",
       "      <td>879</td>\n",
       "    </tr>\n",
       "    <tr>\n",
       "      <th>3454</th>\n",
       "      <td>0.90505</td>\n",
       "      <td>aa</td>\n",
       "      <td>3454</td>\n",
       "    </tr>\n",
       "    <tr>\n",
       "      <th>8081</th>\n",
       "      <td>0.90292</td>\n",
       "      <td>lo</td>\n",
       "      <td>8081</td>\n",
       "    </tr>\n",
       "    <tr>\n",
       "      <th>3993</th>\n",
       "      <td>0.897931</td>\n",
       "      <td>ansattes</td>\n",
       "      <td>3993</td>\n",
       "    </tr>\n",
       "    <tr>\n",
       "      <th>2276</th>\n",
       "      <td>0.890374</td>\n",
       "      <td>tæring</td>\n",
       "      <td>2276</td>\n",
       "    </tr>\n",
       "    <tr>\n",
       "      <th>861</th>\n",
       "      <td>0.889254</td>\n",
       "      <td>mænd</td>\n",
       "      <td>861</td>\n",
       "    </tr>\n",
       "    <tr>\n",
       "      <th>4108</th>\n",
       "      <td>0.888785</td>\n",
       "      <td>islandske</td>\n",
       "      <td>4108</td>\n",
       "    </tr>\n",
       "    <tr>\n",
       "      <th>5024</th>\n",
       "      <td>0.887906</td>\n",
       "      <td>stødende</td>\n",
       "      <td>5024</td>\n",
       "    </tr>\n",
       "    <tr>\n",
       "      <th>219</th>\n",
       "      <td>0.886671</td>\n",
       "      <td>ere</td>\n",
       "      <td>219</td>\n",
       "    </tr>\n",
       "  </tbody>\n",
       "</table>\n",
       "</div>"
      ],
      "text/plain": [
       "      Distance       Word    ID\n",
       "1761  0.928062     omgang  1761\n",
       "879    0.90595         fr   879\n",
       "3454   0.90505         aa  3454\n",
       "8081   0.90292         lo  8081\n",
       "3993  0.897931   ansattes  3993\n",
       "2276  0.890374     tæring  2276\n",
       "861   0.889254       mænd   861\n",
       "4108  0.888785  islandske  4108\n",
       "5024  0.887906   stødende  5024\n",
       "219   0.886671        ere   219"
      ]
     },
     "execution_count": 12,
     "metadata": {},
     "output_type": "execute_result"
    }
   ],
   "source": [
    "INTERVAL = [1867, 1920, 1950, 1980, 1995, 2010, 2022]\n",
    "#Generate inteverals based on input\n",
    "interval_range = [range(x[0],x[1]) for x in zip(INTERVAL[:-1],INTERVAL[1:])] \n",
    "timespans = list(zip(INTERVAL[:-1],INTERVAL[1:]))\n",
    "timespans = [pd.Interval(left=x,right=y) for x,y in timespans]\n",
    "df_term_freq_custom_time_interval = df_term_freq.transpose().reset_index() \\\n",
    "                                                            .groupby(\n",
    "                                                                pd.cut(\n",
    "                                                                    df_term_freq.transpose().reset_index()[\"level_0\"], bins=pd.IntervalIndex(timespans),include_lowest=True)).sum()\n",
    "\n",
    "emb_first = aw2v_embeddings[0]\n",
    "emb_last= aw2v_embeddings[-1]\n",
    "cos_distances = []\n",
    "for word_idx in range(len(emb_first)):\n",
    "    word = emb_first.index_to_key[word_idx]\n",
    "    if word in df_term_freq_custom_time_interval.columns:\n",
    "        if all(df_term_freq_custom_time_interval[word] > 0): \n",
    "            cos_distances.append(spatial.distance.cosine(emb_first.get_vector(word),emb_last.get_vector(word)))\n",
    "        else:\n",
    "            cos_distances.append(pd.NA)\n",
    "    else:\n",
    "            cos_distances.append(pd.NA)\n",
    "df_changes = pd.DataFrame(zip(cos_distances,emb_first.key_to_index.keys(),emb_first.key_to_index.values()),columns=[\"Distance\",\"Word\",\"ID\"]).sort_values(\"Distance\",ascending=False)\n",
    "df_changes.dropna()[:10]"
   ]
  },
  {
   "cell_type": "markdown",
   "metadata": {},
   "source": [
    "### Obtaining sentences where the word is used"
   ]
  },
  {
   "cell_type": "code",
   "execution_count": 13,
   "metadata": {},
   "outputs": [
    {
     "ename": "NameError",
     "evalue": "name 'df' is not defined",
     "output_type": "error",
     "traceback": [
      "\u001b[1;31m---------------------------------------------------------------------------\u001b[0m",
      "\u001b[1;31mNameError\u001b[0m                                 Traceback (most recent call last)",
      "\u001b[1;32m~\\AppData\\Local\\Temp/ipykernel_13504/1871869692.py\u001b[0m in \u001b[0;36m<module>\u001b[1;34m\u001b[0m\n\u001b[0;32m      1\u001b[0m \u001b[0mquery_word\u001b[0m \u001b[1;33m=\u001b[0m \u001b[1;34m\"ere\"\u001b[0m\u001b[1;33m\u001b[0m\u001b[1;33m\u001b[0m\u001b[0m\n\u001b[0;32m      2\u001b[0m \u001b[0mtimespan\u001b[0m \u001b[1;33m=\u001b[0m \u001b[0mrange\u001b[0m\u001b[1;33m(\u001b[0m\u001b[1;36m1867\u001b[0m\u001b[1;33m,\u001b[0m\u001b[1;36m1950\u001b[0m\u001b[1;33m)\u001b[0m\u001b[1;33m\u001b[0m\u001b[1;33m\u001b[0m\u001b[0m\n\u001b[1;32m----> 3\u001b[1;33m \u001b[0mdf_q\u001b[0m \u001b[1;33m=\u001b[0m \u001b[0mdf\u001b[0m\u001b[1;33m.\u001b[0m\u001b[0mloc\u001b[0m\u001b[1;33m[\u001b[0m\u001b[1;33m(\u001b[0m\u001b[0mdf\u001b[0m\u001b[1;33m[\u001b[0m\u001b[1;34m\"words\"\u001b[0m\u001b[1;33m]\u001b[0m\u001b[1;33m.\u001b[0m\u001b[0mprogress_apply\u001b[0m\u001b[1;33m(\u001b[0m\u001b[1;32mlambda\u001b[0m \u001b[0mx\u001b[0m\u001b[1;33m:\u001b[0m \u001b[0mquery_word\u001b[0m \u001b[1;32min\u001b[0m \u001b[0mx\u001b[0m\u001b[1;33m)\u001b[0m\u001b[1;33m)\u001b[0m \u001b[1;33m&\u001b[0m \u001b[1;33m(\u001b[0m\u001b[0mdf\u001b[0m\u001b[1;33m[\u001b[0m\u001b[1;34m\"year\"\u001b[0m\u001b[1;33m]\u001b[0m\u001b[1;33m.\u001b[0m\u001b[0mastype\u001b[0m\u001b[1;33m(\u001b[0m\u001b[0mint\u001b[0m\u001b[1;33m)\u001b[0m\u001b[1;33m.\u001b[0m\u001b[0misin\u001b[0m\u001b[1;33m(\u001b[0m\u001b[0mtimespan\u001b[0m\u001b[1;33m)\u001b[0m\u001b[1;33m)\u001b[0m\u001b[1;33m]\u001b[0m\u001b[1;33m.\u001b[0m\u001b[0mcopy\u001b[0m\u001b[1;33m(\u001b[0m\u001b[1;33m)\u001b[0m\u001b[1;33m\u001b[0m\u001b[1;33m\u001b[0m\u001b[0m\n\u001b[0m\u001b[0;32m      4\u001b[0m \u001b[0mdf_q\u001b[0m\u001b[1;33m[\u001b[0m\u001b[1;34m\"sentences_with_q_word\"\u001b[0m\u001b[1;33m]\u001b[0m \u001b[1;33m=\u001b[0m \u001b[0mdf_q\u001b[0m\u001b[1;33m[\u001b[0m\u001b[1;34m\"sentences\"\u001b[0m\u001b[1;33m]\u001b[0m\u001b[1;33m.\u001b[0m\u001b[0mprogress_apply\u001b[0m\u001b[1;33m(\u001b[0m\u001b[1;32mlambda\u001b[0m \u001b[0mx\u001b[0m\u001b[1;33m:\u001b[0m \u001b[1;33m[\u001b[0m\u001b[0my\u001b[0m \u001b[1;32mfor\u001b[0m \u001b[0my\u001b[0m \u001b[1;32min\u001b[0m \u001b[0mx\u001b[0m \u001b[1;32mif\u001b[0m \u001b[0mquery_word\u001b[0m \u001b[1;32min\u001b[0m \u001b[0mlist\u001b[0m\u001b[1;33m(\u001b[0m\u001b[0mgensim\u001b[0m\u001b[1;33m.\u001b[0m\u001b[0mutils\u001b[0m\u001b[1;33m.\u001b[0m\u001b[0mtokenize\u001b[0m\u001b[1;33m(\u001b[0m\u001b[0my\u001b[0m\u001b[1;33m,\u001b[0m \u001b[0mlowercase\u001b[0m\u001b[1;33m=\u001b[0m\u001b[1;32mTrue\u001b[0m\u001b[1;33m)\u001b[0m\u001b[1;33m)\u001b[0m\u001b[1;33m]\u001b[0m\u001b[1;33m)\u001b[0m\u001b[1;33m\u001b[0m\u001b[1;33m\u001b[0m\u001b[0m\n\u001b[0;32m      5\u001b[0m \u001b[0mdf_q_shuffled\u001b[0m \u001b[1;33m=\u001b[0m \u001b[0mdf_q\u001b[0m\u001b[1;33m.\u001b[0m\u001b[0mloc\u001b[0m\u001b[1;33m[\u001b[0m\u001b[1;33m:\u001b[0m\u001b[1;33m,\u001b[0m\u001b[1;33m[\u001b[0m\u001b[1;34m\"id_verdict\"\u001b[0m\u001b[1;33m,\u001b[0m\u001b[1;34m\"sentences_with_q_word\"\u001b[0m\u001b[1;33m]\u001b[0m\u001b[1;33m]\u001b[0m\u001b[1;33m.\u001b[0m\u001b[0msample\u001b[0m\u001b[1;33m(\u001b[0m\u001b[0mfrac\u001b[0m\u001b[1;33m=\u001b[0m\u001b[1;36m1\u001b[0m\u001b[1;33m,\u001b[0m\u001b[0mrandom_state\u001b[0m\u001b[1;33m=\u001b[0m\u001b[1;36m1\u001b[0m\u001b[1;33m)\u001b[0m\u001b[1;33m\u001b[0m\u001b[1;33m\u001b[0m\u001b[0m\n",
      "\u001b[1;31mNameError\u001b[0m: name 'df' is not defined"
     ]
    }
   ],
   "source": [
    "query_word = \"ere\"\n",
    "timespan = range(1867,1950)\n",
    "df_q = df.loc[(df[\"words\"].progress_apply(lambda x: query_word in x)) & (df[\"year\"].astype(int).isin(timespan))].copy()\n",
    "df_q[\"sentences_with_q_word\"] = df_q[\"sentences\"].progress_apply(lambda x: [y for y in x if query_word in list(gensim.utils.tokenize(y, lowercase=True))])\n",
    "df_q_shuffled = df_q.loc[:,[\"id_verdict\",\"sentences_with_q_word\"]].sample(frac=1,random_state=1)\n"
   ]
  },
  {
   "cell_type": "code",
   "execution_count": 17,
   "metadata": {},
   "outputs": [
    {
     "data": {
      "text/plain": [
       "[<gensim.models.keyedvectors.KeyedVectors at 0x24bda8b5b50>,\n",
       " <gensim.models.keyedvectors.KeyedVectors at 0x24bda8b5d90>,\n",
       " <gensim.models.keyedvectors.KeyedVectors at 0x24bda8b5c10>,\n",
       " <gensim.models.keyedvectors.KeyedVectors at 0x24bda8b5be0>,\n",
       " <gensim.models.keyedvectors.KeyedVectors at 0x24bda8b5b20>,\n",
       " <gensim.models.keyedvectors.KeyedVectors at 0x24bda8b5bb0>]"
      ]
     },
     "execution_count": 17,
     "metadata": {},
     "output_type": "execute_result"
    }
   ],
   "source": [
    "aw2v_embeddings"
   ]
  },
  {
   "cell_type": "markdown",
   "metadata": {},
   "source": [
    "## Store keyedvectors"
   ]
  },
  {
   "cell_type": "code",
   "execution_count": 19,
   "metadata": {},
   "outputs": [
    {
     "data": {
      "text/plain": [
       "['1867_1920', '1920_1950', '1950_1980', '1980_1995', '1995_2010', '2010_2022']"
      ]
     },
     "execution_count": 19,
     "metadata": {},
     "output_type": "execute_result"
    }
   ],
   "source": [
    "interval_range = [range(x[0],x[1]) for x in zip(INTERVAL[:-1],INTERVAL[1:])] \n",
    "timespans = list(zip(INTERVAL[:-1],INTERVAL[1:]))\n",
    "timespans = [f\"{x}_{y}\" for x,y in timespans]\n"
   ]
  },
  {
   "cell_type": "code",
   "execution_count": 29,
   "metadata": {},
   "outputs": [
    {
     "data": {
      "text/plain": [
       "(22597, 300)"
      ]
     },
     "execution_count": 29,
     "metadata": {},
     "output_type": "execute_result"
    }
   ],
   "source": [
    "dw2v_embeddings[0].shape"
   ]
  }
 ],
 "metadata": {
  "interpreter": {
   "hash": "376d8d79cd2091c00a22d38e2af9d5e367bc9894b34f007ae434211cc855c7e4"
  },
  "kernelspec": {
   "display_name": "Python 3.8.8 ('base')",
   "language": "python",
   "name": "python3"
  },
  "language_info": {
   "codemirror_mode": {
    "name": "ipython",
    "version": 3
   },
   "file_extension": ".py",
   "mimetype": "text/x-python",
   "name": "python",
   "nbconvert_exporter": "python",
   "pygments_lexer": "ipython3",
   "version": "3.8.8"
  },
  "orig_nbformat": 4
 },
 "nbformat": 4,
 "nbformat_minor": 2
}
