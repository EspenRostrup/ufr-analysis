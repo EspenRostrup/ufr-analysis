{
 "cells": [
  {
   "cell_type": "code",
   "execution_count": 52,
   "metadata": {},
   "outputs": [
    {
     "name": "stdout",
     "output_type": "stream",
     "text": [
      "Similarity using DSD: \n",
      "            len(df[\"similarity\"])=99\n",
      "            len(df[\"similarity_w2v\"].dropna())=59\n",
      "            Correlation: SpearmanrResult(correlation=0.2298901033270901, pvalue=0.07984585365836504)\n",
      "Similarity using WordSim353-da: \n",
      "            len(df[\"similarity\"])=353\n",
      "            len(df[\"similarity_w2v\"].dropna())=188\n",
      "            Correlation: SpearmanrResult(correlation=0.47317185506513876, pvalue=7.02571157050536e-12)\n"
     ]
    }
   ],
   "source": [
    "from danlp.datasets import DSD, WordSim353Da\n",
    "from scipy.stats import spearmanr\n",
    "import gensim\n",
    "\n",
    "def check_sim(df):\n",
    "    if df[\"word1\"] in w2v_model.wv.index_to_key and df[\"word2\"] in w2v_model.wv.index_to_key: \n",
    "        return w2v_model.wv.similarity(df[\"word1\"],df[\"word2\"]) \n",
    "    else:\n",
    "        return None\n",
    "\n",
    "w2v_model = gensim.models.Word2Vec.load(\"C:/Users/espen/Documents/SDS/thesis/analysis/Dynamic Embeddings/dw2v/static_embeddings/emb_static_ufr_EMB_200.pkl\")\n",
    "dsd = DSD()\n",
    "df_dsd = dsd.load_with_pandas()\n",
    "df_wordsim353 = WordSim353Da().load_with_pandas()\n",
    "df_wordsim353 = df_wordsim353.rename(columns=dict(zip(df_wordsim353.columns,list(df_dsd.columns))))\n",
    "\n",
    "df_dsd.Name = \"DSD\" \n",
    "df_wordsim353.Name = \"WordSim353-da\"\n",
    "\n",
    "for df in [df_dsd,df_wordsim353]:\n",
    "    df[\"similarity_w2v\"] = df.apply(check_sim,axis=1)\n",
    "    print(f'''Similarity using {df.Name}: \n",
    "            {len(df[\"similarity\"])=}\n",
    "            {len(df[\"similarity_w2v\"].dropna())=}\n",
    "            Correlation: {spearmanr(df[\"similarity\"],df[\"similarity_w2v\"],nan_policy=\"omit\")}''')\n",
    "\n"
   ]
  }
 ],
 "metadata": {
  "interpreter": {
   "hash": "376d8d79cd2091c00a22d38e2af9d5e367bc9894b34f007ae434211cc855c7e4"
  },
  "kernelspec": {
   "display_name": "Python 3.8.8 ('base')",
   "language": "python",
   "name": "python3"
  },
  "language_info": {
   "codemirror_mode": {
    "name": "ipython",
    "version": 3
   },
   "file_extension": ".py",
   "mimetype": "text/x-python",
   "name": "python",
   "nbconvert_exporter": "python",
   "pygments_lexer": "ipython3",
   "version": "3.8.8"
  },
  "orig_nbformat": 4
 },
 "nbformat": 4,
 "nbformat_minor": 2
}
