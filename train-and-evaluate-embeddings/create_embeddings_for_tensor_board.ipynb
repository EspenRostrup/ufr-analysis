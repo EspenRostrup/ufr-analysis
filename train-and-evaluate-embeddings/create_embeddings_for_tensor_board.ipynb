{
 "cells": [
  {
   "cell_type": "code",
   "execution_count": 13,
   "metadata": {},
   "outputs": [
    {
     "name": "stderr",
     "output_type": "stream",
     "text": [
      "2022-05-05 12:57:41,738 - word2vec2tensor - INFO - running C:\\Users\\espen\\anaconda3\\lib\\site-packages\\gensim\\scripts\\word2vec2tensor.py -i C:/Users/espen/Documents/SDS/thesis/analysis/Dynamic Embeddings/dw2v/static_embeddings/emb_static_ufr_EMB_200.gz -o C:/Users/espen/Documents/SDS/thesis/analysis/Dynamic Embeddings/trained_models/static/tensorboard_200\n",
      "2022-05-05 12:57:41,738 - keyedvectors - INFO - loading projection weights from C:/Users/espen/Documents/SDS/thesis/analysis/Dynamic Embeddings/dw2v/static_embeddings/emb_static_ufr_EMB_200.gz\n",
      "2022-05-05 12:57:44,523 - utils - INFO - KeyedVectors lifecycle event {'msg': 'loaded (22597, 200) matrix of type float32 from C:/Users/espen/Documents/SDS/thesis/analysis/Dynamic Embeddings/dw2v/static_embeddings/emb_static_ufr_EMB_200.gz', 'binary': False, 'encoding': 'utf8', 'datetime': '2022-05-05T12:57:44.523262', 'gensim': '4.1.2', 'python': '3.8.8 (default, Apr 13 2021, 15:08:03) [MSC v.1916 64 bit (AMD64)]', 'platform': 'Windows-10-10.0.22000-SP0', 'event': 'load_word2vec_format'}\n",
      "2022-05-05 12:57:47,560 - word2vec2tensor - INFO - 2D tensor file saved to C:/Users/espen/Documents/SDS/thesis/analysis/Dynamic Embeddings/trained_models/static/tensorboard_200_tensor.tsv\n",
      "2022-05-05 12:57:47,560 - word2vec2tensor - INFO - Tensor metadata file saved to C:/Users/espen/Documents/SDS/thesis/analysis/Dynamic Embeddings/trained_models/static/tensorboard_200_metadata.tsv\n",
      "2022-05-05 12:57:47,562 - word2vec2tensor - INFO - finished running word2vec2tensor.py\n"
     ]
    }
   ],
   "source": [
    "import gensim\n",
    "w2v_model = gensim.models.Word2Vec.load(\"C:/Users/espen/Documents/SDS/thesis/analysis/Dynamic Embeddings/dw2v/static_embeddings/emb_static_ufr_EMB_200.pkl\")\n",
    "w2v_model.wv.save_word2vec_format(\"C:/Users/espen/Documents/SDS/thesis/analysis/Dynamic Embeddings/dw2v/static_embeddings/emb_static_ufr_EMB_200.gz\")\n",
    "!python -m gensim.scripts.word2vec2tensor -i \"C:/Users/espen/Documents/SDS/thesis/analysis/Dynamic Embeddings/dw2v/static_embeddings/emb_static_ufr_EMB_200.gz\" -o \"C:/Users/espen/Documents/SDS/thesis/analysis/Dynamic Embeddings/trained_models/static/tensorboard_200\"\n"
   ]
  }
 ],
 "metadata": {
  "interpreter": {
   "hash": "3ed8ad36289d305c36e0f62c4336657b59989454aba0ee7799c35f3bccb4e530"
  },
  "kernelspec": {
   "display_name": "Python 3.8.8 ('base')",
   "language": "python",
   "name": "python3"
  },
  "language_info": {
   "codemirror_mode": {
    "name": "ipython",
    "version": 3
   },
   "file_extension": ".py",
   "mimetype": "text/x-python",
   "name": "python",
   "nbconvert_exporter": "python",
   "pygments_lexer": "ipython3",
   "version": "3.8.8"
  },
  "orig_nbformat": 4
 },
 "nbformat": 4,
 "nbformat_minor": 2
}
