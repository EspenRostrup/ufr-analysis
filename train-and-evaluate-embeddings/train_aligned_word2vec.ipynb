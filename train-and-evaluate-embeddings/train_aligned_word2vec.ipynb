{
 "cells": [
  {
   "cell_type": "code",
   "execution_count": null,
   "metadata": {},
   "outputs": [],
   "source": [
    "import pickle\n",
    "\n",
    "import matplotlib.pyplot as plt\n",
    "from tqdm.auto import tqdm\n",
    "\n",
    "from gensim.models import Word2Vec\n",
    "\n",
    "from utils import *"
   ]
  },
  {
   "cell_type": "markdown",
   "metadata": {},
   "source": [
    "## Prepare data"
   ]
  },
  {
   "cell_type": "code",
   "execution_count": null,
   "metadata": {},
   "outputs": [],
   "source": [
    "## INPUTS\n",
    "INTERVAL = [1867, 1920, 1950, 1980, 1995, 2010, 2022]\n",
    "\n",
    "#Generate inteverals based on input\n",
    "interval_range = [range(x[0],x[1]) for x in zip(INTERVAL[:-1],INTERVAL[1:])] \n",
    "timespans = list(zip(INTERVAL[:-1],INTERVAL[1:]))\n"
   ]
  },
  {
   "cell_type": "code",
   "execution_count": null,
   "metadata": {},
   "outputs": [],
   "source": [
    "for timespan in interval_range:\n",
    "    sentences_in_timespan=[]\n",
    "    for year in timespan:\n",
    "        with open(f\"../../data/processed/sentences/year/{year}_sentences.pkl\",\"rb\") as f:\n",
    "            sentences_in_timespan.extend(f)\n",
    "    with open(f\"../../data/processed/sentences/custom_timespans/{timespan.start}_{timespan.stop}_sentences.pkl\", \"wb\") as fp:   #Pickling\n",
    "        pickle.dump(sentences_in_timespan, fp)\n"
   ]
  },
  {
   "cell_type": "markdown",
   "metadata": {},
   "source": [
    "## Train static embeddings for each period"
   ]
  },
  {
   "cell_type": "code",
   "execution_count": null,
   "metadata": {},
   "outputs": [],
   "source": [
    "for timespan in tqdm(timespans):\n",
    "    with open(f\"../../data/processed/sentences/{timespan[0]}_{timespan[1]-1}_sentences.pkl\", \"rb\") as s:\n",
    "        sentences = pickle.load(s)\n",
    "    model = Word2Vec(sentences, vector_size=300, window=8, min_count=10, workers=6, sg=1, ns_exponent=0.75, sample=3000)\n",
    "    model.save(f\"trained_models/aw2v/unaligned/{timespan[0]}_{timespan[1]-1}_w2v.pkl\")"
   ]
  },
  {
   "cell_type": "markdown",
   "metadata": {},
   "source": [
    "## Align static embeddings"
   ]
  },
  {
   "cell_type": "code",
   "execution_count": null,
   "metadata": {},
   "outputs": [],
   "source": [
    "for index, timespan in enumerate(timespans[:-1]):\n",
    "    if index == 0:\n",
    "        model_t = Word2Vec.load(f\"trained_models/aw2v/unaligned/{timespans[index][0]}_{timespans[index][1]-1}_w2v.pkl\")\n",
    "        model_t.save(f\"trained_models/aw2v/aligned/{timespans[index][0]}_{timespans[index][1]-1}_w2v.pkl\")\n",
    "    else:\n",
    "        model_t = Word2Vec.load(f\"trained_models/aw2v/aligned/{timespans[index][0]}_{timespans[index][1]-1}_w2v.pkl\")\n",
    "    model_t_1 = Word2Vec.load(f\"trained_models/aw2v/unaligned/{timespans[index+1][0]}_{timespans[index+1][1]-1}_w2v.pkl\")\n",
    "    aligned_w2v_model = smart_procrustes_align_gensim(model_t,model_t_1)\n",
    "    aligned_w2v_model.save(f\"trained_models/aw2v/aligned/{timespans[index+1][0]}_{timespans[index+1][1]-1}_w2v.pkl\")\n",
    "\n",
    "for index in range(len(timespans)-1,0,-1):\n",
    "    model_t = Word2Vec.load(f\"trained_models/aw2v/aligned/{timespans[index][0]}_{timespans[index][1]-1}_w2v.pkl\")\n",
    "    model_t_1 = Word2Vec.load(f\"trained_models/aw2v/aligned/{timespans[index-1][0]}_{timespans[index-1][1]-1}_w2v.pkl\")\n",
    "    aligned_w2v_model = smart_procrustes_align_gensim(model_t,model_t_1)\n",
    "    aligned_w2v_model.save(f\"trained_models/aw2v/aligned/{timespans[index-1][0]}_{timespans[index-1][1]-1}_w2v.pkl\")\n"
   ]
  }
 ],
 "metadata": {
  "interpreter": {
   "hash": "376d8d79cd2091c00a22d38e2af9d5e367bc9894b34f007ae434211cc855c7e4"
  },
  "kernelspec": {
   "display_name": "Python 3.8.8 ('base')",
   "language": "python",
   "name": "python3"
  },
  "language_info": {
   "codemirror_mode": {
    "name": "ipython",
    "version": 3
   },
   "file_extension": ".py",
   "mimetype": "text/x-python",
   "name": "python",
   "nbconvert_exporter": "python",
   "pygments_lexer": "ipython3",
   "version": "3.8.8"
  },
  "orig_nbformat": 4
 },
 "nbformat": 4,
 "nbformat_minor": 2
}
