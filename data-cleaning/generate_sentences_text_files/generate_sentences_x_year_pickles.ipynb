{
 "cells": [
  {
   "cell_type": "markdown",
   "metadata": {},
   "source": [
    "### Generate sentences from corpus"
   ]
  },
  {
   "cell_type": "code",
   "execution_count": 1,
   "metadata": {},
   "outputs": [],
   "source": [
    "import pandas as pd\n",
    "import nltk\n",
    "import gensim\n",
    "import pickle\n",
    "from tqdm.auto import tqdm\n"
   ]
  },
  {
   "cell_type": "code",
   "execution_count": 2,
   "metadata": {},
   "outputs": [],
   "source": [
    "#PREPROCESSING CONSTANTS\n",
    "LOWERCASE_BOOL = True\n",
    "WORD_COUNT_MIN = 200"
   ]
  },
  {
   "cell_type": "code",
   "execution_count": 3,
   "metadata": {},
   "outputs": [],
   "source": [
    "df = pd.read_parquet(\"C:/Users/espen/Documents/SDS/thesis/data/processed/pyarrow/UfR_text.parquet\")"
   ]
  },
  {
   "cell_type": "code",
   "execution_count": 4,
   "metadata": {},
   "outputs": [
    {
     "name": "stderr",
     "output_type": "stream",
     "text": [
      "100%|██████████| 155/155 [34:19<00:00, 13.29s/it] \n"
     ]
    }
   ],
   "source": [
    "def tokenize_sentences(verdict_text):\n",
    "    sentences = nltk.sent_tokenize(verdict_text, language=\"danish\")\n",
    "    tokens_in_sentences = [list(gensim.utils.tokenize(sentence, lowercase=LOWERCASE_BOOL)) for sentence in sentences]\n",
    "    return tokens_in_sentences\n",
    "\n",
    "for year in tqdm(range(1867,2022)):\n",
    "    tokenized_sentences_doc = df.loc[df[\"year\"].astype(int) == year,\"verdict_text\"].apply(tokenize_sentences)\n",
    "    tokenized_sentences = [y for x in list(tokenized_sentences_doc) for y in x]\n",
    "    with open(f\"../../data/processed/sentences/year/{year}_sentences.pkl\", \"wb\") as fp:\n",
    "        pickle.dump(tokenized_sentences, fp)"
   ]
  }
 ],
 "metadata": {
  "interpreter": {
   "hash": "3ed8ad36289d305c36e0f62c4336657b59989454aba0ee7799c35f3bccb4e530"
  },
  "kernelspec": {
   "display_name": "Python 3.8.8 ('base')",
   "language": "python",
   "name": "python3"
  },
  "language_info": {
   "codemirror_mode": {
    "name": "ipython",
    "version": 3
   },
   "file_extension": ".py",
   "mimetype": "text/x-python",
   "name": "python",
   "nbconvert_exporter": "python",
   "pygments_lexer": "ipython3",
   "version": "3.8.8"
  },
  "orig_nbformat": 4
 },
 "nbformat": 4,
 "nbformat_minor": 2
}
