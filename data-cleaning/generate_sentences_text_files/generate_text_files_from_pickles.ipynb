{
 "cells": [
  {
   "cell_type": "code",
   "execution_count": 6,
   "metadata": {},
   "outputs": [],
   "source": [
    "import pickle\n",
    "import pandas as pd\n",
    "from tqdm.auto import tqdm"
   ]
  },
  {
   "cell_type": "code",
   "execution_count": 9,
   "metadata": {},
   "outputs": [
    {
     "name": "stderr",
     "output_type": "stream",
     "text": [
      "100%|██████████| 155/155 [00:42<00:00,  3.64it/s]\n"
     ]
    }
   ],
   "source": [
    "def load_sentences(year):\n",
    "    with open(f\"C:/Users/espen/Documents/SDS/thesis/data/processed/sentences/year/{year}_sentences.pkl\", \"rb\") as fp:\n",
    "        sentences = pickle.load(fp)\n",
    "    return sentences\n",
    "\n",
    "for year in tqdm(range(1867,2022)):\n",
    "    sentences = load_sentences(year)\n",
    "    f=open(f\"C:/Users/espen/Documents/SDS/thesis/data/processed/sentences/year_txt/{year}.txt\",\"wt\")\n",
    "    f.write(\"\\n\".join([\" \".join(sentence) for sentence in sentences]))\n",
    "    f.close()"
   ]
  }
 ],
 "metadata": {
  "interpreter": {
   "hash": "3ed8ad36289d305c36e0f62c4336657b59989454aba0ee7799c35f3bccb4e530"
  },
  "kernelspec": {
   "display_name": "Python 3.8.8 ('base')",
   "language": "python",
   "name": "python3"
  },
  "language_info": {
   "codemirror_mode": {
    "name": "ipython",
    "version": 3
   },
   "file_extension": ".py",
   "mimetype": "text/x-python",
   "name": "python",
   "nbconvert_exporter": "python",
   "pygments_lexer": "ipython3",
   "version": "3.8.8"
  },
  "orig_nbformat": 4
 },
 "nbformat": 4,
 "nbformat_minor": 2
}
